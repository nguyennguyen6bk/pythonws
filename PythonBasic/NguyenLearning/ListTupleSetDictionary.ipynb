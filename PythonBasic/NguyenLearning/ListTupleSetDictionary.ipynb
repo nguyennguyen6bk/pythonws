{
 "cells": [
  {
   "cell_type": "markdown",
   "metadata": {},
   "source": [
    "##### List items are: [ordered, changeable, duplicate]\n",
    "##### Dictionary: {ordered, changeable}\n",
    "##### Tuple: (ordered, duplicate)\n",
    "##### set: {}"
   ]
  },
  {
   "cell_type": "markdown",
   "metadata": {},
   "source": [
    "### 1. List"
   ]
  },
  {
   "cell_type": "code",
   "execution_count": 6,
   "metadata": {},
   "outputs": [
    {
     "data": {
      "text/plain": [
       "['apple', 'banana', 'cherry', 'durian', 'cherry', 'apple']"
      ]
     },
     "execution_count": 6,
     "metadata": {},
     "output_type": "execute_result"
    }
   ],
   "source": [
    "# ordered and duplicate\n",
    "list = [\"apple\", \"banana\", \"cherry\", \"durian\", \"cherry\", \"apple\"]\n",
    "list"
   ]
  },
  {
   "cell_type": "code",
   "execution_count": 11,
   "metadata": {},
   "outputs": [
    {
     "name": "stdout",
     "output_type": "stream",
     "text": [
      "['lemon', 'banana', 'cherry', 'durian', 'cherry', 'apple']\n",
      "['lemon', 'banana', 'durian', 'cherry', 'apple']\n",
      "['lemon', 'banana', 'durian', 'apple']\n"
     ]
    }
   ],
   "source": [
    "# changeable\n",
    "list2 = [\"apple\", \"banana\", \"cherry\", \"durian\", \"cherry\", \"apple\"]\n",
    "list2[0] = \"lemon\"\n",
    "print(list2)\n",
    "list2.remove(\"cherry\")\n",
    "print(list2)\n",
    "list2.remove(\"cherry\")\n",
    "print(list2)\n",
    "list2.add(\"cherry\")\n",
    "print(list2)\n"
   ]
  },
  {
   "cell_type": "code",
   "execution_count": null,
   "metadata": {},
   "outputs": [],
   "source": []
  },
  {
   "cell_type": "markdown",
   "metadata": {},
   "source": []
  }
 ],
 "metadata": {
  "kernelspec": {
   "display_name": "Python 3",
   "language": "python",
   "name": "python3"
  },
  "language_info": {
   "codemirror_mode": {
    "name": "ipython",
    "version": 3
   },
   "file_extension": ".py",
   "mimetype": "text/x-python",
   "name": "python",
   "nbconvert_exporter": "python",
   "pygments_lexer": "ipython3",
   "version": "3.10.4"
  },
  "orig_nbformat": 4
 },
 "nbformat": 4,
 "nbformat_minor": 2
}
