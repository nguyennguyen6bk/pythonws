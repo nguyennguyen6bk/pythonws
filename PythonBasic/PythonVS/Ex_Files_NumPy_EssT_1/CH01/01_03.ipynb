{
 "cells": [
  {
   "cell_type": "code",
   "execution_count": 1,
   "id": "226d6af3",
   "metadata": {},
   "outputs": [
    {
     "name": "stdout",
     "output_type": "stream",
     "text": [
      "Hello Numpy\n"
     ]
    }
   ],
   "source": [
    "print('Hello Numpy')"
   ]
  },
  {
   "cell_type": "code",
   "execution_count": 2,
   "id": "19f60a0e",
   "metadata": {},
   "outputs": [
    {
     "data": {
      "text/plain": [
       "42"
      ]
     },
     "execution_count": 2,
     "metadata": {},
     "output_type": "execute_result"
    }
   ],
   "source": [
    "2+8*5"
   ]
  },
  {
   "cell_type": "markdown",
   "id": "65084c8f",
   "metadata": {},
   "source": [
    "### This is just a basic text"
   ]
  }
 ],
 "metadata": {
  "kernelspec": {
   "display_name": "Python 3.10.4 64-bit",
   "language": "python",
   "name": "python3"
  },
  "language_info": {
   "codemirror_mode": {
    "name": "ipython",
    "version": 3
   },
   "file_extension": ".py",
   "mimetype": "text/x-python",
   "name": "python",
   "nbconvert_exporter": "python",
   "pygments_lexer": "ipython3",
   "version": "3.10.4"
  },
  "vscode": {
   "interpreter": {
    "hash": "07e897f1fb732b6be0064486d563e14743e4fa08e77cc15a01354b67c547d405"
   }
  }
 },
 "nbformat": 4,
 "nbformat_minor": 5
}
