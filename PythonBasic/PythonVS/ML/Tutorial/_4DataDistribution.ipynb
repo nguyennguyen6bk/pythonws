{
 "cells": [
  {
   "cell_type": "code",
   "execution_count": 1,
   "metadata": {},
   "outputs": [],
   "source": [
    "import numpy as np"
   ]
  },
  {
   "cell_type": "code",
   "execution_count": 2,
   "metadata": {},
   "outputs": [
    {
     "data": {
      "text/plain": [
       "array([1.2471313 , 0.04360501, 0.87889358, 4.86758362, 0.75936243,\n",
       "       1.59118294, 3.10369272, 2.05410552, 2.02929522, 2.52358634,\n",
       "       0.94138403, 1.09831565, 4.48478186, 0.06275194, 4.81332923,\n",
       "       3.24776025, 2.98286892, 0.1632383 , 2.71921108, 4.95328091,\n",
       "       2.39955875, 2.66037451, 1.96492748, 2.77242369, 0.55210018,\n",
       "       2.04805597, 4.73111455, 3.8022994 , 4.5796526 , 2.19512349,\n",
       "       1.43691009, 3.64295657, 4.42552245, 4.33588771, 4.14865027,\n",
       "       3.81069078, 3.20813808, 3.50945282, 0.22750387, 0.9875506 ,\n",
       "       3.14087717, 0.45490119, 1.81764091, 2.95459898, 2.68205062,\n",
       "       2.83474137, 1.52929943, 3.90546078, 0.64193842, 0.56370316,\n",
       "       3.15824194, 2.77870629, 4.15322429, 0.93572019, 2.82468883,\n",
       "       4.11201495, 3.54851728, 1.32839843, 0.04635152, 3.73668833,\n",
       "       0.42531365, 3.01197435, 2.03483949, 2.14728945, 2.86478507,\n",
       "       1.65371554, 2.43203312, 1.88930202, 4.72370085, 1.24309194,\n",
       "       4.04577149, 4.62072193, 2.99811522, 1.55655402, 4.84693706,\n",
       "       1.13267254, 0.21939181, 1.50956858, 1.10049672, 0.24012279,\n",
       "       4.59081334, 2.72946174, 0.24319708, 4.42276125, 4.43734967,\n",
       "       2.09564768, 0.89657559, 3.67459559, 2.21487304, 1.86198464,\n",
       "       4.17026805, 1.88780372, 2.29513299, 3.64117173, 0.76534669,\n",
       "       3.00362141, 3.82924798, 3.31900976, 4.37098292, 2.56496458,\n",
       "       0.79609096, 1.13313609, 2.1076265 , 1.01368196, 0.47963788,\n",
       "       2.76231783, 4.72418366, 1.54274769, 4.50575435, 1.01126147,\n",
       "       2.75315339, 0.55470657, 0.36311207, 3.16982597, 4.69007067,\n",
       "       3.82014893, 4.28368171, 0.77946278, 4.90528292, 3.91491733,\n",
       "       2.22779022, 4.35826812, 1.28848206, 0.05787532, 1.30901705,\n",
       "       2.36358414, 0.53927135, 3.41228593, 1.55568518, 1.50154371,\n",
       "       0.95870014, 2.51614368, 2.91937078, 3.8328393 , 3.21618838,\n",
       "       2.34373714, 2.70098204, 2.50609602, 0.66315386, 1.5825212 ,\n",
       "       3.74518714, 1.59521839, 1.68904189, 4.09632527, 1.24290959,\n",
       "       2.57166799, 0.78054278, 1.25914753, 0.07769371, 3.11835378,\n",
       "       2.77830327, 2.41147468, 3.076581  , 2.75981825, 0.5826423 ,\n",
       "       3.80289343, 0.86622374, 1.55135638, 2.77938504, 1.89101957,\n",
       "       3.9648065 , 4.33240291, 0.38689548, 0.87777377, 2.73490094,\n",
       "       3.08516506, 4.30279348, 4.00766602, 4.10011081, 1.90911794,\n",
       "       1.05989692, 0.47017116, 4.66029704, 1.94698013, 1.96669836,\n",
       "       0.82633896, 2.45874512, 0.78563264, 1.71891507, 4.914238  ,\n",
       "       0.86580659, 4.35592283, 1.09405433, 2.20399267, 3.82499322,\n",
       "       2.51055251, 1.83082225, 3.32068059, 3.24767026, 2.43276692,\n",
       "       0.92058321, 1.87439906, 3.18931731, 4.02216743, 0.51498341,\n",
       "       0.04722869, 1.92652756, 3.19921279, 1.75159441, 4.61746008,\n",
       "       1.32089549, 1.9542895 , 3.57373575, 1.11720104, 4.78958267,\n",
       "       1.04169879, 1.70047862, 4.89414438, 0.2365973 , 3.21429055,\n",
       "       1.35900194, 3.96538601, 2.77958633, 1.24346454, 3.46098424,\n",
       "       3.98897446, 2.30893037, 4.3125802 , 4.77375626, 2.25592402,\n",
       "       0.71866308, 2.45725699, 4.91388528, 3.98572724, 4.33034223,\n",
       "       0.56303252, 0.38590274, 3.68281085, 3.33509138, 0.45830391,\n",
       "       3.91399417, 2.25418524, 0.88952453, 1.94898682, 1.99738526,\n",
       "       1.34245264, 4.76012258, 1.15829852, 4.71979637, 4.85669308,\n",
       "       3.03698345, 3.6506885 , 2.8262677 , 4.17187785, 4.9182171 ,\n",
       "       4.47015342, 4.64184789, 3.81879162, 4.416554  , 4.36539386])"
      ]
     },
     "execution_count": 2,
     "metadata": {},
     "output_type": "execute_result"
    }
   ],
   "source": [
    "x = np.random.uniform(0, 5, 250)\n",
    "x"
   ]
  },
  {
   "cell_type": "code",
   "execution_count": 3,
   "metadata": {},
   "outputs": [
    {
     "data": {
      "image/png": "[encoded data removed]",
      "text/plain": [
       "<Figure size 432x288 with 1 Axes>"
      ]
     },
     "metadata": {
      "needs_background": "light"
     },
     "output_type": "display_data"
    }
   ],
   "source": [
    "import matplotlib.pyplot as plt\n",
    "plt.hist(x,5)\n",
    "plt.show()"
   ]
  }
 ],
 "metadata": {
  "kernelspec": {
   "display_name": "Python 3.10.4 64-bit",
   "language": "python",
   "name": "python3"
  },
  "language_info": {
   "codemirror_mode": {
    "name": "ipython",
    "version": 3
   },
   "file_extension": ".py",
   "mimetype": "text/x-python",
   "name": "python",
   "nbconvert_exporter": "python",
   "pygments_lexer": "ipython3",
   "version": "3.10.4"
  },
  "orig_nbformat": 4,
  "vscode": {
   "interpreter": {
    "hash": "07e897f1fb732b6be0064486d563e14743e4fa08e77cc15a01354b67c547d405"
   }
  }
 },
 "nbformat": 4,
 "nbformat_minor": 2
}
