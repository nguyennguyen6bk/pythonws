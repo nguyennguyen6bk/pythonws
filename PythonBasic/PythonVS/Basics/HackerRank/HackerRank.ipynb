{
 "cells": [
  {
   "cell_type": "markdown",
   "metadata": {},
   "source": [
    "1. Say \"Hello, World!\" With Python\n"
   ]
  },
  {
   "cell_type": "code",
   "execution_count": 1,
   "metadata": {},
   "outputs": [
    {
     "name": "stdout",
     "output_type": "stream",
     "text": [
      "Hello, world!\n"
     ]
    }
   ],
   "source": [
    "print(\"Hello, world!\")"
   ]
  },
  {
   "cell_type": "markdown",
   "metadata": {},
   "source": [
    "2. Python If-Else\n",
    "https://www.hackerrank.com/challenges/py-if-else/problem?isFullScreen=true"
   ]
  },
  {
   "cell_type": "code",
   "execution_count": 2,
   "metadata": {},
   "outputs": [
    {
     "name": "stdout",
     "output_type": "stream",
     "text": [
      "Weird\n"
     ]
    }
   ],
   "source": [
    "n = 8\n",
    "if n % 2 != 0 :\n",
    "    print(\"Weird\")\n",
    "elif n >=2 and n <=5 :\n",
    "    print(\"Not Weird\")\n",
    "elif n>=6 and n <=20 :\n",
    "    print(\"Weird\")\n",
    "elif n > 20 :\n",
    "    print(\"Not Weird\")"
   ]
  },
  {
   "cell_type": "markdown",
   "metadata": {},
   "source": [
    "3. Arithmetic Operators\n",
    "https://www.hackerrank.com/challenges/python-arithmetic-operators/problem?isFullScreen=true"
   ]
  },
  {
   "cell_type": "code",
   "execution_count": 3,
   "metadata": {},
   "outputs": [
    {
     "name": "stdout",
     "output_type": "stream",
     "text": [
      "8\n",
      "-2\n",
      "15\n"
     ]
    }
   ],
   "source": [
    "a = 3\n",
    "b = 5\n",
    "print(a+b)\n",
    "print(a-b)\n",
    "print(a*b)"
   ]
  },
  {
   "cell_type": "markdown",
   "metadata": {},
   "source": [
    "4. Python: Division\n",
    "https://www.hackerrank.com/challenges/python-division/problem?isFullScreen=true"
   ]
  },
  {
   "cell_type": "code",
   "execution_count": 4,
   "metadata": {},
   "outputs": [
    {
     "name": "stdout",
     "output_type": "stream",
     "text": [
      "0\n",
      "0.6\n"
     ]
    }
   ],
   "source": [
    "a = 3\n",
    "b = 5\n",
    "print(a//b)\n",
    "print(a/b)"
   ]
  },
  {
   "cell_type": "markdown",
   "metadata": {},
   "source": [
    "5. Loops https://www.hackerrank.com/challenges/python-loops/problem?isFullScreen=true"
   ]
  },
  {
   "cell_type": "code",
   "execution_count": null,
   "metadata": {},
   "outputs": [],
   "source": [
    "n = 5\n",
    "if n >= 0:\n",
    "    for i in range(0,5) : \n",
    "        print(i**2)"
   ]
  },
  {
   "cell_type": "markdown",
   "metadata": {},
   "source": [
    "6. Write a function https://www.hackerrank.com/challenges/write-a-function/problem?isFullScreen=true"
   ]
  },
  {
   "cell_type": "code",
   "execution_count": null,
   "metadata": {},
   "outputs": [],
   "source": [
    "year = 2004\n",
    "if year % 4 == 0 and year % 100 != 0 :\n",
    "    print(True)\n",
    "elif year % 100 == 0 and year % 400 == 0 :\n",
    "    print(True)\n",
    "else :\n",
    "    print(False)"
   ]
  },
  {
   "cell_type": "markdown",
   "metadata": {},
   "source": [
    "7. Print Function - https://www.hackerrank.com/challenges/python-print/problem?isFullScreen=true"
   ]
  },
  {
   "cell_type": "code",
   "execution_count": 1,
   "metadata": {},
   "outputs": [],
   "source": [
    "x = str(3.5)"
   ]
  },
  {
   "cell_type": "code",
   "execution_count": 2,
   "metadata": {},
   "outputs": [
    {
     "name": "stdout",
     "output_type": "stream",
     "text": [
      "12345\n"
     ]
    }
   ],
   "source": [
    "n = 5\n",
    "s = \"\"\n",
    "for i in range(1,n+1) :\n",
    "    s += str(i)\n",
    "print(s)"
   ]
  },
  {
   "cell_type": "markdown",
   "metadata": {},
   "source": [
    "8. List Comprehensions - https://www.hackerrank.com/challenges/list-comprehensions/problem?isFullScreen=true"
   ]
  },
  {
   "cell_type": "code",
   "execution_count": 5,
   "metadata": {},
   "outputs": [
    {
     "name": "stdout",
     "output_type": "stream",
     "text": [
      "[[0, 0, 0], [0, 0, 1], [0, 1, 0], [1, 0, 0], [1, 1, 1]]\n"
     ]
    }
   ],
   "source": [
    "x = 1; y = 1; z = 1\n",
    "n = 2\n",
    "\n",
    "print([ \n",
    "    [i, j, k] for i in range(x+1) for j in range(y+1) for k in range(z+1)   \n",
    "    if (i+j+k != n) \n",
    "])"
   ]
  },
  {
   "cell_type": "markdown",
   "metadata": {},
   "source": [
    "8. Nested Lists - https://www.hackerrank.com/challenges/nested-list/problem?isFullScreen=true"
   ]
  },
  {
   "cell_type": "code",
   "execution_count": 28,
   "metadata": {},
   "outputs": [
    {
     "name": "stdout",
     "output_type": "stream",
     "text": [
      "Beria\n",
      "Harsh\n"
     ]
    }
   ],
   "source": [
    "min = -1\n",
    "students = [['Harsh', 20], ['Beria', 20], ['Varun', 19],['Kakunami', 19],['Tina', 37.2], ['Akriti', 41], ['Harsh', 39]]\n",
    "students.sort()\n",
    "students = sorted(students, key=lambda x:x[1])\n",
    "second = students[0][1]\n",
    "if len(students) > 1 :\n",
    "    for i in range(1, len(students)) :\n",
    "        if students[i][1] > students[0][1] :\n",
    "            second = students[i][1]\n",
    "            break\n",
    "    if second > students[0][1]:\n",
    "        for i in range(1, len(students)) :\n",
    "            if students[i][1] == second :\n",
    "                print(students[i][0])\n",
    "        "
   ]
  },
  {
   "cell_type": "markdown",
   "metadata": {},
   "source": [
    "9. Finding the percentage - https://www.hackerrank.com/challenges/finding-the-percentage/problem?isFullScreen=true"
   ]
  },
  {
   "cell_type": "code",
   "execution_count": 43,
   "metadata": {},
   "outputs": [
    {
     "name": "stdout",
     "output_type": "stream",
     "text": [
      "30.00\n"
     ]
    }
   ],
   "source": [
    "student_marks = {'a':[20, 30, 40], 'b':[25, 35, 45]}\n",
    "query_name = 'a'\n",
    "for stu_key, stu_mark in student_marks.items() :\n",
    "    if stu_key == query_name :\n",
    "        print(  \"{:.2f}\".format(sum(stu_mark) / len(stu_mark)) )"
   ]
  },
  {
   "cell_type": "markdown",
   "metadata": {},
   "source": [
    "10. Lists - https://www.hackerrank.com/challenges/python-lists/problem?isFullScreen=true"
   ]
  },
  {
   "cell_type": "code",
   "execution_count": 10,
   "metadata": {},
   "outputs": [
    {
     "ename": "TypeError",
     "evalue": "sequence item 0: expected str instance, int found",
     "output_type": "error",
     "traceback": [
      "\u001b[1;31m---------------------------------------------------------------------------\u001b[0m",
      "\u001b[1;31mTypeError\u001b[0m                                 Traceback (most recent call last)",
      "Cell \u001b[1;32mIn[10], line 12\u001b[0m\n\u001b[0;32m     10\u001b[0m     \u001b[39mprint\u001b[39m(\u001b[39mlist\u001b[39m)\n\u001b[0;32m     11\u001b[0m \u001b[39melse\u001b[39;00m : \n\u001b[1;32m---> 12\u001b[0m     cmd \u001b[39m+\u001b[39m\u001b[39m=\u001b[39m \u001b[39m\"\u001b[39m\u001b[39m(\u001b[39m\u001b[39m\"\u001b[39m \u001b[39m+\u001b[39m \u001b[39m\"\u001b[39;49m\u001b[39m,\u001b[39;49m\u001b[39m\"\u001b[39;49m\u001b[39m.\u001b[39;49mjoin(args) \u001b[39m+\u001b[39m \u001b[39m\"\u001b[39m\u001b[39m)\u001b[39m\u001b[39m\"\u001b[39m\n\u001b[0;32m     13\u001b[0m     \u001b[39mprint\u001b[39m(cmd)\n\u001b[0;32m     14\u001b[0m     \u001b[39m# eval(\"list.\" + cmd)\u001b[39;00m\n",
      "\u001b[1;31mTypeError\u001b[0m: sequence item 0: expected str instance, int found"
     ]
    }
   ],
   "source": [
    "my_list = [   [\"insert\", 2, 3], [\"insert\", 3, 5], \n",
    "        [\"print\"], [\"sort\"], [\"remove\", 5], \n",
    "        [\"append\", 6], [\"print\"], [\"reverse\"],\n",
    "        [\"print\"],[\"pop\"],[\"print\"]\n",
    "    ]\n",
    "for s in my_list :\n",
    "    cmd  = s[0]\n",
    "    args = s[1:]\n",
    "    if cmd == \"print\" :\n",
    "        print(list)\n",
    "    else : \n",
    "        cmd += \"(\" + \",\".join(str(args)) + \")\"\n",
    "        print(cmd)\n",
    "        # eval(\"list.\" + cmd)"
   ]
  }
 ],
 "metadata": {
  "kernelspec": {
   "display_name": "Python 3.10.4 64-bit",
   "language": "python",
   "name": "python3"
  },
  "language_info": {
   "codemirror_mode": {
    "name": "ipython",
    "version": 3
   },
   "file_extension": ".py",
   "mimetype": "text/x-python",
   "name": "python",
   "nbconvert_exporter": "python",
   "pygments_lexer": "ipython3",
   "version": "3.10.10"
  },
  "orig_nbformat": 4,
  "vscode": {
   "interpreter": {
    "hash": "07e897f1fb732b6be0064486d563e14743e4fa08e77cc15a01354b67c547d405"
   }
  }
 },
 "nbformat": 4,
 "nbformat_minor": 2
}
