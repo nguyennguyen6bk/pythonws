{
 "cells": [
  {
   "cell_type": "code",
   "execution_count": 1,
   "metadata": {},
   "outputs": [],
   "source": [
    "import numpy as np\n",
    "import pandas as pd\n",
    "\n",
    "import statsmodels.api as sm\n",
    "import statsmodels.formula.api as smf"
   ]
  },
  {
   "cell_type": "markdown",
   "metadata": {},
   "source": [
    "# Bài 8.5.\n",
    "Khảo sát tại 12 công ty trong một khu vực bán hàng về <em>doanh thu (Y)</em>, <em>chi phí quảng cáo (X<sub>1</sub>)</em> và <em>lương nhân viên tiếp thị (X<sub>2</sub>)</em> có số liệu sau:  \n",
    "Y = [126, 148, 105, 162, 101, 175, 160, 127, 138, 143, 158, 137]  \n",
    "X<sub>1</sub> = [17, 23, 18, 22, 14, 24, 23, 15, 16, 21, 22, 13]  \n",
    "X<sub>2</sub> = [11, 14, 9, 16, 9, 17, 15, 11, 12, 14, 15, 13] \n",
    "\n",
    "<ol>\n",
    "    <li>Hãy giả sử mối quan hệ giữa Y với X<sub>1</sub> và X<sub>2</sub> có thể biểu diễn bằng hàm hồi quy tuyến tính. Hãy ước lượng hàm này?</li>\n",
    "    <li>Giải thích ý nghĩa của các hệ số hồi quy về mặt lý thuyết và thống kê?</li>\n",
    "    <li>Tính hệ số xác định bội và hệ số xác định bội điều chỉnh và cho biết ý nghĩa?</li>\n",
    "    <li>Phải chăng cả hai biến X<sub>1</sub> và X<sub>2</sub> đều không ảnh hưởng đến Y?</li>\n",
    "    <li>Để dự báo doanh thu ta nên dùng hàm nào trong các hàm sau đây: \n",
    "        <ul>\n",
    "            <li>y<sub>i</sub> = B<sub>0</sub> + B<sub>1</sub>x<sub>1i</sub> + e<sub>i</sub></li>\n",
    "            <li>y<sub>i</sub> = B<sub>0</sub> + B<sub>2</sub>x<sub>2i</sub> + e<sub>i</sub></li>\n",
    "            <li>y<sub>i</sub> = B<sub>0</sub> + B<sub>1</sub>x<sub>1i</sub> + B<sub>2</sub>x<sub>2i</sub> + e<sub>i</sub></li>\n",
    "        </ul>\n",
    "    </li>\n",
    "    <li>Dự báo doanh thu trung bình của một công ty có chi phí quảng cáo là 23 triệu đông/tháng và lương của nhân viên tiếp thị là 15 triệu đồng/tháng với mức ý nghĩa 5%?</li>\n",
    "</ol>"
   ]
  },
  {
   "cell_type": "code",
   "execution_count": 4,
   "metadata": {},
   "outputs": [
    {
     "data": {
      "text/html": [
       "<div>\n",
       "<style scoped>\n",
       "    .dataframe tbody tr th:only-of-type {\n",
       "        vertical-align: middle;\n",
       "    }\n",
       "\n",
       "    .dataframe tbody tr th {\n",
       "        vertical-align: top;\n",
       "    }\n",
       "\n",
       "    .dataframe thead th {\n",
       "        text-align: right;\n",
       "    }\n",
       "</style>\n",
       "<table border=\"1\" class=\"dataframe\">\n",
       "  <thead>\n",
       "    <tr style=\"text-align: right;\">\n",
       "      <th></th>\n",
       "      <th>X1</th>\n",
       "      <th>X2</th>\n",
       "      <th>Y</th>\n",
       "    </tr>\n",
       "  </thead>\n",
       "  <tbody>\n",
       "    <tr>\n",
       "      <th>0</th>\n",
       "      <td>17</td>\n",
       "      <td>11</td>\n",
       "      <td>126</td>\n",
       "    </tr>\n",
       "    <tr>\n",
       "      <th>1</th>\n",
       "      <td>23</td>\n",
       "      <td>14</td>\n",
       "      <td>148</td>\n",
       "    </tr>\n",
       "    <tr>\n",
       "      <th>2</th>\n",
       "      <td>18</td>\n",
       "      <td>9</td>\n",
       "      <td>105</td>\n",
       "    </tr>\n",
       "    <tr>\n",
       "      <th>3</th>\n",
       "      <td>22</td>\n",
       "      <td>16</td>\n",
       "      <td>162</td>\n",
       "    </tr>\n",
       "    <tr>\n",
       "      <th>4</th>\n",
       "      <td>14</td>\n",
       "      <td>9</td>\n",
       "      <td>101</td>\n",
       "    </tr>\n",
       "    <tr>\n",
       "      <th>5</th>\n",
       "      <td>24</td>\n",
       "      <td>17</td>\n",
       "      <td>175</td>\n",
       "    </tr>\n",
       "    <tr>\n",
       "      <th>6</th>\n",
       "      <td>23</td>\n",
       "      <td>15</td>\n",
       "      <td>160</td>\n",
       "    </tr>\n",
       "    <tr>\n",
       "      <th>7</th>\n",
       "      <td>15</td>\n",
       "      <td>11</td>\n",
       "      <td>127</td>\n",
       "    </tr>\n",
       "    <tr>\n",
       "      <th>8</th>\n",
       "      <td>16</td>\n",
       "      <td>12</td>\n",
       "      <td>138</td>\n",
       "    </tr>\n",
       "    <tr>\n",
       "      <th>9</th>\n",
       "      <td>21</td>\n",
       "      <td>14</td>\n",
       "      <td>143</td>\n",
       "    </tr>\n",
       "    <tr>\n",
       "      <th>10</th>\n",
       "      <td>22</td>\n",
       "      <td>15</td>\n",
       "      <td>158</td>\n",
       "    </tr>\n",
       "    <tr>\n",
       "      <th>11</th>\n",
       "      <td>13</td>\n",
       "      <td>13</td>\n",
       "      <td>137</td>\n",
       "    </tr>\n",
       "  </tbody>\n",
       "</table>\n",
       "</div>"
      ],
      "text/plain": [
       "    X1  X2    Y\n",
       "0   17  11  126\n",
       "1   23  14  148\n",
       "2   18   9  105\n",
       "3   22  16  162\n",
       "4   14   9  101\n",
       "5   24  17  175\n",
       "6   23  15  160\n",
       "7   15  11  127\n",
       "8   16  12  138\n",
       "9   21  14  143\n",
       "10  22  15  158\n",
       "11  13  13  137"
      ]
     },
     "execution_count": 4,
     "metadata": {},
     "output_type": "execute_result"
    }
   ],
   "source": [
    "Y = [126, 148, 105, 162, 101, 175, 160, 127, 138, 143, 158, 137]\n",
    "X1 = [17, 23, 18, 22, 14, 24, 23, 15, 16, 21, 22, 13]\n",
    "X2 = [11, 14, 9, 16, 9, 17, 15, 11, 12, 14, 15, 13]\n",
    "\n",
    "df = pd.DataFrame.from_dict({\"X1\": X1, \"X2\": X2, \"Y\": Y})\n",
    "df"
   ]
  },
  {
   "cell_type": "markdown",
   "metadata": {},
   "source": [
    "## 1. Hãy giả sử mối quan hệ giữa Y với X<sub>1</sub> và X<sub>2</sub> có thể biểu diễn bằng hàm hồi quy tuyến tính. Hãy ước lượng hàm này?"
   ]
  },
  {
   "cell_type": "code",
   "execution_count": 5,
   "metadata": {},
   "outputs": [
    {
     "name": "stdout",
     "output_type": "stream",
     "text": [
      "                            OLS Regression Results                            \n",
      "==============================================================================\n",
      "Dep. Variable:                      Y   R-squared:                       0.972\n",
      "Model:                            OLS   Adj. R-squared:                  0.966\n",
      "Method:                 Least Squares   F-statistic:                     157.9\n",
      "Date:                Sat, 09 Jul 2022   Prob (F-statistic):           9.81e-08\n",
      "Time:                        19:35:45   Log-Likelihood:                -32.416\n",
      "No. Observations:                  12   AIC:                             70.83\n",
      "Df Residuals:                       9   BIC:                             72.29\n",
      "Df Model:                           2                                         \n",
      "Covariance Type:            nonrobust                                         \n",
      "==============================================================================\n",
      "                 coef    std err          t      P>|t|      [0.025      0.975]\n",
      "------------------------------------------------------------------------------\n",
      "Intercept     29.6619      6.629      4.474      0.002      14.665      44.659\n",
      "X1             0.0023      0.504      0.005      0.996      -1.139       1.143\n",
      "X2             8.4842      0.754     11.245      0.000       6.777      10.191\n",
      "==============================================================================\n",
      "Omnibus:                        0.583   Durbin-Watson:                   1.737\n",
      "Prob(Omnibus):                  0.747   Jarque-Bera (JB):                0.547\n",
      "Skew:                           0.051   Prob(JB):                        0.761\n",
      "Kurtosis:                       1.959   Cond. No.                         129.\n",
      "==============================================================================\n",
      "\n",
      "Notes:\n",
      "[1] Standard Errors assume that the covariance matrix of the errors is correctly specified.\n"
     ]
    },
    {
     "name": "stderr",
     "output_type": "stream",
     "text": [
      "/Users/phu/opt/anaconda3/envs/EdaK31/lib/python3.7/site-packages/scipy/stats/stats.py:1542: UserWarning: kurtosistest only valid for n>=20 ... continuing anyway, n=12\n",
      "  \"anyway, n=%i\" % int(n))\n"
     ]
    }
   ],
   "source": [
    "results = smf.ols(\"Y ~ X1 + X2\", data=df).fit()\n",
    "print(results.summary())"
   ]
  },
  {
   "cell_type": "code",
   "execution_count": null,
   "metadata": {},
   "outputs": [],
   "source": []
  },
  {
   "cell_type": "markdown",
   "metadata": {},
   "source": [
    "Trả lời: Có thể ước lượng mối quan hệ bằng hàm:  \n",
    "y<sub>i</sub> = B<sub>0</sub> + B<sub>1</sub>x<sub>1i</sub> + B<sub>2</sub>x<sub>2i</sub>  \n",
    "y<sub>i</sub> = 29.66 + 0.0023x<sub>1i</sub> + 8.4842x<sub>2i</sub>"
   ]
  },
  {
   "cell_type": "markdown",
   "metadata": {},
   "source": [
    "## 2. Giải thích ý nghĩa của các hệ số hồi quy về mặt lý thuyết và thống kê?\n",
    "\n",
    "Trả lời: Các hệ số hồi quy cho thấy doanh thu của một công ty bán hàng ít phụ thuộc vào chi phí quảng cáo mà phụ thuộc nhiều vào lương của nhân viên tiếp thị.  Nếu lương của nhân viên tiếp thị tăng lên 1 triệu đồng thì doanh thu tăng trung bình 8.4842 triệu đồng."
   ]
  },
  {
   "cell_type": "markdown",
   "metadata": {},
   "source": [
    "## 3. Tính hệ số xác định bội và hệ số xác định bội điều chỉnh và cho biết ý nghĩa?\n",
    "Hệ số xác định bội R<sup>2</sup>: 0.972  \n",
    "Hệ số xác định bội hiệu chỉnh R<sup>2</sup><sub>adj</sub>: 0.966  \n",
    "\n",
    "Hệ số xác định R<sup>2</sup> cho biết mô hình hồi quy tuyến tính này phù hợp với tập dữ liệu ở mức 97.2%. Nói cách khác, 97.2% độ biến thiên của biến phụ thuộc được giải thích bởi các biến độc lập.  \n",
    "Hệ số xác định R<sup>2</sup><sub>adj</sub> để hiệu chỉnh R<sup>2</sup> theo bậc tự do. Vì nếu chỉ sử dụng R<sup>2</sup>, khi đưa thêm nhiều biến vào mô hình, mặc dù chưa xác định biến đưa vào có ý nghĩa hay không thì giá trị R<sup>2</sup> sẽ tăng. Điều này dẫn đến R<sup>2</sup> bản chất không làm rõ được tầm quan trọng của biến đưa vào."
   ]
  },
  {
   "cell_type": "markdown",
   "metadata": {},
   "source": [
    "## 4. Phải chăng cả hai biến X<sub>1</sub> và X<sub>2</sub> đều không ảnh hưởng đến Y?\n",
    "Trả lời: X<sub>2</sub> có ảnh hưởng lớn đến Y còn  X<sub>1</sub> không có ý nghĩa về mặt thống kê."
   ]
  },
  {
   "cell_type": "markdown",
   "metadata": {},
   "source": [
    "## 5. Để dự báo doanh thu ta nên dùng hàm nào trong các hàm sau đây: \n",
    "<ul>\n",
    "    <li>y<sub>i</sub> = B<sub>0</sub> + B<sub>1</sub>x<sub>1i</sub> + e<sub>i</sub></li>\n",
    "    <li>y<sub>i</sub> = B<sub>0</sub> + B<sub>2</sub>x<sub>2i</sub> + e<sub>i</sub></li>\n",
    "    <li>y<sub>i</sub> = B<sub>0</sub> + B<sub>1</sub>x<sub>1i</sub> + B<sub>2</sub>x<sub>2i</sub> + e<sub>i</sub></li>\n",
    "</ul>"
   ]
  },
  {
   "cell_type": "code",
   "execution_count": 6,
   "metadata": {},
   "outputs": [
    {
     "name": "stdout",
     "output_type": "stream",
     "text": [
      "                            OLS Regression Results                            \n",
      "==============================================================================\n",
      "Dep. Variable:                      Y   R-squared:                       0.583\n",
      "Model:                            OLS   Adj. R-squared:                  0.541\n",
      "Method:                 Least Squares   F-statistic:                     13.98\n",
      "Date:                Sat, 09 Jul 2022   Prob (F-statistic):            0.00385\n",
      "Time:                        22:26:21   Log-Likelihood:                -48.685\n",
      "No. Observations:                  12   AIC:                             101.4\n",
      "Df Residuals:                      10   BIC:                             102.3\n",
      "Df Model:                           1                                         \n",
      "Covariance Type:            nonrobust                                         \n",
      "==============================================================================\n",
      "                 coef    std err          t      P>|t|      [0.025      0.975]\n",
      "------------------------------------------------------------------------------\n",
      "Intercept     56.5118     22.761      2.483      0.032       5.796     107.227\n",
      "X1             4.3941      1.175      3.739      0.004       1.776       7.012\n",
      "==============================================================================\n",
      "Omnibus:                        1.402   Durbin-Watson:                   1.914\n",
      "Prob(Omnibus):                  0.496   Jarque-Bera (JB):                0.579\n",
      "Skew:                          -0.534   Prob(JB):                        0.749\n",
      "Kurtosis:                       2.877   Cond. No.                         99.9\n",
      "==============================================================================\n",
      "\n",
      "Notes:\n",
      "[1] Standard Errors assume that the covariance matrix of the errors is correctly specified.\n"
     ]
    },
    {
     "name": "stderr",
     "output_type": "stream",
     "text": [
      "/Users/phu/opt/anaconda3/envs/EdaK31/lib/python3.7/site-packages/scipy/stats/stats.py:1542: UserWarning: kurtosistest only valid for n>=20 ... continuing anyway, n=12\n",
      "  \"anyway, n=%i\" % int(n))\n"
     ]
    }
   ],
   "source": [
    "results = smf.ols(\"Y ~ X1\", data=df).fit()\n",
    "print(results.summary())"
   ]
  },
  {
   "cell_type": "code",
   "execution_count": 7,
   "metadata": {},
   "outputs": [
    {
     "name": "stdout",
     "output_type": "stream",
     "text": [
      "                            OLS Regression Results                            \n",
      "==============================================================================\n",
      "Dep. Variable:                      Y   R-squared:                       0.972\n",
      "Model:                            OLS   Adj. R-squared:                  0.970\n",
      "Method:                 Least Squares   F-statistic:                     350.9\n",
      "Date:                Sat, 09 Jul 2022   Prob (F-statistic):           4.07e-09\n",
      "Time:                        22:26:28   Log-Likelihood:                -32.416\n",
      "No. Observations:                  12   AIC:                             68.83\n",
      "Df Residuals:                      10   BIC:                             69.80\n",
      "Df Model:                           1                                         \n",
      "Covariance Type:            nonrobust                                         \n",
      "==============================================================================\n",
      "                 coef    std err          t      P>|t|      [0.025      0.975]\n",
      "------------------------------------------------------------------------------\n",
      "Intercept     29.6711      5.999      4.946      0.001      16.305      43.037\n",
      "X2             8.4868      0.453     18.733      0.000       7.477       9.496\n",
      "==============================================================================\n",
      "Omnibus:                        0.590   Durbin-Watson:                   1.737\n",
      "Prob(Omnibus):                  0.745   Jarque-Bera (JB):                0.549\n",
      "Skew:                           0.050   Prob(JB):                        0.760\n",
      "Kurtosis:                       1.957   Cond. No.                         70.1\n",
      "==============================================================================\n",
      "\n",
      "Notes:\n",
      "[1] Standard Errors assume that the covariance matrix of the errors is correctly specified.\n"
     ]
    },
    {
     "name": "stderr",
     "output_type": "stream",
     "text": [
      "/Users/phu/opt/anaconda3/envs/EdaK31/lib/python3.7/site-packages/scipy/stats/stats.py:1542: UserWarning: kurtosistest only valid for n>=20 ... continuing anyway, n=12\n",
      "  \"anyway, n=%i\" % int(n))\n"
     ]
    }
   ],
   "source": [
    "results = smf.ols(\"Y ~ X2\", data=df).fit()\n",
    "print(results.summary())"
   ]
  },
  {
   "cell_type": "code",
   "execution_count": 8,
   "metadata": {},
   "outputs": [
    {
     "name": "stdout",
     "output_type": "stream",
     "text": [
      "                            OLS Regression Results                            \n",
      "==============================================================================\n",
      "Dep. Variable:                      Y   R-squared:                       0.972\n",
      "Model:                            OLS   Adj. R-squared:                  0.966\n",
      "Method:                 Least Squares   F-statistic:                     157.9\n",
      "Date:                Sat, 09 Jul 2022   Prob (F-statistic):           9.81e-08\n",
      "Time:                        22:26:54   Log-Likelihood:                -32.416\n",
      "No. Observations:                  12   AIC:                             70.83\n",
      "Df Residuals:                       9   BIC:                             72.29\n",
      "Df Model:                           2                                         \n",
      "Covariance Type:            nonrobust                                         \n",
      "==============================================================================\n",
      "                 coef    std err          t      P>|t|      [0.025      0.975]\n",
      "------------------------------------------------------------------------------\n",
      "Intercept     29.6619      6.629      4.474      0.002      14.665      44.659\n",
      "X1             0.0023      0.504      0.005      0.996      -1.139       1.143\n",
      "X2             8.4842      0.754     11.245      0.000       6.777      10.191\n",
      "==============================================================================\n",
      "Omnibus:                        0.583   Durbin-Watson:                   1.737\n",
      "Prob(Omnibus):                  0.747   Jarque-Bera (JB):                0.547\n",
      "Skew:                           0.051   Prob(JB):                        0.761\n",
      "Kurtosis:                       1.959   Cond. No.                         129.\n",
      "==============================================================================\n",
      "\n",
      "Notes:\n",
      "[1] Standard Errors assume that the covariance matrix of the errors is correctly specified.\n"
     ]
    },
    {
     "name": "stderr",
     "output_type": "stream",
     "text": [
      "/Users/phu/opt/anaconda3/envs/EdaK31/lib/python3.7/site-packages/scipy/stats/stats.py:1542: UserWarning: kurtosistest only valid for n>=20 ... continuing anyway, n=12\n",
      "  \"anyway, n=%i\" % int(n))\n"
     ]
    }
   ],
   "source": [
    "results = smf.ols(\"Y ~ X1 + X2\", data=df).fit()\n",
    "print(results.summary())"
   ]
  },
  {
   "cell_type": "markdown",
   "metadata": {},
   "source": [
    "Trả lời: Ta thấy hàm  \n",
    "- y<sub>i</sub> = B<sub>0</sub> + B<sub>2</sub>x<sub>2i</sub> + e<sub>i</sub>  \n",
    "y<sub>i</sub> = 29.6711 + 8.4868*x<sub>2i</sub> + e<sub>i</sub>  \n",
    "\n",
    "cho ra R<sup>2</sup><sub>adj</sub> tốt nhất (0.970) nên ta nên dùng hàm này để dự báo doanh thu."
   ]
  },
  {
   "cell_type": "code",
   "execution_count": null,
   "metadata": {},
   "outputs": [],
   "source": []
  },
  {
   "cell_type": "markdown",
   "metadata": {},
   "source": [
    "## 6. Dự báo doanh thu trung bình của một công ty có chi phí quảng cáo là 23 triệu đông/tháng và lương của nhân viên tiếp thị là 15 triệu đồng/tháng với mức ý nghĩa 5%?\n",
    "\n",
    "Trả lời: Với mức ý nghĩa 5%, dựa vào kết quả ở trên, ta có thể loại bỏ được biến chi phí quảng cáo. Như vậy doanh thu dự báo sẽ là:  \n",
    "y = 29.6711 + 8.4868 * 15 = 156 (triệu đồng)."
   ]
  }
 ],
 "metadata": {
  "kernelspec": {
   "display_name": "Python 3.10.4 64-bit",
   "language": "python",
   "name": "python3"
  },
  "language_info": {
   "codemirror_mode": {
    "name": "ipython",
    "version": 3
   },
   "file_extension": ".py",
   "mimetype": "text/x-python",
   "name": "python",
   "nbconvert_exporter": "python",
   "pygments_lexer": "ipython3",
   "version": "3.10.4"
  },
  "orig_nbformat": 4,
  "vscode": {
   "interpreter": {
    "hash": "07e897f1fb732b6be0064486d563e14743e4fa08e77cc15a01354b67c547d405"
   }
  }
 },
 "nbformat": 4,
 "nbformat_minor": 2
}
