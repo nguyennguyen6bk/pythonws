{
 "cells": [
  {
   "cell_type": "markdown",
   "metadata": {},
   "source": [
    "B 8.5. Khảo sát tại 12 công ty trong một khu vực bán hàng về doanh thu (Y ), chi phí quảng\n",
    "cáo (X1) và lương nhân viên tiếp thị (X2) có số liệu sau:\n",
    "Y : 126 148 105 162 101 175 160 127 138 143 158 137\n",
    "X1 : 17 23 18 22 14 24 23 15 16 21 22 13\n",
    "X2 : 11 14 9 16 9 17 15 11 12 14 15 13\n",
    "(đơn vị tính triệu đồng)\n",
    "1. Giả sử mối quan hệ giữa Y với X1 và X2 có thể biểu diễn bằng hàm hồi quy tuyến tính.\n",
    "Hãy ước lượng hàm này?\n",
    "2. Giải thích ý nghĩa của các hệ số hồi quy về mặt lý thuyết và thống kê?\n",
    "3. Tính hệ số xác định bội và hệ số xác định bội điều chỉnh và cho biết ý nghĩa?\n",
    "4. Phải chăng cả hai biến X1 và X2 đều không ảnh hưởng đến Y ?\n",
    "5. Để dự báo doanh thu ta nên dùng hàm nào trong các hàm sau đây:\n",
    "a) yi = b0 + b1xi + ei\n",
    "b) yi = b0 + b2x2 + ei\n",
    "c) yi = b0 + b1xi + b2x2 + ei\n",
    "6. Dự báo doanh thu trung bình của một công ty có chi phí quảng cáo là 23 triệu đồng/tháng\n",
    "và lương của nhân viên tiếp thị là 15 triệu đồng/tháng với mức ý nghĩa 5%?"
   ]
  },
  {
   "cell_type": "code",
   "execution_count": 1,
   "metadata": {},
   "outputs": [],
   "source": [
    "import numpy as np\n",
    "import pandas as pd\n",
    "import matplotlib.pyplot as plt\n",
    "import statsmodels.api as sm\n",
    "import statsmodels.formula.api as smf"
   ]
  },
  {
   "cell_type": "code",
   "execution_count": 2,
   "metadata": {},
   "outputs": [
    {
     "data": {
      "text/plain": [
       "[11, 14, 9, 16, 9, 17, 15, 11, 12, 14, 15, 13]"
      ]
     },
     "execution_count": 2,
     "metadata": {},
     "output_type": "execute_result"
    }
   ],
   "source": [
    "# Y là Doanh thu\n",
    "Y = [126, 148, 105, 162, 101, 175, 160, 127, 138, 143, 158, 137]  \n",
    "# X1 là Chi phí quảng cáo\n",
    "X1 = [17, 23, 18, 22, 14, 24, 23, 15, 16, 21, 22, 13]  \n",
    "# X2 là Lương nhân viên tiếp thị\n",
    "X2 = [11, 14, 9, 16, 9, 17, 15, 11, 12, 14, 15, 13] \n",
    "X2"
   ]
  },
  {
   "cell_type": "code",
   "execution_count": 3,
   "metadata": {},
   "outputs": [],
   "source": [
    "\n",
    "\n",
    "dataset = pd.DataFrame.from_dict({\"Y\": Y, \"X1\": X1, \"X2\": X2})"
   ]
  },
  {
   "cell_type": "markdown",
   "metadata": {},
   "source": [
    "1. Giả sử mối quan hệ giữa Y với X1 và X2 có thể biểu diễn bằng hàm hồi quy tuyến tính. Hãy ước lượng hàm này?"
   ]
  },
  {
   "cell_type": "code",
   "execution_count": 4,
   "metadata": {},
   "outputs": [
    {
     "name": "stdout",
     "output_type": "stream",
     "text": [
      "                            OLS Regression Results                            \n",
      "==============================================================================\n",
      "Dep. Variable:                      Y   R-squared:                       0.972\n",
      "Model:                            OLS   Adj. R-squared:                  0.966\n",
      "Method:                 Least Squares   F-statistic:                     157.9\n",
      "Date:                Wed, 20 Jul 2022   Prob (F-statistic):           9.81e-08\n",
      "Time:                        11:36:58   Log-Likelihood:                -32.416\n",
      "No. Observations:                  12   AIC:                             70.83\n",
      "Df Residuals:                       9   BIC:                             72.29\n",
      "Df Model:                           2                                         \n",
      "Covariance Type:            nonrobust                                         \n",
      "==============================================================================\n",
      "                 coef    std err          t      P>|t|      [0.025      0.975]\n",
      "------------------------------------------------------------------------------\n",
      "Intercept     29.6619      6.629      4.474      0.002      14.665      44.659\n",
      "X1             0.0023      0.504      0.005      0.996      -1.139       1.143\n",
      "X2             8.4842      0.754     11.245      0.000       6.777      10.191\n",
      "==============================================================================\n",
      "Omnibus:                        0.583   Durbin-Watson:                   1.737\n",
      "Prob(Omnibus):                  0.747   Jarque-Bera (JB):                0.547\n",
      "Skew:                           0.051   Prob(JB):                        0.761\n",
      "Kurtosis:                       1.959   Cond. No.                         129.\n",
      "==============================================================================\n",
      "\n",
      "Notes:\n",
      "[1] Standard Errors assume that the covariance matrix of the errors is correctly specified.\n"
     ]
    },
    {
     "name": "stderr",
     "output_type": "stream",
     "text": [
      "c:\\Users\\NNguye05\\AppData\\Local\\Programs\\Python\\Python310\\lib\\site-packages\\scipy\\stats\\_stats_py.py:1477: UserWarning: kurtosistest only valid for n>=20 ... continuing anyway, n=12\n",
      "  warnings.warn(\"kurtosistest only valid for n>=20 ... continuing \"\n"
     ]
    }
   ],
   "source": [
    "results = smf.ols(\"Y ~ X1 + X2\", data=dataset).fit()\n",
    "print(results.summary())"
   ]
  },
  {
   "cell_type": "markdown",
   "metadata": {},
   "source": [
    "Từ kết quả sau khi chạy chương trình ta có thể suy ra được hàm hồi quy tuyến tính giữa Y với X1, X2.\n",
    "y = 29.6619 + 0.0023*x1 + 8.4842*x2"
   ]
  },
  {
   "cell_type": "markdown",
   "metadata": {},
   "source": [
    "2. Giải thích ý nghĩa của các hệ số hồi quy về mặt lý thuyết và thống kê?\n",
    "\n",
    "Từ kết quả tính toán thì có thể kết luận là Doanh thu phụ thuộc nhiều vào Lương nhân viên tiếp thị với một hệ số rất cao 8.4842 và ít phụ thuộc vào Chi phí quảng cáo với hệ số rất nhỏ(0.0023)\n"
   ]
  },
  {
   "cell_type": "markdown",
   "metadata": {},
   "source": [
    "3. Tính hệ số xác định bội và hệ số xác định bội điều chỉnh và cho biết ý nghĩa?\n",
    "\n",
    "Từ kết quả tính toán ta được: \n",
    "\n",
    "R-squared:                       0.972 : chính là hệ số xác định bội\n",
    "Adj. R-squared:                  0.966 : hệ số xác định bội điều chỉnh\n",
    "\n"
   ]
  },
  {
   "cell_type": "markdown",
   "metadata": {},
   "source": [
    "4. Phải chăng cả hai biến X1 và X2 đều không ảnh hưởng đến Y ?\n",
    "\n",
    "Kết quả tính toán cho thấy cả 2 biến X1 và X2 đều có ảnh hưởng đến Y, nhưng ở mức độ khác nhau. X2 có xu hướng ảnh hưởng mạnh mẽ đến Y còn X1 thì ảnh hưởng rất hạn chế."
   ]
  },
  {
   "cell_type": "markdown",
   "metadata": {},
   "source": [
    "5. Để dự báo doanh thu ta nên dùng hàm nào trong các hàm sau đây:\n",
    "a) yi = b0 + b1xi + ei\n",
    "b) yi = b0 + b2x2 + ei\n",
    "c) yi = b0 + b1xi + b2x2 + ei\n",
    "trả lời:\n",
    " Để dự báo chính xác chúng ta cần tính toán hàm nào cho ra giá trị của Hệ số xác định bội điều chỉnh lớn nhất. Như vậy ta cần chạy thêm 2 hàm a) và b) rồi so sánh 3 hàm a) b) c) với nhau\n"
   ]
  },
  {
   "cell_type": "code",
   "execution_count": 5,
   "metadata": {},
   "outputs": [
    {
     "name": "stdout",
     "output_type": "stream",
     "text": [
      "                            OLS Regression Results                            \n",
      "==============================================================================\n",
      "Dep. Variable:                      Y   R-squared:                       0.583\n",
      "Model:                            OLS   Adj. R-squared:                  0.541\n",
      "Method:                 Least Squares   F-statistic:                     13.98\n",
      "Date:                Wed, 20 Jul 2022   Prob (F-statistic):            0.00385\n",
      "Time:                        11:36:58   Log-Likelihood:                -48.685\n",
      "No. Observations:                  12   AIC:                             101.4\n",
      "Df Residuals:                      10   BIC:                             102.3\n",
      "Df Model:                           1                                         \n",
      "Covariance Type:            nonrobust                                         \n",
      "==============================================================================\n",
      "                 coef    std err          t      P>|t|      [0.025      0.975]\n",
      "------------------------------------------------------------------------------\n",
      "Intercept     56.5118     22.761      2.483      0.032       5.796     107.227\n",
      "X1             4.3941      1.175      3.739      0.004       1.776       7.012\n",
      "==============================================================================\n",
      "Omnibus:                        1.402   Durbin-Watson:                   1.914\n",
      "Prob(Omnibus):                  0.496   Jarque-Bera (JB):                0.579\n",
      "Skew:                          -0.534   Prob(JB):                        0.749\n",
      "Kurtosis:                       2.877   Cond. No.                         99.9\n",
      "==============================================================================\n",
      "\n",
      "Notes:\n",
      "[1] Standard Errors assume that the covariance matrix of the errors is correctly specified.\n"
     ]
    },
    {
     "name": "stderr",
     "output_type": "stream",
     "text": [
      "c:\\Users\\NNguye05\\AppData\\Local\\Programs\\Python\\Python310\\lib\\site-packages\\scipy\\stats\\_stats_py.py:1477: UserWarning: kurtosistest only valid for n>=20 ... continuing anyway, n=12\n",
      "  warnings.warn(\"kurtosistest only valid for n>=20 ... continuing \"\n"
     ]
    }
   ],
   "source": [
    "# 5.a) yi = b0 + b1xi + ei hay Y ~ X1\n",
    "results = smf.ols(\"Y ~ X1\", data=dataset).fit()\n",
    "print(results.summary())"
   ]
  },
  {
   "cell_type": "code",
   "execution_count": 6,
   "metadata": {},
   "outputs": [
    {
     "name": "stdout",
     "output_type": "stream",
     "text": [
      "                            OLS Regression Results                            \n",
      "==============================================================================\n",
      "Dep. Variable:                      Y   R-squared:                       0.972\n",
      "Model:                            OLS   Adj. R-squared:                  0.970\n",
      "Method:                 Least Squares   F-statistic:                     350.9\n",
      "Date:                Wed, 20 Jul 2022   Prob (F-statistic):           4.07e-09\n",
      "Time:                        11:36:58   Log-Likelihood:                -32.416\n",
      "No. Observations:                  12   AIC:                             68.83\n",
      "Df Residuals:                      10   BIC:                             69.80\n",
      "Df Model:                           1                                         \n",
      "Covariance Type:            nonrobust                                         \n",
      "==============================================================================\n",
      "                 coef    std err          t      P>|t|      [0.025      0.975]\n",
      "------------------------------------------------------------------------------\n",
      "Intercept     29.6711      5.999      4.946      0.001      16.305      43.037\n",
      "X2             8.4868      0.453     18.733      0.000       7.477       9.496\n",
      "==============================================================================\n",
      "Omnibus:                        0.590   Durbin-Watson:                   1.737\n",
      "Prob(Omnibus):                  0.745   Jarque-Bera (JB):                0.549\n",
      "Skew:                           0.050   Prob(JB):                        0.760\n",
      "Kurtosis:                       1.957   Cond. No.                         70.1\n",
      "==============================================================================\n",
      "\n",
      "Notes:\n",
      "[1] Standard Errors assume that the covariance matrix of the errors is correctly specified.\n"
     ]
    },
    {
     "name": "stderr",
     "output_type": "stream",
     "text": [
      "c:\\Users\\NNguye05\\AppData\\Local\\Programs\\Python\\Python310\\lib\\site-packages\\scipy\\stats\\_stats_py.py:1477: UserWarning: kurtosistest only valid for n>=20 ... continuing anyway, n=12\n",
      "  warnings.warn(\"kurtosistest only valid for n>=20 ... continuing \"\n"
     ]
    }
   ],
   "source": [
    "# 5.b) yi = b0 + b2x2 + ei hay Y ~ X2\n",
    "results = smf.ols(\"Y ~ X2\", data=dataset).fit()\n",
    "print(results.summary())"
   ]
  },
  {
   "cell_type": "markdown",
   "metadata": {},
   "source": [
    "Tiếp câu 5 sau khi chạy mô hình:\n",
    "ta thấy:\n",
    "Adj. R-squared của a) là 0.541A\n",
    "Adj. R-squared của b) là 0.970\n",
    "và của c) là 0.966 (kết quả từ câu 1)\n",
    "\n",
    "Như vậy kết quả ở mô hình b) yi = b0 + b2x2 + ei cho kết quả dự đoán tốt nhất. chọn phương án b."
   ]
  },
  {
   "cell_type": "markdown",
   "metadata": {},
   "source": [
    "6. Dự báo doanh thu trung bình của một công ty có chi phí quảng cáo là 23 triệu đồng/tháng và lương của nhân viên tiếp thị là 15 triệu đồng/tháng với mức ý nghĩa 5%?\n",
    "Với mức ý nghĩa 5% hay 0.05 kết hợp với kết quả ở câu 1 ta được hàm y = 29.6619 + 0.0023*x1 + 8.4842*x2\n",
    "=> y = 29.6619 + 8.4842*x2\n",
    "với x2= 15000000\n",
    "=> y = 29.6619 + 8.4842*15000000 = 156.92 (triệu đồng)\n"
   ]
  },
  {
   "cell_type": "code",
   "execution_count": 7,
   "metadata": {},
   "outputs": [
    {
     "data": {
      "text/plain": [
       "156.92489999999998"
      ]
     },
     "execution_count": 7,
     "metadata": {},
     "output_type": "execute_result"
    }
   ],
   "source": [
    "y = 29.6619 + 8.4842*15\n",
    "y"
   ]
  }
 ],
 "metadata": {
  "kernelspec": {
   "display_name": "Python 3.10.4 64-bit",
   "language": "python",
   "name": "python3"
  },
  "language_info": {
   "codemirror_mode": {
    "name": "ipython",
    "version": 3
   },
   "file_extension": ".py",
   "mimetype": "text/x-python",
   "name": "python",
   "nbconvert_exporter": "python",
   "pygments_lexer": "ipython3",
   "version": "3.10.4"
  },
  "orig_nbformat": 4,
  "vscode": {
   "interpreter": {
    "hash": "07e897f1fb732b6be0064486d563e14743e4fa08e77cc15a01354b67c547d405"
   }
  }
 },
 "nbformat": 4,
 "nbformat_minor": 2
}
