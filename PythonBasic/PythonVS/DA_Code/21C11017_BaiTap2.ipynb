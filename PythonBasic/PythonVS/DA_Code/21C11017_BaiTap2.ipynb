{
 "cells": [
  {
   "cell_type": "markdown",
   "metadata": {},
   "source": [
    "## Bài 2\n",
    "Một tổng đài bưu điện có các cuộc điện thoại gọi đến xuất hiện ngẫu nhiên, độc lập với nhau và có tốc độ trung bình 2 cuộc gọi trong 1 phút. Sử dụng mô phỏng Monte Carlo để tính xấp xỉ các xác suất sau\n",
    "1. Xác suất có đúng 5 cuộc điện thoại trong 2 phút,\n",
    "2. Xác suất không có cuộc điện thoại nào trong khoảng thời gian 30 giây,\n",
    "3. Xác suất có ít nhất 1 cuộc điện thoại trong khoảng thời gian 10 giây."
   ]
  },
  {
   "cell_type": "code",
   "execution_count": 1,
   "metadata": {},
   "outputs": [],
   "source": [
    "import math\n",
    "import numpy as np\n",
    "import pandas as pd\n",
    "import matplotlib.pyplot as plt\n",
    "from scipy import random"
   ]
  },
  {
   "cell_type": "markdown",
   "metadata": {},
   "source": [
    "# Sửng dụng Phương Pháp Biến Đổi Ngược (inverse transform method) trong Phương pháp mô phỏng Monte Carlo"
   ]
  },
  {
   "cell_type": "markdown",
   "metadata": {},
   "source": [
    "## 1. Xác suất có đúng 5 cuộc điện thoại trong 2 phút\n",
    "pi = P(X = i) = (lamda**i / i!)*e**(-lamda)\n",
    "lamda = 4 và X = 5"
   ]
  },
  {
   "cell_type": "code",
   "execution_count": 2,
   "metadata": {},
   "outputs": [
    {
     "data": {
      "text/plain": [
       "0.15629345185053173"
      ]
     },
     "execution_count": 2,
     "metadata": {},
     "output_type": "execute_result"
    }
   ],
   "source": [
    "(4**5/math.factorial(5)) * math.e**(-4)"
   ]
  },
  {
   "cell_type": "markdown",
   "metadata": {},
   "source": [
    "## 2. Xác suất không có cuộc điện thoại nào trong khoảng thời gian 30 giây,\n",
    "pi = P(X = i) = (lamda**i / i!)*e**(-lamda)\n",
    "lamda = 1 và X = 0"
   ]
  },
  {
   "cell_type": "code",
   "execution_count": 3,
   "metadata": {},
   "outputs": [
    {
     "data": {
      "text/plain": [
       "0.36787944117144233"
      ]
     },
     "execution_count": 3,
     "metadata": {},
     "output_type": "execute_result"
    }
   ],
   "source": [
    "(1**0/math.factorial(0)) * math.e**(-1)"
   ]
  },
  {
   "cell_type": "markdown",
   "metadata": {},
   "source": [
    "## 3. Xác suất có ít nhất 1 cuộc điện thoại trong khoảng thời gian 10 giây\n",
    "pi = P(X = i) = (lamda**i / i!)*e**(-lamda)\n",
    "lamda = 1/3 và X >= 1\n",
    "=> P(X>=1) = 1 - P(X=0)"
   ]
  },
  {
   "cell_type": "code",
   "execution_count": 4,
   "metadata": {},
   "outputs": [
    {
     "data": {
      "text/plain": [
       "0.28346868942621073"
      ]
     },
     "execution_count": 4,
     "metadata": {},
     "output_type": "execute_result"
    }
   ],
   "source": [
    "1 - math.e**(-1/3)"
   ]
  }
 ],
 "metadata": {
  "kernelspec": {
   "display_name": "Python 3.10.4 64-bit",
   "language": "python",
   "name": "python3"
  },
  "language_info": {
   "codemirror_mode": {
    "name": "ipython",
    "version": 3
   },
   "file_extension": ".py",
   "mimetype": "text/x-python",
   "name": "python",
   "nbconvert_exporter": "python",
   "pygments_lexer": "ipython3",
   "version": "3.10.4"
  },
  "orig_nbformat": 4,
  "vscode": {
   "interpreter": {
    "hash": "07e897f1fb732b6be0064486d563e14743e4fa08e77cc15a01354b67c547d405"
   }
  }
 },
 "nbformat": 4,
 "nbformat_minor": 2
}
