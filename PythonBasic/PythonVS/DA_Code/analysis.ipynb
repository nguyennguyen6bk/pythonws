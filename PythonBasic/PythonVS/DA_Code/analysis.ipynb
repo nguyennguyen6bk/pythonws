{
 "cells": [
  {
   "cell_type": "code",
   "execution_count": 1,
   "metadata": {},
   "outputs": [],
   "source": [
    "import pandas as pd\n",
    "import numpy as np\n",
    "import matplotlib.pyplot as plt\n",
    "import plotly.express as px\n",
    "import plotly.graph_objects as go\n",
    "\n",
    "from PIL import Image\n",
    "from sklearn.metrics import mean_squared_error\n",
    "from pmdarima.arima import auto_arima\n",
    "from statsmodels.tsa.api import Holt, SimpleExpSmoothing, ExponentialSmoothing\n",
    "from statsmodels.tsa.seasonal import seasonal_decompose\n",
    "from statsmodels.tsa.arima.model import ARIMA"
   ]
  },
  {
   "cell_type": "code",
   "execution_count": null,
   "metadata": {},
   "outputs": [],
   "source": []
  },
  {
   "cell_type": "markdown",
   "metadata": {},
   "source": [
    "# Story 1"
   ]
  },
  {
   "cell_type": "code",
   "execution_count": 2,
   "metadata": {},
   "outputs": [
    {
     "data": {
      "text/html": [
       "<div>\n",
       "<style scoped>\n",
       "    .dataframe tbody tr th:only-of-type {\n",
       "        vertical-align: middle;\n",
       "    }\n",
       "\n",
       "    .dataframe tbody tr th {\n",
       "        vertical-align: top;\n",
       "    }\n",
       "\n",
       "    .dataframe thead th {\n",
       "        text-align: right;\n",
       "    }\n",
       "</style>\n",
       "<table border=\"1\" class=\"dataframe\">\n",
       "  <thead>\n",
       "    <tr style=\"text-align: right;\">\n",
       "      <th></th>\n",
       "      <th>id</th>\n",
       "      <th>name</th>\n",
       "      <th>population</th>\n",
       "      <th>new_case</th>\n",
       "      <th>new_death</th>\n",
       "      <th>new_recovered</th>\n",
       "      <th>new_active</th>\n",
       "      <th>total_case</th>\n",
       "      <th>total_death</th>\n",
       "      <th>total_active</th>\n",
       "      <th>total_recovered</th>\n",
       "      <th>death_yesterday</th>\n",
       "      <th>case_yesterday</th>\n",
       "      <th>recovered_yesterday</th>\n",
       "      <th>death_average_7days</th>\n",
       "      <th>case_average_7days</th>\n",
       "      <th>percent_case_population</th>\n",
       "      <th>last_updated</th>\n",
       "    </tr>\n",
       "  </thead>\n",
       "  <tbody>\n",
       "    <tr>\n",
       "      <th>0</th>\n",
       "      <td>1</td>\n",
       "      <td>Hà Nội</td>\n",
       "      <td>8053664</td>\n",
       "      <td>0</td>\n",
       "      <td>0</td>\n",
       "      <td>0</td>\n",
       "      <td>0</td>\n",
       "      <td>1608652</td>\n",
       "      <td>1221</td>\n",
       "      <td>0</td>\n",
       "      <td>0</td>\n",
       "      <td>0</td>\n",
       "      <td>297</td>\n",
       "      <td>0</td>\n",
       "      <td>0.0</td>\n",
       "      <td>150.71</td>\n",
       "      <td>19.974163</td>\n",
       "      <td>14/07/2022 16:46:35</td>\n",
       "    </tr>\n",
       "    <tr>\n",
       "      <th>1</th>\n",
       "      <td>2</td>\n",
       "      <td>TP HCM</td>\n",
       "      <td>8993082</td>\n",
       "      <td>0</td>\n",
       "      <td>0</td>\n",
       "      <td>0</td>\n",
       "      <td>0</td>\n",
       "      <td>612386</td>\n",
       "      <td>19984</td>\n",
       "      <td>0</td>\n",
       "      <td>0</td>\n",
       "      <td>0</td>\n",
       "      <td>82</td>\n",
       "      <td>0</td>\n",
       "      <td>0.0</td>\n",
       "      <td>44.86</td>\n",
       "      <td>6.809523</td>\n",
       "      <td>14/07/2022 16:46:35</td>\n",
       "    </tr>\n",
       "    <tr>\n",
       "      <th>2</th>\n",
       "      <td>28</td>\n",
       "      <td>Thanh Hóa</td>\n",
       "      <td>3640128</td>\n",
       "      <td>0</td>\n",
       "      <td>0</td>\n",
       "      <td>0</td>\n",
       "      <td>0</td>\n",
       "      <td>167957</td>\n",
       "      <td>107</td>\n",
       "      <td>0</td>\n",
       "      <td>0</td>\n",
       "      <td>0</td>\n",
       "      <td>33</td>\n",
       "      <td>0</td>\n",
       "      <td>0.0</td>\n",
       "      <td>22.57</td>\n",
       "      <td>4.614041</td>\n",
       "      <td>14/07/2022 16:46:35</td>\n",
       "    </tr>\n",
       "    <tr>\n",
       "      <th>3</th>\n",
       "      <td>29</td>\n",
       "      <td>Nghệ An</td>\n",
       "      <td>3327791</td>\n",
       "      <td>0</td>\n",
       "      <td>0</td>\n",
       "      <td>0</td>\n",
       "      <td>0</td>\n",
       "      <td>486217</td>\n",
       "      <td>145</td>\n",
       "      <td>0</td>\n",
       "      <td>0</td>\n",
       "      <td>0</td>\n",
       "      <td>75</td>\n",
       "      <td>0</td>\n",
       "      <td>0.0</td>\n",
       "      <td>30.86</td>\n",
       "      <td>14.610803</td>\n",
       "      <td>14/07/2022 16:46:35</td>\n",
       "    </tr>\n",
       "    <tr>\n",
       "      <th>4</th>\n",
       "      <td>48</td>\n",
       "      <td>Đồng Nai</td>\n",
       "      <td>3097107</td>\n",
       "      <td>0</td>\n",
       "      <td>0</td>\n",
       "      <td>0</td>\n",
       "      <td>0</td>\n",
       "      <td>106669</td>\n",
       "      <td>1900</td>\n",
       "      <td>0</td>\n",
       "      <td>0</td>\n",
       "      <td>0</td>\n",
       "      <td>3</td>\n",
       "      <td>0</td>\n",
       "      <td>0.0</td>\n",
       "      <td>1.71</td>\n",
       "      <td>3.444150</td>\n",
       "      <td>14/07/2022 16:46:35</td>\n",
       "    </tr>\n",
       "    <tr>\n",
       "      <th>...</th>\n",
       "      <td>...</td>\n",
       "      <td>...</td>\n",
       "      <td>...</td>\n",
       "      <td>...</td>\n",
       "      <td>...</td>\n",
       "      <td>...</td>\n",
       "      <td>...</td>\n",
       "      <td>...</td>\n",
       "      <td>...</td>\n",
       "      <td>...</td>\n",
       "      <td>...</td>\n",
       "      <td>...</td>\n",
       "      <td>...</td>\n",
       "      <td>...</td>\n",
       "      <td>...</td>\n",
       "      <td>...</td>\n",
       "      <td>...</td>\n",
       "      <td>...</td>\n",
       "    </tr>\n",
       "    <tr>\n",
       "      <th>58</th>\n",
       "      <td>45</td>\n",
       "      <td>Ninh Thuận</td>\n",
       "      <td>590467</td>\n",
       "      <td>0</td>\n",
       "      <td>0</td>\n",
       "      <td>0</td>\n",
       "      <td>0</td>\n",
       "      <td>8699</td>\n",
       "      <td>60</td>\n",
       "      <td>0</td>\n",
       "      <td>0</td>\n",
       "      <td>0</td>\n",
       "      <td>2</td>\n",
       "      <td>0</td>\n",
       "      <td>0.0</td>\n",
       "      <td>0.29</td>\n",
       "      <td>1.473241</td>\n",
       "      <td>14/07/2022 16:46:35</td>\n",
       "    </tr>\n",
       "    <tr>\n",
       "      <th>59</th>\n",
       "      <td>36</td>\n",
       "      <td>Kon Tum</td>\n",
       "      <td>540438</td>\n",
       "      <td>0</td>\n",
       "      <td>0</td>\n",
       "      <td>0</td>\n",
       "      <td>0</td>\n",
       "      <td>26139</td>\n",
       "      <td>1</td>\n",
       "      <td>0</td>\n",
       "      <td>0</td>\n",
       "      <td>0</td>\n",
       "      <td>0</td>\n",
       "      <td>0</td>\n",
       "      <td>0.0</td>\n",
       "      <td>0.00</td>\n",
       "      <td>4.836633</td>\n",
       "      <td>14/07/2022 16:46:35</td>\n",
       "    </tr>\n",
       "    <tr>\n",
       "      <th>60</th>\n",
       "      <td>6</td>\n",
       "      <td>Cao Bằng</td>\n",
       "      <td>530341</td>\n",
       "      <td>0</td>\n",
       "      <td>0</td>\n",
       "      <td>0</td>\n",
       "      <td>0</td>\n",
       "      <td>95608</td>\n",
       "      <td>57</td>\n",
       "      <td>0</td>\n",
       "      <td>0</td>\n",
       "      <td>0</td>\n",
       "      <td>6</td>\n",
       "      <td>0</td>\n",
       "      <td>0.0</td>\n",
       "      <td>4.71</td>\n",
       "      <td>18.027646</td>\n",
       "      <td>14/07/2022 16:46:35</td>\n",
       "    </tr>\n",
       "    <tr>\n",
       "      <th>61</th>\n",
       "      <td>7</td>\n",
       "      <td>Lai Châu</td>\n",
       "      <td>460196</td>\n",
       "      <td>0</td>\n",
       "      <td>0</td>\n",
       "      <td>0</td>\n",
       "      <td>0</td>\n",
       "      <td>74060</td>\n",
       "      <td>0</td>\n",
       "      <td>0</td>\n",
       "      <td>0</td>\n",
       "      <td>0</td>\n",
       "      <td>11</td>\n",
       "      <td>0</td>\n",
       "      <td>0.0</td>\n",
       "      <td>5.57</td>\n",
       "      <td>16.093143</td>\n",
       "      <td>14/07/2022 16:46:35</td>\n",
       "    </tr>\n",
       "    <tr>\n",
       "      <th>62</th>\n",
       "      <td>11</td>\n",
       "      <td>Bắc Kạn</td>\n",
       "      <td>313905</td>\n",
       "      <td>0</td>\n",
       "      <td>0</td>\n",
       "      <td>0</td>\n",
       "      <td>0</td>\n",
       "      <td>74617</td>\n",
       "      <td>28</td>\n",
       "      <td>0</td>\n",
       "      <td>0</td>\n",
       "      <td>0</td>\n",
       "      <td>9</td>\n",
       "      <td>0</td>\n",
       "      <td>0.0</td>\n",
       "      <td>8.00</td>\n",
       "      <td>23.770568</td>\n",
       "      <td>14/07/2022 16:46:35</td>\n",
       "    </tr>\n",
       "  </tbody>\n",
       "</table>\n",
       "<p>63 rows × 18 columns</p>\n",
       "</div>"
      ],
      "text/plain": [
       "    id        name  population  new_case  new_death  new_recovered  \\\n",
       "0    1      Hà Nội     8053664         0          0              0   \n",
       "1    2      TP HCM     8993082         0          0              0   \n",
       "2   28   Thanh Hóa     3640128         0          0              0   \n",
       "3   29     Nghệ An     3327791         0          0              0   \n",
       "4   48    Đồng Nai     3097107         0          0              0   \n",
       "..  ..         ...         ...       ...        ...            ...   \n",
       "58  45  Ninh Thuận      590467         0          0              0   \n",
       "59  36     Kon Tum      540438         0          0              0   \n",
       "60   6    Cao Bằng      530341         0          0              0   \n",
       "61   7    Lai Châu      460196         0          0              0   \n",
       "62  11     Bắc Kạn      313905         0          0              0   \n",
       "\n",
       "    new_active  total_case  total_death  total_active  total_recovered  \\\n",
       "0            0     1608652         1221             0                0   \n",
       "1            0      612386        19984             0                0   \n",
       "2            0      167957          107             0                0   \n",
       "3            0      486217          145             0                0   \n",
       "4            0      106669         1900             0                0   \n",
       "..         ...         ...          ...           ...              ...   \n",
       "58           0        8699           60             0                0   \n",
       "59           0       26139            1             0                0   \n",
       "60           0       95608           57             0                0   \n",
       "61           0       74060            0             0                0   \n",
       "62           0       74617           28             0                0   \n",
       "\n",
       "    death_yesterday  case_yesterday  recovered_yesterday  death_average_7days  \\\n",
       "0                 0             297                    0                  0.0   \n",
       "1                 0              82                    0                  0.0   \n",
       "2                 0              33                    0                  0.0   \n",
       "3                 0              75                    0                  0.0   \n",
       "4                 0               3                    0                  0.0   \n",
       "..              ...             ...                  ...                  ...   \n",
       "58                0               2                    0                  0.0   \n",
       "59                0               0                    0                  0.0   \n",
       "60                0               6                    0                  0.0   \n",
       "61                0              11                    0                  0.0   \n",
       "62                0               9                    0                  0.0   \n",
       "\n",
       "    case_average_7days  percent_case_population         last_updated  \n",
       "0               150.71                19.974163  14/07/2022 16:46:35  \n",
       "1                44.86                 6.809523  14/07/2022 16:46:35  \n",
       "2                22.57                 4.614041  14/07/2022 16:46:35  \n",
       "3                30.86                14.610803  14/07/2022 16:46:35  \n",
       "4                 1.71                 3.444150  14/07/2022 16:46:35  \n",
       "..                 ...                      ...                  ...  \n",
       "58                0.29                 1.473241  14/07/2022 16:46:35  \n",
       "59                0.00                 4.836633  14/07/2022 16:46:35  \n",
       "60                4.71                18.027646  14/07/2022 16:46:35  \n",
       "61                5.57                16.093143  14/07/2022 16:46:35  \n",
       "62                8.00                23.770568  14/07/2022 16:46:35  \n",
       "\n",
       "[63 rows x 18 columns]"
      ]
     },
     "execution_count": 2,
     "metadata": {},
     "output_type": "execute_result"
    }
   ],
   "source": [
    "df = pd.read_csv(\"Data/BieuDoTheoTinh.csv\")\n",
    "df"
   ]
  },
  {
   "cell_type": "code",
   "execution_count": 3,
   "metadata": {},
   "outputs": [
    {
     "data": {
      "application/vnd.plotly.v1+json": {
       "config": {
        "plotlyServerURL": "https://plot.ly"
       },
       "data": [
        {
         "hovertemplate": "name=Hà Nội<br>total_case=%{x}<br>total_death=%{y}<br>population=%{marker.size}<extra></extra>",
         "legendgroup": "Hà Nội",
         "marker": {
          "color": "#636efa",
          "size": [
           8053664
          ],
          "sizemode": "area",
          "sizeref": 22482.705,
          "symbol": "circle"
         },
         "mode": "markers",
         "name": "Hà Nội",
         "orientation": "v",
         "showlegend": true,
         "type": "scatter",
         "x": [
          1608652
         ],
         "xaxis": "x",
         "y": [
          1221
         ],
         "yaxis": "y"
        },
        {
         "hovertemplate": "name=TP HCM<br>total_case=%{x}<br>total_death=%{y}<br>population=%{marker.size}<extra></extra>",
         "legendgroup": "TP HCM",
         "marker": {
          "color": "#EF553B",
          "size": [
           8993082
          ],
          "sizemode": "area",
          "sizeref": 22482.705,
          "symbol": "circle"
         },
         "mode": "markers",
         "name": "TP HCM",
         "orientation": "v",
         "showlegend": true,
         "type": "scatter",
         "x": [
          612386
         ],
         "xaxis": "x",
         "y": [
          19984
         ],
         "yaxis": "y"
        },
        {
         "hovertemplate": "name=Thanh Hóa<br>total_case=%{x}<br>total_death=%{y}<br>population=%{marker.size}<extra></extra>",
         "legendgroup": "Thanh Hóa",
         "marker": {
          "color": "#00cc96",
          "size": [
           3640128
          ],
          "sizemode": "area",
          "sizeref": 22482.705,
          "symbol": "circle"
         },
         "mode": "markers",
         "name": "Thanh Hóa",
         "orientation": "v",
         "showlegend": true,
         "type": "scatter",
         "x": [
          167957
         ],
         "xaxis": "x",
         "y": [
          107
         ],
         "yaxis": "y"
        },
        {
         "hovertemplate": "name=Nghệ An<br>total_case=%{x}<br>total_death=%{y}<br>population=%{marker.size}<extra></extra>",
         "legendgroup": "Nghệ An",
         "marker": {
          "color": "#ab63fa",
          "size": [
           3327791
          ],
          "sizemode": "area",
          "sizeref": 22482.705,
          "symbol": "circle"
         },
         "mode": "markers",
         "name": "Nghệ An",
         "orientation": "v",
         "showlegend": true,
         "type": "scatter",
         "x": [
          486217
         ],
         "xaxis": "x",
         "y": [
          145
         ],
         "yaxis": "y"
        },
        {
         "hovertemplate": "name=Đồng Nai<br>total_case=%{x}<br>total_death=%{y}<br>population=%{marker.size}<extra></extra>",
         "legendgroup": "Đồng Nai",
         "marker": {
          "color": "#FFA15A",
          "size": [
           3097107
          ],
          "sizemode": "area",
          "sizeref": 22482.705,
          "symbol": "circle"
         },
         "mode": "markers",
         "name": "Đồng Nai",
         "orientation": "v",
         "showlegend": true,
         "type": "scatter",
         "x": [
          106669
         ],
         "xaxis": "x",
         "y": [
          1900
         ],
         "yaxis": "y"
        },
        {
         "hovertemplate": "name=Bình Dương<br>total_case=%{x}<br>total_death=%{y}<br>population=%{marker.size}<extra></extra>",
         "legendgroup": "Bình Dương",
         "marker": {
          "color": "#19d3f3",
          "size": [
           2426561
          ],
          "sizemode": "area",
          "sizeref": 22482.705,
          "symbol": "circle"
         },
         "mode": "markers",
         "name": "Bình Dương",
         "orientation": "v",
         "showlegend": true,
         "type": "scatter",
         "x": [
          320961
         ],
         "xaxis": "x",
         "y": [
          3518
         ],
         "yaxis": "y"
        },
        {
         "hovertemplate": "name=An Giang<br>total_case=%{x}<br>total_death=%{y}<br>population=%{marker.size}<extra></extra>",
         "legendgroup": "An Giang",
         "marker": {
          "color": "#FF6692",
          "size": [
           1908352
          ],
          "sizemode": "area",
          "sizeref": 22482.705,
          "symbol": "circle"
         },
         "mode": "markers",
         "name": "An Giang",
         "orientation": "v",
         "showlegend": true,
         "type": "scatter",
         "x": [
          42246
         ],
         "xaxis": "x",
         "y": [
          1321
         ],
         "yaxis": "y"
        },
        {
         "hovertemplate": "name=Hải Dương<br>total_case=%{x}<br>total_death=%{y}<br>population=%{marker.size}<extra></extra>",
         "legendgroup": "Hải Dương",
         "marker": {
          "color": "#B6E880",
          "size": [
           1892254
          ],
          "sizemode": "area",
          "sizeref": 22482.705,
          "symbol": "circle"
         },
         "mode": "markers",
         "name": "Hải Dương",
         "orientation": "v",
         "showlegend": true,
         "type": "scatter",
         "x": [
          363926
         ],
         "xaxis": "x",
         "y": [
          114
         ],
         "yaxis": "y"
        },
        {
         "hovertemplate": "name=Đắk Lắk<br>total_case=%{x}<br>total_death=%{y}<br>population=%{marker.size}<extra></extra>",
         "legendgroup": "Đắk Lắk",
         "marker": {
          "color": "#FF97FF",
          "size": [
           1869322
          ],
          "sizemode": "area",
          "sizeref": 22482.705,
          "symbol": "circle"
         },
         "mode": "markers",
         "name": "Đắk Lắk",
         "orientation": "v",
         "showlegend": true,
         "type": "scatter",
         "x": [
          170585
         ],
         "xaxis": "x",
         "y": [
          201
         ],
         "yaxis": "y"
        },
        {
         "hovertemplate": "name=Thái Bình<br>total_case=%{x}<br>total_death=%{y}<br>population=%{marker.size}<extra></extra>",
         "legendgroup": "Thái Bình",
         "marker": {
          "color": "#FECB52",
          "size": [
           1860447
          ],
          "sizemode": "area",
          "sizeref": 22482.705,
          "symbol": "circle"
         },
         "mode": "markers",
         "name": "Thái Bình",
         "orientation": "v",
         "showlegend": true,
         "type": "scatter",
         "x": [
          292948
         ],
         "xaxis": "x",
         "y": [
          23
         ],
         "yaxis": "y"
        },
        {
         "hovertemplate": "name=Hải Phòng<br>total_case=%{x}<br>total_death=%{y}<br>population=%{marker.size}<extra></extra>",
         "legendgroup": "Hải Phòng",
         "marker": {
          "color": "#636efa",
          "size": [
           1837173
          ],
          "sizemode": "area",
          "sizeref": 22482.705,
          "symbol": "circle"
         },
         "mode": "markers",
         "name": "Hải Phòng",
         "orientation": "v",
         "showlegend": true,
         "type": "scatter",
         "x": [
          120668
         ],
         "xaxis": "x",
         "y": [
          135
         ],
         "yaxis": "y"
        },
        {
         "hovertemplate": "name=Bắc Giang<br>total_case=%{x}<br>total_death=%{y}<br>population=%{marker.size}<extra></extra>",
         "legendgroup": "Bắc Giang",
         "marker": {
          "color": "#EF553B",
          "size": [
           1803950
          ],
          "sizemode": "area",
          "sizeref": 22482.705,
          "symbol": "circle"
         },
         "mode": "markers",
         "name": "Bắc Giang",
         "orientation": "v",
         "showlegend": true,
         "type": "scatter",
         "x": [
          387812
         ],
         "xaxis": "x",
         "y": [
          91
         ],
         "yaxis": "y"
        },
        {
         "hovertemplate": "name=Nam Định<br>total_case=%{x}<br>total_death=%{y}<br>population=%{marker.size}<extra></extra>",
         "legendgroup": "Nam Định",
         "marker": {
          "color": "#00cc96",
          "size": [
           1780393
          ],
          "sizemode": "area",
          "sizeref": 22482.705,
          "symbol": "circle"
         },
         "mode": "markers",
         "name": "Nam Định",
         "orientation": "v",
         "showlegend": true,
         "type": "scatter",
         "x": [
          296155
         ],
         "xaxis": "x",
         "y": [
          149
         ],
         "yaxis": "y"
        },
        {
         "hovertemplate": "name=Tiền Giang<br>total_case=%{x}<br>total_death=%{y}<br>population=%{marker.size}<extra></extra>",
         "legendgroup": "Tiền Giang",
         "marker": {
          "color": "#ab63fa",
          "size": [
           1764185
          ],
          "sizemode": "area",
          "sizeref": 22482.705,
          "symbol": "circle"
         },
         "mode": "markers",
         "name": "Tiền Giang",
         "orientation": "v",
         "showlegend": true,
         "type": "scatter",
         "x": [
          36212
         ],
         "xaxis": "x",
         "y": [
          1290
         ],
         "yaxis": "y"
        },
        {
         "hovertemplate": "name=Kiên Giang<br>total_case=%{x}<br>total_death=%{y}<br>population=%{marker.size}<extra></extra>",
         "legendgroup": "Kiên Giang",
         "marker": {
          "color": "#FFA15A",
          "size": [
           1723067
          ],
          "sizemode": "area",
          "sizeref": 22482.705,
          "symbol": "circle"
         },
         "mode": "markers",
         "name": "Kiên Giang",
         "orientation": "v",
         "showlegend": true,
         "type": "scatter",
         "x": [
          39799
         ],
         "xaxis": "x",
         "y": [
          1027
         ],
         "yaxis": "y"
        },
        {
         "hovertemplate": "name=Long An<br>total_case=%{x}<br>total_death=%{y}<br>population=%{marker.size}<extra></extra>",
         "legendgroup": "Long An",
         "marker": {
          "color": "#19d3f3",
          "size": [
           1688547
          ],
          "sizemode": "area",
          "sizeref": 22482.705,
          "symbol": "circle"
         },
         "mode": "markers",
         "name": "Long An",
         "orientation": "v",
         "showlegend": true,
         "type": "scatter",
         "x": [
          48994
         ],
         "xaxis": "x",
         "y": [
          1088
         ],
         "yaxis": "y"
        },
        {
         "hovertemplate": "name=Đồng Tháp<br>total_case=%{x}<br>total_death=%{y}<br>population=%{marker.size}<extra></extra>",
         "legendgroup": "Đồng Tháp",
         "marker": {
          "color": "#FF6692",
          "size": [
           1599504
          ],
          "sizemode": "area",
          "sizeref": 22482.705,
          "symbol": "circle"
         },
         "mode": "markers",
         "name": "Đồng Tháp",
         "orientation": "v",
         "showlegend": true,
         "type": "scatter",
         "x": [
          50663
         ],
         "xaxis": "x",
         "y": [
          1007
         ],
         "yaxis": "y"
        },
        {
         "hovertemplate": "name=Gia Lai<br>total_case=%{x}<br>total_death=%{y}<br>population=%{marker.size}<extra></extra>",
         "legendgroup": "Gia Lai",
         "marker": {
          "color": "#B6E880",
          "size": [
           1513847
          ],
          "sizemode": "area",
          "sizeref": 22482.705,
          "symbol": "circle"
         },
         "mode": "markers",
         "name": "Gia Lai",
         "orientation": "v",
         "showlegend": true,
         "type": "scatter",
         "x": [
          69571
         ],
         "xaxis": "x",
         "y": [
          116
         ],
         "yaxis": "y"
        },
        {
         "hovertemplate": "name=Quảng Nam<br>total_case=%{x}<br>total_death=%{y}<br>population=%{marker.size}<extra></extra>",
         "legendgroup": "Quảng Nam",
         "marker": {
          "color": "#FF97FF",
          "size": [
           1495812
          ],
          "sizemode": "area",
          "sizeref": 22482.705,
          "symbol": "circle"
         },
         "mode": "markers",
         "name": "Quảng Nam",
         "orientation": "v",
         "showlegend": true,
         "type": "scatter",
         "x": [
          49226
         ],
         "xaxis": "x",
         "y": [
          150
         ],
         "yaxis": "y"
        },
        {
         "hovertemplate": "name=Bình Định<br>total_case=%{x}<br>total_death=%{y}<br>population=%{marker.size}<extra></extra>",
         "legendgroup": "Bình Định",
         "marker": {
          "color": "#FECB52",
          "size": [
           1486918
          ],
          "sizemode": "area",
          "sizeref": 22482.705,
          "symbol": "circle"
         },
         "mode": "markers",
         "name": "Bình Định",
         "orientation": "v",
         "showlegend": true,
         "type": "scatter",
         "x": [
          137124
         ],
         "xaxis": "x",
         "y": [
          281
         ],
         "yaxis": "y"
        },
        {
         "hovertemplate": "name=Phú Thọ<br>total_case=%{x}<br>total_death=%{y}<br>population=%{marker.size}<extra></extra>",
         "legendgroup": "Phú Thọ",
         "marker": {
          "color": "#636efa",
          "size": [
           1463726
          ],
          "sizemode": "area",
          "sizeref": 22482.705,
          "symbol": "circle"
         },
         "mode": "markers",
         "name": "Phú Thọ",
         "orientation": "v",
         "showlegend": true,
         "type": "scatter",
         "x": [
          322144
         ],
         "xaxis": "x",
         "y": [
          97
         ],
         "yaxis": "y"
        },
        {
         "hovertemplate": "name=Bắc Ninh<br>total_case=%{x}<br>total_death=%{y}<br>population=%{marker.size}<extra></extra>",
         "legendgroup": "Bắc Ninh",
         "marker": {
          "color": "#EF553B",
          "size": [
           1368840
          ],
          "sizemode": "area",
          "sizeref": 22482.705,
          "symbol": "circle"
         },
         "mode": "markers",
         "name": "Bắc Ninh",
         "orientation": "v",
         "showlegend": true,
         "type": "scatter",
         "x": [
          345425
         ],
         "xaxis": "x",
         "y": [
          136
         ],
         "yaxis": "y"
        },
        {
         "hovertemplate": "name=Quảng Ninh<br>total_case=%{x}<br>total_death=%{y}<br>population=%{marker.size}<extra></extra>",
         "legendgroup": "Quảng Ninh",
         "marker": {
          "color": "#00cc96",
          "size": [
           1320324
          ],
          "sizemode": "area",
          "sizeref": 22482.705,
          "symbol": "circle"
         },
         "mode": "markers",
         "name": "Quảng Ninh",
         "orientation": "v",
         "showlegend": true,
         "type": "scatter",
         "x": [
          349695
         ],
         "xaxis": "x",
         "y": [
          141
         ],
         "yaxis": "y"
        },
        {
         "hovertemplate": "name=Lâm Đồng<br>total_case=%{x}<br>total_death=%{y}<br>population=%{marker.size}<extra></extra>",
         "legendgroup": "Lâm Đồng",
         "marker": {
          "color": "#ab63fa",
          "size": [
           1296606
          ],
          "sizemode": "area",
          "sizeref": 22482.705,
          "symbol": "circle"
         },
         "mode": "markers",
         "name": "Lâm Đồng",
         "orientation": "v",
         "showlegend": true,
         "type": "scatter",
         "x": [
          92251
         ],
         "xaxis": "x",
         "y": [
          141
         ],
         "yaxis": "y"
        },
        {
         "hovertemplate": "name=Hà Tĩnh<br>total_case=%{x}<br>total_death=%{y}<br>population=%{marker.size}<extra></extra>",
         "legendgroup": "Hà Tĩnh",
         "marker": {
          "color": "#FFA15A",
          "size": [
           1288866
          ],
          "sizemode": "area",
          "sizeref": 22482.705,
          "symbol": "circle"
         },
         "mode": "markers",
         "name": "Hà Tĩnh",
         "orientation": "v",
         "showlegend": true,
         "type": "scatter",
         "x": [
          50414
         ],
         "xaxis": "x",
         "y": [
          50
         ],
         "yaxis": "y"
        },
        {
         "hovertemplate": "name=Bến Tre<br>total_case=%{x}<br>total_death=%{y}<br>population=%{marker.size}<extra></extra>",
         "legendgroup": "Bến Tre",
         "marker": {
          "color": "#19d3f3",
          "size": [
           1288463
          ],
          "sizemode": "area",
          "sizeref": 22482.705,
          "symbol": "circle"
         },
         "mode": "markers",
         "name": "Bến Tre",
         "orientation": "v",
         "showlegend": true,
         "type": "scatter",
         "x": [
          97535
         ],
         "xaxis": "x",
         "y": [
          483
         ],
         "yaxis": "y"
        },
        {
         "hovertemplate": "name=Thái Nguyên<br>total_case=%{x}<br>total_death=%{y}<br>population=%{marker.size}<extra></extra>",
         "legendgroup": "Thái Nguyên",
         "marker": {
          "color": "#FF6692",
          "size": [
           1286751
          ],
          "sizemode": "area",
          "sizeref": 22482.705,
          "symbol": "circle"
         },
         "mode": "markers",
         "name": "Thái Nguyên",
         "orientation": "v",
         "showlegend": true,
         "type": "scatter",
         "x": [
          185990
         ],
         "xaxis": "x",
         "y": [
          110
         ],
         "yaxis": "y"
        },
        {
         "hovertemplate": "name=Hưng Yên<br>total_case=%{x}<br>total_death=%{y}<br>population=%{marker.size}<extra></extra>",
         "legendgroup": "Hưng Yên",
         "marker": {
          "color": "#B6E880",
          "size": [
           1252731
          ],
          "sizemode": "area",
          "sizeref": 22482.705,
          "symbol": "circle"
         },
         "mode": "markers",
         "name": "Hưng Yên",
         "orientation": "v",
         "showlegend": true,
         "type": "scatter",
         "x": [
          240400
         ],
         "xaxis": "x",
         "y": [
          5
         ],
         "yaxis": "y"
        },
        {
         "hovertemplate": "name=Sơn La<br>total_case=%{x}<br>total_death=%{y}<br>population=%{marker.size}<extra></extra>",
         "legendgroup": "Sơn La",
         "marker": {
          "color": "#FF97FF",
          "size": [
           1248415
          ],
          "sizemode": "area",
          "sizeref": 22482.705,
          "symbol": "circle"
         },
         "mode": "markers",
         "name": "Sơn La",
         "orientation": "v",
         "showlegend": true,
         "type": "scatter",
         "x": [
          151021
         ],
         "xaxis": "x",
         "y": [
          0
         ],
         "yaxis": "y"
        },
        {
         "hovertemplate": "name=Cần Thơ<br>total_case=%{x}<br>total_death=%{y}<br>population=%{marker.size}<extra></extra>",
         "legendgroup": "Cần Thơ",
         "marker": {
          "color": "#FECB52",
          "size": [
           1235171
          ],
          "sizemode": "area",
          "sizeref": 22482.705,
          "symbol": "circle"
         },
         "mode": "markers",
         "name": "Cần Thơ",
         "orientation": "v",
         "showlegend": true,
         "type": "scatter",
         "x": [
          76400
         ],
         "xaxis": "x",
         "y": [
          951
         ],
         "yaxis": "y"
        },
        {
         "hovertemplate": "name=Quảng Ngãi<br>total_case=%{x}<br>total_death=%{y}<br>population=%{marker.size}<extra></extra>",
         "legendgroup": "Quảng Ngãi",
         "marker": {
          "color": "#636efa",
          "size": [
           1231697
          ],
          "sizemode": "area",
          "sizeref": 22482.705,
          "symbol": "circle"
         },
         "mode": "markers",
         "name": "Quảng Ngãi",
         "orientation": "v",
         "showlegend": true,
         "type": "scatter",
         "x": [
          47654
         ],
         "xaxis": "x",
         "y": [
          127
         ],
         "yaxis": "y"
        },
        {
         "hovertemplate": "name=Khánh Hòa<br>total_case=%{x}<br>total_death=%{y}<br>population=%{marker.size}<extra></extra>",
         "legendgroup": "Khánh Hòa",
         "marker": {
          "color": "#EF553B",
          "size": [
           1231107
          ],
          "sizemode": "area",
          "sizeref": 22482.705,
          "symbol": "circle"
         },
         "mode": "markers",
         "name": "Khánh Hòa",
         "orientation": "v",
         "showlegend": true,
         "type": "scatter",
         "x": [
          117915
         ],
         "xaxis": "x",
         "y": [
          361
         ],
         "yaxis": "y"
        },
        {
         "hovertemplate": "name=Bình Thuận<br>total_case=%{x}<br>total_death=%{y}<br>population=%{marker.size}<extra></extra>",
         "legendgroup": "Bình Thuận",
         "marker": {
          "color": "#00cc96",
          "size": [
           1230808
          ],
          "sizemode": "area",
          "sizeref": 22482.705,
          "symbol": "circle"
         },
         "mode": "markers",
         "name": "Bình Thuận",
         "orientation": "v",
         "showlegend": true,
         "type": "scatter",
         "x": [
          52526
         ],
         "xaxis": "x",
         "y": [
          477
         ],
         "yaxis": "y"
        },
        {
         "hovertemplate": "name=Sóc Trăng<br>total_case=%{x}<br>total_death=%{y}<br>population=%{marker.size}<extra></extra>",
         "legendgroup": "Sóc Trăng",
         "marker": {
          "color": "#ab63fa",
          "size": [
           1199653
          ],
          "sizemode": "area",
          "sizeref": 22482.705,
          "symbol": "circle"
         },
         "mode": "markers",
         "name": "Sóc Trăng",
         "orientation": "v",
         "showlegend": true,
         "type": "scatter",
         "x": [
          34353
         ],
         "xaxis": "x",
         "y": [
          633
         ],
         "yaxis": "y"
        },
        {
         "hovertemplate": "name=Cà Mau<br>total_case=%{x}<br>total_death=%{y}<br>population=%{marker.size}<extra></extra>",
         "legendgroup": "Cà Mau",
         "marker": {
          "color": "#FFA15A",
          "size": [
           1194476
          ],
          "sizemode": "area",
          "sizeref": 22482.705,
          "symbol": "circle"
         },
         "mode": "markers",
         "name": "Cà Mau",
         "orientation": "v",
         "showlegend": true,
         "type": "scatter",
         "x": [
          145915
         ],
         "xaxis": "x",
         "y": [
          357
         ],
         "yaxis": "y"
        },
        {
         "hovertemplate": "name=Tây Ninh<br>total_case=%{x}<br>total_death=%{y}<br>population=%{marker.size}<extra></extra>",
         "legendgroup": "Tây Ninh",
         "marker": {
          "color": "#19d3f3",
          "size": [
           1169165
          ],
          "sizemode": "area",
          "sizeref": 22482.705,
          "symbol": "circle"
         },
         "mode": "markers",
         "name": "Tây Ninh",
         "orientation": "v",
         "showlegend": true,
         "type": "scatter",
         "x": [
          137774
         ],
         "xaxis": "x",
         "y": [
          918
         ],
         "yaxis": "y"
        },
        {
         "hovertemplate": "name=Vĩnh Phúc<br>total_case=%{x}<br>total_death=%{y}<br>population=%{marker.size}<extra></extra>",
         "legendgroup": "Vĩnh Phúc",
         "marker": {
          "color": "#FF6692",
          "size": [
           1154154
          ],
          "sizemode": "area",
          "sizeref": 22482.705,
          "symbol": "circle"
         },
         "mode": "markers",
         "name": "Vĩnh Phúc",
         "orientation": "v",
         "showlegend": true,
         "type": "scatter",
         "x": [
          369171
         ],
         "xaxis": "x",
         "y": [
          19
         ],
         "yaxis": "y"
        },
        {
         "hovertemplate": "name=Bà Rịa - Vũng Tàu<br>total_case=%{x}<br>total_death=%{y}<br>population=%{marker.size}<extra></extra>",
         "legendgroup": "Bà Rịa - Vũng Tàu",
         "marker": {
          "color": "#B6E880",
          "size": [
           1148313
          ],
          "sizemode": "area",
          "sizeref": 22482.705,
          "symbol": "circle"
         },
         "mode": "markers",
         "name": "Bà Rịa - Vũng Tàu",
         "orientation": "v",
         "showlegend": true,
         "type": "scatter",
         "x": [
          107048
         ],
         "xaxis": "x",
         "y": [
          495
         ],
         "yaxis": "y"
        },
        {
         "hovertemplate": "name=Đà Nẵng<br>total_case=%{x}<br>total_death=%{y}<br>population=%{marker.size}<extra></extra>",
         "legendgroup": "Đà Nẵng",
         "marker": {
          "color": "#FF97FF",
          "size": [
           1134310
          ],
          "sizemode": "area",
          "sizeref": 22482.705,
          "symbol": "circle"
         },
         "mode": "markers",
         "name": "Đà Nẵng",
         "orientation": "v",
         "showlegend": true,
         "type": "scatter",
         "x": [
          99721
         ],
         "xaxis": "x",
         "y": [
          337
         ],
         "yaxis": "y"
        },
        {
         "hovertemplate": "name=Thừa Thiên Huế<br>total_case=%{x}<br>total_death=%{y}<br>population=%{marker.size}<extra></extra>",
         "legendgroup": "Thừa Thiên Huế",
         "marker": {
          "color": "#FECB52",
          "size": [
           1128620
          ],
          "sizemode": "area",
          "sizeref": 22482.705,
          "symbol": "circle"
         },
         "mode": "markers",
         "name": "Thừa Thiên Huế",
         "orientation": "v",
         "showlegend": true,
         "type": "scatter",
         "x": [
          46490
         ],
         "xaxis": "x",
         "y": [
          173
         ],
         "yaxis": "y"
        },
        {
         "hovertemplate": "name=Vĩnh Long<br>total_case=%{x}<br>total_death=%{y}<br>population=%{marker.size}<extra></extra>",
         "legendgroup": "Vĩnh Long",
         "marker": {
          "color": "#636efa",
          "size": [
           1022791
          ],
          "sizemode": "area",
          "sizeref": 22482.705,
          "symbol": "circle"
         },
         "mode": "markers",
         "name": "Vĩnh Long",
         "orientation": "v",
         "showlegend": true,
         "type": "scatter",
         "x": [
          101082
         ],
         "xaxis": "x",
         "y": [
          829
         ],
         "yaxis": "y"
        },
        {
         "hovertemplate": "name=Trà Vinh<br>total_case=%{x}<br>total_death=%{y}<br>population=%{marker.size}<extra></extra>",
         "legendgroup": "Trà Vinh",
         "marker": {
          "color": "#EF553B",
          "size": [
           1009168
          ],
          "sizemode": "area",
          "sizeref": 22482.705,
          "symbol": "circle"
         },
         "mode": "markers",
         "name": "Trà Vinh",
         "orientation": "v",
         "showlegend": true,
         "type": "scatter",
         "x": [
          74656
         ],
         "xaxis": "x",
         "y": [
          115
         ],
         "yaxis": "y"
        },
        {
         "hovertemplate": "name=Bình Phước<br>total_case=%{x}<br>total_death=%{y}<br>population=%{marker.size}<extra></extra>",
         "legendgroup": "Bình Phước",
         "marker": {
          "color": "#00cc96",
          "size": [
           994679
          ],
          "sizemode": "area",
          "sizeref": 22482.705,
          "symbol": "circle"
         },
         "mode": "markers",
         "name": "Bình Phước",
         "orientation": "v",
         "showlegend": true,
         "type": "scatter",
         "x": [
          117447
         ],
         "xaxis": "x",
         "y": [
          224
         ],
         "yaxis": "y"
        },
        {
         "hovertemplate": "name=Ninh Bình<br>total_case=%{x}<br>total_death=%{y}<br>population=%{marker.size}<extra></extra>",
         "legendgroup": "Ninh Bình",
         "marker": {
          "color": "#ab63fa",
          "size": [
           982487
          ],
          "sizemode": "area",
          "sizeref": 22482.705,
          "symbol": "circle"
         },
         "mode": "markers",
         "name": "Ninh Bình",
         "orientation": "v",
         "showlegend": true,
         "type": "scatter",
         "x": [
          99751
         ],
         "xaxis": "x",
         "y": [
          91
         ],
         "yaxis": "y"
        },
        {
         "hovertemplate": "name=Phú Yên<br>total_case=%{x}<br>total_death=%{y}<br>population=%{marker.size}<extra></extra>",
         "legendgroup": "Phú Yên",
         "marker": {
          "color": "#FFA15A",
          "size": [
           961152
          ],
          "sizemode": "area",
          "sizeref": 22482.705,
          "symbol": "circle"
         },
         "mode": "markers",
         "name": "Phú Yên",
         "orientation": "v",
         "showlegend": true,
         "type": "scatter",
         "x": [
          42713
         ],
         "xaxis": "x",
         "y": [
          137
         ],
         "yaxis": "y"
        },
        {
         "hovertemplate": "name=Bạc Liêu<br>total_case=%{x}<br>total_death=%{y}<br>population=%{marker.size}<extra></extra>",
         "legendgroup": "Bạc Liêu",
         "marker": {
          "color": "#19d3f3",
          "size": [
           907236
          ],
          "sizemode": "area",
          "sizeref": 22482.705,
          "symbol": "circle"
         },
         "mode": "markers",
         "name": "Bạc Liêu",
         "orientation": "v",
         "showlegend": true,
         "type": "scatter",
         "x": [
          46461
         ],
         "xaxis": "x",
         "y": [
          470
         ],
         "yaxis": "y"
        },
        {
         "hovertemplate": "name=Quảng Bình<br>total_case=%{x}<br>total_death=%{y}<br>population=%{marker.size}<extra></extra>",
         "legendgroup": "Quảng Bình",
         "marker": {
          "color": "#FF6692",
          "size": [
           895430
          ],
          "sizemode": "area",
          "sizeref": 22482.705,
          "symbol": "circle"
         },
         "mode": "markers",
         "name": "Quảng Bình",
         "orientation": "v",
         "showlegend": true,
         "type": "scatter",
         "x": [
          124400
         ],
         "xaxis": "x",
         "y": [
          74
         ],
         "yaxis": "y"
        },
        {
         "hovertemplate": "name=Hà Giang<br>total_case=%{x}<br>total_death=%{y}<br>population=%{marker.size}<extra></extra>",
         "legendgroup": "Hà Giang",
         "marker": {
          "color": "#B6E880",
          "size": [
           854679
          ],
          "sizemode": "area",
          "sizeref": 22482.705,
          "symbol": "circle"
         },
         "mode": "markers",
         "name": "Hà Giang",
         "orientation": "v",
         "showlegend": true,
         "type": "scatter",
         "x": [
          122210
         ],
         "xaxis": "x",
         "y": [
          80
         ],
         "yaxis": "y"
        },
        {
         "hovertemplate": "name=Hòa Bình<br>total_case=%{x}<br>total_death=%{y}<br>population=%{marker.size}<extra></extra>",
         "legendgroup": "Hòa Bình",
         "marker": {
          "color": "#FF97FF",
          "size": [
           854131
          ],
          "sizemode": "area",
          "sizeref": 22482.705,
          "symbol": "circle"
         },
         "mode": "markers",
         "name": "Hòa Bình",
         "orientation": "v",
         "showlegend": true,
         "type": "scatter",
         "x": [
          236566
         ],
         "xaxis": "x",
         "y": [
          102
         ],
         "yaxis": "y"
        },
        {
         "hovertemplate": "name=Hà Nam<br>total_case=%{x}<br>total_death=%{y}<br>population=%{marker.size}<extra></extra>",
         "legendgroup": "Hà Nam",
         "marker": {
          "color": "#FECB52",
          "size": [
           852800
          ],
          "sizemode": "area",
          "sizeref": 22482.705,
          "symbol": "circle"
         },
         "mode": "markers",
         "name": "Hà Nam",
         "orientation": "v",
         "showlegend": true,
         "type": "scatter",
         "x": [
          85169
         ],
         "xaxis": "x",
         "y": [
          65
         ],
         "yaxis": "y"
        },
        {
         "hovertemplate": "name=Yên Bái<br>total_case=%{x}<br>total_death=%{y}<br>population=%{marker.size}<extra></extra>",
         "legendgroup": "Yên Bái",
         "marker": {
          "color": "#636efa",
          "size": [
           821030
          ],
          "sizemode": "area",
          "sizeref": 22482.705,
          "symbol": "circle"
         },
         "mode": "markers",
         "name": "Yên Bái",
         "orientation": "v",
         "showlegend": true,
         "type": "scatter",
         "x": [
          149468
         ],
         "xaxis": "x",
         "y": [
          13
         ],
         "yaxis": "y"
        },
        {
         "hovertemplate": "name=Tuyên Quang<br>total_case=%{x}<br>total_death=%{y}<br>population=%{marker.size}<extra></extra>",
         "legendgroup": "Tuyên Quang",
         "marker": {
          "color": "#EF553B",
          "size": [
           784811
          ],
          "sizemode": "area",
          "sizeref": 22482.705,
          "symbol": "circle"
         },
         "mode": "markers",
         "name": "Tuyên Quang",
         "orientation": "v",
         "showlegend": true,
         "type": "scatter",
         "x": [
          143362
         ],
         "xaxis": "x",
         "y": [
          14
         ],
         "yaxis": "y"
        },
        {
         "hovertemplate": "name=Lạng Sơn<br>total_case=%{x}<br>total_death=%{y}<br>population=%{marker.size}<extra></extra>",
         "legendgroup": "Lạng Sơn",
         "marker": {
          "color": "#00cc96",
          "size": [
           781655
          ],
          "sizemode": "area",
          "sizeref": 22482.705,
          "symbol": "circle"
         },
         "mode": "markers",
         "name": "Lạng Sơn",
         "orientation": "v",
         "showlegend": true,
         "type": "scatter",
         "x": [
          157028
         ],
         "xaxis": "x",
         "y": [
          84
         ],
         "yaxis": "y"
        },
        {
         "hovertemplate": "name=Hậu Giang<br>total_case=%{x}<br>total_death=%{y}<br>population=%{marker.size}<extra></extra>",
         "legendgroup": "Hậu Giang",
         "marker": {
          "color": "#ab63fa",
          "size": [
           733017
          ],
          "sizemode": "area",
          "sizeref": 22482.705,
          "symbol": "circle"
         },
         "mode": "markers",
         "name": "Hậu Giang",
         "orientation": "v",
         "showlegend": true,
         "type": "scatter",
         "x": [
          17093
         ],
         "xaxis": "x",
         "y": [
          231
         ],
         "yaxis": "y"
        },
        {
         "hovertemplate": "name=Lào Cai<br>total_case=%{x}<br>total_death=%{y}<br>population=%{marker.size}<extra></extra>",
         "legendgroup": "Lào Cai",
         "marker": {
          "color": "#FFA15A",
          "size": [
           730420
          ],
          "sizemode": "area",
          "sizeref": 22482.705,
          "symbol": "circle"
         },
         "mode": "markers",
         "name": "Lào Cai",
         "orientation": "v",
         "showlegend": true,
         "type": "scatter",
         "x": [
          183981
         ],
         "xaxis": "x",
         "y": [
          38
         ],
         "yaxis": "y"
        },
        {
         "hovertemplate": "name=Quảng Trị<br>total_case=%{x}<br>total_death=%{y}<br>population=%{marker.size}<extra></extra>",
         "legendgroup": "Quảng Trị",
         "marker": {
          "color": "#19d3f3",
          "size": [
           632375
          ],
          "sizemode": "area",
          "sizeref": 22482.705,
          "symbol": "circle"
         },
         "mode": "markers",
         "name": "Quảng Trị",
         "orientation": "v",
         "showlegend": true,
         "type": "scatter",
         "x": [
          82053
         ],
         "xaxis": "x",
         "y": [
          38
         ],
         "yaxis": "y"
        },
        {
         "hovertemplate": "name=Đắk Nông<br>total_case=%{x}<br>total_death=%{y}<br>population=%{marker.size}<extra></extra>",
         "legendgroup": "Đắk Nông",
         "marker": {
          "color": "#FF6692",
          "size": [
           622168
          ],
          "sizemode": "area",
          "sizeref": 22482.705,
          "symbol": "circle"
         },
         "mode": "markers",
         "name": "Đắk Nông",
         "orientation": "v",
         "showlegend": true,
         "type": "scatter",
         "x": [
          73031
         ],
         "xaxis": "x",
         "y": [
          47
         ],
         "yaxis": "y"
        },
        {
         "hovertemplate": "name=Điện Biên<br>total_case=%{x}<br>total_death=%{y}<br>population=%{marker.size}<extra></extra>",
         "legendgroup": "Điện Biên",
         "marker": {
          "color": "#B6E880",
          "size": [
           598856
          ],
          "sizemode": "area",
          "sizeref": 22482.705,
          "symbol": "circle"
         },
         "mode": "markers",
         "name": "Điện Biên",
         "orientation": "v",
         "showlegend": true,
         "type": "scatter",
         "x": [
          88373
         ],
         "xaxis": "x",
         "y": [
          20
         ],
         "yaxis": "y"
        },
        {
         "hovertemplate": "name=Ninh Thuận<br>total_case=%{x}<br>total_death=%{y}<br>population=%{marker.size}<extra></extra>",
         "legendgroup": "Ninh Thuận",
         "marker": {
          "color": "#FF97FF",
          "size": [
           590467
          ],
          "sizemode": "area",
          "sizeref": 22482.705,
          "symbol": "circle"
         },
         "mode": "markers",
         "name": "Ninh Thuận",
         "orientation": "v",
         "showlegend": true,
         "type": "scatter",
         "x": [
          8699
         ],
         "xaxis": "x",
         "y": [
          60
         ],
         "yaxis": "y"
        },
        {
         "hovertemplate": "name=Kon Tum<br>total_case=%{x}<br>total_death=%{y}<br>population=%{marker.size}<extra></extra>",
         "legendgroup": "Kon Tum",
         "marker": {
          "color": "#FECB52",
          "size": [
           540438
          ],
          "sizemode": "area",
          "sizeref": 22482.705,
          "symbol": "circle"
         },
         "mode": "markers",
         "name": "Kon Tum",
         "orientation": "v",
         "showlegend": true,
         "type": "scatter",
         "x": [
          26139
         ],
         "xaxis": "x",
         "y": [
          1
         ],
         "yaxis": "y"
        },
        {
         "hovertemplate": "name=Cao Bằng<br>total_case=%{x}<br>total_death=%{y}<br>population=%{marker.size}<extra></extra>",
         "legendgroup": "Cao Bằng",
         "marker": {
          "color": "#636efa",
          "size": [
           530341
          ],
          "sizemode": "area",
          "sizeref": 22482.705,
          "symbol": "circle"
         },
         "mode": "markers",
         "name": "Cao Bằng",
         "orientation": "v",
         "showlegend": true,
         "type": "scatter",
         "x": [
          95608
         ],
         "xaxis": "x",
         "y": [
          57
         ],
         "yaxis": "y"
        },
        {
         "hovertemplate": "name=Lai Châu<br>total_case=%{x}<br>total_death=%{y}<br>population=%{marker.size}<extra></extra>",
         "legendgroup": "Lai Châu",
         "marker": {
          "color": "#EF553B",
          "size": [
           460196
          ],
          "sizemode": "area",
          "sizeref": 22482.705,
          "symbol": "circle"
         },
         "mode": "markers",
         "name": "Lai Châu",
         "orientation": "v",
         "showlegend": true,
         "type": "scatter",
         "x": [
          74060
         ],
         "xaxis": "x",
         "y": [
          0
         ],
         "yaxis": "y"
        },
        {
         "hovertemplate": "name=Bắc Kạn<br>total_case=%{x}<br>total_death=%{y}<br>population=%{marker.size}<extra></extra>",
         "legendgroup": "Bắc Kạn",
         "marker": {
          "color": "#00cc96",
          "size": [
           313905
          ],
          "sizemode": "area",
          "sizeref": 22482.705,
          "symbol": "circle"
         },
         "mode": "markers",
         "name": "Bắc Kạn",
         "orientation": "v",
         "showlegend": true,
         "type": "scatter",
         "x": [
          74617
         ],
         "xaxis": "x",
         "y": [
          28
         ],
         "yaxis": "y"
        }
       ],
       "layout": {
        "legend": {
         "itemsizing": "constant",
         "title": {
          "text": "name"
         },
         "tracegroupgap": 0
        },
        "template": {
         "data": {
          "bar": [
           {
            "error_x": {
             "color": "#2a3f5f"
            },
            "error_y": {
             "color": "#2a3f5f"
            },
            "marker": {
             "line": {
              "color": "#E5ECF6",
              "width": 0.5
             },
             "pattern": {
              "fillmode": "overlay",
              "size": 10,
              "solidity": 0.2
             }
            },
            "type": "bar"
           }
          ],
          "barpolar": [
           {
            "marker": {
             "line": {
              "color": "#E5ECF6",
              "width": 0.5
             },
             "pattern": {
              "fillmode": "overlay",
              "size": 10,
              "solidity": 0.2
             }
            },
            "type": "barpolar"
           }
          ],
          "carpet": [
           {
            "aaxis": {
             "endlinecolor": "#2a3f5f",
             "gridcolor": "white",
             "linecolor": "white",
             "minorgridcolor": "white",
             "startlinecolor": "#2a3f5f"
            },
            "baxis": {
             "endlinecolor": "#2a3f5f",
             "gridcolor": "white",
             "linecolor": "white",
             "minorgridcolor": "white",
             "startlinecolor": "#2a3f5f"
            },
            "type": "carpet"
           }
          ],
          "choropleth": [
           {
            "colorbar": {
             "outlinewidth": 0,
             "ticks": ""
            },
            "type": "choropleth"
           }
          ],
          "contour": [
           {
            "colorbar": {
             "outlinewidth": 0,
             "ticks": ""
            },
            "colorscale": [
             [
              0,
              "#0d0887"
             ],
             [
              0.1111111111111111,
              "#46039f"
             ],
             [
              0.2222222222222222,
              "#7201a8"
             ],
             [
              0.3333333333333333,
              "#9c179e"
             ],
             [
              0.4444444444444444,
              "#bd3786"
             ],
             [
              0.5555555555555556,
              "#d8576b"
             ],
             [
              0.6666666666666666,
              "#ed7953"
             ],
             [
              0.7777777777777778,
              "#fb9f3a"
             ],
             [
              0.8888888888888888,
              "#fdca26"
             ],
             [
              1,
              "#f0f921"
             ]
            ],
            "type": "contour"
           }
          ],
          "contourcarpet": [
           {
            "colorbar": {
             "outlinewidth": 0,
             "ticks": ""
            },
            "type": "contourcarpet"
           }
          ],
          "heatmap": [
           {
            "colorbar": {
             "outlinewidth": 0,
             "ticks": ""
            },
            "colorscale": [
             [
              0,
              "#0d0887"
             ],
             [
              0.1111111111111111,
              "#46039f"
             ],
             [
              0.2222222222222222,
              "#7201a8"
             ],
             [
              0.3333333333333333,
              "#9c179e"
             ],
             [
              0.4444444444444444,
              "#bd3786"
             ],
             [
              0.5555555555555556,
              "#d8576b"
             ],
             [
              0.6666666666666666,
              "#ed7953"
             ],
             [
              0.7777777777777778,
              "#fb9f3a"
             ],
             [
              0.8888888888888888,
              "#fdca26"
             ],
             [
              1,
              "#f0f921"
             ]
            ],
            "type": "heatmap"
           }
          ],
          "heatmapgl": [
           {
            "colorbar": {
             "outlinewidth": 0,
             "ticks": ""
            },
            "colorscale": [
             [
              0,
              "#0d0887"
             ],
             [
              0.1111111111111111,
              "#46039f"
             ],
             [
              0.2222222222222222,
              "#7201a8"
             ],
             [
              0.3333333333333333,
              "#9c179e"
             ],
             [
              0.4444444444444444,
              "#bd3786"
             ],
             [
              0.5555555555555556,
              "#d8576b"
             ],
             [
              0.6666666666666666,
              "#ed7953"
             ],
             [
              0.7777777777777778,
              "#fb9f3a"
             ],
             [
              0.8888888888888888,
              "#fdca26"
             ],
             [
              1,
              "#f0f921"
             ]
            ],
            "type": "heatmapgl"
           }
          ],
          "histogram": [
           {
            "marker": {
             "pattern": {
              "fillmode": "overlay",
              "size": 10,
              "solidity": 0.2
             }
            },
            "type": "histogram"
           }
          ],
          "histogram2d": [
           {
            "colorbar": {
             "outlinewidth": 0,
             "ticks": ""
            },
            "colorscale": [
             [
              0,
              "#0d0887"
             ],
             [
              0.1111111111111111,
              "#46039f"
             ],
             [
              0.2222222222222222,
              "#7201a8"
             ],
             [
              0.3333333333333333,
              "#9c179e"
             ],
             [
              0.4444444444444444,
              "#bd3786"
             ],
             [
              0.5555555555555556,
              "#d8576b"
             ],
             [
              0.6666666666666666,
              "#ed7953"
             ],
             [
              0.7777777777777778,
              "#fb9f3a"
             ],
             [
              0.8888888888888888,
              "#fdca26"
             ],
             [
              1,
              "#f0f921"
             ]
            ],
            "type": "histogram2d"
           }
          ],
          "histogram2dcontour": [
           {
            "colorbar": {
             "outlinewidth": 0,
             "ticks": ""
            },
            "colorscale": [
             [
              0,
              "#0d0887"
             ],
             [
              0.1111111111111111,
              "#46039f"
             ],
             [
              0.2222222222222222,
              "#7201a8"
             ],
             [
              0.3333333333333333,
              "#9c179e"
             ],
             [
              0.4444444444444444,
              "#bd3786"
             ],
             [
              0.5555555555555556,
              "#d8576b"
             ],
             [
              0.6666666666666666,
              "#ed7953"
             ],
             [
              0.7777777777777778,
              "#fb9f3a"
             ],
             [
              0.8888888888888888,
              "#fdca26"
             ],
             [
              1,
              "#f0f921"
             ]
            ],
            "type": "histogram2dcontour"
           }
          ],
          "mesh3d": [
           {
            "colorbar": {
             "outlinewidth": 0,
             "ticks": ""
            },
            "type": "mesh3d"
           }
          ],
          "parcoords": [
           {
            "line": {
             "colorbar": {
              "outlinewidth": 0,
              "ticks": ""
             }
            },
            "type": "parcoords"
           }
          ],
          "pie": [
           {
            "automargin": true,
            "type": "pie"
           }
          ],
          "scatter": [
           {
            "fillpattern": {
             "fillmode": "overlay",
             "size": 10,
             "solidity": 0.2
            },
            "type": "scatter"
           }
          ],
          "scatter3d": [
           {
            "line": {
             "colorbar": {
              "outlinewidth": 0,
              "ticks": ""
             }
            },
            "marker": {
             "colorbar": {
              "outlinewidth": 0,
              "ticks": ""
             }
            },
            "type": "scatter3d"
           }
          ],
          "scattercarpet": [
           {
            "marker": {
             "colorbar": {
              "outlinewidth": 0,
              "ticks": ""
             }
            },
            "type": "scattercarpet"
           }
          ],
          "scattergeo": [
           {
            "marker": {
             "colorbar": {
              "outlinewidth": 0,
              "ticks": ""
             }
            },
            "type": "scattergeo"
           }
          ],
          "scattergl": [
           {
            "marker": {
             "colorbar": {
              "outlinewidth": 0,
              "ticks": ""
             }
            },
            "type": "scattergl"
           }
          ],
          "scattermapbox": [
           {
            "marker": {
             "colorbar": {
              "outlinewidth": 0,
              "ticks": ""
             }
            },
            "type": "scattermapbox"
           }
          ],
          "scatterpolar": [
           {
            "marker": {
             "colorbar": {
              "outlinewidth": 0,
              "ticks": ""
             }
            },
            "type": "scatterpolar"
           }
          ],
          "scatterpolargl": [
           {
            "marker": {
             "colorbar": {
              "outlinewidth": 0,
              "ticks": ""
             }
            },
            "type": "scatterpolargl"
           }
          ],
          "scatterternary": [
           {
            "marker": {
             "colorbar": {
              "outlinewidth": 0,
              "ticks": ""
             }
            },
            "type": "scatterternary"
           }
          ],
          "surface": [
           {
            "colorbar": {
             "outlinewidth": 0,
             "ticks": ""
            },
            "colorscale": [
             [
              0,
              "#0d0887"
             ],
             [
              0.1111111111111111,
              "#46039f"
             ],
             [
              0.2222222222222222,
              "#7201a8"
             ],
             [
              0.3333333333333333,
              "#9c179e"
             ],
             [
              0.4444444444444444,
              "#bd3786"
             ],
             [
              0.5555555555555556,
              "#d8576b"
             ],
             [
              0.6666666666666666,
              "#ed7953"
             ],
             [
              0.7777777777777778,
              "#fb9f3a"
             ],
             [
              0.8888888888888888,
              "#fdca26"
             ],
             [
              1,
              "#f0f921"
             ]
            ],
            "type": "surface"
           }
          ],
          "table": [
           {
            "cells": {
             "fill": {
              "color": "#EBF0F8"
             },
             "line": {
              "color": "white"
             }
            },
            "header": {
             "fill": {
              "color": "#C8D4E3"
             },
             "line": {
              "color": "white"
             }
            },
            "type": "table"
           }
          ]
         },
         "layout": {
          "annotationdefaults": {
           "arrowcolor": "#2a3f5f",
           "arrowhead": 0,
           "arrowwidth": 1
          },
          "autotypenumbers": "strict",
          "coloraxis": {
           "colorbar": {
            "outlinewidth": 0,
            "ticks": ""
           }
          },
          "colorscale": {
           "diverging": [
            [
             0,
             "#8e0152"
            ],
            [
             0.1,
             "#c51b7d"
            ],
            [
             0.2,
             "#de77ae"
            ],
            [
             0.3,
             "#f1b6da"
            ],
            [
             0.4,
             "#fde0ef"
            ],
            [
             0.5,
             "#f7f7f7"
            ],
            [
             0.6,
             "#e6f5d0"
            ],
            [
             0.7,
             "#b8e186"
            ],
            [
             0.8,
             "#7fbc41"
            ],
            [
             0.9,
             "#4d9221"
            ],
            [
             1,
             "#276419"
            ]
           ],
           "sequential": [
            [
             0,
             "#0d0887"
            ],
            [
             0.1111111111111111,
             "#46039f"
            ],
            [
             0.2222222222222222,
             "#7201a8"
            ],
            [
             0.3333333333333333,
             "#9c179e"
            ],
            [
             0.4444444444444444,
             "#bd3786"
            ],
            [
             0.5555555555555556,
             "#d8576b"
            ],
            [
             0.6666666666666666,
             "#ed7953"
            ],
            [
             0.7777777777777778,
             "#fb9f3a"
            ],
            [
             0.8888888888888888,
             "#fdca26"
            ],
            [
             1,
             "#f0f921"
            ]
           ],
           "sequentialminus": [
            [
             0,
             "#0d0887"
            ],
            [
             0.1111111111111111,
             "#46039f"
            ],
            [
             0.2222222222222222,
             "#7201a8"
            ],
            [
             0.3333333333333333,
             "#9c179e"
            ],
            [
             0.4444444444444444,
             "#bd3786"
            ],
            [
             0.5555555555555556,
             "#d8576b"
            ],
            [
             0.6666666666666666,
             "#ed7953"
            ],
            [
             0.7777777777777778,
             "#fb9f3a"
            ],
            [
             0.8888888888888888,
             "#fdca26"
            ],
            [
             1,
             "#f0f921"
            ]
           ]
          },
          "colorway": [
           "#636efa",
           "#EF553B",
           "#00cc96",
           "#ab63fa",
           "#FFA15A",
           "#19d3f3",
           "#FF6692",
           "#B6E880",
           "#FF97FF",
           "#FECB52"
          ],
          "font": {
           "color": "#2a3f5f"
          },
          "geo": {
           "bgcolor": "white",
           "lakecolor": "white",
           "landcolor": "#E5ECF6",
           "showlakes": true,
           "showland": true,
           "subunitcolor": "white"
          },
          "hoverlabel": {
           "align": "left"
          },
          "hovermode": "closest",
          "mapbox": {
           "style": "light"
          },
          "paper_bgcolor": "white",
          "plot_bgcolor": "#E5ECF6",
          "polar": {
           "angularaxis": {
            "gridcolor": "white",
            "linecolor": "white",
            "ticks": ""
           },
           "bgcolor": "#E5ECF6",
           "radialaxis": {
            "gridcolor": "white",
            "linecolor": "white",
            "ticks": ""
           }
          },
          "scene": {
           "xaxis": {
            "backgroundcolor": "#E5ECF6",
            "gridcolor": "white",
            "gridwidth": 2,
            "linecolor": "white",
            "showbackground": true,
            "ticks": "",
            "zerolinecolor": "white"
           },
           "yaxis": {
            "backgroundcolor": "#E5ECF6",
            "gridcolor": "white",
            "gridwidth": 2,
            "linecolor": "white",
            "showbackground": true,
            "ticks": "",
            "zerolinecolor": "white"
           },
           "zaxis": {
            "backgroundcolor": "#E5ECF6",
            "gridcolor": "white",
            "gridwidth": 2,
            "linecolor": "white",
            "showbackground": true,
            "ticks": "",
            "zerolinecolor": "white"
           }
          },
          "shapedefaults": {
           "line": {
            "color": "#2a3f5f"
           }
          },
          "ternary": {
           "aaxis": {
            "gridcolor": "white",
            "linecolor": "white",
            "ticks": ""
           },
           "baxis": {
            "gridcolor": "white",
            "linecolor": "white",
            "ticks": ""
           },
           "bgcolor": "#E5ECF6",
           "caxis": {
            "gridcolor": "white",
            "linecolor": "white",
            "ticks": ""
           }
          },
          "title": {
           "x": 0.05
          },
          "xaxis": {
           "automargin": true,
           "gridcolor": "white",
           "linecolor": "white",
           "ticks": "",
           "title": {
            "standoff": 15
           },
           "zerolinecolor": "white",
           "zerolinewidth": 2
          },
          "yaxis": {
           "automargin": true,
           "gridcolor": "white",
           "linecolor": "white",
           "ticks": "",
           "title": {
            "standoff": 15
           },
           "zerolinecolor": "white",
           "zerolinewidth": 2
          }
         }
        },
        "title": {
         "text": "Phân bố số ca nhiễm bệnh và số ca tử vong theo tỉnh"
        },
        "xaxis": {
         "anchor": "y",
         "domain": [
          0,
          1
         ],
         "title": {
          "text": "total_case"
         },
         "type": "log"
        },
        "yaxis": {
         "anchor": "x",
         "domain": [
          0,
          1
         ],
         "title": {
          "text": "total_death"
         }
        }
       }
      }
     },
     "metadata": {},
     "output_type": "display_data"
    }
   ],
   "source": [
    "fig = px.scatter(df, x=\"total_case\", y=\"total_death\", color=\"name\", size=\"population\", log_x=True, title=\"Phân bố số ca nhiễm bệnh và số ca tử vong theo tỉnh\")\n",
    "fig.show()"
   ]
  },
  {
   "cell_type": "markdown",
   "metadata": {},
   "source": [
    "## Nhận xét:\n",
    "Ta thấy số lượng ca nhiễm lớn nhất ở 2 thành phố có mật độ dân cư lớn là thành phố Hồ Chí Minh và Hà Nội. Có một điểm đặc biệt là tuy Hà Nội có số ca mắc lớn hơn rất nhiều so với TPHCM nhưng tổng số ca tử vong ở TPHCM lại cao hơn ở Hà Nội. Điều này là do TPHCM là nơi đầu tiên trên cả nước bùng dịch. Vào thời điểm đó tỷ lệ tiêm vắc xin chưa cao cộng với việc thiếu sự hỗ trợ y tế cần thiết (bác sĩ, y tá, giường bệnh, thuốc chữa bệnh, ...) dẫn đến số người tử vong tăng cao. Hà Nội bùng dịch sau đó vài tháng, và cũng có sự chuẩn bị kỹ để đối phó nên hạn chế số lượng tử vong rất nhiều."
   ]
  },
  {
   "cell_type": "code",
   "execution_count": null,
   "metadata": {},
   "outputs": [],
   "source": []
  },
  {
   "cell_type": "markdown",
   "metadata": {},
   "source": [
    "# Story 2  "
   ]
  },
  {
   "cell_type": "code",
   "execution_count": 4,
   "metadata": {},
   "outputs": [
    {
     "data": {
      "text/html": [
       "<div>\n",
       "<style scoped>\n",
       "    .dataframe tbody tr th:only-of-type {\n",
       "        vertical-align: middle;\n",
       "    }\n",
       "\n",
       "    .dataframe tbody tr th {\n",
       "        vertical-align: top;\n",
       "    }\n",
       "\n",
       "    .dataframe thead th {\n",
       "        text-align: right;\n",
       "    }\n",
       "</style>\n",
       "<table border=\"1\" class=\"dataframe\">\n",
       "  <thead>\n",
       "    <tr style=\"text-align: right;\">\n",
       "      <th></th>\n",
       "      <th>date</th>\n",
       "      <th>total_cases</th>\n",
       "      <th>new_cases</th>\n",
       "      <th>new_cases_smoothed</th>\n",
       "      <th>total_deaths</th>\n",
       "      <th>new_deaths</th>\n",
       "      <th>new_deaths_smoothed</th>\n",
       "      <th>total_cases_per_million</th>\n",
       "      <th>new_cases_per_million</th>\n",
       "      <th>new_cases_smoothed_per_million</th>\n",
       "      <th>...</th>\n",
       "      <th>gdp_per_capita</th>\n",
       "      <th>extreme_poverty</th>\n",
       "      <th>cardiovasc_death_rate</th>\n",
       "      <th>diabetes_prevalence</th>\n",
       "      <th>female_smokers</th>\n",
       "      <th>male_smokers</th>\n",
       "      <th>handwashing_facilities</th>\n",
       "      <th>hospital_beds_per_thousand</th>\n",
       "      <th>life_expectancy</th>\n",
       "      <th>human_development_index</th>\n",
       "    </tr>\n",
       "  </thead>\n",
       "  <tbody>\n",
       "    <tr>\n",
       "      <th>0</th>\n",
       "      <td>2020-01-23</td>\n",
       "      <td>2</td>\n",
       "      <td>2</td>\n",
       "      <td>NaN</td>\n",
       "      <td>NaN</td>\n",
       "      <td>NaN</td>\n",
       "      <td>NaN</td>\n",
       "      <td>0.021</td>\n",
       "      <td>0.021</td>\n",
       "      <td>NaN</td>\n",
       "      <td>...</td>\n",
       "      <td>6171.884</td>\n",
       "      <td>2</td>\n",
       "      <td>245.465</td>\n",
       "      <td>6</td>\n",
       "      <td>1</td>\n",
       "      <td>45.9</td>\n",
       "      <td>85.847</td>\n",
       "      <td>2.6</td>\n",
       "      <td>75.4</td>\n",
       "      <td>0.704</td>\n",
       "    </tr>\n",
       "    <tr>\n",
       "      <th>1</th>\n",
       "      <td>2020-01-24</td>\n",
       "      <td>2</td>\n",
       "      <td>0</td>\n",
       "      <td>NaN</td>\n",
       "      <td>NaN</td>\n",
       "      <td>NaN</td>\n",
       "      <td>NaN</td>\n",
       "      <td>0.021</td>\n",
       "      <td>0.000</td>\n",
       "      <td>NaN</td>\n",
       "      <td>...</td>\n",
       "      <td>6171.884</td>\n",
       "      <td>2</td>\n",
       "      <td>245.465</td>\n",
       "      <td>6</td>\n",
       "      <td>1</td>\n",
       "      <td>45.9</td>\n",
       "      <td>85.847</td>\n",
       "      <td>2.6</td>\n",
       "      <td>75.4</td>\n",
       "      <td>0.704</td>\n",
       "    </tr>\n",
       "    <tr>\n",
       "      <th>2</th>\n",
       "      <td>2020-01-25</td>\n",
       "      <td>2</td>\n",
       "      <td>0</td>\n",
       "      <td>NaN</td>\n",
       "      <td>NaN</td>\n",
       "      <td>NaN</td>\n",
       "      <td>NaN</td>\n",
       "      <td>0.021</td>\n",
       "      <td>0.000</td>\n",
       "      <td>NaN</td>\n",
       "      <td>...</td>\n",
       "      <td>6171.884</td>\n",
       "      <td>2</td>\n",
       "      <td>245.465</td>\n",
       "      <td>6</td>\n",
       "      <td>1</td>\n",
       "      <td>45.9</td>\n",
       "      <td>85.847</td>\n",
       "      <td>2.6</td>\n",
       "      <td>75.4</td>\n",
       "      <td>0.704</td>\n",
       "    </tr>\n",
       "    <tr>\n",
       "      <th>3</th>\n",
       "      <td>2020-01-26</td>\n",
       "      <td>2</td>\n",
       "      <td>0</td>\n",
       "      <td>NaN</td>\n",
       "      <td>NaN</td>\n",
       "      <td>NaN</td>\n",
       "      <td>NaN</td>\n",
       "      <td>0.021</td>\n",
       "      <td>0.000</td>\n",
       "      <td>NaN</td>\n",
       "      <td>...</td>\n",
       "      <td>6171.884</td>\n",
       "      <td>2</td>\n",
       "      <td>245.465</td>\n",
       "      <td>6</td>\n",
       "      <td>1</td>\n",
       "      <td>45.9</td>\n",
       "      <td>85.847</td>\n",
       "      <td>2.6</td>\n",
       "      <td>75.4</td>\n",
       "      <td>0.704</td>\n",
       "    </tr>\n",
       "    <tr>\n",
       "      <th>4</th>\n",
       "      <td>2020-01-27</td>\n",
       "      <td>2</td>\n",
       "      <td>0</td>\n",
       "      <td>NaN</td>\n",
       "      <td>NaN</td>\n",
       "      <td>NaN</td>\n",
       "      <td>NaN</td>\n",
       "      <td>0.021</td>\n",
       "      <td>0.000</td>\n",
       "      <td>NaN</td>\n",
       "      <td>...</td>\n",
       "      <td>6171.884</td>\n",
       "      <td>2</td>\n",
       "      <td>245.465</td>\n",
       "      <td>6</td>\n",
       "      <td>1</td>\n",
       "      <td>45.9</td>\n",
       "      <td>85.847</td>\n",
       "      <td>2.6</td>\n",
       "      <td>75.4</td>\n",
       "      <td>0.704</td>\n",
       "    </tr>\n",
       "    <tr>\n",
       "      <th>...</th>\n",
       "      <td>...</td>\n",
       "      <td>...</td>\n",
       "      <td>...</td>\n",
       "      <td>...</td>\n",
       "      <td>...</td>\n",
       "      <td>...</td>\n",
       "      <td>...</td>\n",
       "      <td>...</td>\n",
       "      <td>...</td>\n",
       "      <td>...</td>\n",
       "      <td>...</td>\n",
       "      <td>...</td>\n",
       "      <td>...</td>\n",
       "      <td>...</td>\n",
       "      <td>...</td>\n",
       "      <td>...</td>\n",
       "      <td>...</td>\n",
       "      <td>...</td>\n",
       "      <td>...</td>\n",
       "      <td>...</td>\n",
       "      <td>...</td>\n",
       "    </tr>\n",
       "    <tr>\n",
       "      <th>905</th>\n",
       "      <td>2022-07-16</td>\n",
       "      <td>10759850</td>\n",
       "      <td>705</td>\n",
       "      <td>786.000</td>\n",
       "      <td>43091.0</td>\n",
       "      <td>1.0</td>\n",
       "      <td>0.286</td>\n",
       "      <td>110393.636</td>\n",
       "      <td>7.233</td>\n",
       "      <td>8.064</td>\n",
       "      <td>...</td>\n",
       "      <td>6171.884</td>\n",
       "      <td>2</td>\n",
       "      <td>245.465</td>\n",
       "      <td>6</td>\n",
       "      <td>1</td>\n",
       "      <td>45.9</td>\n",
       "      <td>85.847</td>\n",
       "      <td>2.6</td>\n",
       "      <td>75.4</td>\n",
       "      <td>0.704</td>\n",
       "    </tr>\n",
       "    <tr>\n",
       "      <th>906</th>\n",
       "      <td>2022-07-17</td>\n",
       "      <td>10760595</td>\n",
       "      <td>745</td>\n",
       "      <td>826.000</td>\n",
       "      <td>43091.0</td>\n",
       "      <td>0.0</td>\n",
       "      <td>0.286</td>\n",
       "      <td>110401.279</td>\n",
       "      <td>7.644</td>\n",
       "      <td>8.475</td>\n",
       "      <td>...</td>\n",
       "      <td>6171.884</td>\n",
       "      <td>2</td>\n",
       "      <td>245.465</td>\n",
       "      <td>6</td>\n",
       "      <td>1</td>\n",
       "      <td>45.9</td>\n",
       "      <td>85.847</td>\n",
       "      <td>2.6</td>\n",
       "      <td>75.4</td>\n",
       "      <td>0.704</td>\n",
       "    </tr>\n",
       "    <tr>\n",
       "      <th>907</th>\n",
       "      <td>2022-07-18</td>\n",
       "      <td>10761435</td>\n",
       "      <td>840</td>\n",
       "      <td>864.857</td>\n",
       "      <td>43091.0</td>\n",
       "      <td>0.0</td>\n",
       "      <td>0.286</td>\n",
       "      <td>110409.898</td>\n",
       "      <td>8.618</td>\n",
       "      <td>8.873</td>\n",
       "      <td>...</td>\n",
       "      <td>6171.884</td>\n",
       "      <td>2</td>\n",
       "      <td>245.465</td>\n",
       "      <td>6</td>\n",
       "      <td>1</td>\n",
       "      <td>45.9</td>\n",
       "      <td>85.847</td>\n",
       "      <td>2.6</td>\n",
       "      <td>75.4</td>\n",
       "      <td>0.704</td>\n",
       "    </tr>\n",
       "    <tr>\n",
       "      <th>908</th>\n",
       "      <td>2022-07-19</td>\n",
       "      <td>10762532</td>\n",
       "      <td>1097</td>\n",
       "      <td>896.857</td>\n",
       "      <td>43091.0</td>\n",
       "      <td>0.0</td>\n",
       "      <td>0.143</td>\n",
       "      <td>110421.153</td>\n",
       "      <td>11.255</td>\n",
       "      <td>9.202</td>\n",
       "      <td>...</td>\n",
       "      <td>6171.884</td>\n",
       "      <td>2</td>\n",
       "      <td>245.465</td>\n",
       "      <td>6</td>\n",
       "      <td>1</td>\n",
       "      <td>45.9</td>\n",
       "      <td>85.847</td>\n",
       "      <td>2.6</td>\n",
       "      <td>75.4</td>\n",
       "      <td>0.704</td>\n",
       "    </tr>\n",
       "    <tr>\n",
       "      <th>909</th>\n",
       "      <td>2022-07-20</td>\n",
       "      <td>10763694</td>\n",
       "      <td>1162</td>\n",
       "      <td>919.571</td>\n",
       "      <td>43091.0</td>\n",
       "      <td>0.0</td>\n",
       "      <td>0.143</td>\n",
       "      <td>110433.075</td>\n",
       "      <td>11.922</td>\n",
       "      <td>9.435</td>\n",
       "      <td>...</td>\n",
       "      <td>6171.884</td>\n",
       "      <td>2</td>\n",
       "      <td>245.465</td>\n",
       "      <td>6</td>\n",
       "      <td>1</td>\n",
       "      <td>45.9</td>\n",
       "      <td>85.847</td>\n",
       "      <td>2.6</td>\n",
       "      <td>75.4</td>\n",
       "      <td>0.704</td>\n",
       "    </tr>\n",
       "  </tbody>\n",
       "</table>\n",
       "<p>910 rows × 55 columns</p>\n",
       "</div>"
      ],
      "text/plain": [
       "          date  total_cases  new_cases  new_cases_smoothed  total_deaths  \\\n",
       "0   2020-01-23            2          2                 NaN           NaN   \n",
       "1   2020-01-24            2          0                 NaN           NaN   \n",
       "2   2020-01-25            2          0                 NaN           NaN   \n",
       "3   2020-01-26            2          0                 NaN           NaN   \n",
       "4   2020-01-27            2          0                 NaN           NaN   \n",
       "..         ...          ...        ...                 ...           ...   \n",
       "905 2022-07-16     10759850        705             786.000       43091.0   \n",
       "906 2022-07-17     10760595        745             826.000       43091.0   \n",
       "907 2022-07-18     10761435        840             864.857       43091.0   \n",
       "908 2022-07-19     10762532       1097             896.857       43091.0   \n",
       "909 2022-07-20     10763694       1162             919.571       43091.0   \n",
       "\n",
       "     new_deaths  new_deaths_smoothed  total_cases_per_million  \\\n",
       "0           NaN                  NaN                    0.021   \n",
       "1           NaN                  NaN                    0.021   \n",
       "2           NaN                  NaN                    0.021   \n",
       "3           NaN                  NaN                    0.021   \n",
       "4           NaN                  NaN                    0.021   \n",
       "..          ...                  ...                      ...   \n",
       "905         1.0                0.286               110393.636   \n",
       "906         0.0                0.286               110401.279   \n",
       "907         0.0                0.286               110409.898   \n",
       "908         0.0                0.143               110421.153   \n",
       "909         0.0                0.143               110433.075   \n",
       "\n",
       "     new_cases_per_million  new_cases_smoothed_per_million  ...  \\\n",
       "0                    0.021                             NaN  ...   \n",
       "1                    0.000                             NaN  ...   \n",
       "2                    0.000                             NaN  ...   \n",
       "3                    0.000                             NaN  ...   \n",
       "4                    0.000                             NaN  ...   \n",
       "..                     ...                             ...  ...   \n",
       "905                  7.233                           8.064  ...   \n",
       "906                  7.644                           8.475  ...   \n",
       "907                  8.618                           8.873  ...   \n",
       "908                 11.255                           9.202  ...   \n",
       "909                 11.922                           9.435  ...   \n",
       "\n",
       "     gdp_per_capita  extreme_poverty  cardiovasc_death_rate  \\\n",
       "0          6171.884                2                245.465   \n",
       "1          6171.884                2                245.465   \n",
       "2          6171.884                2                245.465   \n",
       "3          6171.884                2                245.465   \n",
       "4          6171.884                2                245.465   \n",
       "..              ...              ...                    ...   \n",
       "905        6171.884                2                245.465   \n",
       "906        6171.884                2                245.465   \n",
       "907        6171.884                2                245.465   \n",
       "908        6171.884                2                245.465   \n",
       "909        6171.884                2                245.465   \n",
       "\n",
       "     diabetes_prevalence  female_smokers  male_smokers  \\\n",
       "0                      6               1          45.9   \n",
       "1                      6               1          45.9   \n",
       "2                      6               1          45.9   \n",
       "3                      6               1          45.9   \n",
       "4                      6               1          45.9   \n",
       "..                   ...             ...           ...   \n",
       "905                    6               1          45.9   \n",
       "906                    6               1          45.9   \n",
       "907                    6               1          45.9   \n",
       "908                    6               1          45.9   \n",
       "909                    6               1          45.9   \n",
       "\n",
       "     handwashing_facilities  hospital_beds_per_thousand  life_expectancy  \\\n",
       "0                    85.847                         2.6             75.4   \n",
       "1                    85.847                         2.6             75.4   \n",
       "2                    85.847                         2.6             75.4   \n",
       "3                    85.847                         2.6             75.4   \n",
       "4                    85.847                         2.6             75.4   \n",
       "..                      ...                         ...              ...   \n",
       "905                  85.847                         2.6             75.4   \n",
       "906                  85.847                         2.6             75.4   \n",
       "907                  85.847                         2.6             75.4   \n",
       "908                  85.847                         2.6             75.4   \n",
       "909                  85.847                         2.6             75.4   \n",
       "\n",
       "     human_development_index  \n",
       "0                      0.704  \n",
       "1                      0.704  \n",
       "2                      0.704  \n",
       "3                      0.704  \n",
       "4                      0.704  \n",
       "..                       ...  \n",
       "905                    0.704  \n",
       "906                    0.704  \n",
       "907                    0.704  \n",
       "908                    0.704  \n",
       "909                    0.704  \n",
       "\n",
       "[910 rows x 55 columns]"
      ]
     },
     "execution_count": 4,
     "metadata": {},
     "output_type": "execute_result"
    }
   ],
   "source": [
    "df = pd.read_excel(\"Data/Covid_All.xlsx\", sheet_name=\"Covid_All\")\n",
    "df"
   ]
  },
  {
   "cell_type": "code",
   "execution_count": 5,
   "metadata": {},
   "outputs": [
    {
     "data": {
      "application/vnd.plotly.v1+json": {
       "config": {
        "plotlyServerURL": "https://plot.ly"
       },
       "data": [
        {
         "hovertemplate": "date=%{x|%B %d, %Y}<br>total_cases=%{y}<extra></extra>",
         "legendgroup": "",
         "line": {
          "color": "#636efa",
          "dash": "solid"
         },
         "marker": {
          "symbol": "circle"
         },
         "mode": "lines",
         "name": "",
         "orientation": "v",
         "showlegend": false,
         "type": "scatter",
         "x": [
          "2020-01-23T00:00:00",
          "2020-01-24T00:00:00",
          "2020-01-25T00:00:00",
          "2020-01-26T00:00:00",
          "2020-01-27T00:00:00",
          "2020-01-28T00:00:00",
          "2020-01-29T00:00:00",
          "2020-01-30T00:00:00",
          "2020-01-31T00:00:00",
          "2020-02-01T00:00:00",
          "2020-02-02T00:00:00",
          "2020-02-03T00:00:00",
          "2020-02-04T00:00:00",
          "2020-02-05T00:00:00",
          "2020-02-06T00:00:00",
          "2020-02-07T00:00:00",
          "2020-02-08T00:00:00",
          "2020-02-09T00:00:00",
          "2020-02-10T00:00:00",
          "2020-02-11T00:00:00",
          "2020-02-12T00:00:00",
          "2020-02-13T00:00:00",
          "2020-02-14T00:00:00",
          "2020-02-15T00:00:00",
          "2020-02-16T00:00:00",
          "2020-02-17T00:00:00",
          "2020-02-18T00:00:00",
          "2020-02-19T00:00:00",
          "2020-02-20T00:00:00",
          "2020-02-21T00:00:00",
          "2020-02-22T00:00:00",
          "2020-02-23T00:00:00",
          "2020-02-24T00:00:00",
          "2020-02-25T00:00:00",
          "2020-02-26T00:00:00",
          "2020-02-27T00:00:00",
          "2020-02-28T00:00:00",
          "2020-02-29T00:00:00",
          "2020-03-01T00:00:00",
          "2020-03-02T00:00:00",
          "2020-03-03T00:00:00",
          "2020-03-04T00:00:00",
          "2020-03-05T00:00:00",
          "2020-03-06T00:00:00",
          "2020-03-07T00:00:00",
          "2020-03-08T00:00:00",
          "2020-03-09T00:00:00",
          "2020-03-10T00:00:00",
          "2020-03-11T00:00:00",
          "2020-03-12T00:00:00",
          "2020-03-13T00:00:00",
          "2020-03-14T00:00:00",
          "2020-03-15T00:00:00",
          "2020-03-16T00:00:00",
          "2020-03-17T00:00:00",
          "2020-03-18T00:00:00",
          "2020-03-19T00:00:00",
          "2020-03-20T00:00:00",
          "2020-03-21T00:00:00",
          "2020-03-22T00:00:00",
          "2020-03-23T00:00:00",
          "2020-03-24T00:00:00",
          "2020-03-25T00:00:00",
          "2020-03-26T00:00:00",
          "2020-03-27T00:00:00",
          "2020-03-28T00:00:00",
          "2020-03-29T00:00:00",
          "2020-03-30T00:00:00",
          "2020-03-31T00:00:00",
          "2020-04-01T00:00:00",
          "2020-04-02T00:00:00",
          "2020-04-03T00:00:00",
          "2020-04-04T00:00:00",
          "2020-04-05T00:00:00",
          "2020-04-06T00:00:00",
          "2020-04-07T00:00:00",
          "2020-04-08T00:00:00",
          "2020-04-09T00:00:00",
          "2020-04-10T00:00:00",
          "2020-04-11T00:00:00",
          "2020-04-12T00:00:00",
          "2020-04-13T00:00:00",
          "2020-04-14T00:00:00",
          "2020-04-15T00:00:00",
          "2020-04-16T00:00:00",
          "2020-04-17T00:00:00",
          "2020-04-18T00:00:00",
          "2020-04-19T00:00:00",
          "2020-04-20T00:00:00",
          "2020-04-21T00:00:00",
          "2020-04-22T00:00:00",
          "2020-04-23T00:00:00",
          "2020-04-24T00:00:00",
          "2020-04-25T00:00:00",
          "2020-04-26T00:00:00",
          "2020-04-27T00:00:00",
          "2020-04-28T00:00:00",
          "2020-04-29T00:00:00",
          "2020-04-30T00:00:00",
          "2020-05-01T00:00:00",
          "2020-05-02T00:00:00",
          "2020-05-03T00:00:00",
          "2020-05-04T00:00:00",
          "2020-05-05T00:00:00",
          "2020-05-06T00:00:00",
          "2020-05-07T00:00:00",
          "2020-05-08T00:00:00",
          "2020-05-09T00:00:00",
          "2020-05-10T00:00:00",
          "2020-05-11T00:00:00",
          "2020-05-12T00:00:00",
          "2020-05-13T00:00:00",
          "2020-05-14T00:00:00",
          "2020-05-15T00:00:00",
          "2020-05-16T00:00:00",
          "2020-05-17T00:00:00",
          "2020-05-18T00:00:00",
          "2020-05-19T00:00:00",
          "2020-05-20T00:00:00",
          "2020-05-21T00:00:00",
          "2020-05-22T00:00:00",
          "2020-05-23T00:00:00",
          "2020-05-24T00:00:00",
          "2020-05-25T00:00:00",
          "2020-05-26T00:00:00",
          "2020-05-27T00:00:00",
          "2020-05-28T00:00:00",
          "2020-05-29T00:00:00",
          "2020-05-30T00:00:00",
          "2020-05-31T00:00:00",
          "2020-06-01T00:00:00",
          "2020-06-02T00:00:00",
          "2020-06-03T00:00:00",
          "2020-06-04T00:00:00",
          "2020-06-05T00:00:00",
          "2020-06-06T00:00:00",
          "2020-06-07T00:00:00",
          "2020-06-08T00:00:00",
          "2020-06-09T00:00:00",
          "2020-06-10T00:00:00",
          "2020-06-11T00:00:00",
          "2020-06-12T00:00:00",
          "2020-06-13T00:00:00",
          "2020-06-14T00:00:00",
          "2020-06-15T00:00:00",
          "2020-06-16T00:00:00",
          "2020-06-17T00:00:00",
          "2020-06-18T00:00:00",
          "2020-06-19T00:00:00",
          "2020-06-20T00:00:00",
          "2020-06-21T00:00:00",
          "2020-06-22T00:00:00",
          "2020-06-23T00:00:00",
          "2020-06-24T00:00:00",
          "2020-06-25T00:00:00",
          "2020-06-26T00:00:00",
          "2020-06-27T00:00:00",
          "2020-06-28T00:00:00",
          "2020-06-29T00:00:00",
          "2020-06-30T00:00:00",
          "2020-07-01T00:00:00",
          "2020-07-02T00:00:00",
          "2020-07-03T00:00:00",
          "2020-07-04T00:00:00",
          "2020-07-05T00:00:00",
          "2020-07-06T00:00:00",
          "2020-07-07T00:00:00",
          "2020-07-08T00:00:00",
          "2020-07-09T00:00:00",
          "2020-07-10T00:00:00",
          "2020-07-11T00:00:00",
          "2020-07-12T00:00:00",
          "2020-07-13T00:00:00",
          "2020-07-14T00:00:00",
          "2020-07-15T00:00:00",
          "2020-07-16T00:00:00",
          "2020-07-17T00:00:00",
          "2020-07-18T00:00:00",
          "2020-07-19T00:00:00",
          "2020-07-20T00:00:00",
          "2020-07-21T00:00:00",
          "2020-07-22T00:00:00",
          "2020-07-23T00:00:00",
          "2020-07-24T00:00:00",
          "2020-07-25T00:00:00",
          "2020-07-26T00:00:00",
          "2020-07-27T00:00:00",
          "2020-07-28T00:00:00",
          "2020-07-29T00:00:00",
          "2020-07-30T00:00:00",
          "2020-07-31T00:00:00",
          "2020-08-01T00:00:00",
          "2020-08-02T00:00:00",
          "2020-08-03T00:00:00",
          "2020-08-04T00:00:00",
          "2020-08-05T00:00:00",
          "2020-08-06T00:00:00",
          "2020-08-07T00:00:00",
          "2020-08-08T00:00:00",
          "2020-08-09T00:00:00",
          "2020-08-10T00:00:00",
          "2020-08-11T00:00:00",
          "2020-08-12T00:00:00",
          "2020-08-13T00:00:00",
          "2020-08-14T00:00:00",
          "2020-08-15T00:00:00",
          "2020-08-16T00:00:00",
          "2020-08-17T00:00:00",
          "2020-08-18T00:00:00",
          "2020-08-19T00:00:00",
          "2020-08-20T00:00:00",
          "2020-08-21T00:00:00",
          "2020-08-22T00:00:00",
          "2020-08-23T00:00:00",
          "2020-08-24T00:00:00",
          "2020-08-25T00:00:00",
          "2020-08-26T00:00:00",
          "2020-08-27T00:00:00",
          "2020-08-28T00:00:00",
          "2020-08-29T00:00:00",
          "2020-08-30T00:00:00",
          "2020-08-31T00:00:00",
          "2020-09-01T00:00:00",
          "2020-09-02T00:00:00",
          "2020-09-03T00:00:00",
          "2020-09-04T00:00:00",
          "2020-09-05T00:00:00",
          "2020-09-06T00:00:00",
          "2020-09-07T00:00:00",
          "2020-09-08T00:00:00",
          "2020-09-09T00:00:00",
          "2020-09-10T00:00:00",
          "2020-09-11T00:00:00",
          "2020-09-12T00:00:00",
          "2020-09-13T00:00:00",
          "2020-09-14T00:00:00",
          "2020-09-15T00:00:00",
          "2020-09-16T00:00:00",
          "2020-09-17T00:00:00",
          "2020-09-18T00:00:00",
          "2020-09-19T00:00:00",
          "2020-09-20T00:00:00",
          "2020-09-21T00:00:00",
          "2020-09-22T00:00:00",
          "2020-09-23T00:00:00",
          "2020-09-24T00:00:00",
          "2020-09-25T00:00:00",
          "2020-09-26T00:00:00",
          "2020-09-27T00:00:00",
          "2020-09-28T00:00:00",
          "2020-09-29T00:00:00",
          "2020-09-30T00:00:00",
          "2020-10-01T00:00:00",
          "2020-10-02T00:00:00",
          "2020-10-03T00:00:00",
          "2020-10-04T00:00:00",
          "2020-10-05T00:00:00",
          "2020-10-06T00:00:00",
          "2020-10-07T00:00:00",
          "2020-10-08T00:00:00",
          "2020-10-09T00:00:00",
          "2020-10-10T00:00:00",
          "2020-10-11T00:00:00",
          "2020-10-12T00:00:00",
          "2020-10-13T00:00:00",
          "2020-10-14T00:00:00",
          "2020-10-15T00:00:00",
          "2020-10-16T00:00:00",
          "2020-10-17T00:00:00",
          "2020-10-18T00:00:00",
          "2020-10-19T00:00:00",
          "2020-10-20T00:00:00",
          "2020-10-21T00:00:00",
          "2020-10-22T00:00:00",
          "2020-10-23T00:00:00",
          "2020-10-24T00:00:00",
          "2020-10-25T00:00:00",
          "2020-10-26T00:00:00",
          "2020-10-27T00:00:00",
          "2020-10-28T00:00:00",
          "2020-10-29T00:00:00",
          "2020-10-30T00:00:00",
          "2020-10-31T00:00:00",
          "2020-11-01T00:00:00",
          "2020-11-02T00:00:00",
          "2020-11-03T00:00:00",
          "2020-11-04T00:00:00",
          "2020-11-05T00:00:00",
          "2020-11-06T00:00:00",
          "2020-11-07T00:00:00",
          "2020-11-08T00:00:00",
          "2020-11-09T00:00:00",
          "2020-11-10T00:00:00",
          "2020-11-11T00:00:00",
          "2020-11-12T00:00:00",
          "2020-11-13T00:00:00",
          "2020-11-14T00:00:00",
          "2020-11-15T00:00:00",
          "2020-11-16T00:00:00",
          "2020-11-17T00:00:00",
          "2020-11-18T00:00:00",
          "2020-11-19T00:00:00",
          "2020-11-20T00:00:00",
          "2020-11-21T00:00:00",
          "2020-11-22T00:00:00",
          "2020-11-23T00:00:00",
          "2020-11-24T00:00:00",
          "2020-11-25T00:00:00",
          "2020-11-26T00:00:00",
          "2020-11-27T00:00:00",
          "2020-11-28T00:00:00",
          "2020-11-29T00:00:00",
          "2020-11-30T00:00:00",
          "2020-12-01T00:00:00",
          "2020-12-02T00:00:00",
          "2020-12-03T00:00:00",
          "2020-12-04T00:00:00",
          "2020-12-05T00:00:00",
          "2020-12-06T00:00:00",
          "2020-12-07T00:00:00",
          "2020-12-08T00:00:00",
          "2020-12-09T00:00:00",
          "2020-12-10T00:00:00",
          "2020-12-11T00:00:00",
          "2020-12-12T00:00:00",
          "2020-12-13T00:00:00",
          "2020-12-14T00:00:00",
          "2020-12-15T00:00:00",
          "2020-12-16T00:00:00",
          "2020-12-17T00:00:00",
          "2020-12-18T00:00:00",
          "2020-12-19T00:00:00",
          "2020-12-20T00:00:00",
          "2020-12-21T00:00:00",
          "2020-12-22T00:00:00",
          "2020-12-23T00:00:00",
          "2020-12-24T00:00:00",
          "2020-12-25T00:00:00",
          "2020-12-26T00:00:00",
          "2020-12-27T00:00:00",
          "2020-12-28T00:00:00",
          "2020-12-29T00:00:00",
          "2020-12-30T00:00:00",
          "2020-12-31T00:00:00",
          "2021-01-01T00:00:00",
          "2021-01-02T00:00:00",
          "2021-01-03T00:00:00",
          "2021-01-04T00:00:00",
          "2021-01-05T00:00:00",
          "2021-01-06T00:00:00",
          "2021-01-07T00:00:00",
          "2021-01-08T00:00:00",
          "2021-01-09T00:00:00",
          "2021-01-10T00:00:00",
          "2021-01-11T00:00:00",
          "2021-01-12T00:00:00",
          "2021-01-13T00:00:00",
          "2021-01-14T00:00:00",
          "2021-01-15T00:00:00",
          "2021-01-16T00:00:00",
          "2021-01-17T00:00:00",
          "2021-01-18T00:00:00",
          "2021-01-19T00:00:00",
          "2021-01-20T00:00:00",
          "2021-01-21T00:00:00",
          "2021-01-22T00:00:00",
          "2021-01-23T00:00:00",
          "2021-01-24T00:00:00",
          "2021-01-25T00:00:00",
          "2021-01-26T00:00:00",
          "2021-01-27T00:00:00",
          "2021-01-28T00:00:00",
          "2021-01-29T00:00:00",
          "2021-01-30T00:00:00",
          "2021-01-31T00:00:00",
          "2021-02-01T00:00:00",
          "2021-02-02T00:00:00",
          "2021-02-03T00:00:00",
          "2021-02-04T00:00:00",
          "2021-02-05T00:00:00",
          "2021-02-06T00:00:00",
          "2021-02-07T00:00:00",
          "2021-02-08T00:00:00",
          "2021-02-09T00:00:00",
          "2021-02-10T00:00:00",
          "2021-02-11T00:00:00",
          "2021-02-12T00:00:00",
          "2021-02-13T00:00:00",
          "2021-02-14T00:00:00",
          "2021-02-15T00:00:00",
          "2021-02-16T00:00:00",
          "2021-02-17T00:00:00",
          "2021-02-18T00:00:00",
          "2021-02-19T00:00:00",
          "2021-02-20T00:00:00",
          "2021-02-21T00:00:00",
          "2021-02-22T00:00:00",
          "2021-02-23T00:00:00",
          "2021-02-24T00:00:00",
          "2021-02-25T00:00:00",
          "2021-02-26T00:00:00",
          "2021-02-27T00:00:00",
          "2021-02-28T00:00:00",
          "2021-03-01T00:00:00",
          "2021-03-02T00:00:00",
          "2021-03-03T00:00:00",
          "2021-03-04T00:00:00",
          "2021-03-05T00:00:00",
          "2021-03-06T00:00:00",
          "2021-03-07T00:00:00",
          "2021-03-08T00:00:00",
          "2021-03-09T00:00:00",
          "2021-03-10T00:00:00",
          "2021-03-11T00:00:00",
          "2021-03-12T00:00:00",
          "2021-03-13T00:00:00",
          "2021-03-14T00:00:00",
          "2021-03-15T00:00:00",
          "2021-03-16T00:00:00",
          "2021-03-17T00:00:00",
          "2021-03-18T00:00:00",
          "2021-03-19T00:00:00",
          "2021-03-20T00:00:00",
          "2021-03-21T00:00:00",
          "2021-03-22T00:00:00",
          "2021-03-23T00:00:00",
          "2021-03-24T00:00:00",
          "2021-03-25T00:00:00",
          "2021-03-26T00:00:00",
          "2021-03-27T00:00:00",
          "2021-03-28T00:00:00",
          "2021-03-29T00:00:00",
          "2021-03-30T00:00:00",
          "2021-03-31T00:00:00",
          "2021-04-01T00:00:00",
          "2021-04-02T00:00:00",
          "2021-04-03T00:00:00",
          "2021-04-04T00:00:00",
          "2021-04-05T00:00:00",
          "2021-04-06T00:00:00",
          "2021-04-07T00:00:00",
          "2021-04-08T00:00:00",
          "2021-04-09T00:00:00",
          "2021-04-10T00:00:00",
          "2021-04-11T00:00:00",
          "2021-04-12T00:00:00",
          "2021-04-13T00:00:00",
          "2021-04-14T00:00:00",
          "2021-04-15T00:00:00",
          "2021-04-16T00:00:00",
          "2021-04-17T00:00:00",
          "2021-04-18T00:00:00",
          "2021-04-19T00:00:00",
          "2021-04-20T00:00:00",
          "2021-04-21T00:00:00",
          "2021-04-22T00:00:00",
          "2021-04-23T00:00:00",
          "2021-04-24T00:00:00",
          "2021-04-25T00:00:00",
          "2021-04-26T00:00:00",
          "2021-04-27T00:00:00",
          "2021-04-28T00:00:00",
          "2021-04-29T00:00:00",
          "2021-04-30T00:00:00",
          "2021-05-01T00:00:00",
          "2021-05-02T00:00:00",
          "2021-05-03T00:00:00",
          "2021-05-04T00:00:00",
          "2021-05-05T00:00:00",
          "2021-05-06T00:00:00",
          "2021-05-07T00:00:00",
          "2021-05-08T00:00:00",
          "2021-05-09T00:00:00",
          "2021-05-10T00:00:00",
          "2021-05-11T00:00:00",
          "2021-05-12T00:00:00",
          "2021-05-13T00:00:00",
          "2021-05-14T00:00:00",
          "2021-05-15T00:00:00",
          "2021-05-16T00:00:00",
          "2021-05-17T00:00:00",
          "2021-05-18T00:00:00",
          "2021-05-19T00:00:00",
          "2021-05-20T00:00:00",
          "2021-05-21T00:00:00",
          "2021-05-22T00:00:00",
          "2021-05-23T00:00:00",
          "2021-05-24T00:00:00",
          "2021-05-25T00:00:00",
          "2021-05-26T00:00:00",
          "2021-05-27T00:00:00",
          "2021-05-28T00:00:00",
          "2021-05-29T00:00:00",
          "2021-05-30T00:00:00",
          "2021-05-31T00:00:00",
          "2021-06-01T00:00:00",
          "2021-06-02T00:00:00",
          "2021-06-03T00:00:00",
          "2021-06-04T00:00:00",
          "2021-06-05T00:00:00",
          "2021-06-06T00:00:00",
          "2021-06-07T00:00:00",
          "2021-06-08T00:00:00",
          "2021-06-09T00:00:00",
          "2021-06-10T00:00:00",
          "2021-06-11T00:00:00",
          "2021-06-12T00:00:00",
          "2021-06-13T00:00:00",
          "2021-06-14T00:00:00",
          "2021-06-15T00:00:00",
          "2021-06-16T00:00:00",
          "2021-06-17T00:00:00",
          "2021-06-18T00:00:00",
          "2021-06-19T00:00:00",
          "2021-06-20T00:00:00",
          "2021-06-21T00:00:00",
          "2021-06-22T00:00:00",
          "2021-06-23T00:00:00",
          "2021-06-24T00:00:00",
          "2021-06-25T00:00:00",
          "2021-06-26T00:00:00",
          "2021-06-27T00:00:00",
          "2021-06-28T00:00:00",
          "2021-06-29T00:00:00",
          "2021-06-30T00:00:00",
          "2021-07-01T00:00:00",
          "2021-07-02T00:00:00",
          "2021-07-03T00:00:00",
          "2021-07-04T00:00:00",
          "2021-07-05T00:00:00",
          "2021-07-06T00:00:00",
          "2021-07-07T00:00:00",
          "2021-07-08T00:00:00",
          "2021-07-09T00:00:00",
          "2021-07-10T00:00:00",
          "2021-07-11T00:00:00",
          "2021-07-12T00:00:00",
          "2021-07-13T00:00:00",
          "2021-07-14T00:00:00",
          "2021-07-15T00:00:00",
          "2021-07-16T00:00:00",
          "2021-07-17T00:00:00",
          "2021-07-18T00:00:00",
          "2021-07-19T00:00:00",
          "2021-07-20T00:00:00",
          "2021-07-21T00:00:00",
          "2021-07-22T00:00:00",
          "2021-07-23T00:00:00",
          "2021-07-24T00:00:00",
          "2021-07-25T00:00:00",
          "2021-07-26T00:00:00",
          "2021-07-27T00:00:00",
          "2021-07-28T00:00:00",
          "2021-07-29T00:00:00",
          "2021-07-30T00:00:00",
          "2021-07-31T00:00:00",
          "2021-08-01T00:00:00",
          "2021-08-02T00:00:00",
          "2021-08-03T00:00:00",
          "2021-08-04T00:00:00",
          "2021-08-05T00:00:00",
          "2021-08-06T00:00:00",
          "2021-08-07T00:00:00",
          "2021-08-08T00:00:00",
          "2021-08-09T00:00:00",
          "2021-08-10T00:00:00",
          "2021-08-11T00:00:00",
          "2021-08-12T00:00:00",
          "2021-08-13T00:00:00",
          "2021-08-14T00:00:00",
          "2021-08-15T00:00:00",
          "2021-08-16T00:00:00",
          "2021-08-17T00:00:00",
          "2021-08-18T00:00:00",
          "2021-08-19T00:00:00",
          "2021-08-20T00:00:00",
          "2021-08-21T00:00:00",
          "2021-08-22T00:00:00",
          "2021-08-23T00:00:00",
          "2021-08-24T00:00:00",
          "2021-08-25T00:00:00",
          "2021-08-26T00:00:00",
          "2021-08-27T00:00:00",
          "2021-08-28T00:00:00",
          "2021-08-29T00:00:00",
          "2021-08-30T00:00:00",
          "2021-08-31T00:00:00",
          "2021-09-01T00:00:00",
          "2021-09-02T00:00:00",
          "2021-09-03T00:00:00",
          "2021-09-04T00:00:00",
          "2021-09-05T00:00:00",
          "2021-09-06T00:00:00",
          "2021-09-07T00:00:00",
          "2021-09-08T00:00:00",
          "2021-09-09T00:00:00",
          "2021-09-10T00:00:00",
          "2021-09-11T00:00:00",
          "2021-09-12T00:00:00",
          "2021-09-13T00:00:00",
          "2021-09-14T00:00:00",
          "2021-09-15T00:00:00",
          "2021-09-16T00:00:00",
          "2021-09-17T00:00:00",
          "2021-09-18T00:00:00",
          "2021-09-19T00:00:00",
          "2021-09-20T00:00:00",
          "2021-09-21T00:00:00",
          "2021-09-22T00:00:00",
          "2021-09-23T00:00:00",
          "2021-09-24T00:00:00",
          "2021-09-25T00:00:00",
          "2021-09-26T00:00:00",
          "2021-09-27T00:00:00",
          "2021-09-28T00:00:00",
          "2021-09-29T00:00:00",
          "2021-09-30T00:00:00",
          "2021-10-01T00:00:00",
          "2021-10-02T00:00:00",
          "2021-10-03T00:00:00",
          "2021-10-04T00:00:00",
          "2021-10-05T00:00:00",
          "2021-10-06T00:00:00",
          "2021-10-07T00:00:00",
          "2021-10-08T00:00:00",
          "2021-10-09T00:00:00",
          "2021-10-10T00:00:00",
          "2021-10-11T00:00:00",
          "2021-10-12T00:00:00",
          "2021-10-13T00:00:00",
          "2021-10-14T00:00:00",
          "2021-10-15T00:00:00",
          "2021-10-16T00:00:00",
          "2021-10-17T00:00:00",
          "2021-10-18T00:00:00",
          "2021-10-19T00:00:00",
          "2021-10-20T00:00:00",
          "2021-10-21T00:00:00",
          "2021-10-22T00:00:00",
          "2021-10-23T00:00:00",
          "2021-10-24T00:00:00",
          "2021-10-25T00:00:00",
          "2021-10-26T00:00:00",
          "2021-10-27T00:00:00",
          "2021-10-28T00:00:00",
          "2021-10-29T00:00:00",
          "2021-10-30T00:00:00",
          "2021-10-31T00:00:00",
          "2021-11-01T00:00:00",
          "2021-11-02T00:00:00",
          "2021-11-03T00:00:00",
          "2021-11-04T00:00:00",
          "2021-11-05T00:00:00",
          "2021-11-06T00:00:00",
          "2021-11-07T00:00:00",
          "2021-11-08T00:00:00",
          "2021-11-09T00:00:00",
          "2021-11-10T00:00:00",
          "2021-11-11T00:00:00",
          "2021-11-12T00:00:00",
          "2021-11-13T00:00:00",
          "2021-11-14T00:00:00",
          "2021-11-15T00:00:00",
          "2021-11-16T00:00:00",
          "2021-11-17T00:00:00",
          "2021-11-18T00:00:00",
          "2021-11-19T00:00:00",
          "2021-11-20T00:00:00",
          "2021-11-21T00:00:00",
          "2021-11-22T00:00:00",
          "2021-11-23T00:00:00",
          "2021-11-24T00:00:00",
          "2021-11-25T00:00:00",
          "2021-11-26T00:00:00",
          "2021-11-27T00:00:00",
          "2021-11-28T00:00:00",
          "2021-11-29T00:00:00",
          "2021-11-30T00:00:00",
          "2021-12-01T00:00:00",
          "2021-12-02T00:00:00",
          "2021-12-03T00:00:00",
          "2021-12-04T00:00:00",
          "2021-12-05T00:00:00",
          "2021-12-06T00:00:00",
          "2021-12-07T00:00:00",
          "2021-12-08T00:00:00",
          "2021-12-09T00:00:00",
          "2021-12-10T00:00:00",
          "2021-12-11T00:00:00",
          "2021-12-12T00:00:00",
          "2021-12-13T00:00:00",
          "2021-12-14T00:00:00",
          "2021-12-15T00:00:00",
          "2021-12-16T00:00:00",
          "2021-12-17T00:00:00",
          "2021-12-18T00:00:00",
          "2021-12-19T00:00:00",
          "2021-12-20T00:00:00",
          "2021-12-21T00:00:00",
          "2021-12-22T00:00:00",
          "2021-12-23T00:00:00",
          "2021-12-24T00:00:00",
          "2021-12-25T00:00:00",
          "2021-12-26T00:00:00",
          "2021-12-27T00:00:00",
          "2021-12-28T00:00:00",
          "2021-12-29T00:00:00",
          "2021-12-30T00:00:00",
          "2021-12-31T00:00:00",
          "2022-01-01T00:00:00",
          "2022-01-02T00:00:00",
          "2022-01-03T00:00:00",
          "2022-01-04T00:00:00",
          "2022-01-05T00:00:00",
          "2022-01-06T00:00:00",
          "2022-01-07T00:00:00",
          "2022-01-08T00:00:00",
          "2022-01-09T00:00:00",
          "2022-01-10T00:00:00",
          "2022-01-11T00:00:00",
          "2022-01-12T00:00:00",
          "2022-01-13T00:00:00",
          "2022-01-14T00:00:00",
          "2022-01-15T00:00:00",
          "2022-01-16T00:00:00",
          "2022-01-17T00:00:00",
          "2022-01-18T00:00:00",
          "2022-01-19T00:00:00",
          "2022-01-20T00:00:00",
          "2022-01-21T00:00:00",
          "2022-01-22T00:00:00",
          "2022-01-23T00:00:00",
          "2022-01-24T00:00:00",
          "2022-01-25T00:00:00",
          "2022-01-26T00:00:00",
          "2022-01-27T00:00:00",
          "2022-01-28T00:00:00",
          "2022-01-29T00:00:00",
          "2022-01-30T00:00:00",
          "2022-01-31T00:00:00",
          "2022-02-01T00:00:00",
          "2022-02-02T00:00:00",
          "2022-02-03T00:00:00",
          "2022-02-04T00:00:00",
          "2022-02-05T00:00:00",
          "2022-02-06T00:00:00",
          "2022-02-07T00:00:00",
          "2022-02-08T00:00:00",
          "2022-02-09T00:00:00",
          "2022-02-10T00:00:00",
          "2022-02-11T00:00:00",
          "2022-02-12T00:00:00",
          "2022-02-13T00:00:00",
          "2022-02-14T00:00:00",
          "2022-02-15T00:00:00",
          "2022-02-16T00:00:00",
          "2022-02-17T00:00:00",
          "2022-02-18T00:00:00",
          "2022-02-19T00:00:00",
          "2022-02-20T00:00:00",
          "2022-02-21T00:00:00",
          "2022-02-22T00:00:00",
          "2022-02-23T00:00:00",
          "2022-02-24T00:00:00",
          "2022-02-25T00:00:00",
          "2022-02-26T00:00:00",
          "2022-02-27T00:00:00",
          "2022-02-28T00:00:00",
          "2022-03-01T00:00:00",
          "2022-03-02T00:00:00",
          "2022-03-03T00:00:00",
          "2022-03-04T00:00:00",
          "2022-03-05T00:00:00",
          "2022-03-06T00:00:00",
          "2022-03-07T00:00:00",
          "2022-03-08T00:00:00",
          "2022-03-09T00:00:00",
          "2022-03-10T00:00:00",
          "2022-03-11T00:00:00",
          "2022-03-12T00:00:00",
          "2022-03-13T00:00:00",
          "2022-03-14T00:00:00",
          "2022-03-15T00:00:00",
          "2022-03-16T00:00:00",
          "2022-03-17T00:00:00",
          "2022-03-18T00:00:00",
          "2022-03-19T00:00:00",
          "2022-03-20T00:00:00",
          "2022-03-21T00:00:00",
          "2022-03-22T00:00:00",
          "2022-03-23T00:00:00",
          "2022-03-24T00:00:00",
          "2022-03-25T00:00:00",
          "2022-03-26T00:00:00",
          "2022-03-27T00:00:00",
          "2022-03-28T00:00:00",
          "2022-03-29T00:00:00",
          "2022-03-30T00:00:00",
          "2022-03-31T00:00:00",
          "2022-04-01T00:00:00",
          "2022-04-02T00:00:00",
          "2022-04-03T00:00:00",
          "2022-04-04T00:00:00",
          "2022-04-05T00:00:00",
          "2022-04-06T00:00:00",
          "2022-04-07T00:00:00",
          "2022-04-08T00:00:00",
          "2022-04-09T00:00:00",
          "2022-04-10T00:00:00",
          "2022-04-11T00:00:00",
          "2022-04-12T00:00:00",
          "2022-04-13T00:00:00",
          "2022-04-14T00:00:00",
          "2022-04-15T00:00:00",
          "2022-04-16T00:00:00",
          "2022-04-17T00:00:00",
          "2022-04-18T00:00:00",
          "2022-04-19T00:00:00",
          "2022-04-20T00:00:00",
          "2022-04-21T00:00:00",
          "2022-04-22T00:00:00",
          "2022-04-23T00:00:00",
          "2022-04-24T00:00:00",
          "2022-04-25T00:00:00",
          "2022-04-26T00:00:00",
          "2022-04-27T00:00:00",
          "2022-04-28T00:00:00",
          "2022-04-29T00:00:00",
          "2022-04-30T00:00:00",
          "2022-05-01T00:00:00",
          "2022-05-02T00:00:00",
          "2022-05-03T00:00:00",
          "2022-05-04T00:00:00",
          "2022-05-05T00:00:00",
          "2022-05-06T00:00:00",
          "2022-05-07T00:00:00",
          "2022-05-08T00:00:00",
          "2022-05-09T00:00:00",
          "2022-05-10T00:00:00",
          "2022-05-11T00:00:00",
          "2022-05-12T00:00:00",
          "2022-05-13T00:00:00",
          "2022-05-14T00:00:00",
          "2022-05-15T00:00:00",
          "2022-05-16T00:00:00",
          "2022-05-17T00:00:00",
          "2022-05-18T00:00:00",
          "2022-05-19T00:00:00",
          "2022-05-20T00:00:00",
          "2022-05-21T00:00:00",
          "2022-05-22T00:00:00",
          "2022-05-23T00:00:00",
          "2022-05-24T00:00:00",
          "2022-05-25T00:00:00",
          "2022-05-26T00:00:00",
          "2022-05-27T00:00:00",
          "2022-05-28T00:00:00",
          "2022-05-29T00:00:00",
          "2022-05-30T00:00:00",
          "2022-05-31T00:00:00",
          "2022-06-01T00:00:00",
          "2022-06-02T00:00:00",
          "2022-06-03T00:00:00",
          "2022-06-04T00:00:00",
          "2022-06-05T00:00:00",
          "2022-06-06T00:00:00",
          "2022-06-07T00:00:00",
          "2022-06-08T00:00:00",
          "2022-06-09T00:00:00",
          "2022-06-10T00:00:00",
          "2022-06-11T00:00:00",
          "2022-06-12T00:00:00",
          "2022-06-13T00:00:00",
          "2022-06-14T00:00:00",
          "2022-06-15T00:00:00",
          "2022-06-16T00:00:00",
          "2022-06-17T00:00:00",
          "2022-06-18T00:00:00",
          "2022-06-19T00:00:00",
          "2022-06-20T00:00:00",
          "2022-06-21T00:00:00",
          "2022-06-22T00:00:00",
          "2022-06-23T00:00:00",
          "2022-06-24T00:00:00",
          "2022-06-25T00:00:00",
          "2022-06-26T00:00:00",
          "2022-06-27T00:00:00",
          "2022-06-28T00:00:00",
          "2022-06-29T00:00:00",
          "2022-06-30T00:00:00",
          "2022-07-01T00:00:00",
          "2022-07-02T00:00:00",
          "2022-07-03T00:00:00",
          "2022-07-04T00:00:00",
          "2022-07-05T00:00:00",
          "2022-07-06T00:00:00",
          "2022-07-07T00:00:00",
          "2022-07-08T00:00:00",
          "2022-07-09T00:00:00",
          "2022-07-10T00:00:00",
          "2022-07-11T00:00:00",
          "2022-07-12T00:00:00",
          "2022-07-13T00:00:00",
          "2022-07-14T00:00:00",
          "2022-07-15T00:00:00",
          "2022-07-16T00:00:00",
          "2022-07-17T00:00:00",
          "2022-07-18T00:00:00",
          "2022-07-19T00:00:00",
          "2022-07-20T00:00:00"
         ],
         "xaxis": "x",
         "y": [
          2,
          2,
          2,
          2,
          2,
          2,
          2,
          2,
          2,
          6,
          6,
          8,
          8,
          8,
          10,
          10,
          13,
          13,
          14,
          15,
          15,
          16,
          16,
          16,
          16,
          16,
          16,
          16,
          16,
          16,
          16,
          16,
          16,
          16,
          16,
          16,
          16,
          16,
          16,
          16,
          16,
          16,
          16,
          16,
          18,
          30,
          30,
          31,
          38,
          39,
          47,
          53,
          56,
          61,
          66,
          75,
          85,
          91,
          94,
          113,
          123,
          134,
          141,
          153,
          163,
          174,
          188,
          203,
          212,
          218,
          233,
          237,
          240,
          241,
          245,
          249,
          251,
          255,
          257,
          258,
          262,
          265,
          266,
          267,
          268,
          268,
          268,
          268,
          268,
          268,
          268,
          268,
          270,
          270,
          270,
          270,
          270,
          270,
          270,
          270,
          270,
          271,
          271,
          271,
          271,
          288,
          288,
          288,
          288,
          288,
          288,
          288,
          312,
          314,
          318,
          320,
          324,
          324,
          324,
          324,
          324,
          325,
          325,
          326,
          327,
          327,
          327,
          328,
          328,
          328,
          328,
          328,
          328,
          328,
          328,
          329,
          331,
          332,
          332,
          332,
          332,
          333,
          334,
          334,
          334,
          334,
          335,
          342,
          349,
          349,
          349,
          349,
          349,
          352,
          352,
          353,
          355,
          355,
          355,
          355,
          355,
          355,
          355,
          355,
          355,
          369,
          369,
          369,
          369,
          370,
          370,
          372,
          373,
          373,
          381,
          381,
          382,
          382,
          383,
          384,
          401,
          408,
          412,
          415,
          417,
          420,
          431,
          446,
          459,
          509,
          558,
          590,
          621,
          652,
          672,
          717,
          750,
          789,
          812,
          841,
          847,
          866,
          883,
          911,
          930,
          951,
          964,
          983,
          989,
          994,
          1007,
          1009,
          1014,
          1016,
          1022,
          1029,
          1034,
          1036,
          1038,
          1040,
          1040,
          1044,
          1044,
          1046,
          1046,
          1049,
          1049,
          1049,
          1049,
          1054,
          1059,
          1059,
          1060,
          1060,
          1063,
          1063,
          1063,
          1063,
          1066,
          1068,
          1068,
          1068,
          1068,
          1068,
          1069,
          1069,
          1069,
          1069,
          1074,
          1077,
          1094,
          1094,
          1095,
          1096,
          1096,
          1096,
          1097,
          1098,
          1099,
          1100,
          1105,
          1107,
          1109,
          1110,
          1113,
          1122,
          1124,
          1124,
          1126,
          1134,
          1140,
          1141,
          1144,
          1148,
          1148,
          1160,
          1168,
          1169,
          1172,
          1173,
          1177,
          1177,
          1180,
          1180,
          1192,
          1202,
          1203,
          1207,
          1212,
          1213,
          1213,
          1215,
          1226,
          1252,
          1253,
          1256,
          1265,
          1281,
          1283,
          1288,
          1300,
          1304,
          1305,
          1306,
          1307,
          1312,
          1316,
          1321,
          1331,
          1339,
          1341,
          1343,
          1347,
          1351,
          1358,
          1361,
          1361,
          1365,
          1366,
          1367,
          1377,
          1381,
          1385,
          1391,
          1395,
          1397,
          1402,
          1405,
          1405,
          1407,
          1410,
          1411,
          1413,
          1414,
          1420,
          1421,
          1432,
          1439,
          1440,
          1441,
          1451,
          1454,
          1456,
          1465,
          1474,
          1482,
          1494,
          1497,
          1504,
          1505,
          1509,
          1512,
          1513,
          1514,
          1515,
          1520,
          1521,
          1531,
          1536,
          1537,
          1537,
          1539,
          1540,
          1544,
          1546,
          1548,
          1548,
          1548,
          1549,
          1551,
          1553,
          1651,
          1657,
          1767,
          1817,
          1850,
          1882,
          1948,
          1957,
          1976,
          1985,
          2001,
          2050,
          2064,
          2091,
          2140,
          2142,
          2195,
          2228,
          2269,
          2311,
          2329,
          2347,
          2362,
          2368,
          2383,
          2392,
          2403,
          2412,
          2421,
          2426,
          2432,
          2448,
          2448,
          2475,
          2482,
          2488,
          2494,
          2501,
          2512,
          2524,
          2526,
          2529,
          2533,
          2550,
          2553,
          2554,
          2557,
          2560,
          2567,
          2570,
          2571,
          2572,
          2572,
          2575,
          2575,
          2576,
          2579,
          2586,
          2586,
          2591,
          2594,
          2594,
          2603,
          2617,
          2620,
          2626,
          2631,
          2637,
          2648,
          2659,
          2668,
          2683,
          2692,
          2693,
          2705,
          2714,
          2733,
          2758,
          2772,
          2781,
          2785,
          2791,
          2800,
          2812,
          2824,
          2830,
          2833,
          2843,
          2852,
          2857,
          2865,
          2910,
          2928,
          2942,
          2962,
          2985,
          2995,
          3030,
          3090,
          3137,
          3245,
          3412,
          3489,
          3571,
          3658,
          3740,
          3816,
          4112,
          4212,
          4359,
          4512,
          4720,
          4809,
          4941,
          5119,
          5275,
          5404,
          5931,
          6086,
          6356,
          6396,
          6908,
          7107,
          7432,
          7625,
          7870,
          8063,
          8364,
          8580,
          8791,
          9027,
          9222,
          9635,
          9835,
          10048,
          10337,
          10630,
          10881,
          11304,
          11794,
          12150,
          12508,
          12978,
          13258,
          13530,
          13782,
          13989,
          14323,
          14537,
          15325,
          15740,
          16136,
          16507,
          17052,
          17727,
          18121,
          19310,
          20261,
          21312,
          22341,
          23385,
          24810,
          26608,
          28470,
          30478,
          32665,
          35409,
          38239,
          42288,
          46292,
          51002,
          55845,
          60180,
          65607,
          71144,
          78269,
          86957,
          94913,
          101173,
          106347,
          117121,
          123640,
          133405,
          141122,
          150060,
          157507,
          157507,
          174461,
          181756,
          189066,
          193381,
          205656,
          215560,
          224894,
          232937,
          241543,
          246568,
          255748,
          265464,
          275044,
          283696,
          293301,
          302101,
          312611,
          323268,
          336707,
          348059,
          358456,
          369267,
          381363,
          392938,
          410366,
          422469,
          435265,
          449489,
          462096,
          473530,
          486727,
          501649,
          511170,
          524307,
          536788,
          550996,
          563676,
          576096,
          589417,
          601349,
          613375,
          624547,
          635055,
          645640,
          656129,
          667650,
          677023,
          687063,
          695744,
          707436,
          718963,
          728435,
          736972,
          746678,
          756689,
          766051,
          770640,
          779398,
          790755,
          797712,
          803202,
          808578,
          813961,
          818324,
          822687,
          826837,
          831643,
          836134,
          839662,
          843281,
          846230,
          849691,
          853842,
          857639,
          860860,
          864053,
          867221,
          870255,
          873901,
          877537,
          881522,
          884895,
          888940,
          892579,
          896174,
          900585,
          905477,
          910376,
          915603,
          921122,
          926720,
          932357,
          939463,
          946043,
          953547,
          961038,
          968684,
          976672,
          984805,
          992735,
          1000897,
          1009879,
          1018346,
          1026522,
          1035138,
          1045397,
          1055246,
          1065469,
          1075094,
          1084625,
          1094514,
          1104835,
          1143967,
          1155778,
          1168228,
          1181337,
          1197404,
          1210340,
          1224110,
          1238082,
          1252590,
          1266288,
          1280780,
          1294778,
          1309092,
          1323683,
          1337523,
          1352122,
          1367433,
          1382272,
          1398413,
          1413051,
          1428428,
          1443648,
          1459175,
          1493237,
          1508473,
          1524368,
          1540478,
          1555455,
          1571780,
          1588335,
          1604712,
          1620869,
          1636455,
          1651673,
          1666545,
          1680985,
          1694874,
          1714742,
          1731257,
          1746092,
          1763040,
          1778976,
          1800704,
          1817721,
          1843563,
          1859841,
          1876394,
          1899575,
          1914393,
          1930428,
          1958719,
          1975444,
          1991484,
          2007862,
          2023546,
          2023546,
          2062128,
          2078087,
          2094802,
          2110737,
          2126444,
          2141422,
          2155784,
          2171527,
          2187481,
          2203208,
          2218137,
          2233287,
          2263053,
          2275727,
          2286750,
          2295494,
          2304095,
          2315689,
          2327859,
          2341971,
          2358786,
          2380695,
          2404651,
          2430683,
          2457170,
          2484481,
          2510860,
          2540273,
          2572087,
          2606824,
          2643024,
          2685463,
          2740293,
          2787493,
          2834373,
          2890522,
          2972378,
          3041506,
          3120301,
          3219177,
          3321005,
          3443485,
          3557629,
          3709481,
          3885631,
          4059262,
          4232520,
          4434700,
          4582058,
          4776873,
          5042036,
          5260495,
          5448935,
          5903147,
          6112648,
          6377438,
          6552918,
          6820458,
          7174423,
          7367112,
          7791841,
          7958048,
          8089761,
          8338914,
          8479751,
          8599751,
          8761252,
          8919557,
          9011473,
          9274849,
          9386489,
          9472254,
          9564609,
          9650663,
          9716282,
          9818328,
          9867045,
          9922040,
          9980464,
          10070692,
          10135789,
          10169929,
          10198236,
          10250160,
          10272964,
          10297587,
          10320599,
          10394533,
          10417887,
          10432547,
          10475819,
          10489319,
          10502590,
          10533164,
          10544324,
          10554689,
          10563502,
          10571772,
          10620203,
          10631516,
          10638632,
          10644700,
          10649809,
          10653526,
          10656649,
          10659358,
          10662446,
          10666751,
          10670570,
          10673915,
          10676184,
          10678359,
          10681214,
          10683972,
          10690471,
          10693141,
          10695036,
          10696630,
          10698180,
          10699965,
          10701796,
          10704524,
          10706111,
          10707568,
          10708887,
          10710066,
          10711389,
          10712733,
          10714008,
          10715247,
          10716361,
          10717251,
          10718369,
          10719379,
          10720426,
          10722634,
          10723673,
          10724554,
          10725239,
          10726045,
          10727005,
          10727918,
          10728720,
          10729681,
          10731244,
          10731812,
          10732429,
          10733285,
          10734151,
          10734925,
          10736408,
          10737107,
          10737640,
          10738161,
          10738909,
          10739855,
          10740595,
          10742234,
          10742891,
          10743448,
          10744085,
          10744854,
          10745631,
          10746470,
          10747397,
          10748127,
          10748639,
          10749324,
          10750313,
          10751227,
          10752140,
          10752942,
          10754348,
          10754813,
          10755381,
          10756254,
          10757257,
          10758189,
          10759145,
          10759850,
          10760595,
          10761435,
          10762532,
          10763694
         ],
         "yaxis": "y"
        }
       ],
       "layout": {
        "legend": {
         "tracegroupgap": 0
        },
        "template": {
         "data": {
          "bar": [
           {
            "error_x": {
             "color": "#2a3f5f"
            },
            "error_y": {
             "color": "#2a3f5f"
            },
            "marker": {
             "line": {
              "color": "#E5ECF6",
              "width": 0.5
             },
             "pattern": {
              "fillmode": "overlay",
              "size": 10,
              "solidity": 0.2
             }
            },
            "type": "bar"
           }
          ],
          "barpolar": [
           {
            "marker": {
             "line": {
              "color": "#E5ECF6",
              "width": 0.5
             },
             "pattern": {
              "fillmode": "overlay",
              "size": 10,
              "solidity": 0.2
             }
            },
            "type": "barpolar"
           }
          ],
          "carpet": [
           {
            "aaxis": {
             "endlinecolor": "#2a3f5f",
             "gridcolor": "white",
             "linecolor": "white",
             "minorgridcolor": "white",
             "startlinecolor": "#2a3f5f"
            },
            "baxis": {
             "endlinecolor": "#2a3f5f",
             "gridcolor": "white",
             "linecolor": "white",
             "minorgridcolor": "white",
             "startlinecolor": "#2a3f5f"
            },
            "type": "carpet"
           }
          ],
          "choropleth": [
           {
            "colorbar": {
             "outlinewidth": 0,
             "ticks": ""
            },
            "type": "choropleth"
           }
          ],
          "contour": [
           {
            "colorbar": {
             "outlinewidth": 0,
             "ticks": ""
            },
            "colorscale": [
             [
              0,
              "#0d0887"
             ],
             [
              0.1111111111111111,
              "#46039f"
             ],
             [
              0.2222222222222222,
              "#7201a8"
             ],
             [
              0.3333333333333333,
              "#9c179e"
             ],
             [
              0.4444444444444444,
              "#bd3786"
             ],
             [
              0.5555555555555556,
              "#d8576b"
             ],
             [
              0.6666666666666666,
              "#ed7953"
             ],
             [
              0.7777777777777778,
              "#fb9f3a"
             ],
             [
              0.8888888888888888,
              "#fdca26"
             ],
             [
              1,
              "#f0f921"
             ]
            ],
            "type": "contour"
           }
          ],
          "contourcarpet": [
           {
            "colorbar": {
             "outlinewidth": 0,
             "ticks": ""
            },
            "type": "contourcarpet"
           }
          ],
          "heatmap": [
           {
            "colorbar": {
             "outlinewidth": 0,
             "ticks": ""
            },
            "colorscale": [
             [
              0,
              "#0d0887"
             ],
             [
              0.1111111111111111,
              "#46039f"
             ],
             [
              0.2222222222222222,
              "#7201a8"
             ],
             [
              0.3333333333333333,
              "#9c179e"
             ],
             [
              0.4444444444444444,
              "#bd3786"
             ],
             [
              0.5555555555555556,
              "#d8576b"
             ],
             [
              0.6666666666666666,
              "#ed7953"
             ],
             [
              0.7777777777777778,
              "#fb9f3a"
             ],
             [
              0.8888888888888888,
              "#fdca26"
             ],
             [
              1,
              "#f0f921"
             ]
            ],
            "type": "heatmap"
           }
          ],
          "heatmapgl": [
           {
            "colorbar": {
             "outlinewidth": 0,
             "ticks": ""
            },
            "colorscale": [
             [
              0,
              "#0d0887"
             ],
             [
              0.1111111111111111,
              "#46039f"
             ],
             [
              0.2222222222222222,
              "#7201a8"
             ],
             [
              0.3333333333333333,
              "#9c179e"
             ],
             [
              0.4444444444444444,
              "#bd3786"
             ],
             [
              0.5555555555555556,
              "#d8576b"
             ],
             [
              0.6666666666666666,
              "#ed7953"
             ],
             [
              0.7777777777777778,
              "#fb9f3a"
             ],
             [
              0.8888888888888888,
              "#fdca26"
             ],
             [
              1,
              "#f0f921"
             ]
            ],
            "type": "heatmapgl"
           }
          ],
          "histogram": [
           {
            "marker": {
             "pattern": {
              "fillmode": "overlay",
              "size": 10,
              "solidity": 0.2
             }
            },
            "type": "histogram"
           }
          ],
          "histogram2d": [
           {
            "colorbar": {
             "outlinewidth": 0,
             "ticks": ""
            },
            "colorscale": [
             [
              0,
              "#0d0887"
             ],
             [
              0.1111111111111111,
              "#46039f"
             ],
             [
              0.2222222222222222,
              "#7201a8"
             ],
             [
              0.3333333333333333,
              "#9c179e"
             ],
             [
              0.4444444444444444,
              "#bd3786"
             ],
             [
              0.5555555555555556,
              "#d8576b"
             ],
             [
              0.6666666666666666,
              "#ed7953"
             ],
             [
              0.7777777777777778,
              "#fb9f3a"
             ],
             [
              0.8888888888888888,
              "#fdca26"
             ],
             [
              1,
              "#f0f921"
             ]
            ],
            "type": "histogram2d"
           }
          ],
          "histogram2dcontour": [
           {
            "colorbar": {
             "outlinewidth": 0,
             "ticks": ""
            },
            "colorscale": [
             [
              0,
              "#0d0887"
             ],
             [
              0.1111111111111111,
              "#46039f"
             ],
             [
              0.2222222222222222,
              "#7201a8"
             ],
             [
              0.3333333333333333,
              "#9c179e"
             ],
             [
              0.4444444444444444,
              "#bd3786"
             ],
             [
              0.5555555555555556,
              "#d8576b"
             ],
             [
              0.6666666666666666,
              "#ed7953"
             ],
             [
              0.7777777777777778,
              "#fb9f3a"
             ],
             [
              0.8888888888888888,
              "#fdca26"
             ],
             [
              1,
              "#f0f921"
             ]
            ],
            "type": "histogram2dcontour"
           }
          ],
          "mesh3d": [
           {
            "colorbar": {
             "outlinewidth": 0,
             "ticks": ""
            },
            "type": "mesh3d"
           }
          ],
          "parcoords": [
           {
            "line": {
             "colorbar": {
              "outlinewidth": 0,
              "ticks": ""
             }
            },
            "type": "parcoords"
           }
          ],
          "pie": [
           {
            "automargin": true,
            "type": "pie"
           }
          ],
          "scatter": [
           {
            "fillpattern": {
             "fillmode": "overlay",
             "size": 10,
             "solidity": 0.2
            },
            "type": "scatter"
           }
          ],
          "scatter3d": [
           {
            "line": {
             "colorbar": {
              "outlinewidth": 0,
              "ticks": ""
             }
            },
            "marker": {
             "colorbar": {
              "outlinewidth": 0,
              "ticks": ""
             }
            },
            "type": "scatter3d"
           }
          ],
          "scattercarpet": [
           {
            "marker": {
             "colorbar": {
              "outlinewidth": 0,
              "ticks": ""
             }
            },
            "type": "scattercarpet"
           }
          ],
          "scattergeo": [
           {
            "marker": {
             "colorbar": {
              "outlinewidth": 0,
              "ticks": ""
             }
            },
            "type": "scattergeo"
           }
          ],
          "scattergl": [
           {
            "marker": {
             "colorbar": {
              "outlinewidth": 0,
              "ticks": ""
             }
            },
            "type": "scattergl"
           }
          ],
          "scattermapbox": [
           {
            "marker": {
             "colorbar": {
              "outlinewidth": 0,
              "ticks": ""
             }
            },
            "type": "scattermapbox"
           }
          ],
          "scatterpolar": [
           {
            "marker": {
             "colorbar": {
              "outlinewidth": 0,
              "ticks": ""
             }
            },
            "type": "scatterpolar"
           }
          ],
          "scatterpolargl": [
           {
            "marker": {
             "colorbar": {
              "outlinewidth": 0,
              "ticks": ""
             }
            },
            "type": "scatterpolargl"
           }
          ],
          "scatterternary": [
           {
            "marker": {
             "colorbar": {
              "outlinewidth": 0,
              "ticks": ""
             }
            },
            "type": "scatterternary"
           }
          ],
          "surface": [
           {
            "colorbar": {
             "outlinewidth": 0,
             "ticks": ""
            },
            "colorscale": [
             [
              0,
              "#0d0887"
             ],
             [
              0.1111111111111111,
              "#46039f"
             ],
             [
              0.2222222222222222,
              "#7201a8"
             ],
             [
              0.3333333333333333,
              "#9c179e"
             ],
             [
              0.4444444444444444,
              "#bd3786"
             ],
             [
              0.5555555555555556,
              "#d8576b"
             ],
             [
              0.6666666666666666,
              "#ed7953"
             ],
             [
              0.7777777777777778,
              "#fb9f3a"
             ],
             [
              0.8888888888888888,
              "#fdca26"
             ],
             [
              1,
              "#f0f921"
             ]
            ],
            "type": "surface"
           }
          ],
          "table": [
           {
            "cells": {
             "fill": {
              "color": "#EBF0F8"
             },
             "line": {
              "color": "white"
             }
            },
            "header": {
             "fill": {
              "color": "#C8D4E3"
             },
             "line": {
              "color": "white"
             }
            },
            "type": "table"
           }
          ]
         },
         "layout": {
          "annotationdefaults": {
           "arrowcolor": "#2a3f5f",
           "arrowhead": 0,
           "arrowwidth": 1
          },
          "autotypenumbers": "strict",
          "coloraxis": {
           "colorbar": {
            "outlinewidth": 0,
            "ticks": ""
           }
          },
          "colorscale": {
           "diverging": [
            [
             0,
             "#8e0152"
            ],
            [
             0.1,
             "#c51b7d"
            ],
            [
             0.2,
             "#de77ae"
            ],
            [
             0.3,
             "#f1b6da"
            ],
            [
             0.4,
             "#fde0ef"
            ],
            [
             0.5,
             "#f7f7f7"
            ],
            [
             0.6,
             "#e6f5d0"
            ],
            [
             0.7,
             "#b8e186"
            ],
            [
             0.8,
             "#7fbc41"
            ],
            [
             0.9,
             "#4d9221"
            ],
            [
             1,
             "#276419"
            ]
           ],
           "sequential": [
            [
             0,
             "#0d0887"
            ],
            [
             0.1111111111111111,
             "#46039f"
            ],
            [
             0.2222222222222222,
             "#7201a8"
            ],
            [
             0.3333333333333333,
             "#9c179e"
            ],
            [
             0.4444444444444444,
             "#bd3786"
            ],
            [
             0.5555555555555556,
             "#d8576b"
            ],
            [
             0.6666666666666666,
             "#ed7953"
            ],
            [
             0.7777777777777778,
             "#fb9f3a"
            ],
            [
             0.8888888888888888,
             "#fdca26"
            ],
            [
             1,
             "#f0f921"
            ]
           ],
           "sequentialminus": [
            [
             0,
             "#0d0887"
            ],
            [
             0.1111111111111111,
             "#46039f"
            ],
            [
             0.2222222222222222,
             "#7201a8"
            ],
            [
             0.3333333333333333,
             "#9c179e"
            ],
            [
             0.4444444444444444,
             "#bd3786"
            ],
            [
             0.5555555555555556,
             "#d8576b"
            ],
            [
             0.6666666666666666,
             "#ed7953"
            ],
            [
             0.7777777777777778,
             "#fb9f3a"
            ],
            [
             0.8888888888888888,
             "#fdca26"
            ],
            [
             1,
             "#f0f921"
            ]
           ]
          },
          "colorway": [
           "#636efa",
           "#EF553B",
           "#00cc96",
           "#ab63fa",
           "#FFA15A",
           "#19d3f3",
           "#FF6692",
           "#B6E880",
           "#FF97FF",
           "#FECB52"
          ],
          "font": {
           "color": "#2a3f5f"
          },
          "geo": {
           "bgcolor": "white",
           "lakecolor": "white",
           "landcolor": "#E5ECF6",
           "showlakes": true,
           "showland": true,
           "subunitcolor": "white"
          },
          "hoverlabel": {
           "align": "left"
          },
          "hovermode": "closest",
          "mapbox": {
           "style": "light"
          },
          "paper_bgcolor": "white",
          "plot_bgcolor": "#E5ECF6",
          "polar": {
           "angularaxis": {
            "gridcolor": "white",
            "linecolor": "white",
            "ticks": ""
           },
           "bgcolor": "#E5ECF6",
           "radialaxis": {
            "gridcolor": "white",
            "linecolor": "white",
            "ticks": ""
           }
          },
          "scene": {
           "xaxis": {
            "backgroundcolor": "#E5ECF6",
            "gridcolor": "white",
            "gridwidth": 2,
            "linecolor": "white",
            "showbackground": true,
            "ticks": "",
            "zerolinecolor": "white"
           },
           "yaxis": {
            "backgroundcolor": "#E5ECF6",
            "gridcolor": "white",
            "gridwidth": 2,
            "linecolor": "white",
            "showbackground": true,
            "ticks": "",
            "zerolinecolor": "white"
           },
           "zaxis": {
            "backgroundcolor": "#E5ECF6",
            "gridcolor": "white",
            "gridwidth": 2,
            "linecolor": "white",
            "showbackground": true,
            "ticks": "",
            "zerolinecolor": "white"
           }
          },
          "shapedefaults": {
           "line": {
            "color": "#2a3f5f"
           }
          },
          "ternary": {
           "aaxis": {
            "gridcolor": "white",
            "linecolor": "white",
            "ticks": ""
           },
           "baxis": {
            "gridcolor": "white",
            "linecolor": "white",
            "ticks": ""
           },
           "bgcolor": "#E5ECF6",
           "caxis": {
            "gridcolor": "white",
            "linecolor": "white",
            "ticks": ""
           }
          },
          "title": {
           "x": 0.05
          },
          "xaxis": {
           "automargin": true,
           "gridcolor": "white",
           "linecolor": "white",
           "ticks": "",
           "title": {
            "standoff": 15
           },
           "zerolinecolor": "white",
           "zerolinewidth": 2
          },
          "yaxis": {
           "automargin": true,
           "gridcolor": "white",
           "linecolor": "white",
           "ticks": "",
           "title": {
            "standoff": 15
           },
           "zerolinecolor": "white",
           "zerolinewidth": 2
          }
         }
        },
        "title": {
         "text": "Tổng số ca nhiễm bệnh theo thời gian"
        },
        "xaxis": {
         "anchor": "y",
         "domain": [
          0,
          1
         ],
         "dtick": "M1",
         "tickformat": "%b\n%Y",
         "title": {
          "text": "date"
         }
        },
        "yaxis": {
         "anchor": "x",
         "domain": [
          0,
          1
         ],
         "title": {
          "text": "total_cases"
         }
        }
       }
      }
     },
     "metadata": {},
     "output_type": "display_data"
    }
   ],
   "source": [
    "fig = px.line(df, x=\"date\", y=\"total_cases\",\n",
    "              hover_data={\"date\": \"|%B %d, %Y\"},\n",
    "              title='Tổng số ca nhiễm bệnh theo thời gian')\n",
    "fig.update_xaxes(\n",
    "    dtick=\"M1\",\n",
    "    tickformat=\"%b\\n%Y\")\n",
    "fig.show()"
   ]
  },
  {
   "cell_type": "markdown",
   "metadata": {},
   "source": [
    "## Nhận xét:\n",
    "- Ta có thể thấy rằng dịch bắt đầu bùng phát mạnh vào tháng 7. Cùng thời điểm đó, nhà nước đã siết chặt các quy định đi lại nhằm hạn chế tối đa sự lây lang nhanh chóng của dịch COVID-19. Nhờ vậy mà đồ thị không có dạng dựng đứng như các quốc gia khác ở thời kỳ đầu bùng dịch. ([link](https://tuoitre.vn/tp-hcm-gian-cach-toan-thanh-pho-theo-chi-thi-16-trong-15-ngay-tu-0h-9-7-20210707181657126.htm))\n",
    "\n",
    "![](images/chi_thi_16.png)  \n",
    "\n",
    "\n",
    "\n",
    "- Sau giai đoạn phong tỏa kéo dài gây ảnh hưởng nghiêm trọng đến đời sống người dân cũng như là nền kinh tế, nhà nước ta đã quyết định mở cửa trờ lại. Chúng ta có thể thấy là sau đó số lượng ca mắc mới tăng lên rất nhanh, đồ thị dựng đứng. Nhưng vì người dân đã tiêm vắc xin đầy đủ nên số lượng ca chuyển nặng và tử vong vẫn giữ ở mức ổn định. ([link](https://thuvienphapluat.vn/tintuc/vn/thoi-su-phap-luat/thoi-su/37501/tphcm-du-kien-mo-cua-toan-bo-hoat-dong-sau-15-1-2022))\n",
    "![](images/mo_cua.png)"
   ]
  },
  {
   "cell_type": "code",
   "execution_count": null,
   "metadata": {},
   "outputs": [],
   "source": []
  },
  {
   "cell_type": "markdown",
   "metadata": {},
   "source": [
    "# Story 3"
   ]
  },
  {
   "cell_type": "code",
   "execution_count": 6,
   "metadata": {},
   "outputs": [],
   "source": [
    "df_case_death = df[[\"date\", \"total_cases\", \"total_deaths\"]]"
   ]
  },
  {
   "cell_type": "code",
   "execution_count": 7,
   "metadata": {},
   "outputs": [
    {
     "data": {
      "text/html": [
       "<div>\n",
       "<style scoped>\n",
       "    .dataframe tbody tr th:only-of-type {\n",
       "        vertical-align: middle;\n",
       "    }\n",
       "\n",
       "    .dataframe tbody tr th {\n",
       "        vertical-align: top;\n",
       "    }\n",
       "\n",
       "    .dataframe thead th {\n",
       "        text-align: right;\n",
       "    }\n",
       "</style>\n",
       "<table border=\"1\" class=\"dataframe\">\n",
       "  <thead>\n",
       "    <tr style=\"text-align: right;\">\n",
       "      <th></th>\n",
       "      <th>date</th>\n",
       "      <th>total_cases</th>\n",
       "      <th>total_deaths</th>\n",
       "    </tr>\n",
       "  </thead>\n",
       "  <tbody>\n",
       "    <tr>\n",
       "      <th>0</th>\n",
       "      <td>2020-01-23</td>\n",
       "      <td>2</td>\n",
       "      <td>0.0</td>\n",
       "    </tr>\n",
       "    <tr>\n",
       "      <th>1</th>\n",
       "      <td>2020-01-24</td>\n",
       "      <td>2</td>\n",
       "      <td>0.0</td>\n",
       "    </tr>\n",
       "    <tr>\n",
       "      <th>2</th>\n",
       "      <td>2020-01-25</td>\n",
       "      <td>2</td>\n",
       "      <td>0.0</td>\n",
       "    </tr>\n",
       "    <tr>\n",
       "      <th>3</th>\n",
       "      <td>2020-01-26</td>\n",
       "      <td>2</td>\n",
       "      <td>0.0</td>\n",
       "    </tr>\n",
       "    <tr>\n",
       "      <th>4</th>\n",
       "      <td>2020-01-27</td>\n",
       "      <td>2</td>\n",
       "      <td>0.0</td>\n",
       "    </tr>\n",
       "    <tr>\n",
       "      <th>...</th>\n",
       "      <td>...</td>\n",
       "      <td>...</td>\n",
       "      <td>...</td>\n",
       "    </tr>\n",
       "    <tr>\n",
       "      <th>905</th>\n",
       "      <td>2022-07-16</td>\n",
       "      <td>10759850</td>\n",
       "      <td>43091.0</td>\n",
       "    </tr>\n",
       "    <tr>\n",
       "      <th>906</th>\n",
       "      <td>2022-07-17</td>\n",
       "      <td>10760595</td>\n",
       "      <td>43091.0</td>\n",
       "    </tr>\n",
       "    <tr>\n",
       "      <th>907</th>\n",
       "      <td>2022-07-18</td>\n",
       "      <td>10761435</td>\n",
       "      <td>43091.0</td>\n",
       "    </tr>\n",
       "    <tr>\n",
       "      <th>908</th>\n",
       "      <td>2022-07-19</td>\n",
       "      <td>10762532</td>\n",
       "      <td>43091.0</td>\n",
       "    </tr>\n",
       "    <tr>\n",
       "      <th>909</th>\n",
       "      <td>2022-07-20</td>\n",
       "      <td>10763694</td>\n",
       "      <td>43091.0</td>\n",
       "    </tr>\n",
       "  </tbody>\n",
       "</table>\n",
       "<p>910 rows × 3 columns</p>\n",
       "</div>"
      ],
      "text/plain": [
       "          date  total_cases  total_deaths\n",
       "0   2020-01-23            2           0.0\n",
       "1   2020-01-24            2           0.0\n",
       "2   2020-01-25            2           0.0\n",
       "3   2020-01-26            2           0.0\n",
       "4   2020-01-27            2           0.0\n",
       "..         ...          ...           ...\n",
       "905 2022-07-16     10759850       43091.0\n",
       "906 2022-07-17     10760595       43091.0\n",
       "907 2022-07-18     10761435       43091.0\n",
       "908 2022-07-19     10762532       43091.0\n",
       "909 2022-07-20     10763694       43091.0\n",
       "\n",
       "[910 rows x 3 columns]"
      ]
     },
     "execution_count": 7,
     "metadata": {},
     "output_type": "execute_result"
    }
   ],
   "source": [
    "df_case_death = df_case_death.fillna(value=0)\n",
    "df_case_death"
   ]
  },
  {
   "cell_type": "code",
   "execution_count": 8,
   "metadata": {},
   "outputs": [
    {
     "data": {
      "text/html": [
       "<div>\n",
       "<style scoped>\n",
       "    .dataframe tbody tr th:only-of-type {\n",
       "        vertical-align: middle;\n",
       "    }\n",
       "\n",
       "    .dataframe tbody tr th {\n",
       "        vertical-align: top;\n",
       "    }\n",
       "\n",
       "    .dataframe thead th {\n",
       "        text-align: right;\n",
       "    }\n",
       "</style>\n",
       "<table border=\"1\" class=\"dataframe\">\n",
       "  <thead>\n",
       "    <tr style=\"text-align: right;\">\n",
       "      <th></th>\n",
       "      <th>total_cases</th>\n",
       "      <th>total_deaths</th>\n",
       "    </tr>\n",
       "  </thead>\n",
       "  <tbody>\n",
       "    <tr>\n",
       "      <th>total_cases</th>\n",
       "      <td>1.000000</td>\n",
       "      <td>0.849408</td>\n",
       "    </tr>\n",
       "    <tr>\n",
       "      <th>total_deaths</th>\n",
       "      <td>0.849408</td>\n",
       "      <td>1.000000</td>\n",
       "    </tr>\n",
       "  </tbody>\n",
       "</table>\n",
       "</div>"
      ],
      "text/plain": [
       "              total_cases  total_deaths\n",
       "total_cases      1.000000      0.849408\n",
       "total_deaths     0.849408      1.000000"
      ]
     },
     "execution_count": 8,
     "metadata": {},
     "output_type": "execute_result"
    }
   ],
   "source": [
    "df_case_death.corr()"
   ]
  },
  {
   "cell_type": "code",
   "execution_count": 9,
   "metadata": {},
   "outputs": [],
   "source": [
    "df_case_death[[\"total_cases\", \"total_deaths\"]] = (df_case_death[[\"total_cases\", \"total_deaths\"]] - df_case_death[[\"total_cases\", \"total_deaths\"]].min())/(df_case_death[[\"total_cases\", \"total_deaths\"]].max() - df_case_death[[\"total_cases\", \"total_deaths\"]].min())"
   ]
  },
  {
   "cell_type": "code",
   "execution_count": 10,
   "metadata": {},
   "outputs": [
    {
     "data": {
      "application/vnd.plotly.v1+json": {
       "config": {
        "plotlyServerURL": "https://plot.ly"
       },
       "data": [
        {
         "hovertemplate": "variable=total_cases<br>date=%{x|%B %d, %Y}<br>value=%{y}<extra></extra>",
         "legendgroup": "total_cases",
         "line": {
          "color": "#636efa",
          "dash": "solid"
         },
         "marker": {
          "symbol": "circle"
         },
         "mode": "lines",
         "name": "total_cases",
         "showlegend": true,
         "type": "scattergl",
         "x": [
          "2020-01-23T00:00:00",
          "2020-01-24T00:00:00",
          "2020-01-25T00:00:00",
          "2020-01-26T00:00:00",
          "2020-01-27T00:00:00",
          "2020-01-28T00:00:00",
          "2020-01-29T00:00:00",
          "2020-01-30T00:00:00",
          "2020-01-31T00:00:00",
          "2020-02-01T00:00:00",
          "2020-02-02T00:00:00",
          "2020-02-03T00:00:00",
          "2020-02-04T00:00:00",
          "2020-02-05T00:00:00",
          "2020-02-06T00:00:00",
          "2020-02-07T00:00:00",
          "2020-02-08T00:00:00",
          "2020-02-09T00:00:00",
          "2020-02-10T00:00:00",
          "2020-02-11T00:00:00",
          "2020-02-12T00:00:00",
          "2020-02-13T00:00:00",
          "2020-02-14T00:00:00",
          "2020-02-15T00:00:00",
          "2020-02-16T00:00:00",
          "2020-02-17T00:00:00",
          "2020-02-18T00:00:00",
          "2020-02-19T00:00:00",
          "2020-02-20T00:00:00",
          "2020-02-21T00:00:00",
          "2020-02-22T00:00:00",
          "2020-02-23T00:00:00",
          "2020-02-24T00:00:00",
          "2020-02-25T00:00:00",
          "2020-02-26T00:00:00",
          "2020-02-27T00:00:00",
          "2020-02-28T00:00:00",
          "2020-02-29T00:00:00",
          "2020-03-01T00:00:00",
          "2020-03-02T00:00:00",
          "2020-03-03T00:00:00",
          "2020-03-04T00:00:00",
          "2020-03-05T00:00:00",
          "2020-03-06T00:00:00",
          "2020-03-07T00:00:00",
          "2020-03-08T00:00:00",
          "2020-03-09T00:00:00",
          "2020-03-10T00:00:00",
          "2020-03-11T00:00:00",
          "2020-03-12T00:00:00",
          "2020-03-13T00:00:00",
          "2020-03-14T00:00:00",
          "2020-03-15T00:00:00",
          "2020-03-16T00:00:00",
          "2020-03-17T00:00:00",
          "2020-03-18T00:00:00",
          "2020-03-19T00:00:00",
          "2020-03-20T00:00:00",
          "2020-03-21T00:00:00",
          "2020-03-22T00:00:00",
          "2020-03-23T00:00:00",
          "2020-03-24T00:00:00",
          "2020-03-25T00:00:00",
          "2020-03-26T00:00:00",
          "2020-03-27T00:00:00",
          "2020-03-28T00:00:00",
          "2020-03-29T00:00:00",
          "2020-03-30T00:00:00",
          "2020-03-31T00:00:00",
          "2020-04-01T00:00:00",
          "2020-04-02T00:00:00",
          "2020-04-03T00:00:00",
          "2020-04-04T00:00:00",
          "2020-04-05T00:00:00",
          "2020-04-06T00:00:00",
          "2020-04-07T00:00:00",
          "2020-04-08T00:00:00",
          "2020-04-09T00:00:00",
          "2020-04-10T00:00:00",
          "2020-04-11T00:00:00",
          "2020-04-12T00:00:00",
          "2020-04-13T00:00:00",
          "2020-04-14T00:00:00",
          "2020-04-15T00:00:00",
          "2020-04-16T00:00:00",
          "2020-04-17T00:00:00",
          "2020-04-18T00:00:00",
          "2020-04-19T00:00:00",
          "2020-04-20T00:00:00",
          "2020-04-21T00:00:00",
          "2020-04-22T00:00:00",
          "2020-04-23T00:00:00",
          "2020-04-24T00:00:00",
          "2020-04-25T00:00:00",
          "2020-04-26T00:00:00",
          "2020-04-27T00:00:00",
          "2020-04-28T00:00:00",
          "2020-04-29T00:00:00",
          "2020-04-30T00:00:00",
          "2020-05-01T00:00:00",
          "2020-05-02T00:00:00",
          "2020-05-03T00:00:00",
          "2020-05-04T00:00:00",
          "2020-05-05T00:00:00",
          "2020-05-06T00:00:00",
          "2020-05-07T00:00:00",
          "2020-05-08T00:00:00",
          "2020-05-09T00:00:00",
          "2020-05-10T00:00:00",
          "2020-05-11T00:00:00",
          "2020-05-12T00:00:00",
          "2020-05-13T00:00:00",
          "2020-05-14T00:00:00",
          "2020-05-15T00:00:00",
          "2020-05-16T00:00:00",
          "2020-05-17T00:00:00",
          "2020-05-18T00:00:00",
          "2020-05-19T00:00:00",
          "2020-05-20T00:00:00",
          "2020-05-21T00:00:00",
          "2020-05-22T00:00:00",
          "2020-05-23T00:00:00",
          "2020-05-24T00:00:00",
          "2020-05-25T00:00:00",
          "2020-05-26T00:00:00",
          "2020-05-27T00:00:00",
          "2020-05-28T00:00:00",
          "2020-05-29T00:00:00",
          "2020-05-30T00:00:00",
          "2020-05-31T00:00:00",
          "2020-06-01T00:00:00",
          "2020-06-02T00:00:00",
          "2020-06-03T00:00:00",
          "2020-06-04T00:00:00",
          "2020-06-05T00:00:00",
          "2020-06-06T00:00:00",
          "2020-06-07T00:00:00",
          "2020-06-08T00:00:00",
          "2020-06-09T00:00:00",
          "2020-06-10T00:00:00",
          "2020-06-11T00:00:00",
          "2020-06-12T00:00:00",
          "2020-06-13T00:00:00",
          "2020-06-14T00:00:00",
          "2020-06-15T00:00:00",
          "2020-06-16T00:00:00",
          "2020-06-17T00:00:00",
          "2020-06-18T00:00:00",
          "2020-06-19T00:00:00",
          "2020-06-20T00:00:00",
          "2020-06-21T00:00:00",
          "2020-06-22T00:00:00",
          "2020-06-23T00:00:00",
          "2020-06-24T00:00:00",
          "2020-06-25T00:00:00",
          "2020-06-26T00:00:00",
          "2020-06-27T00:00:00",
          "2020-06-28T00:00:00",
          "2020-06-29T00:00:00",
          "2020-06-30T00:00:00",
          "2020-07-01T00:00:00",
          "2020-07-02T00:00:00",
          "2020-07-03T00:00:00",
          "2020-07-04T00:00:00",
          "2020-07-05T00:00:00",
          "2020-07-06T00:00:00",
          "2020-07-07T00:00:00",
          "2020-07-08T00:00:00",
          "2020-07-09T00:00:00",
          "2020-07-10T00:00:00",
          "2020-07-11T00:00:00",
          "2020-07-12T00:00:00",
          "2020-07-13T00:00:00",
          "2020-07-14T00:00:00",
          "2020-07-15T00:00:00",
          "2020-07-16T00:00:00",
          "2020-07-17T00:00:00",
          "2020-07-18T00:00:00",
          "2020-07-19T00:00:00",
          "2020-07-20T00:00:00",
          "2020-07-21T00:00:00",
          "2020-07-22T00:00:00",
          "2020-07-23T00:00:00",
          "2020-07-24T00:00:00",
          "2020-07-25T00:00:00",
          "2020-07-26T00:00:00",
          "2020-07-27T00:00:00",
          "2020-07-28T00:00:00",
          "2020-07-29T00:00:00",
          "2020-07-30T00:00:00",
          "2020-07-31T00:00:00",
          "2020-08-01T00:00:00",
          "2020-08-02T00:00:00",
          "2020-08-03T00:00:00",
          "2020-08-04T00:00:00",
          "2020-08-05T00:00:00",
          "2020-08-06T00:00:00",
          "2020-08-07T00:00:00",
          "2020-08-08T00:00:00",
          "2020-08-09T00:00:00",
          "2020-08-10T00:00:00",
          "2020-08-11T00:00:00",
          "2020-08-12T00:00:00",
          "2020-08-13T00:00:00",
          "2020-08-14T00:00:00",
          "2020-08-15T00:00:00",
          "2020-08-16T00:00:00",
          "2020-08-17T00:00:00",
          "2020-08-18T00:00:00",
          "2020-08-19T00:00:00",
          "2020-08-20T00:00:00",
          "2020-08-21T00:00:00",
          "2020-08-22T00:00:00",
          "2020-08-23T00:00:00",
          "2020-08-24T00:00:00",
          "2020-08-25T00:00:00",
          "2020-08-26T00:00:00",
          "2020-08-27T00:00:00",
          "2020-08-28T00:00:00",
          "2020-08-29T00:00:00",
          "2020-08-30T00:00:00",
          "2020-08-31T00:00:00",
          "2020-09-01T00:00:00",
          "2020-09-02T00:00:00",
          "2020-09-03T00:00:00",
          "2020-09-04T00:00:00",
          "2020-09-05T00:00:00",
          "2020-09-06T00:00:00",
          "2020-09-07T00:00:00",
          "2020-09-08T00:00:00",
          "2020-09-09T00:00:00",
          "2020-09-10T00:00:00",
          "2020-09-11T00:00:00",
          "2020-09-12T00:00:00",
          "2020-09-13T00:00:00",
          "2020-09-14T00:00:00",
          "2020-09-15T00:00:00",
          "2020-09-16T00:00:00",
          "2020-09-17T00:00:00",
          "2020-09-18T00:00:00",
          "2020-09-19T00:00:00",
          "2020-09-20T00:00:00",
          "2020-09-21T00:00:00",
          "2020-09-22T00:00:00",
          "2020-09-23T00:00:00",
          "2020-09-24T00:00:00",
          "2020-09-25T00:00:00",
          "2020-09-26T00:00:00",
          "2020-09-27T00:00:00",
          "2020-09-28T00:00:00",
          "2020-09-29T00:00:00",
          "2020-09-30T00:00:00",
          "2020-10-01T00:00:00",
          "2020-10-02T00:00:00",
          "2020-10-03T00:00:00",
          "2020-10-04T00:00:00",
          "2020-10-05T00:00:00",
          "2020-10-06T00:00:00",
          "2020-10-07T00:00:00",
          "2020-10-08T00:00:00",
          "2020-10-09T00:00:00",
          "2020-10-10T00:00:00",
          "2020-10-11T00:00:00",
          "2020-10-12T00:00:00",
          "2020-10-13T00:00:00",
          "2020-10-14T00:00:00",
          "2020-10-15T00:00:00",
          "2020-10-16T00:00:00",
          "2020-10-17T00:00:00",
          "2020-10-18T00:00:00",
          "2020-10-19T00:00:00",
          "2020-10-20T00:00:00",
          "2020-10-21T00:00:00",
          "2020-10-22T00:00:00",
          "2020-10-23T00:00:00",
          "2020-10-24T00:00:00",
          "2020-10-25T00:00:00",
          "2020-10-26T00:00:00",
          "2020-10-27T00:00:00",
          "2020-10-28T00:00:00",
          "2020-10-29T00:00:00",
          "2020-10-30T00:00:00",
          "2020-10-31T00:00:00",
          "2020-11-01T00:00:00",
          "2020-11-02T00:00:00",
          "2020-11-03T00:00:00",
          "2020-11-04T00:00:00",
          "2020-11-05T00:00:00",
          "2020-11-06T00:00:00",
          "2020-11-07T00:00:00",
          "2020-11-08T00:00:00",
          "2020-11-09T00:00:00",
          "2020-11-10T00:00:00",
          "2020-11-11T00:00:00",
          "2020-11-12T00:00:00",
          "2020-11-13T00:00:00",
          "2020-11-14T00:00:00",
          "2020-11-15T00:00:00",
          "2020-11-16T00:00:00",
          "2020-11-17T00:00:00",
          "2020-11-18T00:00:00",
          "2020-11-19T00:00:00",
          "2020-11-20T00:00:00",
          "2020-11-21T00:00:00",
          "2020-11-22T00:00:00",
          "2020-11-23T00:00:00",
          "2020-11-24T00:00:00",
          "2020-11-25T00:00:00",
          "2020-11-26T00:00:00",
          "2020-11-27T00:00:00",
          "2020-11-28T00:00:00",
          "2020-11-29T00:00:00",
          "2020-11-30T00:00:00",
          "2020-12-01T00:00:00",
          "2020-12-02T00:00:00",
          "2020-12-03T00:00:00",
          "2020-12-04T00:00:00",
          "2020-12-05T00:00:00",
          "2020-12-06T00:00:00",
          "2020-12-07T00:00:00",
          "2020-12-08T00:00:00",
          "2020-12-09T00:00:00",
          "2020-12-10T00:00:00",
          "2020-12-11T00:00:00",
          "2020-12-12T00:00:00",
          "2020-12-13T00:00:00",
          "2020-12-14T00:00:00",
          "2020-12-15T00:00:00",
          "2020-12-16T00:00:00",
          "2020-12-17T00:00:00",
          "2020-12-18T00:00:00",
          "2020-12-19T00:00:00",
          "2020-12-20T00:00:00",
          "2020-12-21T00:00:00",
          "2020-12-22T00:00:00",
          "2020-12-23T00:00:00",
          "2020-12-24T00:00:00",
          "2020-12-25T00:00:00",
          "2020-12-26T00:00:00",
          "2020-12-27T00:00:00",
          "2020-12-28T00:00:00",
          "2020-12-29T00:00:00",
          "2020-12-30T00:00:00",
          "2020-12-31T00:00:00",
          "2021-01-01T00:00:00",
          "2021-01-02T00:00:00",
          "2021-01-03T00:00:00",
          "2021-01-04T00:00:00",
          "2021-01-05T00:00:00",
          "2021-01-06T00:00:00",
          "2021-01-07T00:00:00",
          "2021-01-08T00:00:00",
          "2021-01-09T00:00:00",
          "2021-01-10T00:00:00",
          "2021-01-11T00:00:00",
          "2021-01-12T00:00:00",
          "2021-01-13T00:00:00",
          "2021-01-14T00:00:00",
          "2021-01-15T00:00:00",
          "2021-01-16T00:00:00",
          "2021-01-17T00:00:00",
          "2021-01-18T00:00:00",
          "2021-01-19T00:00:00",
          "2021-01-20T00:00:00",
          "2021-01-21T00:00:00",
          "2021-01-22T00:00:00",
          "2021-01-23T00:00:00",
          "2021-01-24T00:00:00",
          "2021-01-25T00:00:00",
          "2021-01-26T00:00:00",
          "2021-01-27T00:00:00",
          "2021-01-28T00:00:00",
          "2021-01-29T00:00:00",
          "2021-01-30T00:00:00",
          "2021-01-31T00:00:00",
          "2021-02-01T00:00:00",
          "2021-02-02T00:00:00",
          "2021-02-03T00:00:00",
          "2021-02-04T00:00:00",
          "2021-02-05T00:00:00",
          "2021-02-06T00:00:00",
          "2021-02-07T00:00:00",
          "2021-02-08T00:00:00",
          "2021-02-09T00:00:00",
          "2021-02-10T00:00:00",
          "2021-02-11T00:00:00",
          "2021-02-12T00:00:00",
          "2021-02-13T00:00:00",
          "2021-02-14T00:00:00",
          "2021-02-15T00:00:00",
          "2021-02-16T00:00:00",
          "2021-02-17T00:00:00",
          "2021-02-18T00:00:00",
          "2021-02-19T00:00:00",
          "2021-02-20T00:00:00",
          "2021-02-21T00:00:00",
          "2021-02-22T00:00:00",
          "2021-02-23T00:00:00",
          "2021-02-24T00:00:00",
          "2021-02-25T00:00:00",
          "2021-02-26T00:00:00",
          "2021-02-27T00:00:00",
          "2021-02-28T00:00:00",
          "2021-03-01T00:00:00",
          "2021-03-02T00:00:00",
          "2021-03-03T00:00:00",
          "2021-03-04T00:00:00",
          "2021-03-05T00:00:00",
          "2021-03-06T00:00:00",
          "2021-03-07T00:00:00",
          "2021-03-08T00:00:00",
          "2021-03-09T00:00:00",
          "2021-03-10T00:00:00",
          "2021-03-11T00:00:00",
          "2021-03-12T00:00:00",
          "2021-03-13T00:00:00",
          "2021-03-14T00:00:00",
          "2021-03-15T00:00:00",
          "2021-03-16T00:00:00",
          "2021-03-17T00:00:00",
          "2021-03-18T00:00:00",
          "2021-03-19T00:00:00",
          "2021-03-20T00:00:00",
          "2021-03-21T00:00:00",
          "2021-03-22T00:00:00",
          "2021-03-23T00:00:00",
          "2021-03-24T00:00:00",
          "2021-03-25T00:00:00",
          "2021-03-26T00:00:00",
          "2021-03-27T00:00:00",
          "2021-03-28T00:00:00",
          "2021-03-29T00:00:00",
          "2021-03-30T00:00:00",
          "2021-03-31T00:00:00",
          "2021-04-01T00:00:00",
          "2021-04-02T00:00:00",
          "2021-04-03T00:00:00",
          "2021-04-04T00:00:00",
          "2021-04-05T00:00:00",
          "2021-04-06T00:00:00",
          "2021-04-07T00:00:00",
          "2021-04-08T00:00:00",
          "2021-04-09T00:00:00",
          "2021-04-10T00:00:00",
          "2021-04-11T00:00:00",
          "2021-04-12T00:00:00",
          "2021-04-13T00:00:00",
          "2021-04-14T00:00:00",
          "2021-04-15T00:00:00",
          "2021-04-16T00:00:00",
          "2021-04-17T00:00:00",
          "2021-04-18T00:00:00",
          "2021-04-19T00:00:00",
          "2021-04-20T00:00:00",
          "2021-04-21T00:00:00",
          "2021-04-22T00:00:00",
          "2021-04-23T00:00:00",
          "2021-04-24T00:00:00",
          "2021-04-25T00:00:00",
          "2021-04-26T00:00:00",
          "2021-04-27T00:00:00",
          "2021-04-28T00:00:00",
          "2021-04-29T00:00:00",
          "2021-04-30T00:00:00",
          "2021-05-01T00:00:00",
          "2021-05-02T00:00:00",
          "2021-05-03T00:00:00",
          "2021-05-04T00:00:00",
          "2021-05-05T00:00:00",
          "2021-05-06T00:00:00",
          "2021-05-07T00:00:00",
          "2021-05-08T00:00:00",
          "2021-05-09T00:00:00",
          "2021-05-10T00:00:00",
          "2021-05-11T00:00:00",
          "2021-05-12T00:00:00",
          "2021-05-13T00:00:00",
          "2021-05-14T00:00:00",
          "2021-05-15T00:00:00",
          "2021-05-16T00:00:00",
          "2021-05-17T00:00:00",
          "2021-05-18T00:00:00",
          "2021-05-19T00:00:00",
          "2021-05-20T00:00:00",
          "2021-05-21T00:00:00",
          "2021-05-22T00:00:00",
          "2021-05-23T00:00:00",
          "2021-05-24T00:00:00",
          "2021-05-25T00:00:00",
          "2021-05-26T00:00:00",
          "2021-05-27T00:00:00",
          "2021-05-28T00:00:00",
          "2021-05-29T00:00:00",
          "2021-05-30T00:00:00",
          "2021-05-31T00:00:00",
          "2021-06-01T00:00:00",
          "2021-06-02T00:00:00",
          "2021-06-03T00:00:00",
          "2021-06-04T00:00:00",
          "2021-06-05T00:00:00",
          "2021-06-06T00:00:00",
          "2021-06-07T00:00:00",
          "2021-06-08T00:00:00",
          "2021-06-09T00:00:00",
          "2021-06-10T00:00:00",
          "2021-06-11T00:00:00",
          "2021-06-12T00:00:00",
          "2021-06-13T00:00:00",
          "2021-06-14T00:00:00",
          "2021-06-15T00:00:00",
          "2021-06-16T00:00:00",
          "2021-06-17T00:00:00",
          "2021-06-18T00:00:00",
          "2021-06-19T00:00:00",
          "2021-06-20T00:00:00",
          "2021-06-21T00:00:00",
          "2021-06-22T00:00:00",
          "2021-06-23T00:00:00",
          "2021-06-24T00:00:00",
          "2021-06-25T00:00:00",
          "2021-06-26T00:00:00",
          "2021-06-27T00:00:00",
          "2021-06-28T00:00:00",
          "2021-06-29T00:00:00",
          "2021-06-30T00:00:00",
          "2021-07-01T00:00:00",
          "2021-07-02T00:00:00",
          "2021-07-03T00:00:00",
          "2021-07-04T00:00:00",
          "2021-07-05T00:00:00",
          "2021-07-06T00:00:00",
          "2021-07-07T00:00:00",
          "2021-07-08T00:00:00",
          "2021-07-09T00:00:00",
          "2021-07-10T00:00:00",
          "2021-07-11T00:00:00",
          "2021-07-12T00:00:00",
          "2021-07-13T00:00:00",
          "2021-07-14T00:00:00",
          "2021-07-15T00:00:00",
          "2021-07-16T00:00:00",
          "2021-07-17T00:00:00",
          "2021-07-18T00:00:00",
          "2021-07-19T00:00:00",
          "2021-07-20T00:00:00",
          "2021-07-21T00:00:00",
          "2021-07-22T00:00:00",
          "2021-07-23T00:00:00",
          "2021-07-24T00:00:00",
          "2021-07-25T00:00:00",
          "2021-07-26T00:00:00",
          "2021-07-27T00:00:00",
          "2021-07-28T00:00:00",
          "2021-07-29T00:00:00",
          "2021-07-30T00:00:00",
          "2021-07-31T00:00:00",
          "2021-08-01T00:00:00",
          "2021-08-02T00:00:00",
          "2021-08-03T00:00:00",
          "2021-08-04T00:00:00",
          "2021-08-05T00:00:00",
          "2021-08-06T00:00:00",
          "2021-08-07T00:00:00",
          "2021-08-08T00:00:00",
          "2021-08-09T00:00:00",
          "2021-08-10T00:00:00",
          "2021-08-11T00:00:00",
          "2021-08-12T00:00:00",
          "2021-08-13T00:00:00",
          "2021-08-14T00:00:00",
          "2021-08-15T00:00:00",
          "2021-08-16T00:00:00",
          "2021-08-17T00:00:00",
          "2021-08-18T00:00:00",
          "2021-08-19T00:00:00",
          "2021-08-20T00:00:00",
          "2021-08-21T00:00:00",
          "2021-08-22T00:00:00",
          "2021-08-23T00:00:00",
          "2021-08-24T00:00:00",
          "2021-08-25T00:00:00",
          "2021-08-26T00:00:00",
          "2021-08-27T00:00:00",
          "2021-08-28T00:00:00",
          "2021-08-29T00:00:00",
          "2021-08-30T00:00:00",
          "2021-08-31T00:00:00",
          "2021-09-01T00:00:00",
          "2021-09-02T00:00:00",
          "2021-09-03T00:00:00",
          "2021-09-04T00:00:00",
          "2021-09-05T00:00:00",
          "2021-09-06T00:00:00",
          "2021-09-07T00:00:00",
          "2021-09-08T00:00:00",
          "2021-09-09T00:00:00",
          "2021-09-10T00:00:00",
          "2021-09-11T00:00:00",
          "2021-09-12T00:00:00",
          "2021-09-13T00:00:00",
          "2021-09-14T00:00:00",
          "2021-09-15T00:00:00",
          "2021-09-16T00:00:00",
          "2021-09-17T00:00:00",
          "2021-09-18T00:00:00",
          "2021-09-19T00:00:00",
          "2021-09-20T00:00:00",
          "2021-09-21T00:00:00",
          "2021-09-22T00:00:00",
          "2021-09-23T00:00:00",
          "2021-09-24T00:00:00",
          "2021-09-25T00:00:00",
          "2021-09-26T00:00:00",
          "2021-09-27T00:00:00",
          "2021-09-28T00:00:00",
          "2021-09-29T00:00:00",
          "2021-09-30T00:00:00",
          "2021-10-01T00:00:00",
          "2021-10-02T00:00:00",
          "2021-10-03T00:00:00",
          "2021-10-04T00:00:00",
          "2021-10-05T00:00:00",
          "2021-10-06T00:00:00",
          "2021-10-07T00:00:00",
          "2021-10-08T00:00:00",
          "2021-10-09T00:00:00",
          "2021-10-10T00:00:00",
          "2021-10-11T00:00:00",
          "2021-10-12T00:00:00",
          "2021-10-13T00:00:00",
          "2021-10-14T00:00:00",
          "2021-10-15T00:00:00",
          "2021-10-16T00:00:00",
          "2021-10-17T00:00:00",
          "2021-10-18T00:00:00",
          "2021-10-19T00:00:00",
          "2021-10-20T00:00:00",
          "2021-10-21T00:00:00",
          "2021-10-22T00:00:00",
          "2021-10-23T00:00:00",
          "2021-10-24T00:00:00",
          "2021-10-25T00:00:00",
          "2021-10-26T00:00:00",
          "2021-10-27T00:00:00",
          "2021-10-28T00:00:00",
          "2021-10-29T00:00:00",
          "2021-10-30T00:00:00",
          "2021-10-31T00:00:00",
          "2021-11-01T00:00:00",
          "2021-11-02T00:00:00",
          "2021-11-03T00:00:00",
          "2021-11-04T00:00:00",
          "2021-11-05T00:00:00",
          "2021-11-06T00:00:00",
          "2021-11-07T00:00:00",
          "2021-11-08T00:00:00",
          "2021-11-09T00:00:00",
          "2021-11-10T00:00:00",
          "2021-11-11T00:00:00",
          "2021-11-12T00:00:00",
          "2021-11-13T00:00:00",
          "2021-11-14T00:00:00",
          "2021-11-15T00:00:00",
          "2021-11-16T00:00:00",
          "2021-11-17T00:00:00",
          "2021-11-18T00:00:00",
          "2021-11-19T00:00:00",
          "2021-11-20T00:00:00",
          "2021-11-21T00:00:00",
          "2021-11-22T00:00:00",
          "2021-11-23T00:00:00",
          "2021-11-24T00:00:00",
          "2021-11-25T00:00:00",
          "2021-11-26T00:00:00",
          "2021-11-27T00:00:00",
          "2021-11-28T00:00:00",
          "2021-11-29T00:00:00",
          "2021-11-30T00:00:00",
          "2021-12-01T00:00:00",
          "2021-12-02T00:00:00",
          "2021-12-03T00:00:00",
          "2021-12-04T00:00:00",
          "2021-12-05T00:00:00",
          "2021-12-06T00:00:00",
          "2021-12-07T00:00:00",
          "2021-12-08T00:00:00",
          "2021-12-09T00:00:00",
          "2021-12-10T00:00:00",
          "2021-12-11T00:00:00",
          "2021-12-12T00:00:00",
          "2021-12-13T00:00:00",
          "2021-12-14T00:00:00",
          "2021-12-15T00:00:00",
          "2021-12-16T00:00:00",
          "2021-12-17T00:00:00",
          "2021-12-18T00:00:00",
          "2021-12-19T00:00:00",
          "2021-12-20T00:00:00",
          "2021-12-21T00:00:00",
          "2021-12-22T00:00:00",
          "2021-12-23T00:00:00",
          "2021-12-24T00:00:00",
          "2021-12-25T00:00:00",
          "2021-12-26T00:00:00",
          "2021-12-27T00:00:00",
          "2021-12-28T00:00:00",
          "2021-12-29T00:00:00",
          "2021-12-30T00:00:00",
          "2021-12-31T00:00:00",
          "2022-01-01T00:00:00",
          "2022-01-02T00:00:00",
          "2022-01-03T00:00:00",
          "2022-01-04T00:00:00",
          "2022-01-05T00:00:00",
          "2022-01-06T00:00:00",
          "2022-01-07T00:00:00",
          "2022-01-08T00:00:00",
          "2022-01-09T00:00:00",
          "2022-01-10T00:00:00",
          "2022-01-11T00:00:00",
          "2022-01-12T00:00:00",
          "2022-01-13T00:00:00",
          "2022-01-14T00:00:00",
          "2022-01-15T00:00:00",
          "2022-01-16T00:00:00",
          "2022-01-17T00:00:00",
          "2022-01-18T00:00:00",
          "2022-01-19T00:00:00",
          "2022-01-20T00:00:00",
          "2022-01-21T00:00:00",
          "2022-01-22T00:00:00",
          "2022-01-23T00:00:00",
          "2022-01-24T00:00:00",
          "2022-01-25T00:00:00",
          "2022-01-26T00:00:00",
          "2022-01-27T00:00:00",
          "2022-01-28T00:00:00",
          "2022-01-29T00:00:00",
          "2022-01-30T00:00:00",
          "2022-01-31T00:00:00",
          "2022-02-01T00:00:00",
          "2022-02-02T00:00:00",
          "2022-02-03T00:00:00",
          "2022-02-04T00:00:00",
          "2022-02-05T00:00:00",
          "2022-02-06T00:00:00",
          "2022-02-07T00:00:00",
          "2022-02-08T00:00:00",
          "2022-02-09T00:00:00",
          "2022-02-10T00:00:00",
          "2022-02-11T00:00:00",
          "2022-02-12T00:00:00",
          "2022-02-13T00:00:00",
          "2022-02-14T00:00:00",
          "2022-02-15T00:00:00",
          "2022-02-16T00:00:00",
          "2022-02-17T00:00:00",
          "2022-02-18T00:00:00",
          "2022-02-19T00:00:00",
          "2022-02-20T00:00:00",
          "2022-02-21T00:00:00",
          "2022-02-22T00:00:00",
          "2022-02-23T00:00:00",
          "2022-02-24T00:00:00",
          "2022-02-25T00:00:00",
          "2022-02-26T00:00:00",
          "2022-02-27T00:00:00",
          "2022-02-28T00:00:00",
          "2022-03-01T00:00:00",
          "2022-03-02T00:00:00",
          "2022-03-03T00:00:00",
          "2022-03-04T00:00:00",
          "2022-03-05T00:00:00",
          "2022-03-06T00:00:00",
          "2022-03-07T00:00:00",
          "2022-03-08T00:00:00",
          "2022-03-09T00:00:00",
          "2022-03-10T00:00:00",
          "2022-03-11T00:00:00",
          "2022-03-12T00:00:00",
          "2022-03-13T00:00:00",
          "2022-03-14T00:00:00",
          "2022-03-15T00:00:00",
          "2022-03-16T00:00:00",
          "2022-03-17T00:00:00",
          "2022-03-18T00:00:00",
          "2022-03-19T00:00:00",
          "2022-03-20T00:00:00",
          "2022-03-21T00:00:00",
          "2022-03-22T00:00:00",
          "2022-03-23T00:00:00",
          "2022-03-24T00:00:00",
          "2022-03-25T00:00:00",
          "2022-03-26T00:00:00",
          "2022-03-27T00:00:00",
          "2022-03-28T00:00:00",
          "2022-03-29T00:00:00",
          "2022-03-30T00:00:00",
          "2022-03-31T00:00:00",
          "2022-04-01T00:00:00",
          "2022-04-02T00:00:00",
          "2022-04-03T00:00:00",
          "2022-04-04T00:00:00",
          "2022-04-05T00:00:00",
          "2022-04-06T00:00:00",
          "2022-04-07T00:00:00",
          "2022-04-08T00:00:00",
          "2022-04-09T00:00:00",
          "2022-04-10T00:00:00",
          "2022-04-11T00:00:00",
          "2022-04-12T00:00:00",
          "2022-04-13T00:00:00",
          "2022-04-14T00:00:00",
          "2022-04-15T00:00:00",
          "2022-04-16T00:00:00",
          "2022-04-17T00:00:00",
          "2022-04-18T00:00:00",
          "2022-04-19T00:00:00",
          "2022-04-20T00:00:00",
          "2022-04-21T00:00:00",
          "2022-04-22T00:00:00",
          "2022-04-23T00:00:00",
          "2022-04-24T00:00:00",
          "2022-04-25T00:00:00",
          "2022-04-26T00:00:00",
          "2022-04-27T00:00:00",
          "2022-04-28T00:00:00",
          "2022-04-29T00:00:00",
          "2022-04-30T00:00:00",
          "2022-05-01T00:00:00",
          "2022-05-02T00:00:00",
          "2022-05-03T00:00:00",
          "2022-05-04T00:00:00",
          "2022-05-05T00:00:00",
          "2022-05-06T00:00:00",
          "2022-05-07T00:00:00",
          "2022-05-08T00:00:00",
          "2022-05-09T00:00:00",
          "2022-05-10T00:00:00",
          "2022-05-11T00:00:00",
          "2022-05-12T00:00:00",
          "2022-05-13T00:00:00",
          "2022-05-14T00:00:00",
          "2022-05-15T00:00:00",
          "2022-05-16T00:00:00",
          "2022-05-17T00:00:00",
          "2022-05-18T00:00:00",
          "2022-05-19T00:00:00",
          "2022-05-20T00:00:00",
          "2022-05-21T00:00:00",
          "2022-05-22T00:00:00",
          "2022-05-23T00:00:00",
          "2022-05-24T00:00:00",
          "2022-05-25T00:00:00",
          "2022-05-26T00:00:00",
          "2022-05-27T00:00:00",
          "2022-05-28T00:00:00",
          "2022-05-29T00:00:00",
          "2022-05-30T00:00:00",
          "2022-05-31T00:00:00",
          "2022-06-01T00:00:00",
          "2022-06-02T00:00:00",
          "2022-06-03T00:00:00",
          "2022-06-04T00:00:00",
          "2022-06-05T00:00:00",
          "2022-06-06T00:00:00",
          "2022-06-07T00:00:00",
          "2022-06-08T00:00:00",
          "2022-06-09T00:00:00",
          "2022-06-10T00:00:00",
          "2022-06-11T00:00:00",
          "2022-06-12T00:00:00",
          "2022-06-13T00:00:00",
          "2022-06-14T00:00:00",
          "2022-06-15T00:00:00",
          "2022-06-16T00:00:00",
          "2022-06-17T00:00:00",
          "2022-06-18T00:00:00",
          "2022-06-19T00:00:00",
          "2022-06-20T00:00:00",
          "2022-06-21T00:00:00",
          "2022-06-22T00:00:00",
          "2022-06-23T00:00:00",
          "2022-06-24T00:00:00",
          "2022-06-25T00:00:00",
          "2022-06-26T00:00:00",
          "2022-06-27T00:00:00",
          "2022-06-28T00:00:00",
          "2022-06-29T00:00:00",
          "2022-06-30T00:00:00",
          "2022-07-01T00:00:00",
          "2022-07-02T00:00:00",
          "2022-07-03T00:00:00",
          "2022-07-04T00:00:00",
          "2022-07-05T00:00:00",
          "2022-07-06T00:00:00",
          "2022-07-07T00:00:00",
          "2022-07-08T00:00:00",
          "2022-07-09T00:00:00",
          "2022-07-10T00:00:00",
          "2022-07-11T00:00:00",
          "2022-07-12T00:00:00",
          "2022-07-13T00:00:00",
          "2022-07-14T00:00:00",
          "2022-07-15T00:00:00",
          "2022-07-16T00:00:00",
          "2022-07-17T00:00:00",
          "2022-07-18T00:00:00",
          "2022-07-19T00:00:00",
          "2022-07-20T00:00:00"
         ],
         "xaxis": "x",
         "y": [
          0,
          0,
          0,
          0,
          0,
          0,
          0,
          0,
          0,
          3.7161970074951977e-7,
          3.7161970074951977e-7,
          5.574295511242796e-7,
          5.574295511242796e-7,
          5.574295511242796e-7,
          7.432394014990395e-7,
          7.432394014990395e-7,
          0.0000010219541770611793,
          0.0000010219541770611793,
          0.0000011148591022485593,
          0.0000012077640274359392,
          0.0000012077640274359392,
          0.0000013006689526233192,
          0.0000013006689526233192,
          0.0000013006689526233192,
          0.0000013006689526233192,
          0.0000013006689526233192,
          0.0000013006689526233192,
          0.0000013006689526233192,
          0.0000013006689526233192,
          0.0000013006689526233192,
          0.0000013006689526233192,
          0.0000013006689526233192,
          0.0000013006689526233192,
          0.0000013006689526233192,
          0.0000013006689526233192,
          0.0000013006689526233192,
          0.0000013006689526233192,
          0.0000013006689526233192,
          0.0000013006689526233192,
          0.0000013006689526233192,
          0.0000013006689526233192,
          0.0000013006689526233192,
          0.0000013006689526233192,
          0.0000013006689526233192,
          0.000001486478802998079,
          0.0000026013379052466384,
          0.0000026013379052466384,
          0.0000026942428304340185,
          0.000003344577306745678,
          0.0000034374822319330578,
          0.000004180721633432097,
          0.000004738151184556377,
          0.000005016865960118517,
          0.000005481390586055416,
          0.000005945915211992316,
          0.000006782059538678736,
          0.000007711108790552534,
          0.000008268538341676816,
          0.000008547253117238955,
          0.000010312446695799174,
          0.000011241495947672972,
          0.000012263450124734152,
          0.000012913784601045812,
          0.00001402864370329437,
          0.00001495769295516817,
          0.00001597964713222935,
          0.00001728031608485267,
          0.000018673889962663367,
          0.00001951003428934979,
          0.00002006746384047407,
          0.000021461037718284767,
          0.000021832657419034288,
          0.000022111372194596428,
          0.000022204277119783805,
          0.000022575896820533326,
          0.000022947516521282847,
          0.000023133326371657605,
          0.000023504946072407126,
          0.000023690755922781884,
          0.000023783660847969266,
          0.000024155280548718786,
          0.000024433995324280926,
          0.000024526900249468303,
          0.000024619805174655684,
          0.000024712710099843065,
          0.000024712710099843065,
          0.000024712710099843065,
          0.000024712710099843065,
          0.000024712710099843065,
          0.000024712710099843065,
          0.000024712710099843065,
          0.000024712710099843065,
          0.000024898519950217824,
          0.000024898519950217824,
          0.000024898519950217824,
          0.000024898519950217824,
          0.000024898519950217824,
          0.000024898519950217824,
          0.000024898519950217824,
          0.000024898519950217824,
          0.000024898519950217824,
          0.000024991424875405205,
          0.000024991424875405205,
          0.000024991424875405205,
          0.000024991424875405205,
          0.000026570808603590665,
          0.000026570808603590665,
          0.000026570808603590665,
          0.000026570808603590665,
          0.000026570808603590665,
          0.000026570808603590665,
          0.000026570808603590665,
          0.000028800526808087783,
          0.00002898633665846254,
          0.000029357956359212062,
          0.00002954376620958682,
          0.00002991538591033634,
          0.00002991538591033634,
          0.00002991538591033634,
          0.00002991538591033634,
          0.00002991538591033634,
          0.000030008290835523722,
          0.000030008290835523722,
          0.000030101195760711103,
          0.00003019410068589848,
          0.00003019410068589848,
          0.00003019410068589848,
          0.000030287005611085862,
          0.000030287005611085862,
          0.000030287005611085862,
          0.000030287005611085862,
          0.000030287005611085862,
          0.000030287005611085862,
          0.000030287005611085862,
          0.000030287005611085862,
          0.000030379910536273243,
          0.000030565720386648,
          0.00003065862531183538,
          0.00003065862531183538,
          0.00003065862531183538,
          0.00003065862531183538,
          0.000030751530237022764,
          0.00003084443516221014,
          0.00003084443516221014,
          0.00003084443516221014,
          0.00003084443516221014,
          0.00003093734008739752,
          0.00003158767456370918,
          0.00003223800904002084,
          0.00003223800904002084,
          0.00003223800904002084,
          0.00003223800904002084,
          0.00003223800904002084,
          0.00003251672381558298,
          0.00003251672381558298,
          0.00003260962874077036,
          0.00003279543859114512,
          0.00003279543859114512,
          0.00003279543859114512,
          0.00003279543859114512,
          0.00003279543859114512,
          0.00003279543859114512,
          0.00003279543859114512,
          0.00003279543859114512,
          0.00003279543859114512,
          0.00003409610754376844,
          0.00003409610754376844,
          0.00003409610754376844,
          0.00003409610754376844,
          0.00003418901246895582,
          0.00003418901246895582,
          0.000034374822319330576,
          0.00003446772724451796,
          0.00003446772724451796,
          0.000035210966646017,
          0.000035210966646017,
          0.00003530387157120438,
          0.00003530387157120438,
          0.00003539677649639176,
          0.00003548968142157914,
          0.0000370690651497646,
          0.00003771939962607626,
          0.000038091019326825776,
          0.00003836973410238792,
          0.000038555543952762674,
          0.00003883425872832482,
          0.000039856212905385995,
          0.000041249786783196696,
          0.000042457550810632636,
          0.00004710279707000163,
          0.00005165513840418325,
          0.00005462809601017941,
          0.000057508148690988184,
          0.00006038820137179696,
          0.00006224629987554456,
          0.00006642702150897665,
          0.0000694928840401602,
          0.00007311617612246802,
          0.00007525298940177776,
          0.00007794723223221178,
          0.00007850466178333605,
          0.00008026985536189628,
          0.00008184923909008173,
          0.00008445057699532837,
          0.00008621577057388859,
          0.00008816677400282357,
          0.00008937453803025951,
          0.00009113973160881972,
          0.000091697161159944,
          0.00009216168578588091,
          0.00009336944981331685,
          0.0000935552596636916,
          0.0000940197842896285,
          0.00009420559414000327,
          0.00009476302369112754,
          0.0000954133581674392,
          0.0000958778827933761,
          0.00009606369264375086,
          0.00009624950249412562,
          0.00009643531234450038,
          0.00009643531234450038,
          0.0000968069320452499,
          0.0000968069320452499,
          0.00009699274189562466,
          0.00009699274189562466,
          0.0000972714566711868,
          0.0000972714566711868,
          0.0000972714566711868,
          0.0000972714566711868,
          0.0000977359812971237,
          0.0000982005059230606,
          0.0000982005059230606,
          0.00009829341084824798,
          0.00009829341084824798,
          0.00009857212562381012,
          0.00009857212562381012,
          0.00009857212562381012,
          0.00009857212562381012,
          0.00009885084039937226,
          0.00009903665024974702,
          0.00009903665024974702,
          0.00009903665024974702,
          0.00009903665024974702,
          0.00009903665024974702,
          0.0000991295551749344,
          0.0000991295551749344,
          0.0000991295551749344,
          0.0000991295551749344,
          0.0000995940798008713,
          0.00009987279457643344,
          0.0001014521783046189,
          0.0001014521783046189,
          0.00010154508322980628,
          0.00010163798815499365,
          0.00010163798815499365,
          0.00010163798815499365,
          0.00010173089308018103,
          0.00010182379800536841,
          0.0001019167029305558,
          0.00010200960785574318,
          0.00010247413248168008,
          0.00010265994233205484,
          0.00010284575218242959,
          0.00010293865710761697,
          0.00010321737188317912,
          0.00010405351620986553,
          0.00010423932606024029,
          0.00010423932606024029,
          0.00010442513591061506,
          0.00010516837531211409,
          0.00010572580486323838,
          0.00010581870978842576,
          0.0001060974245639879,
          0.00010646904426473741,
          0.00010646904426473741,
          0.00010758390336698597,
          0.00010832714276848502,
          0.0001084200476936724,
          0.00010869876246923453,
          0.00010879166739442191,
          0.00010916328709517143,
          0.00010916328709517143,
          0.00010944200187073358,
          0.00010944200187073358,
          0.00011055686097298213,
          0.00011148591022485593,
          0.00011157881515004331,
          0.00011195043485079284,
          0.00011241495947672973,
          0.00011250786440191711,
          0.00011250786440191711,
          0.00011269367425229187,
          0.00011371562842935305,
          0.00011613115648422493,
          0.00011622406140941231,
          0.00011650277618497445,
          0.00011733892051166087,
          0.00011882539931465895,
          0.00011901120916503371,
          0.0001194757337909706,
          0.00012059059289321916,
          0.00012096221259396869,
          0.00012105511751915607,
          0.00012114802244434345,
          0.00012124092736953083,
          0.00012170545199546772,
          0.00012207707169621724,
          0.00012254159632215414,
          0.00012347064557402795,
          0.000124213884975527,
          0.00012439969482590176,
          0.0001245855046762765,
          0.00012495712437702602,
          0.00012532874407777554,
          0.0001259790785540872,
          0.00012625779332964935,
          0.00012625779332964935,
          0.00012662941303039887,
          0.00012672231795558624,
          0.00012681522288077364,
          0.00012774427213264742,
          0.00012811589183339694,
          0.00012848751153414647,
          0.00012904494108527075,
          0.00012941656078602025,
          0.000129602370636395,
          0.00013006689526233193,
          0.00013034561003789406,
          0.00013034561003789406,
          0.00013053141988826882,
          0.00013081013466383095,
          0.00013090303958901835,
          0.0001310888494393931,
          0.00013118175436458048,
          0.00013173918391570476,
          0.00013183208884089213,
          0.0001328540430179533,
          0.000133504377494265,
          0.00013359728241945236,
          0.00013369018734463975,
          0.00013461923659651353,
          0.0001348979513720757,
          0.00013508376122245045,
          0.00013591990554913687,
          0.00013675604987582328,
          0.0001374992892773223,
          0.00013861414837957088,
          0.000138892863155133,
          0.00013954319763144469,
          0.00013963610255663205,
          0.00014000772225738158,
          0.0001402864370329437,
          0.0001403793419581311,
          0.00014047224688331847,
          0.00014056515180850586,
          0.00014102967643444276,
          0.00014112258135963012,
          0.00014205163061150393,
          0.00014251615523744082,
          0.00014260906016262822,
          0.00014260906016262822,
          0.00014279487001300298,
          0.00014288777493819035,
          0.00014325939463893987,
          0.00014344520448931463,
          0.0001436310143396894,
          0.0001436310143396894,
          0.0001436310143396894,
          0.00014372391926487676,
          0.00014390972911525153,
          0.0001440955389656263,
          0.00015320022163398952,
          0.0001537576511851138,
          0.0001639771929557256,
          0.0001686224392150946,
          0.00017168830174627814,
          0.0001746612593522743,
          0.00018079298441464137,
          0.00018162912874132778,
          0.000183394322319888,
          0.00018423046664657443,
          0.0001857169454495725,
          0.00019026928678375412,
          0.00019156995573637743,
          0.0001940783887164367,
          0.0001986307300506183,
          0.00019881653990099307,
          0.00020374050093592422,
          0.00020680636346710776,
          0.00021061546539979034,
          0.00021451747225766028,
          0.00021618976091103312,
          0.00021786204956440597,
          0.00021925562344221668,
          0.00021981305299334093,
          0.00022120662687115164,
          0.00022204277119783805,
          0.00022306472537489926,
          0.00022390086970158567,
          0.0002247370140282721,
          0.00022520153865420898,
          0.00022575896820533327,
          0.00022724544700833133,
          0.00022724544700833133,
          0.0002297538799883906,
          0.00023040421446470226,
          0.00023096164401582655,
          0.0002315190735669508,
          0.0002321694080432625,
          0.00023319136222032367,
          0.0002343062213225722,
          0.00023449203117294697,
          0.00023477074594850913,
          0.00023514236564925863,
          0.0002367217493774441,
          0.00023700046415300625,
          0.00023709336907819361,
          0.00023737208385375574,
          0.0002376507986293179,
          0.00023830113310562955,
          0.00023857984788119168,
          0.00023867275280637908,
          0.00023876565773156644,
          0.00023876565773156644,
          0.0002390443725071286,
          0.0002390443725071286,
          0.00023913727743231597,
          0.00023941599220787813,
          0.00024006632668418978,
          0.00024006632668418978,
          0.00024053085131012667,
          0.00024080956608568883,
          0.00024080956608568883,
          0.00024164571041237524,
          0.00024294637936499855,
          0.00024322509414056068,
          0.00024378252369168497,
          0.0002442470483176219,
          0.00024480447786874614,
          0.0002458264320458073,
          0.0002468483862228685,
          0.00024768453054955494,
          0.00024907810442736564,
          0.00024991424875405203,
          0.0002500071536792394,
          0.000251122012781488,
          0.0002519581571081744,
          0.0002537233506867346,
          0.00025604597381641915,
          0.00025734664276904246,
          0.00025818278709572885,
          0.00025855440679647837,
          0.0002591118363476027,
          0.00025994798067428907,
          0.00026106283977653764,
          0.0002621776988787862,
          0.0002627351284299105,
          0.0002630138432054726,
          0.00026394289245734644,
          0.00026477903678403283,
          0.00026524356140996975,
          0.0002659868008114688,
          0.0002701675224449009,
          0.00027183981109827373,
          0.00027314048005089704,
          0.0002749985785546446,
          0.00027713539183395436,
          0.0002780644410858282,
          0.00028131611346738646,
          0.00028689040897862927,
          0.0002912569404624361,
          0.00030129067238267315,
          0.0003168057948889656,
          0.00032395947412839385,
          0.000331577677993759,
          0.0003396604064850611,
          0.00034727861035042625,
          0.0003543393846646671,
          0.00038183924252013156,
          0.00039112973503886955,
          0.00040478675904141444,
          0.00041900121259508353,
          0.00043832543703405856,
          0.0004465939753757354,
          0.00045885742550046956,
          0.0004753945021838232,
          0.0004898876705130544,
          0.0005018724058622264,
          0.0005508333014359757,
          0.0005652335648400195,
          0.0005903178946406122,
          0.0005940340916481074,
          0.0006416014133440458,
          0.0006600894934563345,
          0.000690283594142233,
          0.0007082142447033973,
          0.0007309759513743054,
          0.0007489066019354697,
          0.0007768709844168711,
          0.0007969384482573452,
          0.0008165413874718823,
          0.000838466949816104,
          0.000856583410227643,
          0.000894953144330031,
          0.000913534129367507,
          0.0009333228784324189,
          0.0009601724018115717,
          0.000987393544891474,
          0.0010107126811135065,
          0.001050011464467768,
          0.0010955348778095844,
          0.0011286090311762916,
          0.0011618689943933736,
          0.0012055343092314422,
          0.0012315476882839085,
          0.001256817827934876,
          0.0012802298690820957,
          0.0012994611885958833,
          0.0013304914336084682,
          0.0013503730875985675,
          0.001423582168646223,
          0.0014621377125989855,
          0.001498928062973188,
          0.001533395790217706,
          0.0015840289744448281,
          0.0016467397989463094,
          0.0016833443394701371,
          0.001793808295517932,
          0.0018821608793711303,
          0.0019798039557430668,
          0.0020754031237608804,
          0.0021723958656565054,
          0.0023047853840485215,
          0.0024718284395354308,
          0.0026448174102343324,
          0.0028313705000105912,
          0.0030345535713953912,
          0.0032894846861095616,
          0.003552405624389847,
          0.003928577666473548,
          0.004300568986923817,
          0.0047381511845563775,
          0.005188089737238858,
          0.00559083258792615,
          0.006095027616918061,
          0.006609442187680584,
          0.007271389779640666,
          0.008078547769668622,
          0.008817699354459418,
          0.009399284186132416,
          0.00987997426905192,
          0.010880931933020751,
          0.011486579140317282,
          0.012393795734772046,
          0.013110743042443057,
          0.01394112726376786,
          0.014632990241638277,
          0.014632990241638277,
          0.016208100343265117,
          0.016885841772507054,
          0.017564976775626802,
          0.017965861527810347,
          0.019106269484485437,
          0.020026399863541246,
          0.02089357443524025,
          0.021640808748522346,
          0.022440348534684938,
          0.022907195783751524,
          0.02376006299697167,
          0.024662727250092255,
          0.025552756433387353,
          0.026356569846108565,
          0.02724892165253335,
          0.028066484994182295,
          0.029042915757901657,
          0.030033003545623566,
          0.03128155283521676,
          0.0323362095459439,
          0.03330214205311709,
          0.03430653719931785,
          0.0354303151743844,
          0.03650568968342833,
          0.038124836719593984,
          0.039249265029136844,
          0.04043807645183456,
          0.041759556107699845,
          0.04293080849953715,
          0.04399308341412965,
          0.0452191497118275,
          0.046605477005473586,
          0.04749002479818263,
          0.04871051680036924,
          0.04987006317163293,
          0.05119005634869522,
          0.0523680908000712,
          0.05352196997089846,
          0.05475955647931955,
          0.055868098046655365,
          0.0569853726769588,
          0.05802330650115221,
          0.0589995514550212,
          0.059982950088129615,
          0.06095742984842004,
          0.062027787491503845,
          0.06289858535528516,
          0.06383135080416645,
          0.0646378584597181,
          0.06572410284500894,
          0.06679501791764388,
          0.06767501336901874,
          0.06846814271534339,
          0.0693698779192121,
          0.07029994912526297,
          0.07116972503486722,
          0.07159606573655211,
          0.07240972707134317,
          0.07346484830669625,
          0.07411118787122485,
          0.07462123591050357,
          0.07512069278831092,
          0.0756208000005946,
          0.07602614418918713,
          0.07643148837777967,
          0.07681704381730729,
          0.07726354488775784,
          0.07768078090677437,
          0.07800854948283545,
          0.07834477240708858,
          0.07861874903146615,
          0.07894029297753968,
          0.07932594132199249,
          0.07967870132292897,
          0.07997794808695752,
          0.08027459351308083,
          0.08056891631607445,
          0.08085078985909296,
          0.08118952121632615,
          0.08152732352430746,
          0.08189754965117917,
          0.0822109179638362,
          0.08258671838621916,
          0.08292479940897603,
          0.08325879261502465,
          0.08366859624002619,
          0.08412308713404286,
          0.08457822836253583,
          0.08506384240649026,
          0.08557658468859941,
          0.08609666645979837,
          0.08662037152307962,
          0.08728055392146115,
          0.08789186832919411,
          0.08858902688780021,
          0.08928497768237888,
          0.08999532874036158,
          0.09073745328275837,
          0.09149304903930733,
          0.09222978509604325,
          0.09298807509542265,
          0.0938225471334557,
          0.09460917313501724,
          0.09536876380334926,
          0.09616923263876373,
          0.09712234426626105,
          0.09803736487443156,
          0.09898713192462215,
          0.09988134182955068,
          0.10076681867151159,
          0.1016855554766896,
          0.10264442720954854,
          0.1062799827419811,
          0.10737728281336924,
          0.10853394913195212,
          0.10975183979623349,
          0.11124454322921912,
          0.11244636134144306,
          0.11372566216127329,
          0.11502372977599136,
          0.11637159443060986,
          0.1176442060958266,
          0.11899058427164211,
          0.12029106741441506,
          0.1216209085135472,
          0.12297648427695627,
          0.12426228844154961,
          0.12561860744436018,
          0.12704107475390414,
          0.12841969093875968,
          0.12991926933620918,
          0.13127921163110204,
          0.1327078106657084,
          0.1341218236270603,
          0.13556435840044476,
          0.13872888596217728,
          0.1401443854023322,
          0.14162110918818563,
          0.1431178075329543,
          0.1445092445974857,
          0.14602591750116967,
          0.14756395853764676,
          0.14908546249744048,
          0.15058652737369296,
          0.15203454353766346,
          0.15344837068916503,
          0.15483005273655173,
          0.1561715998562575,
          0.15746195636218502,
          0.1593077914158079,
          0.16084211625527747,
          0.16222036082043226,
          0.16379491349250797,
          0.16527544638029404,
          0.16729408459476544,
          0.16887504770667908,
          0.17127589678337135,
          0.17278820315557153,
          0.17432605838219822,
          0.17647968745296688,
          0.17785635263439348,
          0.17934608310977312,
          0.18197445634824927,
          0.1835282912220082,
          0.18501848622201378,
          0.1865400830867327,
          0.18799720393337155,
          0.18799720393337155,
          0.19158166175695104,
          0.19306433145801646,
          0.1946172372825235,
          0.1960976772653844,
          0.19755693492530257,
          0.19894846489475915,
          0.2002827654303003,
          0.20174536766752524,
          0.2032275728439647,
          0.20468868860238662,
          0.20607566623050902,
          0.20748317584709783,
          0.21024858385022538,
          0.2114260608720502,
          0.21245015186239072,
          0.21326251252822917,
          0.2140615877897658,
          0.2151387274923883,
          0.2162693804319187,
          0.21758045473616303,
          0.2191426510531888,
          0.2211781050591191,
          0.223403735446908,
          0.22582223645938587,
          0.228283009212824,
          0.23082033562461654,
          0.23327107464613442,
          0.23600368721067083,
          0.23895936450058214,
          0.24218660288681615,
          0.2455497611785993,
          0.24949255329862652,
          0.2545865303466506,
          0.2589716428154949,
          0.26332702570827926,
          0.26854354435262545,
          0.2761483699087636,
          0.28257070157711683,
          0.28989114515725645,
          0.29907721254008385,
          0.30853753526206434,
          0.31991653049901464,
          0.3305210702796029,
          0.34462886897915695,
          0.36099407155091395,
          0.3771252466161239,
          0.393221768144239,
          0.41200528591862345,
          0.4256955698843854,
          0.44379484288476484,
          0.46842979156222603,
          0.4887257086137359,
          0.5062327127160458,
          0.5484312445952559,
          0.5678949193269373,
          0.5924952144673036,
          0.6087981707391851,
          0.6336539544238167,
          0.6665390462677676,
          0.6844408033971987,
          0.7239002193671094,
          0.7393416682677282,
          0.7515784546789336,
          0.7747259955041449,
          0.7878104464527599,
          0.7989590374752454,
          0.8139632757979325,
          0.8286705899797208,
          0.8372100390832439,
          0.8616789666593954,
          0.8720508725073144,
          0.8800188634160101,
          0.8885990977816906,
          0.8965939382137653,
          0.902690266499636,
          0.9121708424953073,
          0.9166968917356609,
          0.9218061980963409,
          0.9272340754454884,
          0.9356167010352954,
          0.9416645329502182,
          0.9448363070961153,
          0.9474661668133945,
          0.952290162148824,
          0.954408766062797,
          0.9566963640356859,
          0.9588342921740979,
          0.9657031249129017,
          0.9678728265357277,
          0.9692348127389747,
          0.973254994661683,
          0.9745092111517126,
          0.9757421524138743,
          0.9785826275965533,
          0.9796194465616445,
          0.9805824061112116,
          0.981401177216888,
          0.9821695009481877,
          0.9866689793799377,
          0.9877200127985825,
          0.9883811242462159,
          0.988944871332253,
          0.9894195225950352,
          0.9897648502019567,
          0.990054992283317,
          0.9903066717256496,
          0.9905935621346281,
          0.9909935178375598,
          0.9913483217468504,
          0.9916590887216022,
          0.9918698899968523,
          0.992071958209135,
          0.9923372017705449,
          0.9925934335542117,
          0.9931972226630045,
          0.9934452788132547,
          0.9936213336464849,
          0.9937694240972336,
          0.993913426731274,
          0.9940792620227334,
          0.9942493709407516,
          0.9945028155766628,
          0.9946502556929351,
          0.9947856181689331,
          0.9949081597652553,
          0.9950176946720511,
          0.9951406078880741,
          0.9952654721075259,
          0.9953839258871399,
          0.995499035089447,
          0.9956025311761058,
          0.9956852165595225,
          0.995789084265882,
          0.9958829182403213,
          0.9959801896969924,
          0.9961853237718061,
          0.9962818519890758,
          0.996363701228166,
          0.9964273411019193,
          0.9965022224716203,
          0.9965914111998002,
          0.9966762333964962,
          0.9967507431464966,
          0.9968400247796017,
          0.9969852351776696,
          0.9970380051751759,
          0.9970953275140165,
          0.997174854129977,
          0.9972553097951893,
          0.9973272182072843,
          0.9974649962113371,
          0.9975299367540431,
          0.997579455079168,
          0.9976278585451906,
          0.9976973514292308,
          0.9977852394884581,
          0.9978539891330968,
          0.9980062603054788,
          0.9980672988413269,
          0.9981190468846564,
          0.9981782273220007,
          0.9982496712094697,
          0.9983218583363404,
          0.9983998055685726,
          0.9984859284342212,
          0.998553749029608,
          0.998601316351304,
          0.9986649562250574,
          0.9987568391960676,
          0.998841754297689,
          0.998926576494385,
          0.9990010862443853,
          0.9991317105691987,
          0.9991749113594108,
          0.9992276813569173,
          0.9993087873566059,
          0.9994019709965688,
          0.9994885583868435,
          0.9995773754953227,
          0.9996428734675797,
          0.9997120876368443,
          0.9997901277740017,
          0.9998920444769323,
          1
         ],
         "yaxis": "y"
        },
        {
         "hovertemplate": "variable=total_deaths<br>date=%{x|%B %d, %Y}<br>value=%{y}<extra></extra>",
         "legendgroup": "total_deaths",
         "line": {
          "color": "#EF553B",
          "dash": "solid"
         },
         "marker": {
          "symbol": "circle"
         },
         "mode": "lines",
         "name": "total_deaths",
         "showlegend": true,
         "type": "scattergl",
         "x": [
          "2020-01-23T00:00:00",
          "2020-01-24T00:00:00",
          "2020-01-25T00:00:00",
          "2020-01-26T00:00:00",
          "2020-01-27T00:00:00",
          "2020-01-28T00:00:00",
          "2020-01-29T00:00:00",
          "2020-01-30T00:00:00",
          "2020-01-31T00:00:00",
          "2020-02-01T00:00:00",
          "2020-02-02T00:00:00",
          "2020-02-03T00:00:00",
          "2020-02-04T00:00:00",
          "2020-02-05T00:00:00",
          "2020-02-06T00:00:00",
          "2020-02-07T00:00:00",
          "2020-02-08T00:00:00",
          "2020-02-09T00:00:00",
          "2020-02-10T00:00:00",
          "2020-02-11T00:00:00",
          "2020-02-12T00:00:00",
          "2020-02-13T00:00:00",
          "2020-02-14T00:00:00",
          "2020-02-15T00:00:00",
          "2020-02-16T00:00:00",
          "2020-02-17T00:00:00",
          "2020-02-18T00:00:00",
          "2020-02-19T00:00:00",
          "2020-02-20T00:00:00",
          "2020-02-21T00:00:00",
          "2020-02-22T00:00:00",
          "2020-02-23T00:00:00",
          "2020-02-24T00:00:00",
          "2020-02-25T00:00:00",
          "2020-02-26T00:00:00",
          "2020-02-27T00:00:00",
          "2020-02-28T00:00:00",
          "2020-02-29T00:00:00",
          "2020-03-01T00:00:00",
          "2020-03-02T00:00:00",
          "2020-03-03T00:00:00",
          "2020-03-04T00:00:00",
          "2020-03-05T00:00:00",
          "2020-03-06T00:00:00",
          "2020-03-07T00:00:00",
          "2020-03-08T00:00:00",
          "2020-03-09T00:00:00",
          "2020-03-10T00:00:00",
          "2020-03-11T00:00:00",
          "2020-03-12T00:00:00",
          "2020-03-13T00:00:00",
          "2020-03-14T00:00:00",
          "2020-03-15T00:00:00",
          "2020-03-16T00:00:00",
          "2020-03-17T00:00:00",
          "2020-03-18T00:00:00",
          "2020-03-19T00:00:00",
          "2020-03-20T00:00:00",
          "2020-03-21T00:00:00",
          "2020-03-22T00:00:00",
          "2020-03-23T00:00:00",
          "2020-03-24T00:00:00",
          "2020-03-25T00:00:00",
          "2020-03-26T00:00:00",
          "2020-03-27T00:00:00",
          "2020-03-28T00:00:00",
          "2020-03-29T00:00:00",
          "2020-03-30T00:00:00",
          "2020-03-31T00:00:00",
          "2020-04-01T00:00:00",
          "2020-04-02T00:00:00",
          "2020-04-03T00:00:00",
          "2020-04-04T00:00:00",
          "2020-04-05T00:00:00",
          "2020-04-06T00:00:00",
          "2020-04-07T00:00:00",
          "2020-04-08T00:00:00",
          "2020-04-09T00:00:00",
          "2020-04-10T00:00:00",
          "2020-04-11T00:00:00",
          "2020-04-12T00:00:00",
          "2020-04-13T00:00:00",
          "2020-04-14T00:00:00",
          "2020-04-15T00:00:00",
          "2020-04-16T00:00:00",
          "2020-04-17T00:00:00",
          "2020-04-18T00:00:00",
          "2020-04-19T00:00:00",
          "2020-04-20T00:00:00",
          "2020-04-21T00:00:00",
          "2020-04-22T00:00:00",
          "2020-04-23T00:00:00",
          "2020-04-24T00:00:00",
          "2020-04-25T00:00:00",
          "2020-04-26T00:00:00",
          "2020-04-27T00:00:00",
          "2020-04-28T00:00:00",
          "2020-04-29T00:00:00",
          "2020-04-30T00:00:00",
          "2020-05-01T00:00:00",
          "2020-05-02T00:00:00",
          "2020-05-03T00:00:00",
          "2020-05-04T00:00:00",
          "2020-05-05T00:00:00",
          "2020-05-06T00:00:00",
          "2020-05-07T00:00:00",
          "2020-05-08T00:00:00",
          "2020-05-09T00:00:00",
          "2020-05-10T00:00:00",
          "2020-05-11T00:00:00",
          "2020-05-12T00:00:00",
          "2020-05-13T00:00:00",
          "2020-05-14T00:00:00",
          "2020-05-15T00:00:00",
          "2020-05-16T00:00:00",
          "2020-05-17T00:00:00",
          "2020-05-18T00:00:00",
          "2020-05-19T00:00:00",
          "2020-05-20T00:00:00",
          "2020-05-21T00:00:00",
          "2020-05-22T00:00:00",
          "2020-05-23T00:00:00",
          "2020-05-24T00:00:00",
          "2020-05-25T00:00:00",
          "2020-05-26T00:00:00",
          "2020-05-27T00:00:00",
          "2020-05-28T00:00:00",
          "2020-05-29T00:00:00",
          "2020-05-30T00:00:00",
          "2020-05-31T00:00:00",
          "2020-06-01T00:00:00",
          "2020-06-02T00:00:00",
          "2020-06-03T00:00:00",
          "2020-06-04T00:00:00",
          "2020-06-05T00:00:00",
          "2020-06-06T00:00:00",
          "2020-06-07T00:00:00",
          "2020-06-08T00:00:00",
          "2020-06-09T00:00:00",
          "2020-06-10T00:00:00",
          "2020-06-11T00:00:00",
          "2020-06-12T00:00:00",
          "2020-06-13T00:00:00",
          "2020-06-14T00:00:00",
          "2020-06-15T00:00:00",
          "2020-06-16T00:00:00",
          "2020-06-17T00:00:00",
          "2020-06-18T00:00:00",
          "2020-06-19T00:00:00",
          "2020-06-20T00:00:00",
          "2020-06-21T00:00:00",
          "2020-06-22T00:00:00",
          "2020-06-23T00:00:00",
          "2020-06-24T00:00:00",
          "2020-06-25T00:00:00",
          "2020-06-26T00:00:00",
          "2020-06-27T00:00:00",
          "2020-06-28T00:00:00",
          "2020-06-29T00:00:00",
          "2020-06-30T00:00:00",
          "2020-07-01T00:00:00",
          "2020-07-02T00:00:00",
          "2020-07-03T00:00:00",
          "2020-07-04T00:00:00",
          "2020-07-05T00:00:00",
          "2020-07-06T00:00:00",
          "2020-07-07T00:00:00",
          "2020-07-08T00:00:00",
          "2020-07-09T00:00:00",
          "2020-07-10T00:00:00",
          "2020-07-11T00:00:00",
          "2020-07-12T00:00:00",
          "2020-07-13T00:00:00",
          "2020-07-14T00:00:00",
          "2020-07-15T00:00:00",
          "2020-07-16T00:00:00",
          "2020-07-17T00:00:00",
          "2020-07-18T00:00:00",
          "2020-07-19T00:00:00",
          "2020-07-20T00:00:00",
          "2020-07-21T00:00:00",
          "2020-07-22T00:00:00",
          "2020-07-23T00:00:00",
          "2020-07-24T00:00:00",
          "2020-07-25T00:00:00",
          "2020-07-26T00:00:00",
          "2020-07-27T00:00:00",
          "2020-07-28T00:00:00",
          "2020-07-29T00:00:00",
          "2020-07-30T00:00:00",
          "2020-07-31T00:00:00",
          "2020-08-01T00:00:00",
          "2020-08-02T00:00:00",
          "2020-08-03T00:00:00",
          "2020-08-04T00:00:00",
          "2020-08-05T00:00:00",
          "2020-08-06T00:00:00",
          "2020-08-07T00:00:00",
          "2020-08-08T00:00:00",
          "2020-08-09T00:00:00",
          "2020-08-10T00:00:00",
          "2020-08-11T00:00:00",
          "2020-08-12T00:00:00",
          "2020-08-13T00:00:00",
          "2020-08-14T00:00:00",
          "2020-08-15T00:00:00",
          "2020-08-16T00:00:00",
          "2020-08-17T00:00:00",
          "2020-08-18T00:00:00",
          "2020-08-19T00:00:00",
          "2020-08-20T00:00:00",
          "2020-08-21T00:00:00",
          "2020-08-22T00:00:00",
          "2020-08-23T00:00:00",
          "2020-08-24T00:00:00",
          "2020-08-25T00:00:00",
          "2020-08-26T00:00:00",
          "2020-08-27T00:00:00",
          "2020-08-28T00:00:00",
          "2020-08-29T00:00:00",
          "2020-08-30T00:00:00",
          "2020-08-31T00:00:00",
          "2020-09-01T00:00:00",
          "2020-09-02T00:00:00",
          "2020-09-03T00:00:00",
          "2020-09-04T00:00:00",
          "2020-09-05T00:00:00",
          "2020-09-06T00:00:00",
          "2020-09-07T00:00:00",
          "2020-09-08T00:00:00",
          "2020-09-09T00:00:00",
          "2020-09-10T00:00:00",
          "2020-09-11T00:00:00",
          "2020-09-12T00:00:00",
          "2020-09-13T00:00:00",
          "2020-09-14T00:00:00",
          "2020-09-15T00:00:00",
          "2020-09-16T00:00:00",
          "2020-09-17T00:00:00",
          "2020-09-18T00:00:00",
          "2020-09-19T00:00:00",
          "2020-09-20T00:00:00",
          "2020-09-21T00:00:00",
          "2020-09-22T00:00:00",
          "2020-09-23T00:00:00",
          "2020-09-24T00:00:00",
          "2020-09-25T00:00:00",
          "2020-09-26T00:00:00",
          "2020-09-27T00:00:00",
          "2020-09-28T00:00:00",
          "2020-09-29T00:00:00",
          "2020-09-30T00:00:00",
          "2020-10-01T00:00:00",
          "2020-10-02T00:00:00",
          "2020-10-03T00:00:00",
          "2020-10-04T00:00:00",
          "2020-10-05T00:00:00",
          "2020-10-06T00:00:00",
          "2020-10-07T00:00:00",
          "2020-10-08T00:00:00",
          "2020-10-09T00:00:00",
          "2020-10-10T00:00:00",
          "2020-10-11T00:00:00",
          "2020-10-12T00:00:00",
          "2020-10-13T00:00:00",
          "2020-10-14T00:00:00",
          "2020-10-15T00:00:00",
          "2020-10-16T00:00:00",
          "2020-10-17T00:00:00",
          "2020-10-18T00:00:00",
          "2020-10-19T00:00:00",
          "2020-10-20T00:00:00",
          "2020-10-21T00:00:00",
          "2020-10-22T00:00:00",
          "2020-10-23T00:00:00",
          "2020-10-24T00:00:00",
          "2020-10-25T00:00:00",
          "2020-10-26T00:00:00",
          "2020-10-27T00:00:00",
          "2020-10-28T00:00:00",
          "2020-10-29T00:00:00",
          "2020-10-30T00:00:00",
          "2020-10-31T00:00:00",
          "2020-11-01T00:00:00",
          "2020-11-02T00:00:00",
          "2020-11-03T00:00:00",
          "2020-11-04T00:00:00",
          "2020-11-05T00:00:00",
          "2020-11-06T00:00:00",
          "2020-11-07T00:00:00",
          "2020-11-08T00:00:00",
          "2020-11-09T00:00:00",
          "2020-11-10T00:00:00",
          "2020-11-11T00:00:00",
          "2020-11-12T00:00:00",
          "2020-11-13T00:00:00",
          "2020-11-14T00:00:00",
          "2020-11-15T00:00:00",
          "2020-11-16T00:00:00",
          "2020-11-17T00:00:00",
          "2020-11-18T00:00:00",
          "2020-11-19T00:00:00",
          "2020-11-20T00:00:00",
          "2020-11-21T00:00:00",
          "2020-11-22T00:00:00",
          "2020-11-23T00:00:00",
          "2020-11-24T00:00:00",
          "2020-11-25T00:00:00",
          "2020-11-26T00:00:00",
          "2020-11-27T00:00:00",
          "2020-11-28T00:00:00",
          "2020-11-29T00:00:00",
          "2020-11-30T00:00:00",
          "2020-12-01T00:00:00",
          "2020-12-02T00:00:00",
          "2020-12-03T00:00:00",
          "2020-12-04T00:00:00",
          "2020-12-05T00:00:00",
          "2020-12-06T00:00:00",
          "2020-12-07T00:00:00",
          "2020-12-08T00:00:00",
          "2020-12-09T00:00:00",
          "2020-12-10T00:00:00",
          "2020-12-11T00:00:00",
          "2020-12-12T00:00:00",
          "2020-12-13T00:00:00",
          "2020-12-14T00:00:00",
          "2020-12-15T00:00:00",
          "2020-12-16T00:00:00",
          "2020-12-17T00:00:00",
          "2020-12-18T00:00:00",
          "2020-12-19T00:00:00",
          "2020-12-20T00:00:00",
          "2020-12-21T00:00:00",
          "2020-12-22T00:00:00",
          "2020-12-23T00:00:00",
          "2020-12-24T00:00:00",
          "2020-12-25T00:00:00",
          "2020-12-26T00:00:00",
          "2020-12-27T00:00:00",
          "2020-12-28T00:00:00",
          "2020-12-29T00:00:00",
          "2020-12-30T00:00:00",
          "2020-12-31T00:00:00",
          "2021-01-01T00:00:00",
          "2021-01-02T00:00:00",
          "2021-01-03T00:00:00",
          "2021-01-04T00:00:00",
          "2021-01-05T00:00:00",
          "2021-01-06T00:00:00",
          "2021-01-07T00:00:00",
          "2021-01-08T00:00:00",
          "2021-01-09T00:00:00",
          "2021-01-10T00:00:00",
          "2021-01-11T00:00:00",
          "2021-01-12T00:00:00",
          "2021-01-13T00:00:00",
          "2021-01-14T00:00:00",
          "2021-01-15T00:00:00",
          "2021-01-16T00:00:00",
          "2021-01-17T00:00:00",
          "2021-01-18T00:00:00",
          "2021-01-19T00:00:00",
          "2021-01-20T00:00:00",
          "2021-01-21T00:00:00",
          "2021-01-22T00:00:00",
          "2021-01-23T00:00:00",
          "2021-01-24T00:00:00",
          "2021-01-25T00:00:00",
          "2021-01-26T00:00:00",
          "2021-01-27T00:00:00",
          "2021-01-28T00:00:00",
          "2021-01-29T00:00:00",
          "2021-01-30T00:00:00",
          "2021-01-31T00:00:00",
          "2021-02-01T00:00:00",
          "2021-02-02T00:00:00",
          "2021-02-03T00:00:00",
          "2021-02-04T00:00:00",
          "2021-02-05T00:00:00",
          "2021-02-06T00:00:00",
          "2021-02-07T00:00:00",
          "2021-02-08T00:00:00",
          "2021-02-09T00:00:00",
          "2021-02-10T00:00:00",
          "2021-02-11T00:00:00",
          "2021-02-12T00:00:00",
          "2021-02-13T00:00:00",
          "2021-02-14T00:00:00",
          "2021-02-15T00:00:00",
          "2021-02-16T00:00:00",
          "2021-02-17T00:00:00",
          "2021-02-18T00:00:00",
          "2021-02-19T00:00:00",
          "2021-02-20T00:00:00",
          "2021-02-21T00:00:00",
          "2021-02-22T00:00:00",
          "2021-02-23T00:00:00",
          "2021-02-24T00:00:00",
          "2021-02-25T00:00:00",
          "2021-02-26T00:00:00",
          "2021-02-27T00:00:00",
          "2021-02-28T00:00:00",
          "2021-03-01T00:00:00",
          "2021-03-02T00:00:00",
          "2021-03-03T00:00:00",
          "2021-03-04T00:00:00",
          "2021-03-05T00:00:00",
          "2021-03-06T00:00:00",
          "2021-03-07T00:00:00",
          "2021-03-08T00:00:00",
          "2021-03-09T00:00:00",
          "2021-03-10T00:00:00",
          "2021-03-11T00:00:00",
          "2021-03-12T00:00:00",
          "2021-03-13T00:00:00",
          "2021-03-14T00:00:00",
          "2021-03-15T00:00:00",
          "2021-03-16T00:00:00",
          "2021-03-17T00:00:00",
          "2021-03-18T00:00:00",
          "2021-03-19T00:00:00",
          "2021-03-20T00:00:00",
          "2021-03-21T00:00:00",
          "2021-03-22T00:00:00",
          "2021-03-23T00:00:00",
          "2021-03-24T00:00:00",
          "2021-03-25T00:00:00",
          "2021-03-26T00:00:00",
          "2021-03-27T00:00:00",
          "2021-03-28T00:00:00",
          "2021-03-29T00:00:00",
          "2021-03-30T00:00:00",
          "2021-03-31T00:00:00",
          "2021-04-01T00:00:00",
          "2021-04-02T00:00:00",
          "2021-04-03T00:00:00",
          "2021-04-04T00:00:00",
          "2021-04-05T00:00:00",
          "2021-04-06T00:00:00",
          "2021-04-07T00:00:00",
          "2021-04-08T00:00:00",
          "2021-04-09T00:00:00",
          "2021-04-10T00:00:00",
          "2021-04-11T00:00:00",
          "2021-04-12T00:00:00",
          "2021-04-13T00:00:00",
          "2021-04-14T00:00:00",
          "2021-04-15T00:00:00",
          "2021-04-16T00:00:00",
          "2021-04-17T00:00:00",
          "2021-04-18T00:00:00",
          "2021-04-19T00:00:00",
          "2021-04-20T00:00:00",
          "2021-04-21T00:00:00",
          "2021-04-22T00:00:00",
          "2021-04-23T00:00:00",
          "2021-04-24T00:00:00",
          "2021-04-25T00:00:00",
          "2021-04-26T00:00:00",
          "2021-04-27T00:00:00",
          "2021-04-28T00:00:00",
          "2021-04-29T00:00:00",
          "2021-04-30T00:00:00",
          "2021-05-01T00:00:00",
          "2021-05-02T00:00:00",
          "2021-05-03T00:00:00",
          "2021-05-04T00:00:00",
          "2021-05-05T00:00:00",
          "2021-05-06T00:00:00",
          "2021-05-07T00:00:00",
          "2021-05-08T00:00:00",
          "2021-05-09T00:00:00",
          "2021-05-10T00:00:00",
          "2021-05-11T00:00:00",
          "2021-05-12T00:00:00",
          "2021-05-13T00:00:00",
          "2021-05-14T00:00:00",
          "2021-05-15T00:00:00",
          "2021-05-16T00:00:00",
          "2021-05-17T00:00:00",
          "2021-05-18T00:00:00",
          "2021-05-19T00:00:00",
          "2021-05-20T00:00:00",
          "2021-05-21T00:00:00",
          "2021-05-22T00:00:00",
          "2021-05-23T00:00:00",
          "2021-05-24T00:00:00",
          "2021-05-25T00:00:00",
          "2021-05-26T00:00:00",
          "2021-05-27T00:00:00",
          "2021-05-28T00:00:00",
          "2021-05-29T00:00:00",
          "2021-05-30T00:00:00",
          "2021-05-31T00:00:00",
          "2021-06-01T00:00:00",
          "2021-06-02T00:00:00",
          "2021-06-03T00:00:00",
          "2021-06-04T00:00:00",
          "2021-06-05T00:00:00",
          "2021-06-06T00:00:00",
          "2021-06-07T00:00:00",
          "2021-06-08T00:00:00",
          "2021-06-09T00:00:00",
          "2021-06-10T00:00:00",
          "2021-06-11T00:00:00",
          "2021-06-12T00:00:00",
          "2021-06-13T00:00:00",
          "2021-06-14T00:00:00",
          "2021-06-15T00:00:00",
          "2021-06-16T00:00:00",
          "2021-06-17T00:00:00",
          "2021-06-18T00:00:00",
          "2021-06-19T00:00:00",
          "2021-06-20T00:00:00",
          "2021-06-21T00:00:00",
          "2021-06-22T00:00:00",
          "2021-06-23T00:00:00",
          "2021-06-24T00:00:00",
          "2021-06-25T00:00:00",
          "2021-06-26T00:00:00",
          "2021-06-27T00:00:00",
          "2021-06-28T00:00:00",
          "2021-06-29T00:00:00",
          "2021-06-30T00:00:00",
          "2021-07-01T00:00:00",
          "2021-07-02T00:00:00",
          "2021-07-03T00:00:00",
          "2021-07-04T00:00:00",
          "2021-07-05T00:00:00",
          "2021-07-06T00:00:00",
          "2021-07-07T00:00:00",
          "2021-07-08T00:00:00",
          "2021-07-09T00:00:00",
          "2021-07-10T00:00:00",
          "2021-07-11T00:00:00",
          "2021-07-12T00:00:00",
          "2021-07-13T00:00:00",
          "2021-07-14T00:00:00",
          "2021-07-15T00:00:00",
          "2021-07-16T00:00:00",
          "2021-07-17T00:00:00",
          "2021-07-18T00:00:00",
          "2021-07-19T00:00:00",
          "2021-07-20T00:00:00",
          "2021-07-21T00:00:00",
          "2021-07-22T00:00:00",
          "2021-07-23T00:00:00",
          "2021-07-24T00:00:00",
          "2021-07-25T00:00:00",
          "2021-07-26T00:00:00",
          "2021-07-27T00:00:00",
          "2021-07-28T00:00:00",
          "2021-07-29T00:00:00",
          "2021-07-30T00:00:00",
          "2021-07-31T00:00:00",
          "2021-08-01T00:00:00",
          "2021-08-02T00:00:00",
          "2021-08-03T00:00:00",
          "2021-08-04T00:00:00",
          "2021-08-05T00:00:00",
          "2021-08-06T00:00:00",
          "2021-08-07T00:00:00",
          "2021-08-08T00:00:00",
          "2021-08-09T00:00:00",
          "2021-08-10T00:00:00",
          "2021-08-11T00:00:00",
          "2021-08-12T00:00:00",
          "2021-08-13T00:00:00",
          "2021-08-14T00:00:00",
          "2021-08-15T00:00:00",
          "2021-08-16T00:00:00",
          "2021-08-17T00:00:00",
          "2021-08-18T00:00:00",
          "2021-08-19T00:00:00",
          "2021-08-20T00:00:00",
          "2021-08-21T00:00:00",
          "2021-08-22T00:00:00",
          "2021-08-23T00:00:00",
          "2021-08-24T00:00:00",
          "2021-08-25T00:00:00",
          "2021-08-26T00:00:00",
          "2021-08-27T00:00:00",
          "2021-08-28T00:00:00",
          "2021-08-29T00:00:00",
          "2021-08-30T00:00:00",
          "2021-08-31T00:00:00",
          "2021-09-01T00:00:00",
          "2021-09-02T00:00:00",
          "2021-09-03T00:00:00",
          "2021-09-04T00:00:00",
          "2021-09-05T00:00:00",
          "2021-09-06T00:00:00",
          "2021-09-07T00:00:00",
          "2021-09-08T00:00:00",
          "2021-09-09T00:00:00",
          "2021-09-10T00:00:00",
          "2021-09-11T00:00:00",
          "2021-09-12T00:00:00",
          "2021-09-13T00:00:00",
          "2021-09-14T00:00:00",
          "2021-09-15T00:00:00",
          "2021-09-16T00:00:00",
          "2021-09-17T00:00:00",
          "2021-09-18T00:00:00",
          "2021-09-19T00:00:00",
          "2021-09-20T00:00:00",
          "2021-09-21T00:00:00",
          "2021-09-22T00:00:00",
          "2021-09-23T00:00:00",
          "2021-09-24T00:00:00",
          "2021-09-25T00:00:00",
          "2021-09-26T00:00:00",
          "2021-09-27T00:00:00",
          "2021-09-28T00:00:00",
          "2021-09-29T00:00:00",
          "2021-09-30T00:00:00",
          "2021-10-01T00:00:00",
          "2021-10-02T00:00:00",
          "2021-10-03T00:00:00",
          "2021-10-04T00:00:00",
          "2021-10-05T00:00:00",
          "2021-10-06T00:00:00",
          "2021-10-07T00:00:00",
          "2021-10-08T00:00:00",
          "2021-10-09T00:00:00",
          "2021-10-10T00:00:00",
          "2021-10-11T00:00:00",
          "2021-10-12T00:00:00",
          "2021-10-13T00:00:00",
          "2021-10-14T00:00:00",
          "2021-10-15T00:00:00",
          "2021-10-16T00:00:00",
          "2021-10-17T00:00:00",
          "2021-10-18T00:00:00",
          "2021-10-19T00:00:00",
          "2021-10-20T00:00:00",
          "2021-10-21T00:00:00",
          "2021-10-22T00:00:00",
          "2021-10-23T00:00:00",
          "2021-10-24T00:00:00",
          "2021-10-25T00:00:00",
          "2021-10-26T00:00:00",
          "2021-10-27T00:00:00",
          "2021-10-28T00:00:00",
          "2021-10-29T00:00:00",
          "2021-10-30T00:00:00",
          "2021-10-31T00:00:00",
          "2021-11-01T00:00:00",
          "2021-11-02T00:00:00",
          "2021-11-03T00:00:00",
          "2021-11-04T00:00:00",
          "2021-11-05T00:00:00",
          "2021-11-06T00:00:00",
          "2021-11-07T00:00:00",
          "2021-11-08T00:00:00",
          "2021-11-09T00:00:00",
          "2021-11-10T00:00:00",
          "2021-11-11T00:00:00",
          "2021-11-12T00:00:00",
          "2021-11-13T00:00:00",
          "2021-11-14T00:00:00",
          "2021-11-15T00:00:00",
          "2021-11-16T00:00:00",
          "2021-11-17T00:00:00",
          "2021-11-18T00:00:00",
          "2021-11-19T00:00:00",
          "2021-11-20T00:00:00",
          "2021-11-21T00:00:00",
          "2021-11-22T00:00:00",
          "2021-11-23T00:00:00",
          "2021-11-24T00:00:00",
          "2021-11-25T00:00:00",
          "2021-11-26T00:00:00",
          "2021-11-27T00:00:00",
          "2021-11-28T00:00:00",
          "2021-11-29T00:00:00",
          "2021-11-30T00:00:00",
          "2021-12-01T00:00:00",
          "2021-12-02T00:00:00",
          "2021-12-03T00:00:00",
          "2021-12-04T00:00:00",
          "2021-12-05T00:00:00",
          "2021-12-06T00:00:00",
          "2021-12-07T00:00:00",
          "2021-12-08T00:00:00",
          "2021-12-09T00:00:00",
          "2021-12-10T00:00:00",
          "2021-12-11T00:00:00",
          "2021-12-12T00:00:00",
          "2021-12-13T00:00:00",
          "2021-12-14T00:00:00",
          "2021-12-15T00:00:00",
          "2021-12-16T00:00:00",
          "2021-12-17T00:00:00",
          "2021-12-18T00:00:00",
          "2021-12-19T00:00:00",
          "2021-12-20T00:00:00",
          "2021-12-21T00:00:00",
          "2021-12-22T00:00:00",
          "2021-12-23T00:00:00",
          "2021-12-24T00:00:00",
          "2021-12-25T00:00:00",
          "2021-12-26T00:00:00",
          "2021-12-27T00:00:00",
          "2021-12-28T00:00:00",
          "2021-12-29T00:00:00",
          "2021-12-30T00:00:00",
          "2021-12-31T00:00:00",
          "2022-01-01T00:00:00",
          "2022-01-02T00:00:00",
          "2022-01-03T00:00:00",
          "2022-01-04T00:00:00",
          "2022-01-05T00:00:00",
          "2022-01-06T00:00:00",
          "2022-01-07T00:00:00",
          "2022-01-08T00:00:00",
          "2022-01-09T00:00:00",
          "2022-01-10T00:00:00",
          "2022-01-11T00:00:00",
          "2022-01-12T00:00:00",
          "2022-01-13T00:00:00",
          "2022-01-14T00:00:00",
          "2022-01-15T00:00:00",
          "2022-01-16T00:00:00",
          "2022-01-17T00:00:00",
          "2022-01-18T00:00:00",
          "2022-01-19T00:00:00",
          "2022-01-20T00:00:00",
          "2022-01-21T00:00:00",
          "2022-01-22T00:00:00",
          "2022-01-23T00:00:00",
          "2022-01-24T00:00:00",
          "2022-01-25T00:00:00",
          "2022-01-26T00:00:00",
          "2022-01-27T00:00:00",
          "2022-01-28T00:00:00",
          "2022-01-29T00:00:00",
          "2022-01-30T00:00:00",
          "2022-01-31T00:00:00",
          "2022-02-01T00:00:00",
          "2022-02-02T00:00:00",
          "2022-02-03T00:00:00",
          "2022-02-04T00:00:00",
          "2022-02-05T00:00:00",
          "2022-02-06T00:00:00",
          "2022-02-07T00:00:00",
          "2022-02-08T00:00:00",
          "2022-02-09T00:00:00",
          "2022-02-10T00:00:00",
          "2022-02-11T00:00:00",
          "2022-02-12T00:00:00",
          "2022-02-13T00:00:00",
          "2022-02-14T00:00:00",
          "2022-02-15T00:00:00",
          "2022-02-16T00:00:00",
          "2022-02-17T00:00:00",
          "2022-02-18T00:00:00",
          "2022-02-19T00:00:00",
          "2022-02-20T00:00:00",
          "2022-02-21T00:00:00",
          "2022-02-22T00:00:00",
          "2022-02-23T00:00:00",
          "2022-02-24T00:00:00",
          "2022-02-25T00:00:00",
          "2022-02-26T00:00:00",
          "2022-02-27T00:00:00",
          "2022-02-28T00:00:00",
          "2022-03-01T00:00:00",
          "2022-03-02T00:00:00",
          "2022-03-03T00:00:00",
          "2022-03-04T00:00:00",
          "2022-03-05T00:00:00",
          "2022-03-06T00:00:00",
          "2022-03-07T00:00:00",
          "2022-03-08T00:00:00",
          "2022-03-09T00:00:00",
          "2022-03-10T00:00:00",
          "2022-03-11T00:00:00",
          "2022-03-12T00:00:00",
          "2022-03-13T00:00:00",
          "2022-03-14T00:00:00",
          "2022-03-15T00:00:00",
          "2022-03-16T00:00:00",
          "2022-03-17T00:00:00",
          "2022-03-18T00:00:00",
          "2022-03-19T00:00:00",
          "2022-03-20T00:00:00",
          "2022-03-21T00:00:00",
          "2022-03-22T00:00:00",
          "2022-03-23T00:00:00",
          "2022-03-24T00:00:00",
          "2022-03-25T00:00:00",
          "2022-03-26T00:00:00",
          "2022-03-27T00:00:00",
          "2022-03-28T00:00:00",
          "2022-03-29T00:00:00",
          "2022-03-30T00:00:00",
          "2022-03-31T00:00:00",
          "2022-04-01T00:00:00",
          "2022-04-02T00:00:00",
          "2022-04-03T00:00:00",
          "2022-04-04T00:00:00",
          "2022-04-05T00:00:00",
          "2022-04-06T00:00:00",
          "2022-04-07T00:00:00",
          "2022-04-08T00:00:00",
          "2022-04-09T00:00:00",
          "2022-04-10T00:00:00",
          "2022-04-11T00:00:00",
          "2022-04-12T00:00:00",
          "2022-04-13T00:00:00",
          "2022-04-14T00:00:00",
          "2022-04-15T00:00:00",
          "2022-04-16T00:00:00",
          "2022-04-17T00:00:00",
          "2022-04-18T00:00:00",
          "2022-04-19T00:00:00",
          "2022-04-20T00:00:00",
          "2022-04-21T00:00:00",
          "2022-04-22T00:00:00",
          "2022-04-23T00:00:00",
          "2022-04-24T00:00:00",
          "2022-04-25T00:00:00",
          "2022-04-26T00:00:00",
          "2022-04-27T00:00:00",
          "2022-04-28T00:00:00",
          "2022-04-29T00:00:00",
          "2022-04-30T00:00:00",
          "2022-05-01T00:00:00",
          "2022-05-02T00:00:00",
          "2022-05-03T00:00:00",
          "2022-05-04T00:00:00",
          "2022-05-05T00:00:00",
          "2022-05-06T00:00:00",
          "2022-05-07T00:00:00",
          "2022-05-08T00:00:00",
          "2022-05-09T00:00:00",
          "2022-05-10T00:00:00",
          "2022-05-11T00:00:00",
          "2022-05-12T00:00:00",
          "2022-05-13T00:00:00",
          "2022-05-14T00:00:00",
          "2022-05-15T00:00:00",
          "2022-05-16T00:00:00",
          "2022-05-17T00:00:00",
          "2022-05-18T00:00:00",
          "2022-05-19T00:00:00",
          "2022-05-20T00:00:00",
          "2022-05-21T00:00:00",
          "2022-05-22T00:00:00",
          "2022-05-23T00:00:00",
          "2022-05-24T00:00:00",
          "2022-05-25T00:00:00",
          "2022-05-26T00:00:00",
          "2022-05-27T00:00:00",
          "2022-05-28T00:00:00",
          "2022-05-29T00:00:00",
          "2022-05-30T00:00:00",
          "2022-05-31T00:00:00",
          "2022-06-01T00:00:00",
          "2022-06-02T00:00:00",
          "2022-06-03T00:00:00",
          "2022-06-04T00:00:00",
          "2022-06-05T00:00:00",
          "2022-06-06T00:00:00",
          "2022-06-07T00:00:00",
          "2022-06-08T00:00:00",
          "2022-06-09T00:00:00",
          "2022-06-10T00:00:00",
          "2022-06-11T00:00:00",
          "2022-06-12T00:00:00",
          "2022-06-13T00:00:00",
          "2022-06-14T00:00:00",
          "2022-06-15T00:00:00",
          "2022-06-16T00:00:00",
          "2022-06-17T00:00:00",
          "2022-06-18T00:00:00",
          "2022-06-19T00:00:00",
          "2022-06-20T00:00:00",
          "2022-06-21T00:00:00",
          "2022-06-22T00:00:00",
          "2022-06-23T00:00:00",
          "2022-06-24T00:00:00",
          "2022-06-25T00:00:00",
          "2022-06-26T00:00:00",
          "2022-06-27T00:00:00",
          "2022-06-28T00:00:00",
          "2022-06-29T00:00:00",
          "2022-06-30T00:00:00",
          "2022-07-01T00:00:00",
          "2022-07-02T00:00:00",
          "2022-07-03T00:00:00",
          "2022-07-04T00:00:00",
          "2022-07-05T00:00:00",
          "2022-07-06T00:00:00",
          "2022-07-07T00:00:00",
          "2022-07-08T00:00:00",
          "2022-07-09T00:00:00",
          "2022-07-10T00:00:00",
          "2022-07-11T00:00:00",
          "2022-07-12T00:00:00",
          "2022-07-13T00:00:00",
          "2022-07-14T00:00:00",
          "2022-07-15T00:00:00",
          "2022-07-16T00:00:00",
          "2022-07-17T00:00:00",
          "2022-07-18T00:00:00",
          "2022-07-19T00:00:00",
          "2022-07-20T00:00:00"
         ],
         "xaxis": "x",
         "y": [
          0,
          0,
          0,
          0,
          0,
          0,
          0,
          0,
          0,
          0,
          0,
          0,
          0,
          0,
          0,
          0,
          0,
          0,
          0,
          0,
          0,
          0,
          0,
          0,
          0,
          0,
          0,
          0,
          0,
          0,
          0,
          0,
          0,
          0,
          0,
          0,
          0,
          0,
          0,
          0,
          0,
          0,
          0,
          0,
          0,
          0,
          0,
          0,
          0,
          0,
          0,
          0,
          0,
          0,
          0,
          0,
          0,
          0,
          0,
          0,
          0,
          0,
          0,
          0,
          0,
          0,
          0,
          0,
          0,
          0,
          0,
          0,
          0,
          0,
          0,
          0,
          0,
          0,
          0,
          0,
          0,
          0,
          0,
          0,
          0,
          0,
          0,
          0,
          0,
          0,
          0,
          0,
          0,
          0,
          0,
          0,
          0,
          0,
          0,
          0,
          0,
          0,
          0,
          0,
          0,
          0,
          0,
          0,
          0,
          0,
          0,
          0,
          0,
          0,
          0,
          0,
          0,
          0,
          0,
          0,
          0,
          0,
          0,
          0,
          0,
          0,
          0,
          0,
          0,
          0,
          0,
          0,
          0,
          0,
          0,
          0,
          0,
          0,
          0,
          0,
          0,
          0,
          0,
          0,
          0,
          0,
          0,
          0,
          0,
          0,
          0,
          0,
          0,
          0,
          0,
          0,
          0,
          0,
          0,
          0,
          0,
          0,
          0,
          0,
          0,
          0,
          0,
          0,
          0,
          0,
          0,
          0,
          0,
          0,
          0,
          0,
          0,
          0,
          0,
          0,
          0,
          0,
          0,
          0,
          0,
          0,
          0,
          0,
          0,
          0,
          0.00006962010628669559,
          0.00006962010628669559,
          0.00013924021257339118,
          0.0001624469146689564,
          0.0001856536167645216,
          0.0002088603188600868,
          0.00023206702095565198,
          0.00023206702095565198,
          0.00023206702095565198,
          0.0003016871272423476,
          0.000348100531433478,
          0.0003713072335290432,
          0.0004177206377201736,
          0.0004873407440068692,
          0.0005105474461024344,
          0.0005569608502935647,
          0.0005569608502935647,
          0.00058016755238913,
          0.0006033742544846952,
          0.00058016755238913,
          0.00058016755238913,
          0.00058016755238913,
          0.0006033742544846952,
          0.0006265809565802604,
          0.0006265809565802604,
          0.0006265809565802604,
          0.000696201062866956,
          0.000696201062866956,
          0.000696201062866956,
          0.0007426144670580864,
          0.0007426144670580864,
          0.0007890278712492167,
          0.0007890278712492167,
          0.0007890278712492167,
          0.000812234573344782,
          0.000812234573344782,
          0.000812234573344782,
          0.000812234573344782,
          0.000812234573344782,
          0.000812234573344782,
          0.000812234573344782,
          0.000812234573344782,
          0.000812234573344782,
          0.000812234573344782,
          0.000812234573344782,
          0.000812234573344782,
          0.000812234573344782,
          0.000812234573344782,
          0.000812234573344782,
          0.000812234573344782,
          0.000812234573344782,
          0.000812234573344782,
          0.000812234573344782,
          0.000812234573344782,
          0.000812234573344782,
          0.000812234573344782,
          0.000812234573344782,
          0.000812234573344782,
          0.000812234573344782,
          0.000812234573344782,
          0.000812234573344782,
          0.000812234573344782,
          0.000812234573344782,
          0.000812234573344782,
          0.000812234573344782,
          0.000812234573344782,
          0.000812234573344782,
          0.000812234573344782,
          0.000812234573344782,
          0.000812234573344782,
          0.000812234573344782,
          0.000812234573344782,
          0.000812234573344782,
          0.000812234573344782,
          0.000812234573344782,
          0.000812234573344782,
          0.000812234573344782,
          0.000812234573344782,
          0.000812234573344782,
          0.000812234573344782,
          0.000812234573344782,
          0.000812234573344782,
          0.000812234573344782,
          0.000812234573344782,
          0.000812234573344782,
          0.000812234573344782,
          0.000812234573344782,
          0.000812234573344782,
          0.000812234573344782,
          0.000812234573344782,
          0.000812234573344782,
          0.000812234573344782,
          0.000812234573344782,
          0.000812234573344782,
          0.000812234573344782,
          0.000812234573344782,
          0.000812234573344782,
          0.000812234573344782,
          0.000812234573344782,
          0.000812234573344782,
          0.000812234573344782,
          0.000812234573344782,
          0.000812234573344782,
          0.000812234573344782,
          0.000812234573344782,
          0.000812234573344782,
          0.000812234573344782,
          0.000812234573344782,
          0.000812234573344782,
          0.000812234573344782,
          0.000812234573344782,
          0.000812234573344782,
          0.000812234573344782,
          0.000812234573344782,
          0.000812234573344782,
          0.000812234573344782,
          0.000812234573344782,
          0.000812234573344782,
          0.000812234573344782,
          0.000812234573344782,
          0.000812234573344782,
          0.000812234573344782,
          0.000812234573344782,
          0.000812234573344782,
          0.000812234573344782,
          0.000812234573344782,
          0.000812234573344782,
          0.000812234573344782,
          0.000812234573344782,
          0.000812234573344782,
          0.000812234573344782,
          0.000812234573344782,
          0.000812234573344782,
          0.000812234573344782,
          0.000812234573344782,
          0.000812234573344782,
          0.000812234573344782,
          0.000812234573344782,
          0.000812234573344782,
          0.000812234573344782,
          0.000812234573344782,
          0.000812234573344782,
          0.000812234573344782,
          0.000812234573344782,
          0.000812234573344782,
          0.000812234573344782,
          0.000812234573344782,
          0.000812234573344782,
          0.000812234573344782,
          0.000812234573344782,
          0.000812234573344782,
          0.000812234573344782,
          0.000812234573344782,
          0.000812234573344782,
          0.000812234573344782,
          0.000812234573344782,
          0.000812234573344782,
          0.000812234573344782,
          0.000812234573344782,
          0.000812234573344782,
          0.000812234573344782,
          0.000812234573344782,
          0.000812234573344782,
          0.000812234573344782,
          0.000812234573344782,
          0.000812234573344782,
          0.000812234573344782,
          0.000812234573344782,
          0.000812234573344782,
          0.000812234573344782,
          0.000812234573344782,
          0.000812234573344782,
          0.000812234573344782,
          0.000812234573344782,
          0.000812234573344782,
          0.000812234573344782,
          0.000812234573344782,
          0.000812234573344782,
          0.000812234573344782,
          0.000812234573344782,
          0.000812234573344782,
          0.000812234573344782,
          0.000812234573344782,
          0.000812234573344782,
          0.000812234573344782,
          0.000812234573344782,
          0.000812234573344782,
          0.000812234573344782,
          0.000812234573344782,
          0.000812234573344782,
          0.000812234573344782,
          0.000812234573344782,
          0.000812234573344782,
          0.000812234573344782,
          0.000812234573344782,
          0.000812234573344782,
          0.000812234573344782,
          0.000812234573344782,
          0.000812234573344782,
          0.000812234573344782,
          0.000812234573344782,
          0.000812234573344782,
          0.000812234573344782,
          0.000812234573344782,
          0.000812234573344782,
          0.000812234573344782,
          0.000812234573344782,
          0.000812234573344782,
          0.000812234573344782,
          0.000812234573344782,
          0.000812234573344782,
          0.000812234573344782,
          0.000812234573344782,
          0.000812234573344782,
          0.000812234573344782,
          0.000812234573344782,
          0.000812234573344782,
          0.000812234573344782,
          0.000812234573344782,
          0.000812234573344782,
          0.000812234573344782,
          0.000812234573344782,
          0.000812234573344782,
          0.000812234573344782,
          0.000812234573344782,
          0.000812234573344782,
          0.000812234573344782,
          0.000812234573344782,
          0.000812234573344782,
          0.000812234573344782,
          0.000812234573344782,
          0.000812234573344782,
          0.000812234573344782,
          0.000812234573344782,
          0.000812234573344782,
          0.000812234573344782,
          0.000812234573344782,
          0.000812234573344782,
          0.000812234573344782,
          0.000812234573344782,
          0.000812234573344782,
          0.000812234573344782,
          0.000812234573344782,
          0.000812234573344782,
          0.000812234573344782,
          0.000812234573344782,
          0.000812234573344782,
          0.000812234573344782,
          0.000812234573344782,
          0.000812234573344782,
          0.000812234573344782,
          0.000812234573344782,
          0.000812234573344782,
          0.000812234573344782,
          0.000812234573344782,
          0.000812234573344782,
          0.000812234573344782,
          0.000812234573344782,
          0.000812234573344782,
          0.000812234573344782,
          0.000812234573344782,
          0.000812234573344782,
          0.000812234573344782,
          0.000812234573344782,
          0.000812234573344782,
          0.000812234573344782,
          0.000812234573344782,
          0.000812234573344782,
          0.000812234573344782,
          0.000812234573344782,
          0.000812234573344782,
          0.000812234573344782,
          0.000812234573344782,
          0.000812234573344782,
          0.000812234573344782,
          0.000812234573344782,
          0.000812234573344782,
          0.000812234573344782,
          0.000812234573344782,
          0.000812234573344782,
          0.000812234573344782,
          0.000812234573344782,
          0.000812234573344782,
          0.000812234573344782,
          0.000812234573344782,
          0.000812234573344782,
          0.000812234573344782,
          0.000812234573344782,
          0.0008354412754403472,
          0.0008586479775359124,
          0.0008586479775359124,
          0.0008586479775359124,
          0.0008586479775359124,
          0.0009050613817270427,
          0.0009514747859181732,
          0.0009746814880137384,
          0.0009978881901093035,
          0.0010210948922048687,
          0.0010210948922048687,
          0.001044301594300434,
          0.001067508296395999,
          0.0010907149984915644,
          0.0010907149984915644,
          0.0010907149984915644,
          0.0010907149984915644,
          0.0011139217005871295,
          0.0011371284026826948,
          0.0011371284026826948,
          0.0011835418068738251,
          0.0012299552110649555,
          0.0012299552110649555,
          0.0012299552110649555,
          0.001276368615256086,
          0.001276368615256086,
          0.001276368615256086,
          0.0013227820194472164,
          0.0013459887215427815,
          0.0013691954236383468,
          0.0013691954236383468,
          0.0014156088278294771,
          0.0014156088278294771,
          0.0014156088278294771,
          0.0014388155299250424,
          0.0014852289341161728,
          0.0015316423383073031,
          0.0016012624445939988,
          0.0016012624445939988,
          0.001624469146689564,
          0.0016708825508806944,
          0.0017172959550718248,
          0.0017172959550718248,
          0.0017637093592629551,
          0.0018101227634540855,
          0.0018565361676452158,
          0.0018797428697407811,
          0.0018797428697407811,
          0.0019493629760274768,
          0.0019493629760274768,
          0.001995776380218607,
          0.002088603188600868,
          0.002251050103269824,
          0.0023670836137476502,
          0.002413497017938781,
          0.002552737230512172,
          0.0025991506347033022,
          0.002761597549372259,
          0.00290083776194565,
          0.0030632846766146062,
          0.0032025248891879975,
          0.004803787333781996,
          0.00522150797150217,
          0.00522150797150217,
          0.0058945023322735605,
          0.0077510384999187765,
          0.0077510384999187765,
          0.008586479775359123,
          0.008586479775359123,
          0.008586479775359123,
          0.008586479775359123,
          0.008586479775359123,
          0.012160311898076164,
          0.012160311898076164,
          0.014620222320206076,
          0.023717249541667634,
          0.026942981132951196,
          0.03030795293680815,
          0.03030795293680815,
          0.03030795293680815,
          0.04806108003991553,
          0.05400199577638022,
          0.06312222969993735,
          0.06999141352022464,
          0.0754217818105869,
          0.07883316701863498,
          0.08718757977303845,
          0.09619178018611775,
          0.10412847230280105,
          0.1116938571859553,
          0.11807570026223574,
          0.126174839293588,
          0.13399549789979345,
          0.14251235756886588,
          0.15019377596249797,
          0.1571093731869764,
          0.16592791998329118,
          0.1749785338005616,
          0.1749785338005616,
          0.19208187324499315,
          0.201109280360168,
          0.2091852126894247,
          0.21695945789143906,
          0.22433918915782877,
          0.23329697616671694,
          0.2414657353043559,
          0.24944884082523033,
          0.2567589519853334,
          0.2567589519853334,
          0.2754171404701678,
          0.2816829500359704,
          0.2888306142814045,
          0.2968833399085656,
          0.3034044231974194,
          0.3106217075491402,
          0.3179550254113388,
          0.32802673412081407,
          0.33580097932282843,
          0.34218282239910885,
          0.3485182520711982,
          0.3545752013181407,
          0.363416954816551,
          0.36982200459492703,
          0.3756236801188183,
          0.3811700819196584,
          0.38608990276391825,
          0.3911953772249426,
          0.3966025388132093,
          0.40159197976375577,
          0.4071615882666914,
          0.4126383699612448,
          0.4181151516557982,
          0.4228261121811979,
          0.4270033185583997,
          0.4312733517439837,
          0.435311317908612,
          0.4394421108816226,
          0.4432015966211042,
          0.4479125571465039,
          0.4510686686315008,
          0.4548745677751735,
          0.4575201318140679,
          0.46053700308649137,
          0.4636467011672971,
          0.4664082987166694,
          0.469309136478615,
          0.4719547005175095,
          0.4743914042375438,
          0.47701376157434267,
          0.47968253231533264,
          0.4818407556102202,
          0.48430066603235017,
          0.4861804089020909,
          0.4883386321969785,
          0.4903808219813882,
          0.49184284421340885,
          0.4935833468705762,
          0.4953238495277436,
          0.4969947320786243,
          0.49864240792740944,
          0.4999419832447611,
          0.5017288993061196,
          0.5029588545171846,
          0.5044672901533963,
          0.5059525190875125,
          0.507205681000673,
          0.5084588429138335,
          0.5097584182311852,
          0.5112436471653014,
          0.5124736023763663,
          0.5135875240769534,
          0.5153048200320253,
          0.5171149427954793,
          0.5184841382191177,
          0.5201086073658072,
          0.52145459608735,
          0.5228702049151795,
          0.5244250539555824,
          0.5264672437399921,
          0.5283005732055418,
          0.5302499361815692,
          0.53212967905131,
          0.5341718688357198,
          0.5356570977698359,
          0.538000974681488,
          0.5400199577638022,
          0.541574806804205,
          0.5448005383954886,
          0.5471676220092363,
          0.5496507391334617,
          0.5514144484927247,
          0.5558237218908821,
          0.5596992411408415,
          0.5626000789027871,
          0.5664059780464599,
          0.5695852962335523,
          0.5730198881436959,
          0.5774291615418533,
          0.581443921004386,
          0.5860156413172124,
          0.5905641549279432,
          0.5954375623680119,
          0.600078902787125,
          0.6047898633125247,
          0.6094079970295422,
          0.6145830915968532,
          0.6196189459515908,
          0.6249564874335708,
          0.6308974031700355,
          0.6359100508226776,
          0.6407602515606508,
          0.6460513796384396,
          0.6516674015455663,
          0.6575154904736488,
          0.6640829871666938,
          0.669675802371725,
          0.675384651087234,
          0.6811399132069341,
          0.6861293541574807,
          0.6913508621289829,
          0.6971525376528741,
          0.7020259450929428,
          0.7085238216797011,
          0.7139773966721589,
          0.7195702118771902,
          0.7243739992109721,
          0.7291081664384674,
          0.7340744006869184,
          0.7397600427003319,
          0.7465131930101413,
          0.7517579076837391,
          0.7567705553363812,
          0.7618992364995011,
          0.7663085098976584,
          0.7715068111670651,
          0.7768443526490451,
          0.7807662853031956,
          0.7861734468914623,
          0.7917430553943979,
          0.796430809217702,
          0.8013506300619619,
          0.8072915457984265,
          0.8113991320693417,
          0.8161797127010281,
          0.8201480587593697,
          0.8233737903506533,
          0.8263674549209812,
          0.8263674549209812,
          0.8347914877816713,
          0.8380868394792416,
          0.8416142581977675,
          0.8457218444686826,
          0.849272469889304,
          0.8521268942470586,
          0.8559560000928268,
          0.8588800445568681,
          0.8624770833816806,
          0.8654011278457219,
          0.8686732728411966,
          0.8713420435821866,
          0.8741500545357499,
          0.8766795850641665,
          0.8766795850641665,
          0.8766795850641665,
          0.8833167018634982,
          0.8852660648395256,
          0.8879116288784201,
          0.8893736511104406,
          0.8916943213199973,
          0.893945371423267,
          0.8961035947181546,
          0.8978208906732265,
          0.9000487340744007,
          0.9018588568378548,
          0.9038082198138823,
          0.9059200297045786,
          0.9078925993827017,
          0.909424241721009,
          0.9115128449096099,
          0.9133693810772551,
          0.9148778167134668,
          0.916687939476921,
          0.9191014364948598,
          0.9208883525562183,
          0.9230001624469146,
          0.9255761063795224,
          0.9273862291429765,
          0.9294284189273863,
          0.9316098489243694,
          0.940381982316493,
          0.936111949130909,
          0.9387575131698035,
          0.9409621498688822,
          0.9432131999721519,
          0.9451161495439883,
          0.9471351326263024,
          0.9489452553897566,
          0.9509410317699751,
          0.9534705622983918,
          0.9551182381471769,
          0.956765913995962,
          0.9582047295258871,
          0.9604093662249658,
          0.9625443828177578,
          0.9641224385602563,
          0.9655612540901812,
          0.9673249634494442,
          0.9686477454688914,
          0.9704346615302499,
          0.9718966837622706,
          0.9734979462068646,
          0.9750063818430763,
          0.9764219906709057,
          0.9780464598175953,
          0.9792300016244692,
          0.9806688171543941,
          0.9817827388549814,
          0.9829894873639508,
          0.9842658559792068,
          0.985217330765125,
          0.986122392146852,
          0.9868882133160056,
          0.9877468612935416,
          0.9886055092710775,
          0.9895801907590912,
          0.9904852521408183,
          0.9912046599057808,
          0.9916920006497877,
          0.9925042352231325,
          0.9931076094776171,
          0.9935485368174328,
          0.9939430507530574,
          0.9945928384117333,
          0.9950569724536447,
          0.9955907266018426,
          0.9961244807500406,
          0.9963565477709962,
          0.9965886147919519,
          0.9968903019191943,
          0.9973080225569144,
          0.9974704694715834,
          0.9976793297904435,
          0.9978417767051124,
          0.9979810169176858,
          0.998189877236546,
          0.9983755308533104,
          0.9985611844700749,
          0.9986772179805528,
          0.9987468380868395,
          0.998770044788935,
          0.9988396648952217,
          0.9988628715973173,
          0.9989092850015084,
          0.9989092850015084,
          0.9989789051077951,
          0.9990253185119863,
          0.9991645587245597,
          0.9991645587245597,
          0.9991877654266552,
          0.9992109721287508,
          0.9992341788308463,
          0.9992805922350375,
          0.9993502123413242,
          0.9993502123413242,
          0.9993966257455154,
          0.9993966257455154,
          0.9994430391497064,
          0.9995358659580887,
          0.9995590726601843,
          0.9995822793622798,
          0.9996286927664709,
          0.9996286927664709,
          0.9996286927664709,
          0.9996518994685665,
          0.9996518994685665,
          0.9996983128727577,
          0.9996983128727577,
          0.9996983128727577,
          0.9996983128727577,
          0.9996983128727577,
          0.9996983128727577,
          0.9997215195748532,
          0.9997215195748532,
          0.9997447262769488,
          0.9997447262769488,
          0.9997447262769488,
          0.9997447262769488,
          0.9997679329790443,
          0.9997679329790443,
          0.9997679329790443,
          0.9997679329790443,
          0.9997911396811399,
          0.9998143463832355,
          0.9998143463832355,
          0.9998143463832355,
          0.9998143463832355,
          0.9998143463832355,
          0.9998143463832355,
          0.9998143463832355,
          0.9998143463832355,
          0.9998143463832355,
          0.9998143463832355,
          0.9998143463832355,
          0.9998375530853311,
          0.9998375530853311,
          0.9998375530853311,
          0.9998375530853311,
          0.9998375530853311,
          0.9998375530853311,
          0.9999071731916177,
          0.9999071731916177,
          0.9999071731916177,
          0.9999071731916177,
          0.9999071731916177,
          0.9999071731916177,
          0.9999303798937133,
          0.9999535865958089,
          0.9999535865958089,
          0.9999535865958089,
          0.9999535865958089,
          0.9999535865958089,
          0.9999535865958089,
          0.9999535865958089,
          0.9999767932979045,
          0.9999767932979045,
          0.9999767932979045,
          0.9999767932979045,
          1,
          1,
          1,
          1,
          1
         ],
         "yaxis": "y"
        }
       ],
       "layout": {
        "legend": {
         "title": {
          "text": "variable"
         },
         "tracegroupgap": 0
        },
        "template": {
         "data": {
          "bar": [
           {
            "error_x": {
             "color": "#2a3f5f"
            },
            "error_y": {
             "color": "#2a3f5f"
            },
            "marker": {
             "line": {
              "color": "#E5ECF6",
              "width": 0.5
             },
             "pattern": {
              "fillmode": "overlay",
              "size": 10,
              "solidity": 0.2
             }
            },
            "type": "bar"
           }
          ],
          "barpolar": [
           {
            "marker": {
             "line": {
              "color": "#E5ECF6",
              "width": 0.5
             },
             "pattern": {
              "fillmode": "overlay",
              "size": 10,
              "solidity": 0.2
             }
            },
            "type": "barpolar"
           }
          ],
          "carpet": [
           {
            "aaxis": {
             "endlinecolor": "#2a3f5f",
             "gridcolor": "white",
             "linecolor": "white",
             "minorgridcolor": "white",
             "startlinecolor": "#2a3f5f"
            },
            "baxis": {
             "endlinecolor": "#2a3f5f",
             "gridcolor": "white",
             "linecolor": "white",
             "minorgridcolor": "white",
             "startlinecolor": "#2a3f5f"
            },
            "type": "carpet"
           }
          ],
          "choropleth": [
           {
            "colorbar": {
             "outlinewidth": 0,
             "ticks": ""
            },
            "type": "choropleth"
           }
          ],
          "contour": [
           {
            "colorbar": {
             "outlinewidth": 0,
             "ticks": ""
            },
            "colorscale": [
             [
              0,
              "#0d0887"
             ],
             [
              0.1111111111111111,
              "#46039f"
             ],
             [
              0.2222222222222222,
              "#7201a8"
             ],
             [
              0.3333333333333333,
              "#9c179e"
             ],
             [
              0.4444444444444444,
              "#bd3786"
             ],
             [
              0.5555555555555556,
              "#d8576b"
             ],
             [
              0.6666666666666666,
              "#ed7953"
             ],
             [
              0.7777777777777778,
              "#fb9f3a"
             ],
             [
              0.8888888888888888,
              "#fdca26"
             ],
             [
              1,
              "#f0f921"
             ]
            ],
            "type": "contour"
           }
          ],
          "contourcarpet": [
           {
            "colorbar": {
             "outlinewidth": 0,
             "ticks": ""
            },
            "type": "contourcarpet"
           }
          ],
          "heatmap": [
           {
            "colorbar": {
             "outlinewidth": 0,
             "ticks": ""
            },
            "colorscale": [
             [
              0,
              "#0d0887"
             ],
             [
              0.1111111111111111,
              "#46039f"
             ],
             [
              0.2222222222222222,
              "#7201a8"
             ],
             [
              0.3333333333333333,
              "#9c179e"
             ],
             [
              0.4444444444444444,
              "#bd3786"
             ],
             [
              0.5555555555555556,
              "#d8576b"
             ],
             [
              0.6666666666666666,
              "#ed7953"
             ],
             [
              0.7777777777777778,
              "#fb9f3a"
             ],
             [
              0.8888888888888888,
              "#fdca26"
             ],
             [
              1,
              "#f0f921"
             ]
            ],
            "type": "heatmap"
           }
          ],
          "heatmapgl": [
           {
            "colorbar": {
             "outlinewidth": 0,
             "ticks": ""
            },
            "colorscale": [
             [
              0,
              "#0d0887"
             ],
             [
              0.1111111111111111,
              "#46039f"
             ],
             [
              0.2222222222222222,
              "#7201a8"
             ],
             [
              0.3333333333333333,
              "#9c179e"
             ],
             [
              0.4444444444444444,
              "#bd3786"
             ],
             [
              0.5555555555555556,
              "#d8576b"
             ],
             [
              0.6666666666666666,
              "#ed7953"
             ],
             [
              0.7777777777777778,
              "#fb9f3a"
             ],
             [
              0.8888888888888888,
              "#fdca26"
             ],
             [
              1,
              "#f0f921"
             ]
            ],
            "type": "heatmapgl"
           }
          ],
          "histogram": [
           {
            "marker": {
             "pattern": {
              "fillmode": "overlay",
              "size": 10,
              "solidity": 0.2
             }
            },
            "type": "histogram"
           }
          ],
          "histogram2d": [
           {
            "colorbar": {
             "outlinewidth": 0,
             "ticks": ""
            },
            "colorscale": [
             [
              0,
              "#0d0887"
             ],
             [
              0.1111111111111111,
              "#46039f"
             ],
             [
              0.2222222222222222,
              "#7201a8"
             ],
             [
              0.3333333333333333,
              "#9c179e"
             ],
             [
              0.4444444444444444,
              "#bd3786"
             ],
             [
              0.5555555555555556,
              "#d8576b"
             ],
             [
              0.6666666666666666,
              "#ed7953"
             ],
             [
              0.7777777777777778,
              "#fb9f3a"
             ],
             [
              0.8888888888888888,
              "#fdca26"
             ],
             [
              1,
              "#f0f921"
             ]
            ],
            "type": "histogram2d"
           }
          ],
          "histogram2dcontour": [
           {
            "colorbar": {
             "outlinewidth": 0,
             "ticks": ""
            },
            "colorscale": [
             [
              0,
              "#0d0887"
             ],
             [
              0.1111111111111111,
              "#46039f"
             ],
             [
              0.2222222222222222,
              "#7201a8"
             ],
             [
              0.3333333333333333,
              "#9c179e"
             ],
             [
              0.4444444444444444,
              "#bd3786"
             ],
             [
              0.5555555555555556,
              "#d8576b"
             ],
             [
              0.6666666666666666,
              "#ed7953"
             ],
             [
              0.7777777777777778,
              "#fb9f3a"
             ],
             [
              0.8888888888888888,
              "#fdca26"
             ],
             [
              1,
              "#f0f921"
             ]
            ],
            "type": "histogram2dcontour"
           }
          ],
          "mesh3d": [
           {
            "colorbar": {
             "outlinewidth": 0,
             "ticks": ""
            },
            "type": "mesh3d"
           }
          ],
          "parcoords": [
           {
            "line": {
             "colorbar": {
              "outlinewidth": 0,
              "ticks": ""
             }
            },
            "type": "parcoords"
           }
          ],
          "pie": [
           {
            "automargin": true,
            "type": "pie"
           }
          ],
          "scatter": [
           {
            "fillpattern": {
             "fillmode": "overlay",
             "size": 10,
             "solidity": 0.2
            },
            "type": "scatter"
           }
          ],
          "scatter3d": [
           {
            "line": {
             "colorbar": {
              "outlinewidth": 0,
              "ticks": ""
             }
            },
            "marker": {
             "colorbar": {
              "outlinewidth": 0,
              "ticks": ""
             }
            },
            "type": "scatter3d"
           }
          ],
          "scattercarpet": [
           {
            "marker": {
             "colorbar": {
              "outlinewidth": 0,
              "ticks": ""
             }
            },
            "type": "scattercarpet"
           }
          ],
          "scattergeo": [
           {
            "marker": {
             "colorbar": {
              "outlinewidth": 0,
              "ticks": ""
             }
            },
            "type": "scattergeo"
           }
          ],
          "scattergl": [
           {
            "marker": {
             "colorbar": {
              "outlinewidth": 0,
              "ticks": ""
             }
            },
            "type": "scattergl"
           }
          ],
          "scattermapbox": [
           {
            "marker": {
             "colorbar": {
              "outlinewidth": 0,
              "ticks": ""
             }
            },
            "type": "scattermapbox"
           }
          ],
          "scatterpolar": [
           {
            "marker": {
             "colorbar": {
              "outlinewidth": 0,
              "ticks": ""
             }
            },
            "type": "scatterpolar"
           }
          ],
          "scatterpolargl": [
           {
            "marker": {
             "colorbar": {
              "outlinewidth": 0,
              "ticks": ""
             }
            },
            "type": "scatterpolargl"
           }
          ],
          "scatterternary": [
           {
            "marker": {
             "colorbar": {
              "outlinewidth": 0,
              "ticks": ""
             }
            },
            "type": "scatterternary"
           }
          ],
          "surface": [
           {
            "colorbar": {
             "outlinewidth": 0,
             "ticks": ""
            },
            "colorscale": [
             [
              0,
              "#0d0887"
             ],
             [
              0.1111111111111111,
              "#46039f"
             ],
             [
              0.2222222222222222,
              "#7201a8"
             ],
             [
              0.3333333333333333,
              "#9c179e"
             ],
             [
              0.4444444444444444,
              "#bd3786"
             ],
             [
              0.5555555555555556,
              "#d8576b"
             ],
             [
              0.6666666666666666,
              "#ed7953"
             ],
             [
              0.7777777777777778,
              "#fb9f3a"
             ],
             [
              0.8888888888888888,
              "#fdca26"
             ],
             [
              1,
              "#f0f921"
             ]
            ],
            "type": "surface"
           }
          ],
          "table": [
           {
            "cells": {
             "fill": {
              "color": "#EBF0F8"
             },
             "line": {
              "color": "white"
             }
            },
            "header": {
             "fill": {
              "color": "#C8D4E3"
             },
             "line": {
              "color": "white"
             }
            },
            "type": "table"
           }
          ]
         },
         "layout": {
          "annotationdefaults": {
           "arrowcolor": "#2a3f5f",
           "arrowhead": 0,
           "arrowwidth": 1
          },
          "autotypenumbers": "strict",
          "coloraxis": {
           "colorbar": {
            "outlinewidth": 0,
            "ticks": ""
           }
          },
          "colorscale": {
           "diverging": [
            [
             0,
             "#8e0152"
            ],
            [
             0.1,
             "#c51b7d"
            ],
            [
             0.2,
             "#de77ae"
            ],
            [
             0.3,
             "#f1b6da"
            ],
            [
             0.4,
             "#fde0ef"
            ],
            [
             0.5,
             "#f7f7f7"
            ],
            [
             0.6,
             "#e6f5d0"
            ],
            [
             0.7,
             "#b8e186"
            ],
            [
             0.8,
             "#7fbc41"
            ],
            [
             0.9,
             "#4d9221"
            ],
            [
             1,
             "#276419"
            ]
           ],
           "sequential": [
            [
             0,
             "#0d0887"
            ],
            [
             0.1111111111111111,
             "#46039f"
            ],
            [
             0.2222222222222222,
             "#7201a8"
            ],
            [
             0.3333333333333333,
             "#9c179e"
            ],
            [
             0.4444444444444444,
             "#bd3786"
            ],
            [
             0.5555555555555556,
             "#d8576b"
            ],
            [
             0.6666666666666666,
             "#ed7953"
            ],
            [
             0.7777777777777778,
             "#fb9f3a"
            ],
            [
             0.8888888888888888,
             "#fdca26"
            ],
            [
             1,
             "#f0f921"
            ]
           ],
           "sequentialminus": [
            [
             0,
             "#0d0887"
            ],
            [
             0.1111111111111111,
             "#46039f"
            ],
            [
             0.2222222222222222,
             "#7201a8"
            ],
            [
             0.3333333333333333,
             "#9c179e"
            ],
            [
             0.4444444444444444,
             "#bd3786"
            ],
            [
             0.5555555555555556,
             "#d8576b"
            ],
            [
             0.6666666666666666,
             "#ed7953"
            ],
            [
             0.7777777777777778,
             "#fb9f3a"
            ],
            [
             0.8888888888888888,
             "#fdca26"
            ],
            [
             1,
             "#f0f921"
            ]
           ]
          },
          "colorway": [
           "#636efa",
           "#EF553B",
           "#00cc96",
           "#ab63fa",
           "#FFA15A",
           "#19d3f3",
           "#FF6692",
           "#B6E880",
           "#FF97FF",
           "#FECB52"
          ],
          "font": {
           "color": "#2a3f5f"
          },
          "geo": {
           "bgcolor": "white",
           "lakecolor": "white",
           "landcolor": "#E5ECF6",
           "showlakes": true,
           "showland": true,
           "subunitcolor": "white"
          },
          "hoverlabel": {
           "align": "left"
          },
          "hovermode": "closest",
          "mapbox": {
           "style": "light"
          },
          "paper_bgcolor": "white",
          "plot_bgcolor": "#E5ECF6",
          "polar": {
           "angularaxis": {
            "gridcolor": "white",
            "linecolor": "white",
            "ticks": ""
           },
           "bgcolor": "#E5ECF6",
           "radialaxis": {
            "gridcolor": "white",
            "linecolor": "white",
            "ticks": ""
           }
          },
          "scene": {
           "xaxis": {
            "backgroundcolor": "#E5ECF6",
            "gridcolor": "white",
            "gridwidth": 2,
            "linecolor": "white",
            "showbackground": true,
            "ticks": "",
            "zerolinecolor": "white"
           },
           "yaxis": {
            "backgroundcolor": "#E5ECF6",
            "gridcolor": "white",
            "gridwidth": 2,
            "linecolor": "white",
            "showbackground": true,
            "ticks": "",
            "zerolinecolor": "white"
           },
           "zaxis": {
            "backgroundcolor": "#E5ECF6",
            "gridcolor": "white",
            "gridwidth": 2,
            "linecolor": "white",
            "showbackground": true,
            "ticks": "",
            "zerolinecolor": "white"
           }
          },
          "shapedefaults": {
           "line": {
            "color": "#2a3f5f"
           }
          },
          "ternary": {
           "aaxis": {
            "gridcolor": "white",
            "linecolor": "white",
            "ticks": ""
           },
           "baxis": {
            "gridcolor": "white",
            "linecolor": "white",
            "ticks": ""
           },
           "bgcolor": "#E5ECF6",
           "caxis": {
            "gridcolor": "white",
            "linecolor": "white",
            "ticks": ""
           }
          },
          "title": {
           "x": 0.05
          },
          "xaxis": {
           "automargin": true,
           "gridcolor": "white",
           "linecolor": "white",
           "ticks": "",
           "title": {
            "standoff": 15
           },
           "zerolinecolor": "white",
           "zerolinewidth": 2
          },
          "yaxis": {
           "automargin": true,
           "gridcolor": "white",
           "linecolor": "white",
           "ticks": "",
           "title": {
            "standoff": 15
           },
           "zerolinecolor": "white",
           "zerolinewidth": 2
          }
         }
        },
        "title": {
         "text": "Tổng số ca nhiễm bệnh và tử vong theo thời gian"
        },
        "xaxis": {
         "anchor": "y",
         "domain": [
          0,
          1
         ],
         "dtick": "M1",
         "tickformat": "%b\n%Y",
         "title": {
          "text": "date"
         }
        },
        "yaxis": {
         "anchor": "x",
         "domain": [
          0,
          1
         ],
         "title": {
          "text": "value"
         }
        }
       }
      }
     },
     "metadata": {},
     "output_type": "display_data"
    }
   ],
   "source": [
    "fig = px.line(df_case_death, x=\"date\", y=df_case_death.columns,\n",
    "              hover_data={\"date\": \"|%B %d, %Y\"},\n",
    "              title='Tổng số ca nhiễm bệnh và tử vong theo thời gian')\n",
    "fig.update_xaxes(\n",
    "    dtick=\"M1\",\n",
    "    tickformat=\"%b\\n%Y\")\n",
    "fig.show()"
   ]
  },
  {
   "cell_type": "markdown",
   "metadata": {},
   "source": [
    "## Nhận xét:\n",
    "- Độ tương đồng của tổng số ca tử vong với tổng số ca mắc bệnh cao (0.849). Chúng ta có thể đưa ra kết luận đơn giản là tổng số ca bệnh càng tăng thì tổng số ca tử vong cũng tăng tương ứng."
   ]
  },
  {
   "cell_type": "code",
   "execution_count": null,
   "metadata": {},
   "outputs": [],
   "source": []
  },
  {
   "cell_type": "markdown",
   "metadata": {},
   "source": [
    "# Story 4  "
   ]
  },
  {
   "cell_type": "code",
   "execution_count": 11,
   "metadata": {},
   "outputs": [
    {
     "data": {
      "text/html": [
       "<div>\n",
       "<style scoped>\n",
       "    .dataframe tbody tr th:only-of-type {\n",
       "        vertical-align: middle;\n",
       "    }\n",
       "\n",
       "    .dataframe tbody tr th {\n",
       "        vertical-align: top;\n",
       "    }\n",
       "\n",
       "    .dataframe thead th {\n",
       "        text-align: right;\n",
       "    }\n",
       "</style>\n",
       "<table border=\"1\" class=\"dataframe\">\n",
       "  <thead>\n",
       "    <tr style=\"text-align: right;\">\n",
       "      <th></th>\n",
       "      <th>date</th>\n",
       "      <th>total_deaths</th>\n",
       "      <th>people_vaccinated</th>\n",
       "    </tr>\n",
       "  </thead>\n",
       "  <tbody>\n",
       "    <tr>\n",
       "      <th>409</th>\n",
       "      <td>2021-03-07</td>\n",
       "      <td>35.0</td>\n",
       "      <td>0.0</td>\n",
       "    </tr>\n",
       "    <tr>\n",
       "      <th>410</th>\n",
       "      <td>2021-03-08</td>\n",
       "      <td>35.0</td>\n",
       "      <td>377.0</td>\n",
       "    </tr>\n",
       "    <tr>\n",
       "      <th>411</th>\n",
       "      <td>2021-03-09</td>\n",
       "      <td>35.0</td>\n",
       "      <td>522.0</td>\n",
       "    </tr>\n",
       "    <tr>\n",
       "      <th>412</th>\n",
       "      <td>2021-03-10</td>\n",
       "      <td>35.0</td>\n",
       "      <td>955.0</td>\n",
       "    </tr>\n",
       "    <tr>\n",
       "      <th>413</th>\n",
       "      <td>2021-03-11</td>\n",
       "      <td>35.0</td>\n",
       "      <td>1585.0</td>\n",
       "    </tr>\n",
       "    <tr>\n",
       "      <th>...</th>\n",
       "      <td>...</td>\n",
       "      <td>...</td>\n",
       "      <td>...</td>\n",
       "    </tr>\n",
       "    <tr>\n",
       "      <th>888</th>\n",
       "      <td>2022-06-29</td>\n",
       "      <td>43087.0</td>\n",
       "      <td>86384303.0</td>\n",
       "    </tr>\n",
       "    <tr>\n",
       "      <th>889</th>\n",
       "      <td>2022-06-30</td>\n",
       "      <td>43087.0</td>\n",
       "      <td>86438964.0</td>\n",
       "    </tr>\n",
       "    <tr>\n",
       "      <th>891</th>\n",
       "      <td>2022-07-02</td>\n",
       "      <td>43087.0</td>\n",
       "      <td>86501993.0</td>\n",
       "    </tr>\n",
       "    <tr>\n",
       "      <th>892</th>\n",
       "      <td>2022-07-03</td>\n",
       "      <td>43087.0</td>\n",
       "      <td>86510260.0</td>\n",
       "    </tr>\n",
       "    <tr>\n",
       "      <th>896</th>\n",
       "      <td>2022-07-07</td>\n",
       "      <td>43089.0</td>\n",
       "      <td>86785069.0</td>\n",
       "    </tr>\n",
       "  </tbody>\n",
       "</table>\n",
       "<p>383 rows × 3 columns</p>\n",
       "</div>"
      ],
      "text/plain": [
       "          date  total_deaths  people_vaccinated\n",
       "409 2021-03-07          35.0                0.0\n",
       "410 2021-03-08          35.0              377.0\n",
       "411 2021-03-09          35.0              522.0\n",
       "412 2021-03-10          35.0              955.0\n",
       "413 2021-03-11          35.0             1585.0\n",
       "..         ...           ...                ...\n",
       "888 2022-06-29       43087.0         86384303.0\n",
       "889 2022-06-30       43087.0         86438964.0\n",
       "891 2022-07-02       43087.0         86501993.0\n",
       "892 2022-07-03       43087.0         86510260.0\n",
       "896 2022-07-07       43089.0         86785069.0\n",
       "\n",
       "[383 rows x 3 columns]"
      ]
     },
     "execution_count": 11,
     "metadata": {},
     "output_type": "execute_result"
    }
   ],
   "source": [
    "df_death_vaccin = df[[\"date\", \"total_deaths\", \"people_vaccinated\"]].dropna()\n",
    "df_death_vaccin"
   ]
  },
  {
   "cell_type": "code",
   "execution_count": 12,
   "metadata": {},
   "outputs": [
    {
     "data": {
      "text/html": [
       "<div>\n",
       "<style scoped>\n",
       "    .dataframe tbody tr th:only-of-type {\n",
       "        vertical-align: middle;\n",
       "    }\n",
       "\n",
       "    .dataframe tbody tr th {\n",
       "        vertical-align: top;\n",
       "    }\n",
       "\n",
       "    .dataframe thead th {\n",
       "        text-align: right;\n",
       "    }\n",
       "</style>\n",
       "<table border=\"1\" class=\"dataframe\">\n",
       "  <thead>\n",
       "    <tr style=\"text-align: right;\">\n",
       "      <th></th>\n",
       "      <th>total_deaths</th>\n",
       "      <th>people_vaccinated</th>\n",
       "    </tr>\n",
       "  </thead>\n",
       "  <tbody>\n",
       "    <tr>\n",
       "      <th>total_deaths</th>\n",
       "      <td>1.000000</td>\n",
       "      <td>0.979139</td>\n",
       "    </tr>\n",
       "    <tr>\n",
       "      <th>people_vaccinated</th>\n",
       "      <td>0.979139</td>\n",
       "      <td>1.000000</td>\n",
       "    </tr>\n",
       "  </tbody>\n",
       "</table>\n",
       "</div>"
      ],
      "text/plain": [
       "                   total_deaths  people_vaccinated\n",
       "total_deaths           1.000000           0.979139\n",
       "people_vaccinated      0.979139           1.000000"
      ]
     },
     "execution_count": 12,
     "metadata": {},
     "output_type": "execute_result"
    }
   ],
   "source": [
    "df_death_vaccin.corr()"
   ]
  },
  {
   "cell_type": "code",
   "execution_count": 13,
   "metadata": {},
   "outputs": [],
   "source": [
    "df_death_vaccin[[\"people_vaccinated\", \"total_deaths\"]] = (df_death_vaccin[[\"people_vaccinated\", \"total_deaths\"]] - df_death_vaccin[[\"people_vaccinated\", \"total_deaths\"]].min())/(df_death_vaccin[[\"people_vaccinated\", \"total_deaths\"]].max() - df_death_vaccin[[\"people_vaccinated\", \"total_deaths\"]].min())"
   ]
  },
  {
   "cell_type": "code",
   "execution_count": 14,
   "metadata": {},
   "outputs": [
    {
     "data": {
      "application/vnd.plotly.v1+json": {
       "config": {
        "plotlyServerURL": "https://plot.ly"
       },
       "data": [
        {
         "hovertemplate": "variable=total_deaths<br>date=%{x|%B %d, %Y}<br>value=%{y}<extra></extra>",
         "legendgroup": "total_deaths",
         "line": {
          "color": "#636efa",
          "dash": "solid"
         },
         "marker": {
          "symbol": "circle"
         },
         "mode": "lines",
         "name": "total_deaths",
         "orientation": "v",
         "showlegend": true,
         "type": "scatter",
         "x": [
          "2021-03-07T00:00:00",
          "2021-03-08T00:00:00",
          "2021-03-09T00:00:00",
          "2021-03-10T00:00:00",
          "2021-03-11T00:00:00",
          "2021-03-12T00:00:00",
          "2021-03-13T00:00:00",
          "2021-03-14T00:00:00",
          "2021-03-15T00:00:00",
          "2021-03-16T00:00:00",
          "2021-03-17T00:00:00",
          "2021-03-18T00:00:00",
          "2021-03-19T00:00:00",
          "2021-03-20T00:00:00",
          "2021-03-21T00:00:00",
          "2021-03-22T00:00:00",
          "2021-03-23T00:00:00",
          "2021-03-24T00:00:00",
          "2021-03-25T00:00:00",
          "2021-03-26T00:00:00",
          "2021-03-27T00:00:00",
          "2021-03-28T00:00:00",
          "2021-03-29T00:00:00",
          "2021-03-30T00:00:00",
          "2021-03-31T00:00:00",
          "2021-04-01T00:00:00",
          "2021-04-02T00:00:00",
          "2021-04-03T00:00:00",
          "2021-04-04T00:00:00",
          "2021-04-05T00:00:00",
          "2021-04-06T00:00:00",
          "2021-04-07T00:00:00",
          "2021-04-09T00:00:00",
          "2021-04-10T00:00:00",
          "2021-04-11T00:00:00",
          "2021-04-12T00:00:00",
          "2021-04-13T00:00:00",
          "2021-04-14T00:00:00",
          "2021-04-15T00:00:00",
          "2021-04-16T00:00:00",
          "2021-04-17T00:00:00",
          "2021-04-18T00:00:00",
          "2021-04-19T00:00:00",
          "2021-04-20T00:00:00",
          "2021-04-21T00:00:00",
          "2021-04-22T00:00:00",
          "2021-04-23T00:00:00",
          "2021-04-24T00:00:00",
          "2021-04-25T00:00:00",
          "2021-04-26T00:00:00",
          "2021-04-27T00:00:00",
          "2021-04-28T00:00:00",
          "2021-04-29T00:00:00",
          "2021-04-30T00:00:00",
          "2021-05-01T00:00:00",
          "2021-05-02T00:00:00",
          "2021-05-03T00:00:00",
          "2021-05-04T00:00:00",
          "2021-05-05T00:00:00",
          "2021-05-06T00:00:00",
          "2021-05-07T00:00:00",
          "2021-05-08T00:00:00",
          "2021-05-09T00:00:00",
          "2021-05-11T00:00:00",
          "2021-05-14T00:00:00",
          "2021-05-15T00:00:00",
          "2021-05-16T00:00:00",
          "2021-05-18T00:00:00",
          "2021-05-22T00:00:00",
          "2021-05-26T00:00:00",
          "2021-05-31T00:00:00",
          "2021-06-02T00:00:00",
          "2021-06-03T00:00:00",
          "2021-06-04T00:00:00",
          "2021-06-05T00:00:00",
          "2021-06-06T00:00:00",
          "2021-06-07T00:00:00",
          "2021-06-08T00:00:00",
          "2021-06-09T00:00:00",
          "2021-06-10T00:00:00",
          "2021-06-11T00:00:00",
          "2021-06-12T00:00:00",
          "2021-06-13T00:00:00",
          "2021-06-14T00:00:00",
          "2021-06-15T00:00:00",
          "2021-06-16T00:00:00",
          "2021-06-17T00:00:00",
          "2021-06-18T00:00:00",
          "2021-06-19T00:00:00",
          "2021-06-20T00:00:00",
          "2021-06-22T00:00:00",
          "2021-06-23T00:00:00",
          "2021-06-24T00:00:00",
          "2021-06-25T00:00:00",
          "2021-06-26T00:00:00",
          "2021-06-27T00:00:00",
          "2021-06-28T00:00:00",
          "2021-06-29T00:00:00",
          "2021-06-30T00:00:00",
          "2021-07-01T00:00:00",
          "2021-07-02T00:00:00",
          "2021-07-03T00:00:00",
          "2021-07-04T00:00:00",
          "2021-07-05T00:00:00",
          "2021-07-06T00:00:00",
          "2021-07-07T00:00:00",
          "2021-07-08T00:00:00",
          "2021-07-09T00:00:00",
          "2021-07-10T00:00:00",
          "2021-07-11T00:00:00",
          "2021-07-12T00:00:00",
          "2021-07-13T00:00:00",
          "2021-07-14T00:00:00",
          "2021-07-15T00:00:00",
          "2021-07-16T00:00:00",
          "2021-07-17T00:00:00",
          "2021-07-18T00:00:00",
          "2021-07-19T00:00:00",
          "2021-07-20T00:00:00",
          "2021-07-21T00:00:00",
          "2021-07-22T00:00:00",
          "2021-07-23T00:00:00",
          "2021-07-24T00:00:00",
          "2021-07-25T00:00:00",
          "2021-07-26T00:00:00",
          "2021-07-27T00:00:00",
          "2021-07-28T00:00:00",
          "2021-07-29T00:00:00",
          "2021-07-30T00:00:00",
          "2021-07-31T00:00:00",
          "2021-08-01T00:00:00",
          "2021-08-02T00:00:00",
          "2021-08-03T00:00:00",
          "2021-08-04T00:00:00",
          "2021-08-05T00:00:00",
          "2021-08-06T00:00:00",
          "2021-08-07T00:00:00",
          "2021-08-08T00:00:00",
          "2021-08-09T00:00:00",
          "2021-08-10T00:00:00",
          "2021-08-11T00:00:00",
          "2021-08-12T00:00:00",
          "2021-08-13T00:00:00",
          "2021-08-14T00:00:00",
          "2021-08-15T00:00:00",
          "2021-08-16T00:00:00",
          "2021-08-17T00:00:00",
          "2021-08-18T00:00:00",
          "2021-08-19T00:00:00",
          "2021-08-20T00:00:00",
          "2021-08-21T00:00:00",
          "2021-08-22T00:00:00",
          "2021-08-23T00:00:00",
          "2021-08-24T00:00:00",
          "2021-08-25T00:00:00",
          "2021-08-26T00:00:00",
          "2021-08-27T00:00:00",
          "2021-08-28T00:00:00",
          "2021-08-29T00:00:00",
          "2021-08-30T00:00:00",
          "2021-08-31T00:00:00",
          "2021-09-01T00:00:00",
          "2021-09-02T00:00:00",
          "2021-09-03T00:00:00",
          "2021-09-04T00:00:00",
          "2021-09-05T00:00:00",
          "2021-09-06T00:00:00",
          "2021-09-07T00:00:00",
          "2021-09-08T00:00:00",
          "2021-09-09T00:00:00",
          "2021-09-10T00:00:00",
          "2021-09-11T00:00:00",
          "2021-09-12T00:00:00",
          "2021-09-13T00:00:00",
          "2021-09-14T00:00:00",
          "2021-09-15T00:00:00",
          "2021-09-16T00:00:00",
          "2021-09-17T00:00:00",
          "2021-09-18T00:00:00",
          "2021-09-19T00:00:00",
          "2021-09-20T00:00:00",
          "2021-09-21T00:00:00",
          "2021-09-22T00:00:00",
          "2021-09-23T00:00:00",
          "2021-09-24T00:00:00",
          "2021-09-25T00:00:00",
          "2021-09-26T00:00:00",
          "2021-09-27T00:00:00",
          "2021-09-28T00:00:00",
          "2021-09-29T00:00:00",
          "2021-09-30T00:00:00",
          "2021-10-01T00:00:00",
          "2021-10-02T00:00:00",
          "2021-10-03T00:00:00",
          "2021-10-04T00:00:00",
          "2021-10-05T00:00:00",
          "2021-10-06T00:00:00",
          "2021-10-08T00:00:00",
          "2021-10-10T00:00:00",
          "2021-10-11T00:00:00",
          "2021-10-12T00:00:00",
          "2021-10-13T00:00:00",
          "2021-10-14T00:00:00",
          "2021-10-16T00:00:00",
          "2021-10-17T00:00:00",
          "2021-10-18T00:00:00",
          "2021-10-19T00:00:00",
          "2021-10-20T00:00:00",
          "2021-10-22T00:00:00",
          "2021-10-23T00:00:00",
          "2021-10-25T00:00:00",
          "2021-10-26T00:00:00",
          "2021-10-27T00:00:00",
          "2021-10-28T00:00:00",
          "2021-10-29T00:00:00",
          "2021-10-30T00:00:00",
          "2021-10-31T00:00:00",
          "2021-11-01T00:00:00",
          "2021-11-02T00:00:00",
          "2021-11-03T00:00:00",
          "2021-11-04T00:00:00",
          "2021-11-06T00:00:00",
          "2021-11-08T00:00:00",
          "2021-11-09T00:00:00",
          "2021-11-11T00:00:00",
          "2021-11-12T00:00:00",
          "2021-11-13T00:00:00",
          "2021-11-14T00:00:00",
          "2021-11-15T00:00:00",
          "2021-11-16T00:00:00",
          "2021-11-17T00:00:00",
          "2021-11-19T00:00:00",
          "2021-11-20T00:00:00",
          "2021-11-21T00:00:00",
          "2021-11-22T00:00:00",
          "2021-11-23T00:00:00",
          "2021-11-24T00:00:00",
          "2021-11-25T00:00:00",
          "2021-11-26T00:00:00",
          "2021-11-27T00:00:00",
          "2021-11-28T00:00:00",
          "2021-11-29T00:00:00",
          "2021-12-01T00:00:00",
          "2021-12-02T00:00:00",
          "2021-12-03T00:00:00",
          "2021-12-05T00:00:00",
          "2021-12-06T00:00:00",
          "2021-12-07T00:00:00",
          "2021-12-08T00:00:00",
          "2021-12-09T00:00:00",
          "2021-12-10T00:00:00",
          "2021-12-11T00:00:00",
          "2021-12-12T00:00:00",
          "2021-12-14T00:00:00",
          "2021-12-15T00:00:00",
          "2021-12-17T00:00:00",
          "2021-12-18T00:00:00",
          "2021-12-23T00:00:00",
          "2021-12-24T00:00:00",
          "2021-12-25T00:00:00",
          "2021-12-26T00:00:00",
          "2021-12-28T00:00:00",
          "2021-12-30T00:00:00",
          "2022-01-02T00:00:00",
          "2022-01-03T00:00:00",
          "2022-01-05T00:00:00",
          "2022-01-06T00:00:00",
          "2022-01-08T00:00:00",
          "2022-01-09T00:00:00",
          "2022-01-10T00:00:00",
          "2022-01-11T00:00:00",
          "2022-01-13T00:00:00",
          "2022-01-23T00:00:00",
          "2022-01-24T00:00:00",
          "2022-01-26T00:00:00",
          "2022-01-28T00:00:00",
          "2022-01-29T00:00:00",
          "2022-01-30T00:00:00",
          "2022-02-01T00:00:00",
          "2022-02-02T00:00:00",
          "2022-02-03T00:00:00",
          "2022-02-04T00:00:00",
          "2022-02-08T00:00:00",
          "2022-02-09T00:00:00",
          "2022-02-10T00:00:00",
          "2022-02-11T00:00:00",
          "2022-02-12T00:00:00",
          "2022-02-13T00:00:00",
          "2022-02-28T00:00:00",
          "2022-03-01T00:00:00",
          "2022-03-02T00:00:00",
          "2022-03-05T00:00:00",
          "2022-03-06T00:00:00",
          "2022-03-07T00:00:00",
          "2022-03-08T00:00:00",
          "2022-03-09T00:00:00",
          "2022-03-12T00:00:00",
          "2022-03-15T00:00:00",
          "2022-03-18T00:00:00",
          "2022-03-19T00:00:00",
          "2022-03-20T00:00:00",
          "2022-03-21T00:00:00",
          "2022-03-22T00:00:00",
          "2022-03-25T00:00:00",
          "2022-03-26T00:00:00",
          "2022-03-27T00:00:00",
          "2022-03-28T00:00:00",
          "2022-03-29T00:00:00",
          "2022-03-31T00:00:00",
          "2022-04-02T00:00:00",
          "2022-04-05T00:00:00",
          "2022-04-06T00:00:00",
          "2022-04-08T00:00:00",
          "2022-04-09T00:00:00",
          "2022-04-12T00:00:00",
          "2022-04-13T00:00:00",
          "2022-04-14T00:00:00",
          "2022-04-15T00:00:00",
          "2022-04-16T00:00:00",
          "2022-04-17T00:00:00",
          "2022-04-18T00:00:00",
          "2022-04-19T00:00:00",
          "2022-04-20T00:00:00",
          "2022-04-21T00:00:00",
          "2022-04-23T00:00:00",
          "2022-04-24T00:00:00",
          "2022-04-25T00:00:00",
          "2022-04-26T00:00:00",
          "2022-04-27T00:00:00",
          "2022-04-28T00:00:00",
          "2022-04-29T00:00:00",
          "2022-04-30T00:00:00",
          "2022-05-01T00:00:00",
          "2022-05-02T00:00:00",
          "2022-05-03T00:00:00",
          "2022-05-04T00:00:00",
          "2022-05-05T00:00:00",
          "2022-05-06T00:00:00",
          "2022-05-07T00:00:00",
          "2022-05-08T00:00:00",
          "2022-05-09T00:00:00",
          "2022-05-10T00:00:00",
          "2022-05-12T00:00:00",
          "2022-05-15T00:00:00",
          "2022-05-16T00:00:00",
          "2022-05-17T00:00:00",
          "2022-05-18T00:00:00",
          "2022-05-20T00:00:00",
          "2022-05-21T00:00:00",
          "2022-05-22T00:00:00",
          "2022-05-24T00:00:00",
          "2022-05-25T00:00:00",
          "2022-05-26T00:00:00",
          "2022-05-27T00:00:00",
          "2022-05-29T00:00:00",
          "2022-05-31T00:00:00",
          "2022-06-01T00:00:00",
          "2022-06-02T00:00:00",
          "2022-06-03T00:00:00",
          "2022-06-04T00:00:00",
          "2022-06-05T00:00:00",
          "2022-06-06T00:00:00",
          "2022-06-07T00:00:00",
          "2022-06-08T00:00:00",
          "2022-06-09T00:00:00",
          "2022-06-10T00:00:00",
          "2022-06-11T00:00:00",
          "2022-06-12T00:00:00",
          "2022-06-13T00:00:00",
          "2022-06-16T00:00:00",
          "2022-06-17T00:00:00",
          "2022-06-18T00:00:00",
          "2022-06-19T00:00:00",
          "2022-06-23T00:00:00",
          "2022-06-24T00:00:00",
          "2022-06-25T00:00:00",
          "2022-06-26T00:00:00",
          "2022-06-27T00:00:00",
          "2022-06-29T00:00:00",
          "2022-06-30T00:00:00",
          "2022-07-02T00:00:00",
          "2022-07-03T00:00:00",
          "2022-07-07T00:00:00"
         ],
         "xaxis": "x",
         "y": [
          0,
          0,
          0,
          0,
          0,
          0,
          0,
          0,
          0,
          0,
          0,
          0,
          0,
          0,
          0,
          0,
          0,
          0,
          0,
          0,
          0,
          0,
          0,
          0,
          0,
          0,
          0,
          0,
          0,
          0,
          0,
          0,
          0,
          0,
          0,
          0,
          0,
          0,
          0,
          0,
          0,
          0,
          0,
          0,
          0,
          0,
          0,
          0,
          0,
          0,
          0,
          0,
          0,
          0,
          0,
          0,
          0,
          0,
          0,
          0,
          0,
          0,
          0,
          0,
          0,
          0.000023226645607841314,
          0.00004645329121568263,
          0.00004645329121568263,
          0.0001625865192548892,
          0.00023226645607841314,
          0.00027871974729409577,
          0.0003251730385097784,
          0.0003251730385097784,
          0.00037162632972546103,
          0.0004180796209411437,
          0.0004180796209411437,
          0.0004180796209411437,
          0.0004645329121568263,
          0.0004645329121568263,
          0.0004645329121568263,
          0.000510986203372509,
          0.0005342128489803503,
          0.0005574394945881915,
          0.0005574394945881915,
          0.0006038927858038742,
          0.0006038927858038742,
          0.0006038927858038742,
          0.0006271194314117155,
          0.0006735727226273981,
          0.0007200260138430808,
          0.0007897059506666047,
          0.0008129325962744461,
          0.0008593858874901286,
          0.0009058391787058113,
          0.0009058391787058113,
          0.000952292469921494,
          0.0009987457611371766,
          0.0010451990523528592,
          0.0010684256979607005,
          0.0010684256979607005,
          0.0011381056347842245,
          0.0011381056347842245,
          0.001184558925999907,
          0.0012774655084312723,
          0.0014400520276861616,
          0.001556185255725368,
          0.0016026385469410508,
          0.0017419984205880987,
          0.0017884517118037812,
          0.0019510382310586705,
          0.0020903981047057183,
          0.0022529846239606076,
          0.0023923444976076554,
          0.003994983044548706,
          0.00441306266548985,
          0.00441306266548985,
          0.005086635388117248,
          0.006944767036744554,
          0.006944767036744554,
          0.007780926278626841,
          0.007780926278626841,
          0.007780926278626841,
          0.007780926278626841,
          0.007780926278626841,
          0.011357829702234404,
          0.011357829702234404,
          0.013819854136665583,
          0.02292469921493938,
          0.02615320295442932,
          0.029521066567566312,
          0.029521066567566312,
          0.029521066567566312,
          0.04728945045756492,
          0.05323547173317229,
          0.06236354345705393,
          0.06923863055697496,
          0.07467366562920982,
          0.0780879825335625,
          0.08644957495238538,
          0.09546151344822781,
          0.10340502624610953,
          0.11097691271426581,
          0.11736424025642217,
          0.1254703395735588,
          0.1332977191434013,
          0.14182189808147908,
          0.14950991777767456,
          0.15643145816881127,
          0.16525758349979097,
          0.17431597528684908,
          0.17431597528684908,
          0.19143401309982813,
          0.20046917824127838,
          0.20855205091280718,
          0.21633297719143402,
          0.22371905049472754,
          0.2326845356993543,
          0.24086031495331445,
          0.24885028104241186,
          0.25616667440888186,
          0.25616667440888186,
          0.2748408974775863,
          0.28111209179170343,
          0.28826589863891855,
          0.2963255446648395,
          0.30285223208064294,
          0.31007571886468155,
          0.31741533887675943,
          0.3274957030705625,
          0.3352766293491894,
          0.34166395689134577,
          0.3480048311422864,
          0.35406698564593303,
          0.36291633762252057,
          0.3693268918102848,
          0.37513355321224506,
          0.38068472151251914,
          0.3856087703813815,
          0.3907186324151066,
          0.39613044084173366,
          0.40112416964741954,
          0.40669856459330145,
          0.412180052956752,
          0.41766154132020256,
          0.42237655037859434,
          0.42655734658800576,
          0.43083104937984856,
          0.43487248571561293,
          0.4390068286338087,
          0.442769545222279,
          0.4474845542806708,
          0.4506433780833372,
          0.4544525479630232,
          0.4571003855623171,
          0.46011984949133644,
          0.4632322200027872,
          0.46599619083012034,
          0.47154735913039436,
          0.4766107678729038,
          0.47928183211780556,
          0.4814419101593348,
          0.48390393459376596,
          0.4857852928880011,
          0.4899893157430204,
          0.4914525944163144,
          0.4931945928369025,
          0.49493659125749057,
          0.49660890974125516,
          0.499558693733451,
          0.5013471454452548,
          0.50408788962698,
          0.505574394945882,
          0.5068286338087054,
          0.5080828726715287,
          0.5093835648255679,
          0.5108700701444697,
          0.5121010823616853,
          0.5132159613508617,
          0.5149347331258419,
          0.5167464114832536,
          0.5181167835741163,
          0.5210897942119199,
          0.5240628048497236,
          0.5261067496632137,
          0.5298926928972918,
          0.5317740511915269,
          0.533817996005017,
          0.5353045013239188,
          0.5376503925303108,
          0.539671110698193,
          0.5412272959539184,
          0.5468249175454081,
          0.5493101686254471,
          0.551075393691643,
          0.555488456357133,
          0.5593673061736424,
          0.5622706368746225,
          0.5660798067543086,
          0.5692618572025828,
          0.5726994007525433,
          0.5771124634180331,
          0.5811306731081897,
          0.5902587448320713,
          0.5951363404097181,
          0.5997816695312863,
          0.6091187810656385,
          0.6142983230361871,
          0.6193385051330886,
          0.6246806336228922,
          0.6306266548984996,
          0.6356436103497933,
          0.6404979792818322,
          0.6457936544804199,
          0.6572676174106935,
          0.6638407581177126,
          0.6751521345287314,
          0.680912342639476,
          0.7083197844567287,
          0.7137780461745715,
          0.7193756677660612,
          0.7241835834068844,
          0.733892321270962,
          0.746341803316765,
          0.7617410693547638,
          0.7661541320202536,
          0.7766990291262136,
          0.7806243322339388,
          0.7916105356064477,
          0.7963023180192317,
          0.801226366888094,
          0.8071723881637014,
          0.8160681934315046,
          0.8520462674780508,
          0.8558786640033447,
          0.8624053514191481,
          0.8686068657964416,
          0.8712779300413435,
          0.8740883541598923,
          0.8766200585311469,
          0.8766200585311469,
          0.8832628791749896,
          0.8852139174060483,
          0.8939006828633809,
          0.8960607609049102,
          0.8977795326798904,
          0.9000092906582431,
          0.9018209690156548,
          0.9037720072467135,
          0.9403772007246713,
          0.9361034979328285,
          0.9387513355321224,
          0.945115436428671,
          0.9471361545965532,
          0.9489478329539648,
          0.9509453244762391,
          0.9534770288474939,
          0.9582152645514935,
          0.964138059181493,
          0.968667255075022,
          0.9704557067868258,
          0.9719189854601199,
          0.9735216240070609,
          0.9750313559715705,
          0.9792586054721977,
          0.9806986574998838,
          0.9818135364890602,
          0.983021322060668,
          0.9842987875690993,
          0.9861569192177265,
          0.9877827844102754,
          0.9905235285920008,
          0.9912435546058438,
          0.992544246759883,
          0.9931481395456868,
          0.9946346448645886,
          0.9950991777767455,
          0.9956333906257259,
          0.9961676034747062,
          0.9963998699307846,
          0.996632136386863,
          0.9969340827797649,
          0.9973521624007061,
          0.997514748919961,
          0.9977237887304315,
          0.9980257351233335,
          0.9982347749338041,
          0.9984205880986667,
          0.9986064012635295,
          0.9987225344915688,
          0.9987922144283923,
          0.9988154410740001,
          0.9988851210108236,
          0.9989083476564314,
          0.9989548009476471,
          0.9989548009476471,
          0.9990244808844707,
          0.9990709341756864,
          0.9992102940493334,
          0.9992102940493334,
          0.9992335206949412,
          0.999256747340549,
          0.9992799739861569,
          0.9993961072141961,
          0.9994425605054118,
          0.9994890137966275,
          0.9995819203790589,
          0.9996051470246667,
          0.9996748269614902,
          0.9996748269614902,
          0.9996748269614902,
          0.9996980536070981,
          0.9997445068983137,
          0.9997445068983137,
          0.9997445068983137,
          0.9997445068983137,
          0.9997677335439216,
          0.9997677335439216,
          0.9997909601895294,
          0.9997909601895294,
          0.9997909601895294,
          0.9997909601895294,
          0.9998141868351372,
          0.9998141868351372,
          0.9998141868351372,
          0.9998141868351372,
          0.9998374134807451,
          0.999860640126353,
          0.999860640126353,
          0.999860640126353,
          0.999860640126353,
          0.999860640126353,
          0.999860640126353,
          0.999860640126353,
          0.9998838667719608,
          0.9998838667719608,
          0.9998838667719608,
          0.9998838667719608,
          0.9998838667719608,
          0.9999535467087843,
          0.9999535467087843,
          0.9999535467087843,
          0.9999535467087843,
          1
         ],
         "yaxis": "y"
        },
        {
         "hovertemplate": "variable=people_vaccinated<br>date=%{x|%B %d, %Y}<br>value=%{y}<extra></extra>",
         "legendgroup": "people_vaccinated",
         "line": {
          "color": "#EF553B",
          "dash": "solid"
         },
         "marker": {
          "symbol": "circle"
         },
         "mode": "lines",
         "name": "people_vaccinated",
         "orientation": "v",
         "showlegend": true,
         "type": "scatter",
         "x": [
          "2021-03-07T00:00:00",
          "2021-03-08T00:00:00",
          "2021-03-09T00:00:00",
          "2021-03-10T00:00:00",
          "2021-03-11T00:00:00",
          "2021-03-12T00:00:00",
          "2021-03-13T00:00:00",
          "2021-03-14T00:00:00",
          "2021-03-15T00:00:00",
          "2021-03-16T00:00:00",
          "2021-03-17T00:00:00",
          "2021-03-18T00:00:00",
          "2021-03-19T00:00:00",
          "2021-03-20T00:00:00",
          "2021-03-21T00:00:00",
          "2021-03-22T00:00:00",
          "2021-03-23T00:00:00",
          "2021-03-24T00:00:00",
          "2021-03-25T00:00:00",
          "2021-03-26T00:00:00",
          "2021-03-27T00:00:00",
          "2021-03-28T00:00:00",
          "2021-03-29T00:00:00",
          "2021-03-30T00:00:00",
          "2021-03-31T00:00:00",
          "2021-04-01T00:00:00",
          "2021-04-02T00:00:00",
          "2021-04-03T00:00:00",
          "2021-04-04T00:00:00",
          "2021-04-05T00:00:00",
          "2021-04-06T00:00:00",
          "2021-04-07T00:00:00",
          "2021-04-09T00:00:00",
          "2021-04-10T00:00:00",
          "2021-04-11T00:00:00",
          "2021-04-12T00:00:00",
          "2021-04-13T00:00:00",
          "2021-04-14T00:00:00",
          "2021-04-15T00:00:00",
          "2021-04-16T00:00:00",
          "2021-04-17T00:00:00",
          "2021-04-18T00:00:00",
          "2021-04-19T00:00:00",
          "2021-04-20T00:00:00",
          "2021-04-21T00:00:00",
          "2021-04-22T00:00:00",
          "2021-04-23T00:00:00",
          "2021-04-24T00:00:00",
          "2021-04-25T00:00:00",
          "2021-04-26T00:00:00",
          "2021-04-27T00:00:00",
          "2021-04-28T00:00:00",
          "2021-04-29T00:00:00",
          "2021-04-30T00:00:00",
          "2021-05-01T00:00:00",
          "2021-05-02T00:00:00",
          "2021-05-03T00:00:00",
          "2021-05-04T00:00:00",
          "2021-05-05T00:00:00",
          "2021-05-06T00:00:00",
          "2021-05-07T00:00:00",
          "2021-05-08T00:00:00",
          "2021-05-09T00:00:00",
          "2021-05-11T00:00:00",
          "2021-05-14T00:00:00",
          "2021-05-15T00:00:00",
          "2021-05-16T00:00:00",
          "2021-05-18T00:00:00",
          "2021-05-22T00:00:00",
          "2021-05-26T00:00:00",
          "2021-05-31T00:00:00",
          "2021-06-02T00:00:00",
          "2021-06-03T00:00:00",
          "2021-06-04T00:00:00",
          "2021-06-05T00:00:00",
          "2021-06-06T00:00:00",
          "2021-06-07T00:00:00",
          "2021-06-08T00:00:00",
          "2021-06-09T00:00:00",
          "2021-06-10T00:00:00",
          "2021-06-11T00:00:00",
          "2021-06-12T00:00:00",
          "2021-06-13T00:00:00",
          "2021-06-14T00:00:00",
          "2021-06-15T00:00:00",
          "2021-06-16T00:00:00",
          "2021-06-17T00:00:00",
          "2021-06-18T00:00:00",
          "2021-06-19T00:00:00",
          "2021-06-20T00:00:00",
          "2021-06-22T00:00:00",
          "2021-06-23T00:00:00",
          "2021-06-24T00:00:00",
          "2021-06-25T00:00:00",
          "2021-06-26T00:00:00",
          "2021-06-27T00:00:00",
          "2021-06-28T00:00:00",
          "2021-06-29T00:00:00",
          "2021-06-30T00:00:00",
          "2021-07-01T00:00:00",
          "2021-07-02T00:00:00",
          "2021-07-03T00:00:00",
          "2021-07-04T00:00:00",
          "2021-07-05T00:00:00",
          "2021-07-06T00:00:00",
          "2021-07-07T00:00:00",
          "2021-07-08T00:00:00",
          "2021-07-09T00:00:00",
          "2021-07-10T00:00:00",
          "2021-07-11T00:00:00",
          "2021-07-12T00:00:00",
          "2021-07-13T00:00:00",
          "2021-07-14T00:00:00",
          "2021-07-15T00:00:00",
          "2021-07-16T00:00:00",
          "2021-07-17T00:00:00",
          "2021-07-18T00:00:00",
          "2021-07-19T00:00:00",
          "2021-07-20T00:00:00",
          "2021-07-21T00:00:00",
          "2021-07-22T00:00:00",
          "2021-07-23T00:00:00",
          "2021-07-24T00:00:00",
          "2021-07-25T00:00:00",
          "2021-07-26T00:00:00",
          "2021-07-27T00:00:00",
          "2021-07-28T00:00:00",
          "2021-07-29T00:00:00",
          "2021-07-30T00:00:00",
          "2021-07-31T00:00:00",
          "2021-08-01T00:00:00",
          "2021-08-02T00:00:00",
          "2021-08-03T00:00:00",
          "2021-08-04T00:00:00",
          "2021-08-05T00:00:00",
          "2021-08-06T00:00:00",
          "2021-08-07T00:00:00",
          "2021-08-08T00:00:00",
          "2021-08-09T00:00:00",
          "2021-08-10T00:00:00",
          "2021-08-11T00:00:00",
          "2021-08-12T00:00:00",
          "2021-08-13T00:00:00",
          "2021-08-14T00:00:00",
          "2021-08-15T00:00:00",
          "2021-08-16T00:00:00",
          "2021-08-17T00:00:00",
          "2021-08-18T00:00:00",
          "2021-08-19T00:00:00",
          "2021-08-20T00:00:00",
          "2021-08-21T00:00:00",
          "2021-08-22T00:00:00",
          "2021-08-23T00:00:00",
          "2021-08-24T00:00:00",
          "2021-08-25T00:00:00",
          "2021-08-26T00:00:00",
          "2021-08-27T00:00:00",
          "2021-08-28T00:00:00",
          "2021-08-29T00:00:00",
          "2021-08-30T00:00:00",
          "2021-08-31T00:00:00",
          "2021-09-01T00:00:00",
          "2021-09-02T00:00:00",
          "2021-09-03T00:00:00",
          "2021-09-04T00:00:00",
          "2021-09-05T00:00:00",
          "2021-09-06T00:00:00",
          "2021-09-07T00:00:00",
          "2021-09-08T00:00:00",
          "2021-09-09T00:00:00",
          "2021-09-10T00:00:00",
          "2021-09-11T00:00:00",
          "2021-09-12T00:00:00",
          "2021-09-13T00:00:00",
          "2021-09-14T00:00:00",
          "2021-09-15T00:00:00",
          "2021-09-16T00:00:00",
          "2021-09-17T00:00:00",
          "2021-09-18T00:00:00",
          "2021-09-19T00:00:00",
          "2021-09-20T00:00:00",
          "2021-09-21T00:00:00",
          "2021-09-22T00:00:00",
          "2021-09-23T00:00:00",
          "2021-09-24T00:00:00",
          "2021-09-25T00:00:00",
          "2021-09-26T00:00:00",
          "2021-09-27T00:00:00",
          "2021-09-28T00:00:00",
          "2021-09-29T00:00:00",
          "2021-09-30T00:00:00",
          "2021-10-01T00:00:00",
          "2021-10-02T00:00:00",
          "2021-10-03T00:00:00",
          "2021-10-04T00:00:00",
          "2021-10-05T00:00:00",
          "2021-10-06T00:00:00",
          "2021-10-08T00:00:00",
          "2021-10-10T00:00:00",
          "2021-10-11T00:00:00",
          "2021-10-12T00:00:00",
          "2021-10-13T00:00:00",
          "2021-10-14T00:00:00",
          "2021-10-16T00:00:00",
          "2021-10-17T00:00:00",
          "2021-10-18T00:00:00",
          "2021-10-19T00:00:00",
          "2021-10-20T00:00:00",
          "2021-10-22T00:00:00",
          "2021-10-23T00:00:00",
          "2021-10-25T00:00:00",
          "2021-10-26T00:00:00",
          "2021-10-27T00:00:00",
          "2021-10-28T00:00:00",
          "2021-10-29T00:00:00",
          "2021-10-30T00:00:00",
          "2021-10-31T00:00:00",
          "2021-11-01T00:00:00",
          "2021-11-02T00:00:00",
          "2021-11-03T00:00:00",
          "2021-11-04T00:00:00",
          "2021-11-06T00:00:00",
          "2021-11-08T00:00:00",
          "2021-11-09T00:00:00",
          "2021-11-11T00:00:00",
          "2021-11-12T00:00:00",
          "2021-11-13T00:00:00",
          "2021-11-14T00:00:00",
          "2021-11-15T00:00:00",
          "2021-11-16T00:00:00",
          "2021-11-17T00:00:00",
          "2021-11-19T00:00:00",
          "2021-11-20T00:00:00",
          "2021-11-21T00:00:00",
          "2021-11-22T00:00:00",
          "2021-11-23T00:00:00",
          "2021-11-24T00:00:00",
          "2021-11-25T00:00:00",
          "2021-11-26T00:00:00",
          "2021-11-27T00:00:00",
          "2021-11-28T00:00:00",
          "2021-11-29T00:00:00",
          "2021-12-01T00:00:00",
          "2021-12-02T00:00:00",
          "2021-12-03T00:00:00",
          "2021-12-05T00:00:00",
          "2021-12-06T00:00:00",
          "2021-12-07T00:00:00",
          "2021-12-08T00:00:00",
          "2021-12-09T00:00:00",
          "2021-12-10T00:00:00",
          "2021-12-11T00:00:00",
          "2021-12-12T00:00:00",
          "2021-12-14T00:00:00",
          "2021-12-15T00:00:00",
          "2021-12-17T00:00:00",
          "2021-12-18T00:00:00",
          "2021-12-23T00:00:00",
          "2021-12-24T00:00:00",
          "2021-12-25T00:00:00",
          "2021-12-26T00:00:00",
          "2021-12-28T00:00:00",
          "2021-12-30T00:00:00",
          "2022-01-02T00:00:00",
          "2022-01-03T00:00:00",
          "2022-01-05T00:00:00",
          "2022-01-06T00:00:00",
          "2022-01-08T00:00:00",
          "2022-01-09T00:00:00",
          "2022-01-10T00:00:00",
          "2022-01-11T00:00:00",
          "2022-01-13T00:00:00",
          "2022-01-23T00:00:00",
          "2022-01-24T00:00:00",
          "2022-01-26T00:00:00",
          "2022-01-28T00:00:00",
          "2022-01-29T00:00:00",
          "2022-01-30T00:00:00",
          "2022-02-01T00:00:00",
          "2022-02-02T00:00:00",
          "2022-02-03T00:00:00",
          "2022-02-04T00:00:00",
          "2022-02-08T00:00:00",
          "2022-02-09T00:00:00",
          "2022-02-10T00:00:00",
          "2022-02-11T00:00:00",
          "2022-02-12T00:00:00",
          "2022-02-13T00:00:00",
          "2022-02-28T00:00:00",
          "2022-03-01T00:00:00",
          "2022-03-02T00:00:00",
          "2022-03-05T00:00:00",
          "2022-03-06T00:00:00",
          "2022-03-07T00:00:00",
          "2022-03-08T00:00:00",
          "2022-03-09T00:00:00",
          "2022-03-12T00:00:00",
          "2022-03-15T00:00:00",
          "2022-03-18T00:00:00",
          "2022-03-19T00:00:00",
          "2022-03-20T00:00:00",
          "2022-03-21T00:00:00",
          "2022-03-22T00:00:00",
          "2022-03-25T00:00:00",
          "2022-03-26T00:00:00",
          "2022-03-27T00:00:00",
          "2022-03-28T00:00:00",
          "2022-03-29T00:00:00",
          "2022-03-31T00:00:00",
          "2022-04-02T00:00:00",
          "2022-04-05T00:00:00",
          "2022-04-06T00:00:00",
          "2022-04-08T00:00:00",
          "2022-04-09T00:00:00",
          "2022-04-12T00:00:00",
          "2022-04-13T00:00:00",
          "2022-04-14T00:00:00",
          "2022-04-15T00:00:00",
          "2022-04-16T00:00:00",
          "2022-04-17T00:00:00",
          "2022-04-18T00:00:00",
          "2022-04-19T00:00:00",
          "2022-04-20T00:00:00",
          "2022-04-21T00:00:00",
          "2022-04-23T00:00:00",
          "2022-04-24T00:00:00",
          "2022-04-25T00:00:00",
          "2022-04-26T00:00:00",
          "2022-04-27T00:00:00",
          "2022-04-28T00:00:00",
          "2022-04-29T00:00:00",
          "2022-04-30T00:00:00",
          "2022-05-01T00:00:00",
          "2022-05-02T00:00:00",
          "2022-05-03T00:00:00",
          "2022-05-04T00:00:00",
          "2022-05-05T00:00:00",
          "2022-05-06T00:00:00",
          "2022-05-07T00:00:00",
          "2022-05-08T00:00:00",
          "2022-05-09T00:00:00",
          "2022-05-10T00:00:00",
          "2022-05-12T00:00:00",
          "2022-05-15T00:00:00",
          "2022-05-16T00:00:00",
          "2022-05-17T00:00:00",
          "2022-05-18T00:00:00",
          "2022-05-20T00:00:00",
          "2022-05-21T00:00:00",
          "2022-05-22T00:00:00",
          "2022-05-24T00:00:00",
          "2022-05-25T00:00:00",
          "2022-05-26T00:00:00",
          "2022-05-27T00:00:00",
          "2022-05-29T00:00:00",
          "2022-05-31T00:00:00",
          "2022-06-01T00:00:00",
          "2022-06-02T00:00:00",
          "2022-06-03T00:00:00",
          "2022-06-04T00:00:00",
          "2022-06-05T00:00:00",
          "2022-06-06T00:00:00",
          "2022-06-07T00:00:00",
          "2022-06-08T00:00:00",
          "2022-06-09T00:00:00",
          "2022-06-10T00:00:00",
          "2022-06-11T00:00:00",
          "2022-06-12T00:00:00",
          "2022-06-13T00:00:00",
          "2022-06-16T00:00:00",
          "2022-06-17T00:00:00",
          "2022-06-18T00:00:00",
          "2022-06-19T00:00:00",
          "2022-06-23T00:00:00",
          "2022-06-24T00:00:00",
          "2022-06-25T00:00:00",
          "2022-06-26T00:00:00",
          "2022-06-27T00:00:00",
          "2022-06-29T00:00:00",
          "2022-06-30T00:00:00",
          "2022-07-02T00:00:00",
          "2022-07-03T00:00:00",
          "2022-07-07T00:00:00"
         ],
         "xaxis": "x",
         "y": [
          0,
          0.00000434406522163392,
          0.000006014859537646965,
          0.000011004197046844544,
          0.00001826351028193571,
          0.00006047123152025149,
          0.00011569962570404824,
          0.00013372115887814757,
          0.0001828079436106688,
          0.0002384626784130344,
          0.0002771674929474332,
          0.0003174048291647956,
          0.00035687014318096585,
          0.0003728867231758495,
          0.00039051648388964237,
          0.0004157627621405705,
          0.0004368378159611765,
          0.00045880011917718243,
          0.00048654682754241976,
          0.0005069996545143036,
          0.0005102029705132804,
          0.0005201355546539924,
          0.0005348385446349072,
          0.0005560403483691417,
          0.000573174632147841,
          0.0005901475978546494,
          0.0006002299773478315,
          0.0006030415208865018,
          0.0006039402930013226,
          0.0006091831303377774,
          0.0006216852809093232,
          0.0006354894987754173,
          0.0006687440670237872,
          0.0006711753608215717,
          0.0006731342231231042,
          0.0006827096029617722,
          0.000692964823246266,
          0.0007147312402321187,
          0.0007346655448300675,
          0.0007647167970794607,
          0.0007811136268152302,
          0.0009123919691761725,
          0.0009316925242059783,
          0.0012321128649445449,
          0.0012547895767646392,
          0.0014819369447064679,
          0.0020284249586757833,
          0.002292698528591364,
          0.0024155307176168747,
          0.002992865051475617,
          0.003673350769589179,
          0.004904507248821799,
          0.005835508409862531,
          0.005874916110281597,
          0.005893122006966429,
          0.0061329328435516944,
          0.006211460176404307,
          0.0067470016069238825,
          0.0077888513287925135,
          0.008617000696283366,
          0.009240725498530169,
          0.009594219484920846,
          0.009811745382146323,
          0.010228775643423178,
          0.010931085392119698,
          0.01099866614152257,
          0.011023520647313191,
          0.011321567307851077,
          0.011507716840093772,
          0.011590772601678751,
          0.012346559291207109,
          0.012432253755539446,
          0.012957355602263795,
          0.013656796193824539,
          0.013938711047173334,
          0.013999136187815902,
          0.015001797140934463,
          0.015126346215153668,
          0.015471647548036172,
          0.01568847055937698,
          0.016046492974500025,
          0.01612991746310647,
          0.016627952441911408,
          0.017203915572159077,
          0.01825701146818239,
          0.019599823098602365,
          0.021907293753491167,
          0.024512880205234382,
          0.02585768526611415,
          0.02651331647843709,
          0.0280614284007771,
          0.028676073300120324,
          0.032000055216871465,
          0.03384526893675685,
          0.03622448004275943,
          0.037212288210544606,
          0.038302786853807766,
          0.03930963055407607,
          0.04129672351818952,
          0.04159426317907289,
          0.0418072030339689,
          0.04204415623613781,
          0.04225979240737828,
          0.04236036270248284,
          0.04254684639358874,
          0.04285348900281453,
          0.0430289224059959,
          0.0432391428991086,
          0.04343343899398179,
          0.04348833322930238,
          0.043596266542116825,
          0.043730817336793265,
          0.04447763935061226,
          0.04483429056212423,
          0.04535018575603138,
          0.045586804799337084,
          0.045830821428510936,
          0.04604144521680337,
          0.046311664509940065,
          0.0465861702547013,
          0.0469792678277412,
          0.0475330151549456,
          0.047973551763840855,
          0.04866768038174862,
          0.04981929552881959,
          0.05257055219948031,
          0.05559952945362064,
          0.05742342614257759,
          0.061559932619285,
          0.06433428081966495,
          0.06632655900751776,
          0.07197474256775667,
          0.07544474038500794,
          0.0780587268992089,
          0.08343708293877142,
          0.08832099908798828,
          0.0922757346658329,
          0.09748235609514812,
          0.10352356809211041,
          0.1187504039433327,
          0.1268204441941505,
          0.13901719661016804,
          0.14404490477503681,
          0.15069804230955902,
          0.15310737380412753,
          0.15981698418653098,
          0.16169191499980257,
          0.16546472988343192,
          0.16903630047237733,
          0.1703933541840014,
          0.1760054831551727,
          0.1789503791256996,
          0.18119522380053646,
          0.1850113410637491,
          0.18877277150059074,
          0.19136922043583326,
          0.19384314829547464,
          0.19588493960867853,
          0.19803121894159006,
          0.19989081301531259,
          0.20146112921797643,
          0.20350012051036107,
          0.20593814357628729,
          0.207394592265635,
          0.2102508670010967,
          0.21516765746882105,
          0.22159615958823517,
          0.2282562453225681,
          0.23726895924919988,
          0.24726721136789095,
          0.25773816000538063,
          0.26683238564919504,
          0.27601807863977157,
          0.2849282403635584,
          0.2929094750158002,
          0.30313570413823143,
          0.3090612971685256,
          0.3135131919984992,
          0.3177674721904064,
          0.3216397627107953,
          0.32595476763405007,
          0.3312284051995165,
          0.33524714948374357,
          0.34031773368757706,
          0.34600079651950266,
          0.35053222115891847,
          0.3565845410574024,
          0.3629422360659758,
          0.3707047925490501,
          0.3764363775524566,
          0.3810529781338308,
          0.38638437909175366,
          0.3935644621081076,
          0.3989418271937999,
          0.40739257809428026,
          0.4140500251258658,
          0.4199861499217106,
          0.43470012105423345,
          0.44590776323517123,
          0.45040104767330424,
          0.45903230197351114,
          0.4684549135980983,
          0.4817813649488485,
          0.5078095403715125,
          0.5217710548804195,
          0.5357344475925923,
          0.5530621978303664,
          0.5686729015563725,
          0.5894768834026046,
          0.5978387134773149,
          0.6121546783583245,
          0.6192132658211057,
          0.6282275583602981,
          0.6404187222573966,
          0.6523792704480076,
          0.657303838751341,
          0.6606279704634446,
          0.6684778345915702,
          0.6734985945566282,
          0.6776240046545333,
          0.68393906560125,
          0.7011045298587019,
          0.7133434784732383,
          0.7237073464791507,
          0.733791753970951,
          0.7383033825784018,
          0.7411653610599768,
          0.7428459842556557,
          0.7462979720624524,
          0.7515457872136969,
          0.757883375076881,
          0.7660691379988417,
          0.7686447769028103,
          0.7710597199617367,
          0.7759132967907187,
          0.7815169796085546,
          0.7892015272811501,
          0.7943098599138061,
          0.7986338640809285,
          0.8036786028251012,
          0.8176379395400377,
          0.819765344658538,
          0.8345640193015229,
          0.838062132554161,
          0.8429479845202404,
          0.8456888937888614,
          0.8488007193956371,
          0.8515262804019894,
          0.8531411895288117,
          0.8601475099363002,
          0.8609009690365056,
          0.8622699948536078,
          0.8631357659000075,
          0.8658192228895963,
          0.8666834153234354,
          0.8714777308064363,
          0.872239935650682,
          0.8835563868711103,
          0.8858830082856765,
          0.8881093013822459,
          0.8888466286752621,
          0.891374874634253,
          0.893650392788188,
          0.8964272298959629,
          0.89705074728926,
          0.9000463547479578,
          0.9004623018736092,
          0.9016268800800286,
          0.9021324163491764,
          0.9032591539450179,
          0.9035332909627577,
          0.9048534028359188,
          0.9090814227502659,
          0.9093679927822608,
          0.9101533122016645,
          0.9107757234138973,
          0.910934840646379,
          0.9109846303169962,
          0.9112035043723938,
          0.9112247407442863,
          0.9112277942649328,
          0.9112277942649328,
          0.9120738499384036,
          0.91216324319567,
          0.9122132402752368,
          0.9126344878518217,
          0.9127378005541483,
          0.912785769635097,
          0.9146028448741569,
          0.9146864652489934,
          0.9150902098147782,
          0.9171922879959916,
          0.9172537040905043,
          0.9173281293352431,
          0.9174838127973373,
          0.9175705558291369,
          0.9179001171272907,
          0.9180629677208645,
          0.9182470777317697,
          0.9182875685678143,
          0.9183221021579184,
          0.9183767313706923,
          0.9212090273270394,
          0.9217079380325203,
          0.9217848060937763,
          0.9218402418969097,
          0.921949811435882,
          0.922209798554173,
          0.922391166157856,
          0.9224461871430902,
          0.9225427820999946,
          0.9226067908063771,
          0.9241520335715813,
          0.9241775333496595,
          0.924225744407716,
          0.9244604045887203,
          0.924480143007088,
          0.9245411212382628,
          0.9248623631329946,
          0.9250557143648753,
          0.9250919994083314,
          0.9257534035030841,
          0.9263643496094933,
          0.9278916169324011,
          0.9321120779428084,
          0.9332042819485458,
          0.9357665890661445,
          0.9373136408982978,
          0.9389855759635335,
          0.9417027138619893,
          0.9427913227792675,
          0.9435733812690752,
          0.9437187518972878,
          0.9438355692267756,
          0.9439808707186716,
          0.9447085074046551,
          0.9457617530960308,
          0.9468017937509504,
          0.9469889227143439,
          0.9473989471622128,
          0.9477588132124433,
          0.9497824331971205,
          0.9514802828583336,
          0.9555818524497572,
          0.9568789880203933,
          0.9583649348714581,
          0.9615085170929576,
          0.9654145346130911,
          0.9656563734482945,
          0.9658557510624322,
          0.9689076930963781,
          0.9702988194893294,
          0.9705031633955375,
          0.971349103841814,
          0.9718343716475007,
          0.9733607401982938,
          0.9739331312855211,
          0.9741979233778105,
          0.974767145717197,
          0.975523358747344,
          0.9755854777277414,
          0.9759746114853005,
          0.9764140649585702,
          0.9771582713150807,
          0.9785352593313027,
          0.9794373730347555,
          0.9800509232757538,
          0.9804193852746721,
          0.9809384492164199,
          0.9832904206137117,
          0.9842514499815631,
          0.9852654723360306,
          0.9857120007590245,
          0.990793427841833,
          0.991654359346076,
          0.9919729279699023,
          0.9922107914669055,
          0.9936975449083298,
          0.9953820858286119,
          0.996011929194871,
          0.9967381946772433,
          0.996833452998695,
          1
         ],
         "yaxis": "y"
        }
       ],
       "layout": {
        "legend": {
         "title": {
          "text": "variable"
         },
         "tracegroupgap": 0
        },
        "template": {
         "data": {
          "bar": [
           {
            "error_x": {
             "color": "#2a3f5f"
            },
            "error_y": {
             "color": "#2a3f5f"
            },
            "marker": {
             "line": {
              "color": "#E5ECF6",
              "width": 0.5
             },
             "pattern": {
              "fillmode": "overlay",
              "size": 10,
              "solidity": 0.2
             }
            },
            "type": "bar"
           }
          ],
          "barpolar": [
           {
            "marker": {
             "line": {
              "color": "#E5ECF6",
              "width": 0.5
             },
             "pattern": {
              "fillmode": "overlay",
              "size": 10,
              "solidity": 0.2
             }
            },
            "type": "barpolar"
           }
          ],
          "carpet": [
           {
            "aaxis": {
             "endlinecolor": "#2a3f5f",
             "gridcolor": "white",
             "linecolor": "white",
             "minorgridcolor": "white",
             "startlinecolor": "#2a3f5f"
            },
            "baxis": {
             "endlinecolor": "#2a3f5f",
             "gridcolor": "white",
             "linecolor": "white",
             "minorgridcolor": "white",
             "startlinecolor": "#2a3f5f"
            },
            "type": "carpet"
           }
          ],
          "choropleth": [
           {
            "colorbar": {
             "outlinewidth": 0,
             "ticks": ""
            },
            "type": "choropleth"
           }
          ],
          "contour": [
           {
            "colorbar": {
             "outlinewidth": 0,
             "ticks": ""
            },
            "colorscale": [
             [
              0,
              "#0d0887"
             ],
             [
              0.1111111111111111,
              "#46039f"
             ],
             [
              0.2222222222222222,
              "#7201a8"
             ],
             [
              0.3333333333333333,
              "#9c179e"
             ],
             [
              0.4444444444444444,
              "#bd3786"
             ],
             [
              0.5555555555555556,
              "#d8576b"
             ],
             [
              0.6666666666666666,
              "#ed7953"
             ],
             [
              0.7777777777777778,
              "#fb9f3a"
             ],
             [
              0.8888888888888888,
              "#fdca26"
             ],
             [
              1,
              "#f0f921"
             ]
            ],
            "type": "contour"
           }
          ],
          "contourcarpet": [
           {
            "colorbar": {
             "outlinewidth": 0,
             "ticks": ""
            },
            "type": "contourcarpet"
           }
          ],
          "heatmap": [
           {
            "colorbar": {
             "outlinewidth": 0,
             "ticks": ""
            },
            "colorscale": [
             [
              0,
              "#0d0887"
             ],
             [
              0.1111111111111111,
              "#46039f"
             ],
             [
              0.2222222222222222,
              "#7201a8"
             ],
             [
              0.3333333333333333,
              "#9c179e"
             ],
             [
              0.4444444444444444,
              "#bd3786"
             ],
             [
              0.5555555555555556,
              "#d8576b"
             ],
             [
              0.6666666666666666,
              "#ed7953"
             ],
             [
              0.7777777777777778,
              "#fb9f3a"
             ],
             [
              0.8888888888888888,
              "#fdca26"
             ],
             [
              1,
              "#f0f921"
             ]
            ],
            "type": "heatmap"
           }
          ],
          "heatmapgl": [
           {
            "colorbar": {
             "outlinewidth": 0,
             "ticks": ""
            },
            "colorscale": [
             [
              0,
              "#0d0887"
             ],
             [
              0.1111111111111111,
              "#46039f"
             ],
             [
              0.2222222222222222,
              "#7201a8"
             ],
             [
              0.3333333333333333,
              "#9c179e"
             ],
             [
              0.4444444444444444,
              "#bd3786"
             ],
             [
              0.5555555555555556,
              "#d8576b"
             ],
             [
              0.6666666666666666,
              "#ed7953"
             ],
             [
              0.7777777777777778,
              "#fb9f3a"
             ],
             [
              0.8888888888888888,
              "#fdca26"
             ],
             [
              1,
              "#f0f921"
             ]
            ],
            "type": "heatmapgl"
           }
          ],
          "histogram": [
           {
            "marker": {
             "pattern": {
              "fillmode": "overlay",
              "size": 10,
              "solidity": 0.2
             }
            },
            "type": "histogram"
           }
          ],
          "histogram2d": [
           {
            "colorbar": {
             "outlinewidth": 0,
             "ticks": ""
            },
            "colorscale": [
             [
              0,
              "#0d0887"
             ],
             [
              0.1111111111111111,
              "#46039f"
             ],
             [
              0.2222222222222222,
              "#7201a8"
             ],
             [
              0.3333333333333333,
              "#9c179e"
             ],
             [
              0.4444444444444444,
              "#bd3786"
             ],
             [
              0.5555555555555556,
              "#d8576b"
             ],
             [
              0.6666666666666666,
              "#ed7953"
             ],
             [
              0.7777777777777778,
              "#fb9f3a"
             ],
             [
              0.8888888888888888,
              "#fdca26"
             ],
             [
              1,
              "#f0f921"
             ]
            ],
            "type": "histogram2d"
           }
          ],
          "histogram2dcontour": [
           {
            "colorbar": {
             "outlinewidth": 0,
             "ticks": ""
            },
            "colorscale": [
             [
              0,
              "#0d0887"
             ],
             [
              0.1111111111111111,
              "#46039f"
             ],
             [
              0.2222222222222222,
              "#7201a8"
             ],
             [
              0.3333333333333333,
              "#9c179e"
             ],
             [
              0.4444444444444444,
              "#bd3786"
             ],
             [
              0.5555555555555556,
              "#d8576b"
             ],
             [
              0.6666666666666666,
              "#ed7953"
             ],
             [
              0.7777777777777778,
              "#fb9f3a"
             ],
             [
              0.8888888888888888,
              "#fdca26"
             ],
             [
              1,
              "#f0f921"
             ]
            ],
            "type": "histogram2dcontour"
           }
          ],
          "mesh3d": [
           {
            "colorbar": {
             "outlinewidth": 0,
             "ticks": ""
            },
            "type": "mesh3d"
           }
          ],
          "parcoords": [
           {
            "line": {
             "colorbar": {
              "outlinewidth": 0,
              "ticks": ""
             }
            },
            "type": "parcoords"
           }
          ],
          "pie": [
           {
            "automargin": true,
            "type": "pie"
           }
          ],
          "scatter": [
           {
            "fillpattern": {
             "fillmode": "overlay",
             "size": 10,
             "solidity": 0.2
            },
            "type": "scatter"
           }
          ],
          "scatter3d": [
           {
            "line": {
             "colorbar": {
              "outlinewidth": 0,
              "ticks": ""
             }
            },
            "marker": {
             "colorbar": {
              "outlinewidth": 0,
              "ticks": ""
             }
            },
            "type": "scatter3d"
           }
          ],
          "scattercarpet": [
           {
            "marker": {
             "colorbar": {
              "outlinewidth": 0,
              "ticks": ""
             }
            },
            "type": "scattercarpet"
           }
          ],
          "scattergeo": [
           {
            "marker": {
             "colorbar": {
              "outlinewidth": 0,
              "ticks": ""
             }
            },
            "type": "scattergeo"
           }
          ],
          "scattergl": [
           {
            "marker": {
             "colorbar": {
              "outlinewidth": 0,
              "ticks": ""
             }
            },
            "type": "scattergl"
           }
          ],
          "scattermapbox": [
           {
            "marker": {
             "colorbar": {
              "outlinewidth": 0,
              "ticks": ""
             }
            },
            "type": "scattermapbox"
           }
          ],
          "scatterpolar": [
           {
            "marker": {
             "colorbar": {
              "outlinewidth": 0,
              "ticks": ""
             }
            },
            "type": "scatterpolar"
           }
          ],
          "scatterpolargl": [
           {
            "marker": {
             "colorbar": {
              "outlinewidth": 0,
              "ticks": ""
             }
            },
            "type": "scatterpolargl"
           }
          ],
          "scatterternary": [
           {
            "marker": {
             "colorbar": {
              "outlinewidth": 0,
              "ticks": ""
             }
            },
            "type": "scatterternary"
           }
          ],
          "surface": [
           {
            "colorbar": {
             "outlinewidth": 0,
             "ticks": ""
            },
            "colorscale": [
             [
              0,
              "#0d0887"
             ],
             [
              0.1111111111111111,
              "#46039f"
             ],
             [
              0.2222222222222222,
              "#7201a8"
             ],
             [
              0.3333333333333333,
              "#9c179e"
             ],
             [
              0.4444444444444444,
              "#bd3786"
             ],
             [
              0.5555555555555556,
              "#d8576b"
             ],
             [
              0.6666666666666666,
              "#ed7953"
             ],
             [
              0.7777777777777778,
              "#fb9f3a"
             ],
             [
              0.8888888888888888,
              "#fdca26"
             ],
             [
              1,
              "#f0f921"
             ]
            ],
            "type": "surface"
           }
          ],
          "table": [
           {
            "cells": {
             "fill": {
              "color": "#EBF0F8"
             },
             "line": {
              "color": "white"
             }
            },
            "header": {
             "fill": {
              "color": "#C8D4E3"
             },
             "line": {
              "color": "white"
             }
            },
            "type": "table"
           }
          ]
         },
         "layout": {
          "annotationdefaults": {
           "arrowcolor": "#2a3f5f",
           "arrowhead": 0,
           "arrowwidth": 1
          },
          "autotypenumbers": "strict",
          "coloraxis": {
           "colorbar": {
            "outlinewidth": 0,
            "ticks": ""
           }
          },
          "colorscale": {
           "diverging": [
            [
             0,
             "#8e0152"
            ],
            [
             0.1,
             "#c51b7d"
            ],
            [
             0.2,
             "#de77ae"
            ],
            [
             0.3,
             "#f1b6da"
            ],
            [
             0.4,
             "#fde0ef"
            ],
            [
             0.5,
             "#f7f7f7"
            ],
            [
             0.6,
             "#e6f5d0"
            ],
            [
             0.7,
             "#b8e186"
            ],
            [
             0.8,
             "#7fbc41"
            ],
            [
             0.9,
             "#4d9221"
            ],
            [
             1,
             "#276419"
            ]
           ],
           "sequential": [
            [
             0,
             "#0d0887"
            ],
            [
             0.1111111111111111,
             "#46039f"
            ],
            [
             0.2222222222222222,
             "#7201a8"
            ],
            [
             0.3333333333333333,
             "#9c179e"
            ],
            [
             0.4444444444444444,
             "#bd3786"
            ],
            [
             0.5555555555555556,
             "#d8576b"
            ],
            [
             0.6666666666666666,
             "#ed7953"
            ],
            [
             0.7777777777777778,
             "#fb9f3a"
            ],
            [
             0.8888888888888888,
             "#fdca26"
            ],
            [
             1,
             "#f0f921"
            ]
           ],
           "sequentialminus": [
            [
             0,
             "#0d0887"
            ],
            [
             0.1111111111111111,
             "#46039f"
            ],
            [
             0.2222222222222222,
             "#7201a8"
            ],
            [
             0.3333333333333333,
             "#9c179e"
            ],
            [
             0.4444444444444444,
             "#bd3786"
            ],
            [
             0.5555555555555556,
             "#d8576b"
            ],
            [
             0.6666666666666666,
             "#ed7953"
            ],
            [
             0.7777777777777778,
             "#fb9f3a"
            ],
            [
             0.8888888888888888,
             "#fdca26"
            ],
            [
             1,
             "#f0f921"
            ]
           ]
          },
          "colorway": [
           "#636efa",
           "#EF553B",
           "#00cc96",
           "#ab63fa",
           "#FFA15A",
           "#19d3f3",
           "#FF6692",
           "#B6E880",
           "#FF97FF",
           "#FECB52"
          ],
          "font": {
           "color": "#2a3f5f"
          },
          "geo": {
           "bgcolor": "white",
           "lakecolor": "white",
           "landcolor": "#E5ECF6",
           "showlakes": true,
           "showland": true,
           "subunitcolor": "white"
          },
          "hoverlabel": {
           "align": "left"
          },
          "hovermode": "closest",
          "mapbox": {
           "style": "light"
          },
          "paper_bgcolor": "white",
          "plot_bgcolor": "#E5ECF6",
          "polar": {
           "angularaxis": {
            "gridcolor": "white",
            "linecolor": "white",
            "ticks": ""
           },
           "bgcolor": "#E5ECF6",
           "radialaxis": {
            "gridcolor": "white",
            "linecolor": "white",
            "ticks": ""
           }
          },
          "scene": {
           "xaxis": {
            "backgroundcolor": "#E5ECF6",
            "gridcolor": "white",
            "gridwidth": 2,
            "linecolor": "white",
            "showbackground": true,
            "ticks": "",
            "zerolinecolor": "white"
           },
           "yaxis": {
            "backgroundcolor": "#E5ECF6",
            "gridcolor": "white",
            "gridwidth": 2,
            "linecolor": "white",
            "showbackground": true,
            "ticks": "",
            "zerolinecolor": "white"
           },
           "zaxis": {
            "backgroundcolor": "#E5ECF6",
            "gridcolor": "white",
            "gridwidth": 2,
            "linecolor": "white",
            "showbackground": true,
            "ticks": "",
            "zerolinecolor": "white"
           }
          },
          "shapedefaults": {
           "line": {
            "color": "#2a3f5f"
           }
          },
          "ternary": {
           "aaxis": {
            "gridcolor": "white",
            "linecolor": "white",
            "ticks": ""
           },
           "baxis": {
            "gridcolor": "white",
            "linecolor": "white",
            "ticks": ""
           },
           "bgcolor": "#E5ECF6",
           "caxis": {
            "gridcolor": "white",
            "linecolor": "white",
            "ticks": ""
           }
          },
          "title": {
           "x": 0.05
          },
          "xaxis": {
           "automargin": true,
           "gridcolor": "white",
           "linecolor": "white",
           "ticks": "",
           "title": {
            "standoff": 15
           },
           "zerolinecolor": "white",
           "zerolinewidth": 2
          },
          "yaxis": {
           "automargin": true,
           "gridcolor": "white",
           "linecolor": "white",
           "ticks": "",
           "title": {
            "standoff": 15
           },
           "zerolinecolor": "white",
           "zerolinewidth": 2
          }
         }
        },
        "title": {
         "text": "Tổng số người tiêm vắc xin và tổng số ca tử vong theo thời gian"
        },
        "xaxis": {
         "anchor": "y",
         "domain": [
          0,
          1
         ],
         "dtick": "M1",
         "tickformat": "%b\n%Y",
         "title": {
          "text": "date"
         }
        },
        "yaxis": {
         "anchor": "x",
         "domain": [
          0,
          1
         ],
         "title": {
          "text": "value"
         }
        }
       }
      }
     },
     "metadata": {},
     "output_type": "display_data"
    }
   ],
   "source": [
    "fig = px.line(df_death_vaccin, x=\"date\", y=df_death_vaccin.columns,\n",
    "              hover_data={\"date\": \"|%B %d, %Y\"},\n",
    "              title='Tổng số người tiêm vắc xin và tổng số ca tử vong theo thời gian')\n",
    "fig.update_xaxes(\n",
    "    dtick=\"M1\",\n",
    "    tickformat=\"%b\\n%Y\")\n",
    "fig.show()"
   ]
  },
  {
   "cell_type": "markdown",
   "metadata": {},
   "source": [
    "## Nhận xét:\n",
    "- Độ tương đồng của tổng số ca tử vong với tổng số người tiêm vắc xin cao (0.979). Chúng ta có thể đưa ra kết luận đơn giản là tổng số người tiêm vắc xin càng tăng thì tổng số ca tử vong cũng tăng tương ứng :))"
   ]
  },
  {
   "cell_type": "code",
   "execution_count": null,
   "metadata": {},
   "outputs": [],
   "source": []
  },
  {
   "cell_type": "markdown",
   "metadata": {},
   "source": [
    "# Phân tích và dự đoán tổng số ca nhiễm."
   ]
  },
  {
   "cell_type": "code",
   "execution_count": 15,
   "metadata": {},
   "outputs": [],
   "source": [
    "df_cases = df[[\"date\", \"total_cases\"]].dropna()\n",
    "\n",
    "train_size = int(len(df_cases) * 0.92)\n",
    "df_cases_train, df_cases_test = df_cases[0:train_size], df_cases[train_size:len(df_cases)]"
   ]
  },
  {
   "cell_type": "markdown",
   "metadata": {},
   "source": [
    "## 1. Phân rã chuỗi dữ liệu"
   ]
  },
  {
   "cell_type": "markdown",
   "metadata": {},
   "source": [
    "### 1.1. Mô hình cộng phân rã"
   ]
  },
  {
   "cell_type": "code",
   "execution_count": 16,
   "metadata": {},
   "outputs": [],
   "source": [
    "decomposition = seasonal_decompose(df_cases_train.set_index(\"date\"))\n",
    "trend = decomposition.trend\n",
    "seasonal = decomposition.seasonal\n",
    "residual = decomposition.resid"
   ]
  },
  {
   "cell_type": "code",
   "execution_count": 17,
   "metadata": {},
   "outputs": [
    {
     "data": {
      "image/png": "[encoded data removed]",
      "text/plain": [
       "<Figure size 720x864 with 4 Axes>"
      ]
     },
     "metadata": {
      "needs_background": "light"
     },
     "output_type": "display_data"
    }
   ],
   "source": [
    "plt.figure(figsize=(10,12))\n",
    "plt.subplot(411)\n",
    "plt.plot(df_cases_train.set_index(\"date\"), label='Original')\n",
    "plt.legend(loc='best')\n",
    "plt.subplot(412)\n",
    "plt.plot(trend, label='Trend')\n",
    "plt.legend(loc='best')\n",
    "plt.subplot(413)\n",
    "plt.plot(seasonal,label='Seasonality')\n",
    "plt.legend(loc='best')\n",
    "plt.subplot(414)\n",
    "plt.plot(residual, label='Residuals')\n",
    "plt.legend(loc='best')\n",
    "plt.tight_layout()"
   ]
  },
  {
   "cell_type": "code",
   "execution_count": null,
   "metadata": {},
   "outputs": [],
   "source": []
  },
  {
   "cell_type": "markdown",
   "metadata": {},
   "source": [
    "### 1.2. Mô hình nhân phân rã"
   ]
  },
  {
   "cell_type": "code",
   "execution_count": 18,
   "metadata": {},
   "outputs": [],
   "source": [
    "decomposition = seasonal_decompose(df_cases_train.set_index(\"date\").asfreq('D'), model=\"multiplicative\")\n",
    "trend = decomposition.trend\n",
    "seasonal = decomposition.seasonal\n",
    "residual = decomposition.resid"
   ]
  },
  {
   "cell_type": "code",
   "execution_count": 19,
   "metadata": {},
   "outputs": [
    {
     "data": {
      "image/png": "[encoded data removed]",
      "text/plain": [
       "<Figure size 720x864 with 4 Axes>"
      ]
     },
     "metadata": {
      "needs_background": "light"
     },
     "output_type": "display_data"
    }
   ],
   "source": [
    "plt.figure(figsize=(10,12))\n",
    "plt.subplot(411)\n",
    "plt.plot(df_cases_train.set_index(\"date\"), label='Original')\n",
    "plt.legend(loc='best')\n",
    "plt.subplot(412)\n",
    "plt.plot(trend, label='Trend')\n",
    "plt.legend(loc='best')\n",
    "plt.subplot(413)\n",
    "plt.plot(seasonal,label='Seasonality')\n",
    "plt.legend(loc='best')\n",
    "plt.subplot(414)\n",
    "plt.plot(residual, label='Residuals')\n",
    "plt.legend(loc='best')\n",
    "plt.tight_layout()"
   ]
  },
  {
   "cell_type": "code",
   "execution_count": null,
   "metadata": {},
   "outputs": [],
   "source": []
  },
  {
   "cell_type": "markdown",
   "metadata": {},
   "source": [
    "## 2. Mô hình dự báo"
   ]
  },
  {
   "cell_type": "code",
   "execution_count": 20,
   "metadata": {},
   "outputs": [],
   "source": [
    "df_cases = df[[\"date\", \"total_cases\"]].dropna()\n",
    "\n",
    "train_size = int(len(df_cases) * 0.92)\n",
    "df_cases_train, df_cases_test = df_cases[0:train_size], df_cases[train_size:len(df_cases)]"
   ]
  },
  {
   "cell_type": "code",
   "execution_count": 21,
   "metadata": {},
   "outputs": [
    {
     "name": "stdout",
     "output_type": "stream",
     "text": [
      " ARIMA(0,2,0)(0,0,0)[0] intercept   : AIC=19133.038, Time=0.03 sec\n",
      " ARIMA(0,2,1)(0,0,0)[0] intercept   : AIC=18698.989, Time=0.06 sec\n",
      " ARIMA(0,2,2)(0,0,0)[0] intercept   : AIC=18618.054, Time=0.10 sec\n",
      " ARIMA(0,2,3)(0,0,0)[0] intercept   : AIC=18621.300, Time=0.10 sec\n",
      " ARIMA(0,2,4)(0,0,0)[0] intercept   : AIC=18618.998, Time=0.16 sec\n",
      " ARIMA(0,2,5)(0,0,0)[0] intercept   : AIC=18500.610, Time=0.21 sec\n",
      " ARIMA(1,2,0)(0,0,0)[0] intercept   : AIC=18774.513, Time=0.02 sec\n",
      " ARIMA(1,2,1)(0,0,0)[0] intercept   : AIC=18637.119, Time=0.07 sec\n",
      " ARIMA(1,2,2)(0,0,0)[0] intercept   : AIC=18576.773, Time=0.26 sec\n",
      " ARIMA(1,2,3)(0,0,0)[0] intercept   : AIC=18597.906, Time=0.30 sec\n",
      " ARIMA(1,2,4)(0,0,0)[0] intercept   : AIC=18593.817, Time=0.24 sec\n",
      " ARIMA(2,2,0)(0,0,0)[0] intercept   : AIC=18594.135, Time=0.02 sec\n",
      " ARIMA(2,2,1)(0,0,0)[0] intercept   : AIC=18595.840, Time=0.08 sec\n",
      " ARIMA(2,2,2)(0,0,0)[0] intercept   : AIC=18587.783, Time=0.20 sec\n",
      " ARIMA(2,2,3)(0,0,0)[0] intercept   : AIC=18586.856, Time=0.22 sec\n",
      " ARIMA(3,2,0)(0,0,0)[0] intercept   : AIC=18595.911, Time=0.05 sec\n",
      " ARIMA(3,2,1)(0,0,0)[0] intercept   : AIC=18597.147, Time=0.18 sec\n",
      " ARIMA(3,2,2)(0,0,0)[0] intercept   : AIC=18586.864, Time=0.22 sec\n",
      " ARIMA(4,2,0)(0,0,0)[0] intercept   : AIC=18595.352, Time=0.06 sec\n",
      " ARIMA(4,2,1)(0,0,0)[0] intercept   : AIC=18597.236, Time=0.24 sec\n",
      " ARIMA(5,2,0)(0,0,0)[0] intercept   : AIC=18597.345, Time=0.08 sec\n",
      "\n",
      "Best model:  ARIMA(0,2,5)(0,0,0)[0] intercept\n",
      "Total fit time: 2.935 seconds\n"
     ]
    },
    {
     "data": {
      "text/html": [
       "<style>#sk-container-id-1 {color: black;background-color: white;}#sk-container-id-1 pre{padding: 0;}#sk-container-id-1 div.sk-toggleable {background-color: white;}#sk-container-id-1 label.sk-toggleable__label {cursor: pointer;display: block;width: 100%;margin-bottom: 0;padding: 0.3em;box-sizing: border-box;text-align: center;}#sk-container-id-1 label.sk-toggleable__label-arrow:before {content: \"▸\";float: left;margin-right: 0.25em;color: #696969;}#sk-container-id-1 label.sk-toggleable__label-arrow:hover:before {color: black;}#sk-container-id-1 div.sk-estimator:hover label.sk-toggleable__label-arrow:before {color: black;}#sk-container-id-1 div.sk-toggleable__content {max-height: 0;max-width: 0;overflow: hidden;text-align: left;background-color: #f0f8ff;}#sk-container-id-1 div.sk-toggleable__content pre {margin: 0.2em;color: black;border-radius: 0.25em;background-color: #f0f8ff;}#sk-container-id-1 input.sk-toggleable__control:checked~div.sk-toggleable__content {max-height: 200px;max-width: 100%;overflow: auto;}#sk-container-id-1 input.sk-toggleable__control:checked~label.sk-toggleable__label-arrow:before {content: \"▾\";}#sk-container-id-1 div.sk-estimator input.sk-toggleable__control:checked~label.sk-toggleable__label {background-color: #d4ebff;}#sk-container-id-1 div.sk-label input.sk-toggleable__control:checked~label.sk-toggleable__label {background-color: #d4ebff;}#sk-container-id-1 input.sk-hidden--visually {border: 0;clip: rect(1px 1px 1px 1px);clip: rect(1px, 1px, 1px, 1px);height: 1px;margin: -1px;overflow: hidden;padding: 0;position: absolute;width: 1px;}#sk-container-id-1 div.sk-estimator {font-family: monospace;background-color: #f0f8ff;border: 1px dotted black;border-radius: 0.25em;box-sizing: border-box;margin-bottom: 0.5em;}#sk-container-id-1 div.sk-estimator:hover {background-color: #d4ebff;}#sk-container-id-1 div.sk-parallel-item::after {content: \"\";width: 100%;border-bottom: 1px solid gray;flex-grow: 1;}#sk-container-id-1 div.sk-label:hover label.sk-toggleable__label {background-color: #d4ebff;}#sk-container-id-1 div.sk-serial::before {content: \"\";position: absolute;border-left: 1px solid gray;box-sizing: border-box;top: 0;bottom: 0;left: 50%;z-index: 0;}#sk-container-id-1 div.sk-serial {display: flex;flex-direction: column;align-items: center;background-color: white;padding-right: 0.2em;padding-left: 0.2em;position: relative;}#sk-container-id-1 div.sk-item {position: relative;z-index: 1;}#sk-container-id-1 div.sk-parallel {display: flex;align-items: stretch;justify-content: center;background-color: white;position: relative;}#sk-container-id-1 div.sk-item::before, #sk-container-id-1 div.sk-parallel-item::before {content: \"\";position: absolute;border-left: 1px solid gray;box-sizing: border-box;top: 0;bottom: 0;left: 50%;z-index: -1;}#sk-container-id-1 div.sk-parallel-item {display: flex;flex-direction: column;z-index: 1;position: relative;background-color: white;}#sk-container-id-1 div.sk-parallel-item:first-child::after {align-self: flex-end;width: 50%;}#sk-container-id-1 div.sk-parallel-item:last-child::after {align-self: flex-start;width: 50%;}#sk-container-id-1 div.sk-parallel-item:only-child::after {width: 0;}#sk-container-id-1 div.sk-dashed-wrapped {border: 1px dashed gray;margin: 0 0.4em 0.5em 0.4em;box-sizing: border-box;padding-bottom: 0.4em;background-color: white;}#sk-container-id-1 div.sk-label label {font-family: monospace;font-weight: bold;display: inline-block;line-height: 1.2em;}#sk-container-id-1 div.sk-label-container {text-align: center;}#sk-container-id-1 div.sk-container {/* jupyter's `normalize.less` sets `[hidden] { display: none; }` but bootstrap.min.css set `[hidden] { display: none !important; }` so we also need the `!important` here to be able to override the default hidden behavior on the sphinx rendered scikit-learn.org. See: https://github.com/scikit-learn/scikit-learn/issues/21755 */display: inline-block !important;position: relative;}#sk-container-id-1 div.sk-text-repr-fallback {display: none;}</style><div id=\"sk-container-id-1\" class=\"sk-top-container\"><div class=\"sk-text-repr-fallback\"><pre> ARIMA(0,2,5)(0,0,0)[0] intercept</pre><b>In a Jupyter environment, please rerun this cell to show the HTML representation or trust the notebook. <br />On GitHub, the HTML representation is unable to render, please try loading this page with nbviewer.org.</b></div><div class=\"sk-container\" hidden><div class=\"sk-item\"><div class=\"sk-estimator sk-toggleable\"><input class=\"sk-toggleable__control sk-hidden--visually\" id=\"sk-estimator-id-1\" type=\"checkbox\" checked><label for=\"sk-estimator-id-1\" class=\"sk-toggleable__label sk-toggleable__label-arrow\">ARIMA</label><div class=\"sk-toggleable__content\"><pre> ARIMA(0,2,5)(0,0,0)[0] intercept</pre></div></div></div></div></div>"
      ],
      "text/plain": [
       "ARIMA(order=(0, 2, 5), scoring_args={}, suppress_warnings=True)"
      ]
     },
     "execution_count": 21,
     "metadata": {},
     "output_type": "execute_result"
    }
   ],
   "source": [
    "model_ar= auto_arima(df_cases_train['total_cases'],trace=True, error_action='ignore',\n",
    "                     start_p=0, start_d=0, start_q=0,\n",
    "                     start_P=0, start_D=0, start_Q=0,\n",
    "                     max_p=20, max_d=20, max_q=20,\n",
    "                     max_P=20, max_D=20, max_Q=20,\n",
    "                     suppress_warnings=True,stepwise=False,seasonal=False)\n",
    "model_ar.fit(df_cases_train['total_cases'])"
   ]
  },
  {
   "cell_type": "code",
   "execution_count": 22,
   "metadata": {},
   "outputs": [],
   "source": [
    "prediction_arima=model_ar.predict(len(df_cases_test['total_cases']))"
   ]
  },
  {
   "cell_type": "code",
   "execution_count": 23,
   "metadata": {},
   "outputs": [],
   "source": [
    "prediction_arima=model_ar.predict(len(df_cases_test['total_cases']))"
   ]
  },
  {
   "cell_type": "code",
   "execution_count": 24,
   "metadata": {},
   "outputs": [
    {
     "name": "stdout",
     "output_type": "stream",
     "text": [
      "Root Mean Square Error for AR Model:  26764.13935312354\n"
     ]
    }
   ],
   "source": [
    "rmse = np.sqrt(mean_squared_error(df_cases_test['total_cases'], prediction_arima))\n",
    "print(\"Root Mean Square Error for AR Model: \",rmse)"
   ]
  },
  {
   "cell_type": "code",
   "execution_count": 25,
   "metadata": {},
   "outputs": [
    {
     "name": "stdout",
     "output_type": "stream",
     "text": [
      "                               SARIMAX Results                                \n",
      "==============================================================================\n",
      "Dep. Variable:            total_cases   No. Observations:                  837\n",
      "Model:                 ARIMA(0, 2, 5)   Log Likelihood               -9243.305\n",
      "Date:                Wed, 27 Jul 2022   AIC                          18498.609\n",
      "Time:                        16:33:22   BIC                          18526.974\n",
      "Sample:                             0   HQIC                         18509.483\n",
      "                                - 837                                         \n",
      "Covariance Type:                  opg                                         \n",
      "==============================================================================\n",
      "                 coef    std err          z      P>|z|      [0.025      0.975]\n",
      "------------------------------------------------------------------------------\n",
      "ma.L1         -0.9406      0.011    -83.520      0.000      -0.963      -0.919\n",
      "ma.L2          0.2943      0.014     20.850      0.000       0.267       0.322\n",
      "ma.L3          0.1164      0.012     10.089      0.000       0.094       0.139\n",
      "ma.L4         -0.3916      0.011    -36.349      0.000      -0.413      -0.371\n",
      "ma.L5          0.4424      0.009     49.390      0.000       0.425       0.460\n",
      "sigma2      2.652e+08   4.95e-11   5.36e+18      0.000    2.65e+08    2.65e+08\n",
      "===================================================================================\n",
      "Ljung-Box (L1) (Q):                   0.16   Jarque-Bera (JB):            220785.25\n",
      "Prob(Q):                              0.69   Prob(JB):                         0.00\n",
      "Heteroskedasticity (H):        20982424.61   Skew:                             1.82\n",
      "Prob(H) (two-sided):                  0.00   Kurtosis:                        82.58\n",
      "===================================================================================\n",
      "\n",
      "Warnings:\n",
      "[1] Covariance matrix calculated using the outer product of gradients (complex-step).\n",
      "[2] Covariance matrix is singular or near-singular, with condition number 1.12e+34. Standard errors may be unstable.\n"
     ]
    }
   ],
   "source": [
    "model = ARIMA(df_cases_train['total_cases'], order=(0, 2, 5))\n",
    "model_fit = model.fit()\n",
    "print(model_fit.summary())"
   ]
  },
  {
   "cell_type": "code",
   "execution_count": 26,
   "metadata": {},
   "outputs": [
    {
     "data": {
      "application/vnd.plotly.v1+json": {
       "config": {
        "plotlyServerURL": "https://plot.ly"
       },
       "data": [
        {
         "mode": "lines+markers",
         "name": "Train Data for Total Cases",
         "type": "scatter",
         "x": [
          0,
          1,
          2,
          3,
          4,
          5,
          6,
          7,
          8,
          9,
          10,
          11,
          12,
          13,
          14,
          15,
          16,
          17,
          18,
          19,
          20,
          21,
          22,
          23,
          24,
          25,
          26,
          27,
          28,
          29,
          30,
          31,
          32,
          33,
          34,
          35,
          36,
          37,
          38,
          39,
          40,
          41,
          42,
          43,
          44,
          45,
          46,
          47,
          48,
          49,
          50,
          51,
          52,
          53,
          54,
          55,
          56,
          57,
          58,
          59,
          60,
          61,
          62,
          63,
          64,
          65,
          66,
          67,
          68,
          69,
          70,
          71,
          72,
          73,
          74,
          75,
          76,
          77,
          78,
          79,
          80,
          81,
          82,
          83,
          84,
          85,
          86,
          87,
          88,
          89,
          90,
          91,
          92,
          93,
          94,
          95,
          96,
          97,
          98,
          99,
          100,
          101,
          102,
          103,
          104,
          105,
          106,
          107,
          108,
          109,
          110,
          111,
          112,
          113,
          114,
          115,
          116,
          117,
          118,
          119,
          120,
          121,
          122,
          123,
          124,
          125,
          126,
          127,
          128,
          129,
          130,
          131,
          132,
          133,
          134,
          135,
          136,
          137,
          138,
          139,
          140,
          141,
          142,
          143,
          144,
          145,
          146,
          147,
          148,
          149,
          150,
          151,
          152,
          153,
          154,
          155,
          156,
          157,
          158,
          159,
          160,
          161,
          162,
          163,
          164,
          165,
          166,
          167,
          168,
          169,
          170,
          171,
          172,
          173,
          174,
          175,
          176,
          177,
          178,
          179,
          180,
          181,
          182,
          183,
          184,
          185,
          186,
          187,
          188,
          189,
          190,
          191,
          192,
          193,
          194,
          195,
          196,
          197,
          198,
          199,
          200,
          201,
          202,
          203,
          204,
          205,
          206,
          207,
          208,
          209,
          210,
          211,
          212,
          213,
          214,
          215,
          216,
          217,
          218,
          219,
          220,
          221,
          222,
          223,
          224,
          225,
          226,
          227,
          228,
          229,
          230,
          231,
          232,
          233,
          234,
          235,
          236,
          237,
          238,
          239,
          240,
          241,
          242,
          243,
          244,
          245,
          246,
          247,
          248,
          249,
          250,
          251,
          252,
          253,
          254,
          255,
          256,
          257,
          258,
          259,
          260,
          261,
          262,
          263,
          264,
          265,
          266,
          267,
          268,
          269,
          270,
          271,
          272,
          273,
          274,
          275,
          276,
          277,
          278,
          279,
          280,
          281,
          282,
          283,
          284,
          285,
          286,
          287,
          288,
          289,
          290,
          291,
          292,
          293,
          294,
          295,
          296,
          297,
          298,
          299,
          300,
          301,
          302,
          303,
          304,
          305,
          306,
          307,
          308,
          309,
          310,
          311,
          312,
          313,
          314,
          315,
          316,
          317,
          318,
          319,
          320,
          321,
          322,
          323,
          324,
          325,
          326,
          327,
          328,
          329,
          330,
          331,
          332,
          333,
          334,
          335,
          336,
          337,
          338,
          339,
          340,
          341,
          342,
          343,
          344,
          345,
          346,
          347,
          348,
          349,
          350,
          351,
          352,
          353,
          354,
          355,
          356,
          357,
          358,
          359,
          360,
          361,
          362,
          363,
          364,
          365,
          366,
          367,
          368,
          369,
          370,
          371,
          372,
          373,
          374,
          375,
          376,
          377,
          378,
          379,
          380,
          381,
          382,
          383,
          384,
          385,
          386,
          387,
          388,
          389,
          390,
          391,
          392,
          393,
          394,
          395,
          396,
          397,
          398,
          399,
          400,
          401,
          402,
          403,
          404,
          405,
          406,
          407,
          408,
          409,
          410,
          411,
          412,
          413,
          414,
          415,
          416,
          417,
          418,
          419,
          420,
          421,
          422,
          423,
          424,
          425,
          426,
          427,
          428,
          429,
          430,
          431,
          432,
          433,
          434,
          435,
          436,
          437,
          438,
          439,
          440,
          441,
          442,
          443,
          444,
          445,
          446,
          447,
          448,
          449,
          450,
          451,
          452,
          453,
          454,
          455,
          456,
          457,
          458,
          459,
          460,
          461,
          462,
          463,
          464,
          465,
          466,
          467,
          468,
          469,
          470,
          471,
          472,
          473,
          474,
          475,
          476,
          477,
          478,
          479,
          480,
          481,
          482,
          483,
          484,
          485,
          486,
          487,
          488,
          489,
          490,
          491,
          492,
          493,
          494,
          495,
          496,
          497,
          498,
          499,
          500,
          501,
          502,
          503,
          504,
          505,
          506,
          507,
          508,
          509,
          510,
          511,
          512,
          513,
          514,
          515,
          516,
          517,
          518,
          519,
          520,
          521,
          522,
          523,
          524,
          525,
          526,
          527,
          528,
          529,
          530,
          531,
          532,
          533,
          534,
          535,
          536,
          537,
          538,
          539,
          540,
          541,
          542,
          543,
          544,
          545,
          546,
          547,
          548,
          549,
          550,
          551,
          552,
          553,
          554,
          555,
          556,
          557,
          558,
          559,
          560,
          561,
          562,
          563,
          564,
          565,
          566,
          567,
          568,
          569,
          570,
          571,
          572,
          573,
          574,
          575,
          576,
          577,
          578,
          579,
          580,
          581,
          582,
          583,
          584,
          585,
          586,
          587,
          588,
          589,
          590,
          591,
          592,
          593,
          594,
          595,
          596,
          597,
          598,
          599,
          600,
          601,
          602,
          603,
          604,
          605,
          606,
          607,
          608,
          609,
          610,
          611,
          612,
          613,
          614,
          615,
          616,
          617,
          618,
          619,
          620,
          621,
          622,
          623,
          624,
          625,
          626,
          627,
          628,
          629,
          630,
          631,
          632,
          633,
          634,
          635,
          636,
          637,
          638,
          639,
          640,
          641,
          642,
          643,
          644,
          645,
          646,
          647,
          648,
          649,
          650,
          651,
          652,
          653,
          654,
          655,
          656,
          657,
          658,
          659,
          660,
          661,
          662,
          663,
          664,
          665,
          666,
          667,
          668,
          669,
          670,
          671,
          672,
          673,
          674,
          675,
          676,
          677,
          678,
          679,
          680,
          681,
          682,
          683,
          684,
          685,
          686,
          687,
          688,
          689,
          690,
          691,
          692,
          693,
          694,
          695,
          696,
          697,
          698,
          699,
          700,
          701,
          702,
          703,
          704,
          705,
          706,
          707,
          708,
          709,
          710,
          711,
          712,
          713,
          714,
          715,
          716,
          717,
          718,
          719,
          720,
          721,
          722,
          723,
          724,
          725,
          726,
          727,
          728,
          729,
          730,
          731,
          732,
          733,
          734,
          735,
          736,
          737,
          738,
          739,
          740,
          741,
          742,
          743,
          744,
          745,
          746,
          747,
          748,
          749,
          750,
          751,
          752,
          753,
          754,
          755,
          756,
          757,
          758,
          759,
          760,
          761,
          762,
          763,
          764,
          765,
          766,
          767,
          768,
          769,
          770,
          771,
          772,
          773,
          774,
          775,
          776,
          777,
          778,
          779,
          780,
          781,
          782,
          783,
          784,
          785,
          786,
          787,
          788,
          789,
          790,
          791,
          792,
          793,
          794,
          795,
          796,
          797,
          798,
          799,
          800,
          801,
          802,
          803,
          804,
          805,
          806,
          807,
          808,
          809,
          810,
          811,
          812,
          813,
          814,
          815,
          816,
          817,
          818,
          819,
          820,
          821,
          822,
          823,
          824,
          825,
          826,
          827,
          828,
          829,
          830,
          831,
          832,
          833,
          834,
          835,
          836
         ],
         "y": [
          2,
          2,
          2,
          2,
          2,
          2,
          2,
          2,
          2,
          6,
          6,
          8,
          8,
          8,
          10,
          10,
          13,
          13,
          14,
          15,
          15,
          16,
          16,
          16,
          16,
          16,
          16,
          16,
          16,
          16,
          16,
          16,
          16,
          16,
          16,
          16,
          16,
          16,
          16,
          16,
          16,
          16,
          16,
          16,
          18,
          30,
          30,
          31,
          38,
          39,
          47,
          53,
          56,
          61,
          66,
          75,
          85,
          91,
          94,
          113,
          123,
          134,
          141,
          153,
          163,
          174,
          188,
          203,
          212,
          218,
          233,
          237,
          240,
          241,
          245,
          249,
          251,
          255,
          257,
          258,
          262,
          265,
          266,
          267,
          268,
          268,
          268,
          268,
          268,
          268,
          268,
          268,
          270,
          270,
          270,
          270,
          270,
          270,
          270,
          270,
          270,
          271,
          271,
          271,
          271,
          288,
          288,
          288,
          288,
          288,
          288,
          288,
          312,
          314,
          318,
          320,
          324,
          324,
          324,
          324,
          324,
          325,
          325,
          326,
          327,
          327,
          327,
          328,
          328,
          328,
          328,
          328,
          328,
          328,
          328,
          329,
          331,
          332,
          332,
          332,
          332,
          333,
          334,
          334,
          334,
          334,
          335,
          342,
          349,
          349,
          349,
          349,
          349,
          352,
          352,
          353,
          355,
          355,
          355,
          355,
          355,
          355,
          355,
          355,
          355,
          369,
          369,
          369,
          369,
          370,
          370,
          372,
          373,
          373,
          381,
          381,
          382,
          382,
          383,
          384,
          401,
          408,
          412,
          415,
          417,
          420,
          431,
          446,
          459,
          509,
          558,
          590,
          621,
          652,
          672,
          717,
          750,
          789,
          812,
          841,
          847,
          866,
          883,
          911,
          930,
          951,
          964,
          983,
          989,
          994,
          1007,
          1009,
          1014,
          1016,
          1022,
          1029,
          1034,
          1036,
          1038,
          1040,
          1040,
          1044,
          1044,
          1046,
          1046,
          1049,
          1049,
          1049,
          1049,
          1054,
          1059,
          1059,
          1060,
          1060,
          1063,
          1063,
          1063,
          1063,
          1066,
          1068,
          1068,
          1068,
          1068,
          1068,
          1069,
          1069,
          1069,
          1069,
          1074,
          1077,
          1094,
          1094,
          1095,
          1096,
          1096,
          1096,
          1097,
          1098,
          1099,
          1100,
          1105,
          1107,
          1109,
          1110,
          1113,
          1122,
          1124,
          1124,
          1126,
          1134,
          1140,
          1141,
          1144,
          1148,
          1148,
          1160,
          1168,
          1169,
          1172,
          1173,
          1177,
          1177,
          1180,
          1180,
          1192,
          1202,
          1203,
          1207,
          1212,
          1213,
          1213,
          1215,
          1226,
          1252,
          1253,
          1256,
          1265,
          1281,
          1283,
          1288,
          1300,
          1304,
          1305,
          1306,
          1307,
          1312,
          1316,
          1321,
          1331,
          1339,
          1341,
          1343,
          1347,
          1351,
          1358,
          1361,
          1361,
          1365,
          1366,
          1367,
          1377,
          1381,
          1385,
          1391,
          1395,
          1397,
          1402,
          1405,
          1405,
          1407,
          1410,
          1411,
          1413,
          1414,
          1420,
          1421,
          1432,
          1439,
          1440,
          1441,
          1451,
          1454,
          1456,
          1465,
          1474,
          1482,
          1494,
          1497,
          1504,
          1505,
          1509,
          1512,
          1513,
          1514,
          1515,
          1520,
          1521,
          1531,
          1536,
          1537,
          1537,
          1539,
          1540,
          1544,
          1546,
          1548,
          1548,
          1548,
          1549,
          1551,
          1553,
          1651,
          1657,
          1767,
          1817,
          1850,
          1882,
          1948,
          1957,
          1976,
          1985,
          2001,
          2050,
          2064,
          2091,
          2140,
          2142,
          2195,
          2228,
          2269,
          2311,
          2329,
          2347,
          2362,
          2368,
          2383,
          2392,
          2403,
          2412,
          2421,
          2426,
          2432,
          2448,
          2448,
          2475,
          2482,
          2488,
          2494,
          2501,
          2512,
          2524,
          2526,
          2529,
          2533,
          2550,
          2553,
          2554,
          2557,
          2560,
          2567,
          2570,
          2571,
          2572,
          2572,
          2575,
          2575,
          2576,
          2579,
          2586,
          2586,
          2591,
          2594,
          2594,
          2603,
          2617,
          2620,
          2626,
          2631,
          2637,
          2648,
          2659,
          2668,
          2683,
          2692,
          2693,
          2705,
          2714,
          2733,
          2758,
          2772,
          2781,
          2785,
          2791,
          2800,
          2812,
          2824,
          2830,
          2833,
          2843,
          2852,
          2857,
          2865,
          2910,
          2928,
          2942,
          2962,
          2985,
          2995,
          3030,
          3090,
          3137,
          3245,
          3412,
          3489,
          3571,
          3658,
          3740,
          3816,
          4112,
          4212,
          4359,
          4512,
          4720,
          4809,
          4941,
          5119,
          5275,
          5404,
          5931,
          6086,
          6356,
          6396,
          6908,
          7107,
          7432,
          7625,
          7870,
          8063,
          8364,
          8580,
          8791,
          9027,
          9222,
          9635,
          9835,
          10048,
          10337,
          10630,
          10881,
          11304,
          11794,
          12150,
          12508,
          12978,
          13258,
          13530,
          13782,
          13989,
          14323,
          14537,
          15325,
          15740,
          16136,
          16507,
          17052,
          17727,
          18121,
          19310,
          20261,
          21312,
          22341,
          23385,
          24810,
          26608,
          28470,
          30478,
          32665,
          35409,
          38239,
          42288,
          46292,
          51002,
          55845,
          60180,
          65607,
          71144,
          78269,
          86957,
          94913,
          101173,
          106347,
          117121,
          123640,
          133405,
          141122,
          150060,
          157507,
          157507,
          174461,
          181756,
          189066,
          193381,
          205656,
          215560,
          224894,
          232937,
          241543,
          246568,
          255748,
          265464,
          275044,
          283696,
          293301,
          302101,
          312611,
          323268,
          336707,
          348059,
          358456,
          369267,
          381363,
          392938,
          410366,
          422469,
          435265,
          449489,
          462096,
          473530,
          486727,
          501649,
          511170,
          524307,
          536788,
          550996,
          563676,
          576096,
          589417,
          601349,
          613375,
          624547,
          635055,
          645640,
          656129,
          667650,
          677023,
          687063,
          695744,
          707436,
          718963,
          728435,
          736972,
          746678,
          756689,
          766051,
          770640,
          779398,
          790755,
          797712,
          803202,
          808578,
          813961,
          818324,
          822687,
          826837,
          831643,
          836134,
          839662,
          843281,
          846230,
          849691,
          853842,
          857639,
          860860,
          864053,
          867221,
          870255,
          873901,
          877537,
          881522,
          884895,
          888940,
          892579,
          896174,
          900585,
          905477,
          910376,
          915603,
          921122,
          926720,
          932357,
          939463,
          946043,
          953547,
          961038,
          968684,
          976672,
          984805,
          992735,
          1000897,
          1009879,
          1018346,
          1026522,
          1035138,
          1045397,
          1055246,
          1065469,
          1075094,
          1084625,
          1094514,
          1104835,
          1143967,
          1155778,
          1168228,
          1181337,
          1197404,
          1210340,
          1224110,
          1238082,
          1252590,
          1266288,
          1280780,
          1294778,
          1309092,
          1323683,
          1337523,
          1352122,
          1367433,
          1382272,
          1398413,
          1413051,
          1428428,
          1443648,
          1459175,
          1493237,
          1508473,
          1524368,
          1540478,
          1555455,
          1571780,
          1588335,
          1604712,
          1620869,
          1636455,
          1651673,
          1666545,
          1680985,
          1694874,
          1714742,
          1731257,
          1746092,
          1763040,
          1778976,
          1800704,
          1817721,
          1843563,
          1859841,
          1876394,
          1899575,
          1914393,
          1930428,
          1958719,
          1975444,
          1991484,
          2007862,
          2023546,
          2023546,
          2062128,
          2078087,
          2094802,
          2110737,
          2126444,
          2141422,
          2155784,
          2171527,
          2187481,
          2203208,
          2218137,
          2233287,
          2263053,
          2275727,
          2286750,
          2295494,
          2304095,
          2315689,
          2327859,
          2341971,
          2358786,
          2380695,
          2404651,
          2430683,
          2457170,
          2484481,
          2510860,
          2540273,
          2572087,
          2606824,
          2643024,
          2685463,
          2740293,
          2787493,
          2834373,
          2890522,
          2972378,
          3041506,
          3120301,
          3219177,
          3321005,
          3443485,
          3557629,
          3709481,
          3885631,
          4059262,
          4232520,
          4434700,
          4582058,
          4776873,
          5042036,
          5260495,
          5448935,
          5903147,
          6112648,
          6377438,
          6552918,
          6820458,
          7174423,
          7367112,
          7791841,
          7958048,
          8089761,
          8338914,
          8479751,
          8599751,
          8761252,
          8919557,
          9011473,
          9274849,
          9386489,
          9472254,
          9564609,
          9650663,
          9716282,
          9818328,
          9867045,
          9922040,
          9980464,
          10070692,
          10135789,
          10169929,
          10198236,
          10250160,
          10272964,
          10297587,
          10320599,
          10394533,
          10417887,
          10432547,
          10475819,
          10489319,
          10502590,
          10533164,
          10544324,
          10554689,
          10563502,
          10571772,
          10620203,
          10631516,
          10638632,
          10644700,
          10649809,
          10653526,
          10656649,
          10659358,
          10662446,
          10666751,
          10670570,
          10673915,
          10676184
         ]
        },
        {
         "mode": "lines+markers",
         "name": "Test Data for Total Cases",
         "type": "scatter",
         "x": [
          837,
          838,
          839,
          840,
          841,
          842,
          843,
          844,
          845,
          846,
          847,
          848,
          849,
          850,
          851,
          852,
          853,
          854,
          855,
          856,
          857,
          858,
          859,
          860,
          861,
          862,
          863,
          864,
          865,
          866,
          867,
          868,
          869,
          870,
          871,
          872,
          873,
          874,
          875,
          876,
          877,
          878,
          879,
          880,
          881,
          882,
          883,
          884,
          885,
          886,
          887,
          888,
          889,
          890,
          891,
          892,
          893,
          894,
          895,
          896,
          897,
          898,
          899,
          900,
          901,
          902,
          903,
          904,
          905,
          906,
          907,
          908,
          909
         ],
         "y": [
          10678359,
          10681214,
          10683972,
          10690471,
          10693141,
          10695036,
          10696630,
          10698180,
          10699965,
          10701796,
          10704524,
          10706111,
          10707568,
          10708887,
          10710066,
          10711389,
          10712733,
          10714008,
          10715247,
          10716361,
          10717251,
          10718369,
          10719379,
          10720426,
          10722634,
          10723673,
          10724554,
          10725239,
          10726045,
          10727005,
          10727918,
          10728720,
          10729681,
          10731244,
          10731812,
          10732429,
          10733285,
          10734151,
          10734925,
          10736408,
          10737107,
          10737640,
          10738161,
          10738909,
          10739855,
          10740595,
          10742234,
          10742891,
          10743448,
          10744085,
          10744854,
          10745631,
          10746470,
          10747397,
          10748127,
          10748639,
          10749324,
          10750313,
          10751227,
          10752140,
          10752942,
          10754348,
          10754813,
          10755381,
          10756254,
          10757257,
          10758189,
          10759145,
          10759850,
          10760595,
          10761435,
          10762532,
          10763694
         ]
        },
        {
         "mode": "lines+markers",
         "name": "ARIMA Predictions for Total Cases",
         "type": "scatter",
         "x": [
          837,
          838,
          839,
          840,
          841,
          842,
          843,
          844,
          845,
          846,
          847,
          848,
          849,
          850,
          851,
          852,
          853,
          854,
          855,
          856,
          857,
          858,
          859,
          860,
          861,
          862,
          863,
          864,
          865,
          866,
          867,
          868,
          869,
          870,
          871,
          872,
          873,
          874,
          875,
          876,
          877,
          878,
          879,
          880,
          881,
          882,
          883,
          884,
          885,
          886,
          887,
          888,
          889,
          890,
          891,
          892,
          893,
          894,
          895,
          896,
          897,
          898,
          899,
          900,
          901,
          902,
          903,
          904,
          905,
          906,
          907,
          908,
          909
         ],
         "y": [
          10673497.57298548,
          10673500.67705537,
          10674576.082099643,
          10674143.059683738,
          10675990.217586026,
          10677846.385616962,
          10679711.563776547,
          10681585.75206478,
          10683468.95048166,
          10685361.15902719,
          10687262.37770137,
          10689172.606504198,
          10691091.845435675,
          10693020.0944958,
          10694957.353684573,
          10696903.623001995,
          10698858.902448066,
          10700823.192022786,
          10702796.491726154,
          10704778.80155817,
          10706770.121518835,
          10708770.45160815,
          10710779.791826112,
          10712798.142172724,
          10714825.502647985,
          10716861.873251893,
          10718907.25398445,
          10720961.644845655,
          10723025.04583551,
          10725097.456954014,
          10727178.878201166,
          10729269.309576966,
          10731368.751081415,
          10733477.202714512,
          10735594.664476259,
          10737721.136366654,
          10739856.618385699,
          10742001.11053339,
          10744154.61280973,
          10746317.12521472,
          10748488.647748359,
          10750669.180410646,
          10752858.723201582,
          10755057.276121166,
          10757264.839169398,
          10759481.41234628,
          10761706.99565181,
          10763941.589085989,
          10766185.192648815,
          10768437.80634029,
          10770699.430160414,
          10772970.064109188,
          10775249.70818661,
          10777538.36239268,
          10779836.026727399,
          10782142.701190766,
          10784458.385782782,
          10786783.080503447,
          10789116.78535276,
          10791459.500330724,
          10793811.225437334,
          10796171.960672593,
          10798541.7060365,
          10800920.461529057,
          10803308.227150263,
          10805705.002900118,
          10808110.78877862,
          10810525.58478577,
          10812949.39092157,
          10815382.207186019,
          10817824.033579117,
          10820274.870100863,
          10822734.716751257
         ]
        }
       ],
       "layout": {
        "legend": {
         "traceorder": "normal",
         "x": 0,
         "y": 1
        },
        "template": {
         "data": {
          "bar": [
           {
            "error_x": {
             "color": "#2a3f5f"
            },
            "error_y": {
             "color": "#2a3f5f"
            },
            "marker": {
             "line": {
              "color": "#E5ECF6",
              "width": 0.5
             },
             "pattern": {
              "fillmode": "overlay",
              "size": 10,
              "solidity": 0.2
             }
            },
            "type": "bar"
           }
          ],
          "barpolar": [
           {
            "marker": {
             "line": {
              "color": "#E5ECF6",
              "width": 0.5
             },
             "pattern": {
              "fillmode": "overlay",
              "size": 10,
              "solidity": 0.2
             }
            },
            "type": "barpolar"
           }
          ],
          "carpet": [
           {
            "aaxis": {
             "endlinecolor": "#2a3f5f",
             "gridcolor": "white",
             "linecolor": "white",
             "minorgridcolor": "white",
             "startlinecolor": "#2a3f5f"
            },
            "baxis": {
             "endlinecolor": "#2a3f5f",
             "gridcolor": "white",
             "linecolor": "white",
             "minorgridcolor": "white",
             "startlinecolor": "#2a3f5f"
            },
            "type": "carpet"
           }
          ],
          "choropleth": [
           {
            "colorbar": {
             "outlinewidth": 0,
             "ticks": ""
            },
            "type": "choropleth"
           }
          ],
          "contour": [
           {
            "colorbar": {
             "outlinewidth": 0,
             "ticks": ""
            },
            "colorscale": [
             [
              0,
              "#0d0887"
             ],
             [
              0.1111111111111111,
              "#46039f"
             ],
             [
              0.2222222222222222,
              "#7201a8"
             ],
             [
              0.3333333333333333,
              "#9c179e"
             ],
             [
              0.4444444444444444,
              "#bd3786"
             ],
             [
              0.5555555555555556,
              "#d8576b"
             ],
             [
              0.6666666666666666,
              "#ed7953"
             ],
             [
              0.7777777777777778,
              "#fb9f3a"
             ],
             [
              0.8888888888888888,
              "#fdca26"
             ],
             [
              1,
              "#f0f921"
             ]
            ],
            "type": "contour"
           }
          ],
          "contourcarpet": [
           {
            "colorbar": {
             "outlinewidth": 0,
             "ticks": ""
            },
            "type": "contourcarpet"
           }
          ],
          "heatmap": [
           {
            "colorbar": {
             "outlinewidth": 0,
             "ticks": ""
            },
            "colorscale": [
             [
              0,
              "#0d0887"
             ],
             [
              0.1111111111111111,
              "#46039f"
             ],
             [
              0.2222222222222222,
              "#7201a8"
             ],
             [
              0.3333333333333333,
              "#9c179e"
             ],
             [
              0.4444444444444444,
              "#bd3786"
             ],
             [
              0.5555555555555556,
              "#d8576b"
             ],
             [
              0.6666666666666666,
              "#ed7953"
             ],
             [
              0.7777777777777778,
              "#fb9f3a"
             ],
             [
              0.8888888888888888,
              "#fdca26"
             ],
             [
              1,
              "#f0f921"
             ]
            ],
            "type": "heatmap"
           }
          ],
          "heatmapgl": [
           {
            "colorbar": {
             "outlinewidth": 0,
             "ticks": ""
            },
            "colorscale": [
             [
              0,
              "#0d0887"
             ],
             [
              0.1111111111111111,
              "#46039f"
             ],
             [
              0.2222222222222222,
              "#7201a8"
             ],
             [
              0.3333333333333333,
              "#9c179e"
             ],
             [
              0.4444444444444444,
              "#bd3786"
             ],
             [
              0.5555555555555556,
              "#d8576b"
             ],
             [
              0.6666666666666666,
              "#ed7953"
             ],
             [
              0.7777777777777778,
              "#fb9f3a"
             ],
             [
              0.8888888888888888,
              "#fdca26"
             ],
             [
              1,
              "#f0f921"
             ]
            ],
            "type": "heatmapgl"
           }
          ],
          "histogram": [
           {
            "marker": {
             "pattern": {
              "fillmode": "overlay",
              "size": 10,
              "solidity": 0.2
             }
            },
            "type": "histogram"
           }
          ],
          "histogram2d": [
           {
            "colorbar": {
             "outlinewidth": 0,
             "ticks": ""
            },
            "colorscale": [
             [
              0,
              "#0d0887"
             ],
             [
              0.1111111111111111,
              "#46039f"
             ],
             [
              0.2222222222222222,
              "#7201a8"
             ],
             [
              0.3333333333333333,
              "#9c179e"
             ],
             [
              0.4444444444444444,
              "#bd3786"
             ],
             [
              0.5555555555555556,
              "#d8576b"
             ],
             [
              0.6666666666666666,
              "#ed7953"
             ],
             [
              0.7777777777777778,
              "#fb9f3a"
             ],
             [
              0.8888888888888888,
              "#fdca26"
             ],
             [
              1,
              "#f0f921"
             ]
            ],
            "type": "histogram2d"
           }
          ],
          "histogram2dcontour": [
           {
            "colorbar": {
             "outlinewidth": 0,
             "ticks": ""
            },
            "colorscale": [
             [
              0,
              "#0d0887"
             ],
             [
              0.1111111111111111,
              "#46039f"
             ],
             [
              0.2222222222222222,
              "#7201a8"
             ],
             [
              0.3333333333333333,
              "#9c179e"
             ],
             [
              0.4444444444444444,
              "#bd3786"
             ],
             [
              0.5555555555555556,
              "#d8576b"
             ],
             [
              0.6666666666666666,
              "#ed7953"
             ],
             [
              0.7777777777777778,
              "#fb9f3a"
             ],
             [
              0.8888888888888888,
              "#fdca26"
             ],
             [
              1,
              "#f0f921"
             ]
            ],
            "type": "histogram2dcontour"
           }
          ],
          "mesh3d": [
           {
            "colorbar": {
             "outlinewidth": 0,
             "ticks": ""
            },
            "type": "mesh3d"
           }
          ],
          "parcoords": [
           {
            "line": {
             "colorbar": {
              "outlinewidth": 0,
              "ticks": ""
             }
            },
            "type": "parcoords"
           }
          ],
          "pie": [
           {
            "automargin": true,
            "type": "pie"
           }
          ],
          "scatter": [
           {
            "fillpattern": {
             "fillmode": "overlay",
             "size": 10,
             "solidity": 0.2
            },
            "type": "scatter"
           }
          ],
          "scatter3d": [
           {
            "line": {
             "colorbar": {
              "outlinewidth": 0,
              "ticks": ""
             }
            },
            "marker": {
             "colorbar": {
              "outlinewidth": 0,
              "ticks": ""
             }
            },
            "type": "scatter3d"
           }
          ],
          "scattercarpet": [
           {
            "marker": {
             "colorbar": {
              "outlinewidth": 0,
              "ticks": ""
             }
            },
            "type": "scattercarpet"
           }
          ],
          "scattergeo": [
           {
            "marker": {
             "colorbar": {
              "outlinewidth": 0,
              "ticks": ""
             }
            },
            "type": "scattergeo"
           }
          ],
          "scattergl": [
           {
            "marker": {
             "colorbar": {
              "outlinewidth": 0,
              "ticks": ""
             }
            },
            "type": "scattergl"
           }
          ],
          "scattermapbox": [
           {
            "marker": {
             "colorbar": {
              "outlinewidth": 0,
              "ticks": ""
             }
            },
            "type": "scattermapbox"
           }
          ],
          "scatterpolar": [
           {
            "marker": {
             "colorbar": {
              "outlinewidth": 0,
              "ticks": ""
             }
            },
            "type": "scatterpolar"
           }
          ],
          "scatterpolargl": [
           {
            "marker": {
             "colorbar": {
              "outlinewidth": 0,
              "ticks": ""
             }
            },
            "type": "scatterpolargl"
           }
          ],
          "scatterternary": [
           {
            "marker": {
             "colorbar": {
              "outlinewidth": 0,
              "ticks": ""
             }
            },
            "type": "scatterternary"
           }
          ],
          "surface": [
           {
            "colorbar": {
             "outlinewidth": 0,
             "ticks": ""
            },
            "colorscale": [
             [
              0,
              "#0d0887"
             ],
             [
              0.1111111111111111,
              "#46039f"
             ],
             [
              0.2222222222222222,
              "#7201a8"
             ],
             [
              0.3333333333333333,
              "#9c179e"
             ],
             [
              0.4444444444444444,
              "#bd3786"
             ],
             [
              0.5555555555555556,
              "#d8576b"
             ],
             [
              0.6666666666666666,
              "#ed7953"
             ],
             [
              0.7777777777777778,
              "#fb9f3a"
             ],
             [
              0.8888888888888888,
              "#fdca26"
             ],
             [
              1,
              "#f0f921"
             ]
            ],
            "type": "surface"
           }
          ],
          "table": [
           {
            "cells": {
             "fill": {
              "color": "#EBF0F8"
             },
             "line": {
              "color": "white"
             }
            },
            "header": {
             "fill": {
              "color": "#C8D4E3"
             },
             "line": {
              "color": "white"
             }
            },
            "type": "table"
           }
          ]
         },
         "layout": {
          "annotationdefaults": {
           "arrowcolor": "#2a3f5f",
           "arrowhead": 0,
           "arrowwidth": 1
          },
          "autotypenumbers": "strict",
          "coloraxis": {
           "colorbar": {
            "outlinewidth": 0,
            "ticks": ""
           }
          },
          "colorscale": {
           "diverging": [
            [
             0,
             "#8e0152"
            ],
            [
             0.1,
             "#c51b7d"
            ],
            [
             0.2,
             "#de77ae"
            ],
            [
             0.3,
             "#f1b6da"
            ],
            [
             0.4,
             "#fde0ef"
            ],
            [
             0.5,
             "#f7f7f7"
            ],
            [
             0.6,
             "#e6f5d0"
            ],
            [
             0.7,
             "#b8e186"
            ],
            [
             0.8,
             "#7fbc41"
            ],
            [
             0.9,
             "#4d9221"
            ],
            [
             1,
             "#276419"
            ]
           ],
           "sequential": [
            [
             0,
             "#0d0887"
            ],
            [
             0.1111111111111111,
             "#46039f"
            ],
            [
             0.2222222222222222,
             "#7201a8"
            ],
            [
             0.3333333333333333,
             "#9c179e"
            ],
            [
             0.4444444444444444,
             "#bd3786"
            ],
            [
             0.5555555555555556,
             "#d8576b"
            ],
            [
             0.6666666666666666,
             "#ed7953"
            ],
            [
             0.7777777777777778,
             "#fb9f3a"
            ],
            [
             0.8888888888888888,
             "#fdca26"
            ],
            [
             1,
             "#f0f921"
            ]
           ],
           "sequentialminus": [
            [
             0,
             "#0d0887"
            ],
            [
             0.1111111111111111,
             "#46039f"
            ],
            [
             0.2222222222222222,
             "#7201a8"
            ],
            [
             0.3333333333333333,
             "#9c179e"
            ],
            [
             0.4444444444444444,
             "#bd3786"
            ],
            [
             0.5555555555555556,
             "#d8576b"
            ],
            [
             0.6666666666666666,
             "#ed7953"
            ],
            [
             0.7777777777777778,
             "#fb9f3a"
            ],
            [
             0.8888888888888888,
             "#fdca26"
            ],
            [
             1,
             "#f0f921"
            ]
           ]
          },
          "colorway": [
           "#636efa",
           "#EF553B",
           "#00cc96",
           "#ab63fa",
           "#FFA15A",
           "#19d3f3",
           "#FF6692",
           "#B6E880",
           "#FF97FF",
           "#FECB52"
          ],
          "font": {
           "color": "#2a3f5f"
          },
          "geo": {
           "bgcolor": "white",
           "lakecolor": "white",
           "landcolor": "#E5ECF6",
           "showlakes": true,
           "showland": true,
           "subunitcolor": "white"
          },
          "hoverlabel": {
           "align": "left"
          },
          "hovermode": "closest",
          "mapbox": {
           "style": "light"
          },
          "paper_bgcolor": "white",
          "plot_bgcolor": "#E5ECF6",
          "polar": {
           "angularaxis": {
            "gridcolor": "white",
            "linecolor": "white",
            "ticks": ""
           },
           "bgcolor": "#E5ECF6",
           "radialaxis": {
            "gridcolor": "white",
            "linecolor": "white",
            "ticks": ""
           }
          },
          "scene": {
           "xaxis": {
            "backgroundcolor": "#E5ECF6",
            "gridcolor": "white",
            "gridwidth": 2,
            "linecolor": "white",
            "showbackground": true,
            "ticks": "",
            "zerolinecolor": "white"
           },
           "yaxis": {
            "backgroundcolor": "#E5ECF6",
            "gridcolor": "white",
            "gridwidth": 2,
            "linecolor": "white",
            "showbackground": true,
            "ticks": "",
            "zerolinecolor": "white"
           },
           "zaxis": {
            "backgroundcolor": "#E5ECF6",
            "gridcolor": "white",
            "gridwidth": 2,
            "linecolor": "white",
            "showbackground": true,
            "ticks": "",
            "zerolinecolor": "white"
           }
          },
          "shapedefaults": {
           "line": {
            "color": "#2a3f5f"
           }
          },
          "ternary": {
           "aaxis": {
            "gridcolor": "white",
            "linecolor": "white",
            "ticks": ""
           },
           "baxis": {
            "gridcolor": "white",
            "linecolor": "white",
            "ticks": ""
           },
           "bgcolor": "#E5ECF6",
           "caxis": {
            "gridcolor": "white",
            "linecolor": "white",
            "ticks": ""
           }
          },
          "title": {
           "x": 0.05
          },
          "xaxis": {
           "automargin": true,
           "gridcolor": "white",
           "linecolor": "white",
           "ticks": "",
           "title": {
            "standoff": 15
           },
           "zerolinecolor": "white",
           "zerolinewidth": 2
          },
          "yaxis": {
           "automargin": true,
           "gridcolor": "white",
           "linecolor": "white",
           "ticks": "",
           "title": {
            "standoff": 15
           },
           "zerolinecolor": "white",
           "zerolinewidth": 2
          }
         }
        },
        "title": {
         "text": "Tổng số ca mắc bệnh theo mô hình dự đoán ARIMA"
        },
        "xaxis": {
         "title": {
          "text": "Date"
         }
        },
        "yaxis": {
         "title": {
          "text": "Total Cases"
         }
        }
       }
      }
     },
     "metadata": {},
     "output_type": "display_data"
    }
   ],
   "source": [
    "fig = go.Figure()\n",
    "fig.add_trace(go.Scatter(x=df_cases_train.index, y=df_cases_train['total_cases'],\n",
    "              mode='lines+markers',name=\"Train Data for Total Cases\"))\n",
    "fig.add_trace(go.Scatter(x=df_cases_test.index, y=df_cases_test['total_cases'],\n",
    "              mode='lines+markers',name=\"Test Data for Total Cases\"))\n",
    "fig.add_trace(go.Scatter(x=df_cases_test.index, y=prediction_arima,\n",
    "              mode='lines+markers',name=\"ARIMA Predictions for Total Cases\"))\n",
    "fig.update_layout(title=\"Tổng số ca mắc bệnh theo mô hình dự đoán ARIMA\",\n",
    "                 xaxis_title=\"Date\",yaxis_title=\"Total Cases\",legend=dict(x=0,y=1,traceorder=\"normal\"))\n",
    "fig.show()"
   ]
  },
  {
   "cell_type": "markdown",
   "metadata": {},
   "source": [
    "### Nhận xét:\n",
    "- Sau khi thử nghiệm các mô hình ARIMA với các tham số khác nhau, thì mô hình cho ra kết quả tốt nhất là ARIMA(0,2,5)(0,0,0)\\[0].\n",
    "- Mô hình khá tốt với các hệ số lượng đều có ý nghĩa thống kê (p-value rất nhỏ).\n",
    "- Dự đoán tổng số ca nhiễm mới trong vòng 2 tháng với khoảng tin cậy là 95% bằng trực quan."
   ]
  },
  {
   "cell_type": "markdown",
   "metadata": {},
   "source": []
  }
 ],
 "metadata": {
  "kernelspec": {
   "display_name": "Python 3.8.13 ('dashboard')",
   "language": "python",
   "name": "python3"
  },
  "language_info": {
   "codemirror_mode": {
    "name": "ipython",
    "version": 3
   },
   "file_extension": ".py",
   "mimetype": "text/x-python",
   "name": "python",
   "nbconvert_exporter": "python",
   "pygments_lexer": "ipython3",
   "version": "3.8.13"
  },
  "orig_nbformat": 4,
  "vscode": {
   "interpreter": {
    "hash": "28df266786edf9c702adf40aacddec965a4702d5364fbe23eba94c525a89ed29"
   }
  }
 },
 "nbformat": 4,
 "nbformat_minor": 2
}
