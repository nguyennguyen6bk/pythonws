{
 "cells": [
  {
   "cell_type": "code",
   "execution_count": 16,
   "metadata": {},
   "outputs": [],
   "source": [
    "import numpy as np\n",
    "import matplotlib.pyplot as plt\n",
    "import pandas as pd\n",
    "import statsmodels as st\n",
    "import statsmodels.formula.api as smf\n"
   ]
  },
  {
   "cell_type": "code",
   "execution_count": 17,
   "metadata": {},
   "outputs": [
    {
     "data": {
      "text/plain": [
       "[62,\n",
       " 64,\n",
       " 66,\n",
       " 67,\n",
       " 65,\n",
       " 68,\n",
       " 61,\n",
       " 65,\n",
       " 67,\n",
       " 65,\n",
       " 64,\n",
       " 63,\n",
       " 67,\n",
       " 68,\n",
       " 64,\n",
       " 66,\n",
       " 68,\n",
       " 69,\n",
       " 65,\n",
       " 67,\n",
       " 62,\n",
       " 66,\n",
       " 68,\n",
       " 67,\n",
       " 66,\n",
       " 65,\n",
       " 69,\n",
       " 65,\n",
       " 70,\n",
       " 65,\n",
       " 67,\n",
       " 68,\n",
       " 65,\n",
       " 63,\n",
       " 64,\n",
       " 67,\n",
       " 67]"
      ]
     },
     "execution_count": 17,
     "metadata": {},
     "output_type": "execute_result"
    }
   ],
   "source": [
    "h = [62, 64, 66, 67, 65, 68, 61, 65, 67, 65, 64, 63, 67, 68, 64, 66, 68, 69, 65, 67, 62, 66, 68, 67, 66, 65, 69, 65, 70, 65, 67, 68, 65, 63, 64, 67, 67]\n",
    "h"
   ]
  },
  {
   "cell_type": "code",
   "execution_count": 18,
   "metadata": {},
   "outputs": [
    {
     "data": {
      "text/plain": [
       "65.8108108108108"
      ]
     },
     "execution_count": 18,
     "metadata": {},
     "output_type": "execute_result"
    }
   ],
   "source": [
    "np.mean(h)"
   ]
  },
  {
   "cell_type": "code",
   "execution_count": 19,
   "metadata": {},
   "outputs": [
    {
     "data": {
      "text/plain": [
       "2.0773923081703387"
      ]
     },
     "execution_count": 19,
     "metadata": {},
     "output_type": "execute_result"
    }
   ],
   "source": [
    "np.std(h)"
   ]
  },
  {
   "cell_type": "code",
   "execution_count": 20,
   "metadata": {},
   "outputs": [
    {
     "data": {
      "text/plain": [
       "66.0"
      ]
     },
     "execution_count": 20,
     "metadata": {},
     "output_type": "execute_result"
    }
   ],
   "source": [
    "np.median(h)"
   ]
  }
 ],
 "metadata": {
  "kernelspec": {
   "display_name": "Python 3.10.4 64-bit",
   "language": "python",
   "name": "python3"
  },
  "language_info": {
   "codemirror_mode": {
    "name": "ipython",
    "version": 3
   },
   "file_extension": ".py",
   "mimetype": "text/x-python",
   "name": "python",
   "nbconvert_exporter": "python",
   "pygments_lexer": "ipython3",
   "version": "3.10.4"
  },
  "orig_nbformat": 4,
  "vscode": {
   "interpreter": {
    "hash": "07e897f1fb732b6be0064486d563e14743e4fa08e77cc15a01354b67c547d405"
   }
  }
 },
 "nbformat": 4,
 "nbformat_minor": 2
}
