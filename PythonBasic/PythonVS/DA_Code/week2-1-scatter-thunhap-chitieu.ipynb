{
 "cells": [
  {
   "cell_type": "code",
   "execution_count": 81,
   "metadata": {},
   "outputs": [],
   "source": [
    "import numpy as np\n",
    "import pandas as pd\n",
    "import matplotlib.pyplot as plt\n",
    "import seaborn as sns"
   ]
  },
  {
   "cell_type": "code",
   "execution_count": 82,
   "metadata": {},
   "outputs": [
    {
     "data": {
      "text/html": [
       "<div>\n",
       "<style scoped>\n",
       "    .dataframe tbody tr th:only-of-type {\n",
       "        vertical-align: middle;\n",
       "    }\n",
       "\n",
       "    .dataframe tbody tr th {\n",
       "        vertical-align: top;\n",
       "    }\n",
       "\n",
       "    .dataframe thead th {\n",
       "        text-align: right;\n",
       "    }\n",
       "</style>\n",
       "<table border=\"1\" class=\"dataframe\">\n",
       "  <thead>\n",
       "    <tr style=\"text-align: right;\">\n",
       "      <th></th>\n",
       "      <th>Khu vực</th>\n",
       "      <th>Số người</th>\n",
       "      <th>Thu nhập</th>\n",
       "      <th>Chi tiêu</th>\n",
       "      <th>Chi ăn uống</th>\n",
       "    </tr>\n",
       "  </thead>\n",
       "  <tbody>\n",
       "    <tr>\n",
       "      <th>0</th>\n",
       "      <td>Thành thị</td>\n",
       "      <td>1</td>\n",
       "      <td>186.0</td>\n",
       "      <td>71.2</td>\n",
       "      <td>43.7</td>\n",
       "    </tr>\n",
       "    <tr>\n",
       "      <th>1</th>\n",
       "      <td>Thành thị</td>\n",
       "      <td>1</td>\n",
       "      <td>18.0</td>\n",
       "      <td>19.2</td>\n",
       "      <td>14.7</td>\n",
       "    </tr>\n",
       "    <tr>\n",
       "      <th>2</th>\n",
       "      <td>Thành thị</td>\n",
       "      <td>1</td>\n",
       "      <td>61.5</td>\n",
       "      <td>15.0</td>\n",
       "      <td>11.9</td>\n",
       "    </tr>\n",
       "    <tr>\n",
       "      <th>3</th>\n",
       "      <td>Thành thị</td>\n",
       "      <td>1</td>\n",
       "      <td>48.1</td>\n",
       "      <td>57.9</td>\n",
       "      <td>46.9</td>\n",
       "    </tr>\n",
       "    <tr>\n",
       "      <th>4</th>\n",
       "      <td>Thành thị</td>\n",
       "      <td>1</td>\n",
       "      <td>30.0</td>\n",
       "      <td>20.6</td>\n",
       "      <td>13.7</td>\n",
       "    </tr>\n",
       "    <tr>\n",
       "      <th>...</th>\n",
       "      <td>...</td>\n",
       "      <td>...</td>\n",
       "      <td>...</td>\n",
       "      <td>...</td>\n",
       "      <td>...</td>\n",
       "    </tr>\n",
       "    <tr>\n",
       "      <th>415</th>\n",
       "      <td>Nông thôn</td>\n",
       "      <td>8</td>\n",
       "      <td>153.4</td>\n",
       "      <td>104.1</td>\n",
       "      <td>84.8</td>\n",
       "    </tr>\n",
       "    <tr>\n",
       "      <th>416</th>\n",
       "      <td>Nông thôn</td>\n",
       "      <td>8</td>\n",
       "      <td>348.5</td>\n",
       "      <td>167.3</td>\n",
       "      <td>100.2</td>\n",
       "    </tr>\n",
       "    <tr>\n",
       "      <th>417</th>\n",
       "      <td>Nông thôn</td>\n",
       "      <td>8</td>\n",
       "      <td>220.6</td>\n",
       "      <td>106.9</td>\n",
       "      <td>80.6</td>\n",
       "    </tr>\n",
       "    <tr>\n",
       "      <th>418</th>\n",
       "      <td>Nông thôn</td>\n",
       "      <td>9</td>\n",
       "      <td>232.1</td>\n",
       "      <td>173.0</td>\n",
       "      <td>126.6</td>\n",
       "    </tr>\n",
       "    <tr>\n",
       "      <th>419</th>\n",
       "      <td>Nông thôn</td>\n",
       "      <td>9</td>\n",
       "      <td>137.6</td>\n",
       "      <td>167.1</td>\n",
       "      <td>155.2</td>\n",
       "    </tr>\n",
       "  </tbody>\n",
       "</table>\n",
       "<p>420 rows × 5 columns</p>\n",
       "</div>"
      ],
      "text/plain": [
       "       Khu vực  Số người  Thu nhập  Chi tiêu  Chi ăn uống\n",
       "0    Thành thị         1     186.0      71.2         43.7\n",
       "1    Thành thị         1      18.0      19.2         14.7\n",
       "2    Thành thị         1      61.5      15.0         11.9\n",
       "3    Thành thị         1      48.1      57.9         46.9\n",
       "4    Thành thị         1      30.0      20.6         13.7\n",
       "..         ...       ...       ...       ...          ...\n",
       "415  Nông thôn         8     153.4     104.1         84.8\n",
       "416  Nông thôn         8     348.5     167.3        100.2\n",
       "417  Nông thôn         8     220.6     106.9         80.6\n",
       "418  Nông thôn         9     232.1     173.0        126.6\n",
       "419  Nông thôn         9     137.6     167.1        155.2\n",
       "\n",
       "[420 rows x 5 columns]"
      ]
     },
     "execution_count": 82,
     "metadata": {},
     "output_type": "execute_result"
    }
   ],
   "source": [
    "df = pd.read_csv(\"data-vn.csv\")\n",
    "df"
   ]
  },
  {
   "cell_type": "code",
   "execution_count": 83,
   "metadata": {},
   "outputs": [
    {
     "data": {
      "text/plain": [
       "0      186.0\n",
       "1       18.0\n",
       "2       61.5\n",
       "3       48.1\n",
       "4       30.0\n",
       "       ...  \n",
       "415    153.4\n",
       "416    348.5\n",
       "417    220.6\n",
       "418    232.1\n",
       "419    137.6\n",
       "Name: Thu nhập, Length: 420, dtype: float64"
      ]
     },
     "execution_count": 83,
     "metadata": {},
     "output_type": "execute_result"
    }
   ],
   "source": [
    "df[\"Thu nhập\"]"
   ]
  },
  {
   "cell_type": "code",
   "execution_count": 84,
   "metadata": {},
   "outputs": [
    {
     "data": {
      "text/plain": [
       "0       71.2\n",
       "1       19.2\n",
       "2       15.0\n",
       "3       57.9\n",
       "4       20.6\n",
       "       ...  \n",
       "415    104.1\n",
       "416    167.3\n",
       "417    106.9\n",
       "418    173.0\n",
       "419    167.1\n",
       "Name: Chi tiêu, Length: 420, dtype: float64"
      ]
     },
     "execution_count": 84,
     "metadata": {},
     "output_type": "execute_result"
    }
   ],
   "source": [
    "df[\"Chi tiêu\"]"
   ]
  },
  {
   "cell_type": "code",
   "execution_count": 85,
   "metadata": {},
   "outputs": [
    {
     "data": {
      "image/png": "[encoded data removed]",
      "text/plain": [
       "<Figure size 432x288 with 1 Axes>"
      ]
     },
     "metadata": {
      "needs_background": "light"
     },
     "output_type": "display_data"
    }
   ],
   "source": [
    "plt.scatter(df[\"Thu nhập\"], df[\"Chi tiêu\"])\n",
    "plt.xlabel(\"Thu nhập\")\n",
    "plt.ylabel(\"Chi tiêu\")\n",
    "plt.title(\"Thu Nhập - Chi Tiêu\")\n",
    "plt.grid()\n",
    "plt.show()"
   ]
  },
  {
   "cell_type": "markdown",
   "metadata": {},
   "source": [
    "## Thu Nhập ở Thành thị"
   ]
  },
  {
   "cell_type": "code",
   "execution_count": 86,
   "metadata": {},
   "outputs": [
    {
     "data": {
      "text/plain": [
       "(array([141., 144.,  82.,  21.,  14.,  13.,   2.,   1.,   0.,   2.]),\n",
       " array([  5.5,  83.2, 160.9, 238.6, 316.3, 394. , 471.7, 549.4, 627.1,\n",
       "        704.8, 782.5]),\n",
       " <BarContainer object of 10 artists>)"
      ]
     },
     "execution_count": 86,
     "metadata": {},
     "output_type": "execute_result"
    },
    {
     "data": {
      "image/png": "[encoded data removed]",
      "text/plain": [
       "<Figure size 432x288 with 1 Axes>"
      ]
     },
     "metadata": {
      "needs_background": "light"
     },
     "output_type": "display_data"
    }
   ],
   "source": [
    "plt.hist(df[\"Thu nhập\"])"
   ]
  },
  {
   "cell_type": "code",
   "execution_count": 97,
   "metadata": {},
   "outputs": [
    {
     "data": {
      "image/png": "[encoded data removed]",
      "text/plain": [
       "<Figure size 432x288 with 1 Axes>"
      ]
     },
     "metadata": {
      "needs_background": "light"
     },
     "output_type": "display_data"
    }
   ],
   "source": [
    "sns.kdeplot(x = df[\"Thu nhập\"], y = df[\"Chi tiêu\"], cmap = \"winter_r\")\n",
    "plt.grid()\n",
    "plt.show()"
   ]
  }
 ],
 "metadata": {
  "kernelspec": {
   "display_name": "Python 3.10.4 64-bit",
   "language": "python",
   "name": "python3"
  },
  "language_info": {
   "codemirror_mode": {
    "name": "ipython",
    "version": 3
   },
   "file_extension": ".py",
   "mimetype": "text/x-python",
   "name": "python",
   "nbconvert_exporter": "python",
   "pygments_lexer": "ipython3",
   "version": "3.10.4"
  },
  "orig_nbformat": 4,
  "vscode": {
   "interpreter": {
    "hash": "07e897f1fb732b6be0064486d563e14743e4fa08e77cc15a01354b67c547d405"
   }
  }
 },
 "nbformat": 4,
 "nbformat_minor": 2
}
